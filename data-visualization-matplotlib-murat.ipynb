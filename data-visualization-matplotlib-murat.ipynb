{
 "cells": [
  {
   "cell_type": "code",
   "execution_count": 1,
   "id": "d3d9b138",
   "metadata": {
    "_cell_guid": "b1076dfc-b9ad-4769-8c92-a6c4dae69d19",
    "_uuid": "8f2839f25d086af736a60e9eeb907d3b93b6e0e5",
    "execution": {
     "iopub.execute_input": "2022-07-26T22:53:45.857265Z",
     "iopub.status.busy": "2022-07-26T22:53:45.855987Z",
     "iopub.status.idle": "2022-07-26T22:53:46.973616Z",
     "shell.execute_reply": "2022-07-26T22:53:46.972448Z"
    },
    "papermill": {
     "duration": 1.138044,
     "end_time": "2022-07-26T22:53:46.976012",
     "exception": false,
     "start_time": "2022-07-26T22:53:45.837968",
     "status": "completed"
    },
    "tags": []
   },
   "outputs": [
    {
     "data": {
      "text/html": [
       "        <script type=\"text/javascript\">\n",
       "        window.PlotlyConfig = {MathJaxConfig: 'local'};\n",
       "        if (window.MathJax && window.MathJax.Hub && window.MathJax.Hub.Config) {window.MathJax.Hub.Config({SVG: {font: \"STIX-Web\"}});}\n",
       "        if (typeof require !== 'undefined') {\n",
       "        require.undef(\"plotly\");\n",
       "        requirejs.config({\n",
       "            paths: {\n",
       "                'plotly': ['https://cdn.plot.ly/plotly-2.12.1.min']\n",
       "            }\n",
       "        });\n",
       "        require(['plotly'], function(Plotly) {\n",
       "            window._Plotly = Plotly;\n",
       "        });\n",
       "        }\n",
       "        </script>\n",
       "        "
      ]
     },
     "metadata": {},
     "output_type": "display_data"
    },
    {
     "name": "stdout",
     "output_type": "stream",
     "text": [
      "/kaggle/input/120-years-of-olympic-history-athletes-and-results/noc_regions.csv\n",
      "/kaggle/input/120-years-of-olympic-history-athletes-and-results/athlete_events.csv\n"
     ]
    }
   ],
   "source": [
    "# This Python 3 environment comes with many helpful analytics libraries installed\n",
    "# It is defined by the kaggle/python Docker image: https://github.com/kaggle/docker-python\n",
    "# For example, here's several helpful packages to load\n",
    "\n",
    "import numpy as np # linear algebra\n",
    "import pandas as pd # data processing, CSV file I/O (e.g. pd.read_csv)\n",
    "from plotly.offline import init_notebook_mode, iplot, plot\n",
    "import plotly as py\n",
    "init_notebook_mode(connected=True)\n",
    "import plotly.graph_objs as go\n",
    "# word cloud library\n",
    "from wordcloud import WordCloud\n",
    "# matplotlib\n",
    "import matplotlib.pyplot as plt\n",
    "import seaborn as sns\n",
    "\n",
    "# Input data files are available in the read-only \"../input/\" directory\n",
    "# For example, running this (by clicking run or pressing Shift+Enter) will list all files under the input directory\n",
    "\n",
    "import os\n",
    "for dirname, _, filenames in os.walk('/kaggle/input'):\n",
    "    for filename in filenames:\n",
    "        print(os.path.join(dirname, filename))\n",
    "\n",
    "# You can write up to 20GB to the current directory (/kaggle/working/) that gets preserved as output when you create a version using \"Save & Run All\" \n",
    "# You can also write temporary files to /kaggle/temp/, but they won't be saved outside of the current session"
   ]
  },
  {
   "cell_type": "code",
   "execution_count": 2,
   "id": "a80a8941",
   "metadata": {
    "execution": {
     "iopub.execute_input": "2022-07-26T22:53:47.000607Z",
     "iopub.status.busy": "2022-07-26T22:53:46.999999Z",
     "iopub.status.idle": "2022-07-26T22:53:48.249171Z",
     "shell.execute_reply": "2022-07-26T22:53:48.248024Z"
    },
    "papermill": {
     "duration": 1.264452,
     "end_time": "2022-07-26T22:53:48.251686",
     "exception": false,
     "start_time": "2022-07-26T22:53:46.987234",
     "status": "completed"
    },
    "tags": []
   },
   "outputs": [
    {
     "data": {
      "text/html": [
       "<div>\n",
       "<style scoped>\n",
       "    .dataframe tbody tr th:only-of-type {\n",
       "        vertical-align: middle;\n",
       "    }\n",
       "\n",
       "    .dataframe tbody tr th {\n",
       "        vertical-align: top;\n",
       "    }\n",
       "\n",
       "    .dataframe thead th {\n",
       "        text-align: right;\n",
       "    }\n",
       "</style>\n",
       "<table border=\"1\" class=\"dataframe\">\n",
       "  <thead>\n",
       "    <tr style=\"text-align: right;\">\n",
       "      <th></th>\n",
       "      <th>ID</th>\n",
       "      <th>Name</th>\n",
       "      <th>Sex</th>\n",
       "      <th>Age</th>\n",
       "      <th>Height</th>\n",
       "      <th>Weight</th>\n",
       "      <th>Team</th>\n",
       "      <th>NOC</th>\n",
       "      <th>Games</th>\n",
       "      <th>Year</th>\n",
       "      <th>Season</th>\n",
       "      <th>City</th>\n",
       "      <th>Sport</th>\n",
       "      <th>Event</th>\n",
       "      <th>Medal</th>\n",
       "    </tr>\n",
       "  </thead>\n",
       "  <tbody>\n",
       "    <tr>\n",
       "      <th>0</th>\n",
       "      <td>1</td>\n",
       "      <td>A Dijiang</td>\n",
       "      <td>M</td>\n",
       "      <td>24.0</td>\n",
       "      <td>180.0</td>\n",
       "      <td>80.0</td>\n",
       "      <td>China</td>\n",
       "      <td>CHN</td>\n",
       "      <td>1992 Summer</td>\n",
       "      <td>1992</td>\n",
       "      <td>Summer</td>\n",
       "      <td>Barcelona</td>\n",
       "      <td>Basketball</td>\n",
       "      <td>Basketball Men's Basketball</td>\n",
       "      <td>NaN</td>\n",
       "    </tr>\n",
       "    <tr>\n",
       "      <th>1</th>\n",
       "      <td>2</td>\n",
       "      <td>A Lamusi</td>\n",
       "      <td>M</td>\n",
       "      <td>23.0</td>\n",
       "      <td>170.0</td>\n",
       "      <td>60.0</td>\n",
       "      <td>China</td>\n",
       "      <td>CHN</td>\n",
       "      <td>2012 Summer</td>\n",
       "      <td>2012</td>\n",
       "      <td>Summer</td>\n",
       "      <td>London</td>\n",
       "      <td>Judo</td>\n",
       "      <td>Judo Men's Extra-Lightweight</td>\n",
       "      <td>NaN</td>\n",
       "    </tr>\n",
       "    <tr>\n",
       "      <th>2</th>\n",
       "      <td>3</td>\n",
       "      <td>Gunnar Nielsen Aaby</td>\n",
       "      <td>M</td>\n",
       "      <td>24.0</td>\n",
       "      <td>NaN</td>\n",
       "      <td>NaN</td>\n",
       "      <td>Denmark</td>\n",
       "      <td>DEN</td>\n",
       "      <td>1920 Summer</td>\n",
       "      <td>1920</td>\n",
       "      <td>Summer</td>\n",
       "      <td>Antwerpen</td>\n",
       "      <td>Football</td>\n",
       "      <td>Football Men's Football</td>\n",
       "      <td>NaN</td>\n",
       "    </tr>\n",
       "    <tr>\n",
       "      <th>3</th>\n",
       "      <td>4</td>\n",
       "      <td>Edgar Lindenau Aabye</td>\n",
       "      <td>M</td>\n",
       "      <td>34.0</td>\n",
       "      <td>NaN</td>\n",
       "      <td>NaN</td>\n",
       "      <td>Denmark/Sweden</td>\n",
       "      <td>DEN</td>\n",
       "      <td>1900 Summer</td>\n",
       "      <td>1900</td>\n",
       "      <td>Summer</td>\n",
       "      <td>Paris</td>\n",
       "      <td>Tug-Of-War</td>\n",
       "      <td>Tug-Of-War Men's Tug-Of-War</td>\n",
       "      <td>Gold</td>\n",
       "    </tr>\n",
       "    <tr>\n",
       "      <th>4</th>\n",
       "      <td>5</td>\n",
       "      <td>Christine Jacoba Aaftink</td>\n",
       "      <td>F</td>\n",
       "      <td>21.0</td>\n",
       "      <td>185.0</td>\n",
       "      <td>82.0</td>\n",
       "      <td>Netherlands</td>\n",
       "      <td>NED</td>\n",
       "      <td>1988 Winter</td>\n",
       "      <td>1988</td>\n",
       "      <td>Winter</td>\n",
       "      <td>Calgary</td>\n",
       "      <td>Speed Skating</td>\n",
       "      <td>Speed Skating Women's 500 metres</td>\n",
       "      <td>NaN</td>\n",
       "    </tr>\n",
       "  </tbody>\n",
       "</table>\n",
       "</div>"
      ],
      "text/plain": [
       "   ID                      Name Sex   Age  Height  Weight            Team  \\\n",
       "0   1                 A Dijiang   M  24.0   180.0    80.0           China   \n",
       "1   2                  A Lamusi   M  23.0   170.0    60.0           China   \n",
       "2   3       Gunnar Nielsen Aaby   M  24.0     NaN     NaN         Denmark   \n",
       "3   4      Edgar Lindenau Aabye   M  34.0     NaN     NaN  Denmark/Sweden   \n",
       "4   5  Christine Jacoba Aaftink   F  21.0   185.0    82.0     Netherlands   \n",
       "\n",
       "   NOC        Games  Year  Season       City          Sport  \\\n",
       "0  CHN  1992 Summer  1992  Summer  Barcelona     Basketball   \n",
       "1  CHN  2012 Summer  2012  Summer     London           Judo   \n",
       "2  DEN  1920 Summer  1920  Summer  Antwerpen       Football   \n",
       "3  DEN  1900 Summer  1900  Summer      Paris     Tug-Of-War   \n",
       "4  NED  1988 Winter  1988  Winter    Calgary  Speed Skating   \n",
       "\n",
       "                              Event Medal  \n",
       "0       Basketball Men's Basketball   NaN  \n",
       "1      Judo Men's Extra-Lightweight   NaN  \n",
       "2           Football Men's Football   NaN  \n",
       "3       Tug-Of-War Men's Tug-Of-War  Gold  \n",
       "4  Speed Skating Women's 500 metres   NaN  "
      ]
     },
     "execution_count": 2,
     "metadata": {},
     "output_type": "execute_result"
    }
   ],
   "source": [
    "#1\n",
    "data_athlete=pd.read_csv(\"../input/120-years-of-olympic-history-athletes-and-results/athlete_events.csv\")\n",
    "df1=data_athlete.copy()\n",
    "df1.head()"
   ]
  },
  {
   "cell_type": "code",
   "execution_count": 3,
   "id": "54f1f3c9",
   "metadata": {
    "execution": {
     "iopub.execute_input": "2022-07-26T22:53:48.275396Z",
     "iopub.status.busy": "2022-07-26T22:53:48.275001Z",
     "iopub.status.idle": "2022-07-26T22:53:48.292202Z",
     "shell.execute_reply": "2022-07-26T22:53:48.291088Z"
    },
    "papermill": {
     "duration": 0.032074,
     "end_time": "2022-07-26T22:53:48.294783",
     "exception": false,
     "start_time": "2022-07-26T22:53:48.262709",
     "status": "completed"
    },
    "tags": []
   },
   "outputs": [
    {
     "data": {
      "text/html": [
       "<div>\n",
       "<style scoped>\n",
       "    .dataframe tbody tr th:only-of-type {\n",
       "        vertical-align: middle;\n",
       "    }\n",
       "\n",
       "    .dataframe tbody tr th {\n",
       "        vertical-align: top;\n",
       "    }\n",
       "\n",
       "    .dataframe thead th {\n",
       "        text-align: right;\n",
       "    }\n",
       "</style>\n",
       "<table border=\"1\" class=\"dataframe\">\n",
       "  <thead>\n",
       "    <tr style=\"text-align: right;\">\n",
       "      <th></th>\n",
       "      <th>NOC</th>\n",
       "      <th>region</th>\n",
       "      <th>notes</th>\n",
       "    </tr>\n",
       "  </thead>\n",
       "  <tbody>\n",
       "    <tr>\n",
       "      <th>0</th>\n",
       "      <td>AFG</td>\n",
       "      <td>Afghanistan</td>\n",
       "      <td>NaN</td>\n",
       "    </tr>\n",
       "    <tr>\n",
       "      <th>1</th>\n",
       "      <td>AHO</td>\n",
       "      <td>Curacao</td>\n",
       "      <td>Netherlands Antilles</td>\n",
       "    </tr>\n",
       "    <tr>\n",
       "      <th>2</th>\n",
       "      <td>ALB</td>\n",
       "      <td>Albania</td>\n",
       "      <td>NaN</td>\n",
       "    </tr>\n",
       "    <tr>\n",
       "      <th>3</th>\n",
       "      <td>ALG</td>\n",
       "      <td>Algeria</td>\n",
       "      <td>NaN</td>\n",
       "    </tr>\n",
       "    <tr>\n",
       "      <th>4</th>\n",
       "      <td>AND</td>\n",
       "      <td>Andorra</td>\n",
       "      <td>NaN</td>\n",
       "    </tr>\n",
       "  </tbody>\n",
       "</table>\n",
       "</div>"
      ],
      "text/plain": [
       "   NOC       region                 notes\n",
       "0  AFG  Afghanistan                   NaN\n",
       "1  AHO      Curacao  Netherlands Antilles\n",
       "2  ALB      Albania                   NaN\n",
       "3  ALG      Algeria                   NaN\n",
       "4  AND      Andorra                   NaN"
      ]
     },
     "execution_count": 3,
     "metadata": {},
     "output_type": "execute_result"
    }
   ],
   "source": [
    "noc=pd.read_csv('../input/120-years-of-olympic-history-athletes-and-results/noc_regions.csv')\n",
    "df2=noc.copy()\n",
    "df2.head()"
   ]
  },
  {
   "cell_type": "code",
   "execution_count": 4,
   "id": "7a95fa0c",
   "metadata": {
    "execution": {
     "iopub.execute_input": "2022-07-26T22:53:48.320596Z",
     "iopub.status.busy": "2022-07-26T22:53:48.320174Z",
     "iopub.status.idle": "2022-07-26T22:53:48.537911Z",
     "shell.execute_reply": "2022-07-26T22:53:48.536702Z"
    },
    "papermill": {
     "duration": 0.233983,
     "end_time": "2022-07-26T22:53:48.540633",
     "exception": false,
     "start_time": "2022-07-26T22:53:48.306650",
     "status": "completed"
    },
    "tags": []
   },
   "outputs": [],
   "source": [
    "df=df1.merge(df2,on='NOC',how='left')"
   ]
  },
  {
   "cell_type": "code",
   "execution_count": 5,
   "id": "7a1c552b",
   "metadata": {
    "execution": {
     "iopub.execute_input": "2022-07-26T22:53:48.566445Z",
     "iopub.status.busy": "2022-07-26T22:53:48.566031Z",
     "iopub.status.idle": "2022-07-26T22:53:48.586776Z",
     "shell.execute_reply": "2022-07-26T22:53:48.585715Z"
    },
    "papermill": {
     "duration": 0.036676,
     "end_time": "2022-07-26T22:53:48.589361",
     "exception": false,
     "start_time": "2022-07-26T22:53:48.552685",
     "status": "completed"
    },
    "tags": []
   },
   "outputs": [
    {
     "data": {
      "text/html": [
       "<div>\n",
       "<style scoped>\n",
       "    .dataframe tbody tr th:only-of-type {\n",
       "        vertical-align: middle;\n",
       "    }\n",
       "\n",
       "    .dataframe tbody tr th {\n",
       "        vertical-align: top;\n",
       "    }\n",
       "\n",
       "    .dataframe thead th {\n",
       "        text-align: right;\n",
       "    }\n",
       "</style>\n",
       "<table border=\"1\" class=\"dataframe\">\n",
       "  <thead>\n",
       "    <tr style=\"text-align: right;\">\n",
       "      <th></th>\n",
       "      <th>ID</th>\n",
       "      <th>Name</th>\n",
       "      <th>Sex</th>\n",
       "      <th>Age</th>\n",
       "      <th>Height</th>\n",
       "      <th>Weight</th>\n",
       "      <th>Team</th>\n",
       "      <th>NOC</th>\n",
       "      <th>Games</th>\n",
       "      <th>Year</th>\n",
       "      <th>Season</th>\n",
       "      <th>City</th>\n",
       "      <th>Sport</th>\n",
       "      <th>Event</th>\n",
       "      <th>Medal</th>\n",
       "      <th>region</th>\n",
       "      <th>notes</th>\n",
       "    </tr>\n",
       "  </thead>\n",
       "  <tbody>\n",
       "    <tr>\n",
       "      <th>0</th>\n",
       "      <td>1</td>\n",
       "      <td>A Dijiang</td>\n",
       "      <td>M</td>\n",
       "      <td>24.0</td>\n",
       "      <td>180.0</td>\n",
       "      <td>80.0</td>\n",
       "      <td>China</td>\n",
       "      <td>CHN</td>\n",
       "      <td>1992 Summer</td>\n",
       "      <td>1992</td>\n",
       "      <td>Summer</td>\n",
       "      <td>Barcelona</td>\n",
       "      <td>Basketball</td>\n",
       "      <td>Basketball Men's Basketball</td>\n",
       "      <td>NaN</td>\n",
       "      <td>China</td>\n",
       "      <td>NaN</td>\n",
       "    </tr>\n",
       "    <tr>\n",
       "      <th>1</th>\n",
       "      <td>2</td>\n",
       "      <td>A Lamusi</td>\n",
       "      <td>M</td>\n",
       "      <td>23.0</td>\n",
       "      <td>170.0</td>\n",
       "      <td>60.0</td>\n",
       "      <td>China</td>\n",
       "      <td>CHN</td>\n",
       "      <td>2012 Summer</td>\n",
       "      <td>2012</td>\n",
       "      <td>Summer</td>\n",
       "      <td>London</td>\n",
       "      <td>Judo</td>\n",
       "      <td>Judo Men's Extra-Lightweight</td>\n",
       "      <td>NaN</td>\n",
       "      <td>China</td>\n",
       "      <td>NaN</td>\n",
       "    </tr>\n",
       "    <tr>\n",
       "      <th>2</th>\n",
       "      <td>3</td>\n",
       "      <td>Gunnar Nielsen Aaby</td>\n",
       "      <td>M</td>\n",
       "      <td>24.0</td>\n",
       "      <td>NaN</td>\n",
       "      <td>NaN</td>\n",
       "      <td>Denmark</td>\n",
       "      <td>DEN</td>\n",
       "      <td>1920 Summer</td>\n",
       "      <td>1920</td>\n",
       "      <td>Summer</td>\n",
       "      <td>Antwerpen</td>\n",
       "      <td>Football</td>\n",
       "      <td>Football Men's Football</td>\n",
       "      <td>NaN</td>\n",
       "      <td>Denmark</td>\n",
       "      <td>NaN</td>\n",
       "    </tr>\n",
       "    <tr>\n",
       "      <th>3</th>\n",
       "      <td>4</td>\n",
       "      <td>Edgar Lindenau Aabye</td>\n",
       "      <td>M</td>\n",
       "      <td>34.0</td>\n",
       "      <td>NaN</td>\n",
       "      <td>NaN</td>\n",
       "      <td>Denmark/Sweden</td>\n",
       "      <td>DEN</td>\n",
       "      <td>1900 Summer</td>\n",
       "      <td>1900</td>\n",
       "      <td>Summer</td>\n",
       "      <td>Paris</td>\n",
       "      <td>Tug-Of-War</td>\n",
       "      <td>Tug-Of-War Men's Tug-Of-War</td>\n",
       "      <td>Gold</td>\n",
       "      <td>Denmark</td>\n",
       "      <td>NaN</td>\n",
       "    </tr>\n",
       "    <tr>\n",
       "      <th>4</th>\n",
       "      <td>5</td>\n",
       "      <td>Christine Jacoba Aaftink</td>\n",
       "      <td>F</td>\n",
       "      <td>21.0</td>\n",
       "      <td>185.0</td>\n",
       "      <td>82.0</td>\n",
       "      <td>Netherlands</td>\n",
       "      <td>NED</td>\n",
       "      <td>1988 Winter</td>\n",
       "      <td>1988</td>\n",
       "      <td>Winter</td>\n",
       "      <td>Calgary</td>\n",
       "      <td>Speed Skating</td>\n",
       "      <td>Speed Skating Women's 500 metres</td>\n",
       "      <td>NaN</td>\n",
       "      <td>Netherlands</td>\n",
       "      <td>NaN</td>\n",
       "    </tr>\n",
       "  </tbody>\n",
       "</table>\n",
       "</div>"
      ],
      "text/plain": [
       "   ID                      Name Sex   Age  Height  Weight            Team  \\\n",
       "0   1                 A Dijiang   M  24.0   180.0    80.0           China   \n",
       "1   2                  A Lamusi   M  23.0   170.0    60.0           China   \n",
       "2   3       Gunnar Nielsen Aaby   M  24.0     NaN     NaN         Denmark   \n",
       "3   4      Edgar Lindenau Aabye   M  34.0     NaN     NaN  Denmark/Sweden   \n",
       "4   5  Christine Jacoba Aaftink   F  21.0   185.0    82.0     Netherlands   \n",
       "\n",
       "   NOC        Games  Year  Season       City          Sport  \\\n",
       "0  CHN  1992 Summer  1992  Summer  Barcelona     Basketball   \n",
       "1  CHN  2012 Summer  2012  Summer     London           Judo   \n",
       "2  DEN  1920 Summer  1920  Summer  Antwerpen       Football   \n",
       "3  DEN  1900 Summer  1900  Summer      Paris     Tug-Of-War   \n",
       "4  NED  1988 Winter  1988  Winter    Calgary  Speed Skating   \n",
       "\n",
       "                              Event Medal       region notes  \n",
       "0       Basketball Men's Basketball   NaN        China   NaN  \n",
       "1      Judo Men's Extra-Lightweight   NaN        China   NaN  \n",
       "2           Football Men's Football   NaN      Denmark   NaN  \n",
       "3       Tug-Of-War Men's Tug-Of-War  Gold      Denmark   NaN  \n",
       "4  Speed Skating Women's 500 metres   NaN  Netherlands   NaN  "
      ]
     },
     "execution_count": 5,
     "metadata": {},
     "output_type": "execute_result"
    }
   ],
   "source": [
    "df.head()"
   ]
  },
  {
   "cell_type": "code",
   "execution_count": 6,
   "id": "e5be95be",
   "metadata": {
    "execution": {
     "iopub.execute_input": "2022-07-26T22:53:48.614989Z",
     "iopub.status.busy": "2022-07-26T22:53:48.614255Z",
     "iopub.status.idle": "2022-07-26T22:53:48.635571Z",
     "shell.execute_reply": "2022-07-26T22:53:48.634468Z"
    },
    "papermill": {
     "duration": 0.036726,
     "end_time": "2022-07-26T22:53:48.637846",
     "exception": false,
     "start_time": "2022-07-26T22:53:48.601120",
     "status": "completed"
    },
    "tags": []
   },
   "outputs": [
    {
     "data": {
      "text/html": [
       "<div>\n",
       "<style scoped>\n",
       "    .dataframe tbody tr th:only-of-type {\n",
       "        vertical-align: middle;\n",
       "    }\n",
       "\n",
       "    .dataframe tbody tr th {\n",
       "        vertical-align: top;\n",
       "    }\n",
       "\n",
       "    .dataframe thead th {\n",
       "        text-align: right;\n",
       "    }\n",
       "</style>\n",
       "<table border=\"1\" class=\"dataframe\">\n",
       "  <thead>\n",
       "    <tr style=\"text-align: right;\">\n",
       "      <th></th>\n",
       "      <th>ID</th>\n",
       "      <th>Name</th>\n",
       "      <th>Sex</th>\n",
       "      <th>Age</th>\n",
       "      <th>Height</th>\n",
       "      <th>Weight</th>\n",
       "      <th>Team</th>\n",
       "      <th>NOC</th>\n",
       "      <th>Games</th>\n",
       "      <th>Year</th>\n",
       "      <th>Season</th>\n",
       "      <th>City</th>\n",
       "      <th>Sport</th>\n",
       "      <th>Event</th>\n",
       "      <th>Medal</th>\n",
       "      <th>region</th>\n",
       "      <th>notes</th>\n",
       "    </tr>\n",
       "  </thead>\n",
       "  <tbody>\n",
       "    <tr>\n",
       "      <th>271111</th>\n",
       "      <td>135569</td>\n",
       "      <td>Andrzej ya</td>\n",
       "      <td>M</td>\n",
       "      <td>29.0</td>\n",
       "      <td>179.0</td>\n",
       "      <td>89.0</td>\n",
       "      <td>Poland-1</td>\n",
       "      <td>POL</td>\n",
       "      <td>1976 Winter</td>\n",
       "      <td>1976</td>\n",
       "      <td>Winter</td>\n",
       "      <td>Innsbruck</td>\n",
       "      <td>Luge</td>\n",
       "      <td>Luge Mixed (Men)'s Doubles</td>\n",
       "      <td>NaN</td>\n",
       "      <td>Poland</td>\n",
       "      <td>NaN</td>\n",
       "    </tr>\n",
       "    <tr>\n",
       "      <th>271112</th>\n",
       "      <td>135570</td>\n",
       "      <td>Piotr ya</td>\n",
       "      <td>M</td>\n",
       "      <td>27.0</td>\n",
       "      <td>176.0</td>\n",
       "      <td>59.0</td>\n",
       "      <td>Poland</td>\n",
       "      <td>POL</td>\n",
       "      <td>2014 Winter</td>\n",
       "      <td>2014</td>\n",
       "      <td>Winter</td>\n",
       "      <td>Sochi</td>\n",
       "      <td>Ski Jumping</td>\n",
       "      <td>Ski Jumping Men's Large Hill, Individual</td>\n",
       "      <td>NaN</td>\n",
       "      <td>Poland</td>\n",
       "      <td>NaN</td>\n",
       "    </tr>\n",
       "    <tr>\n",
       "      <th>271113</th>\n",
       "      <td>135570</td>\n",
       "      <td>Piotr ya</td>\n",
       "      <td>M</td>\n",
       "      <td>27.0</td>\n",
       "      <td>176.0</td>\n",
       "      <td>59.0</td>\n",
       "      <td>Poland</td>\n",
       "      <td>POL</td>\n",
       "      <td>2014 Winter</td>\n",
       "      <td>2014</td>\n",
       "      <td>Winter</td>\n",
       "      <td>Sochi</td>\n",
       "      <td>Ski Jumping</td>\n",
       "      <td>Ski Jumping Men's Large Hill, Team</td>\n",
       "      <td>NaN</td>\n",
       "      <td>Poland</td>\n",
       "      <td>NaN</td>\n",
       "    </tr>\n",
       "    <tr>\n",
       "      <th>271114</th>\n",
       "      <td>135571</td>\n",
       "      <td>Tomasz Ireneusz ya</td>\n",
       "      <td>M</td>\n",
       "      <td>30.0</td>\n",
       "      <td>185.0</td>\n",
       "      <td>96.0</td>\n",
       "      <td>Poland</td>\n",
       "      <td>POL</td>\n",
       "      <td>1998 Winter</td>\n",
       "      <td>1998</td>\n",
       "      <td>Winter</td>\n",
       "      <td>Nagano</td>\n",
       "      <td>Bobsleigh</td>\n",
       "      <td>Bobsleigh Men's Four</td>\n",
       "      <td>NaN</td>\n",
       "      <td>Poland</td>\n",
       "      <td>NaN</td>\n",
       "    </tr>\n",
       "    <tr>\n",
       "      <th>271115</th>\n",
       "      <td>135571</td>\n",
       "      <td>Tomasz Ireneusz ya</td>\n",
       "      <td>M</td>\n",
       "      <td>34.0</td>\n",
       "      <td>185.0</td>\n",
       "      <td>96.0</td>\n",
       "      <td>Poland</td>\n",
       "      <td>POL</td>\n",
       "      <td>2002 Winter</td>\n",
       "      <td>2002</td>\n",
       "      <td>Winter</td>\n",
       "      <td>Salt Lake City</td>\n",
       "      <td>Bobsleigh</td>\n",
       "      <td>Bobsleigh Men's Four</td>\n",
       "      <td>NaN</td>\n",
       "      <td>Poland</td>\n",
       "      <td>NaN</td>\n",
       "    </tr>\n",
       "  </tbody>\n",
       "</table>\n",
       "</div>"
      ],
      "text/plain": [
       "            ID                Name Sex   Age  Height  Weight      Team  NOC  \\\n",
       "271111  135569          Andrzej ya   M  29.0   179.0    89.0  Poland-1  POL   \n",
       "271112  135570            Piotr ya   M  27.0   176.0    59.0    Poland  POL   \n",
       "271113  135570            Piotr ya   M  27.0   176.0    59.0    Poland  POL   \n",
       "271114  135571  Tomasz Ireneusz ya   M  30.0   185.0    96.0    Poland  POL   \n",
       "271115  135571  Tomasz Ireneusz ya   M  34.0   185.0    96.0    Poland  POL   \n",
       "\n",
       "              Games  Year  Season            City        Sport  \\\n",
       "271111  1976 Winter  1976  Winter       Innsbruck         Luge   \n",
       "271112  2014 Winter  2014  Winter           Sochi  Ski Jumping   \n",
       "271113  2014 Winter  2014  Winter           Sochi  Ski Jumping   \n",
       "271114  1998 Winter  1998  Winter          Nagano    Bobsleigh   \n",
       "271115  2002 Winter  2002  Winter  Salt Lake City    Bobsleigh   \n",
       "\n",
       "                                           Event Medal  region notes  \n",
       "271111                Luge Mixed (Men)'s Doubles   NaN  Poland   NaN  \n",
       "271112  Ski Jumping Men's Large Hill, Individual   NaN  Poland   NaN  \n",
       "271113        Ski Jumping Men's Large Hill, Team   NaN  Poland   NaN  \n",
       "271114                      Bobsleigh Men's Four   NaN  Poland   NaN  \n",
       "271115                      Bobsleigh Men's Four   NaN  Poland   NaN  "
      ]
     },
     "execution_count": 6,
     "metadata": {},
     "output_type": "execute_result"
    }
   ],
   "source": [
    "df.tail()"
   ]
  },
  {
   "cell_type": "code",
   "execution_count": 7,
   "id": "ca9d62ef",
   "metadata": {
    "execution": {
     "iopub.execute_input": "2022-07-26T22:53:48.663193Z",
     "iopub.status.busy": "2022-07-26T22:53:48.662814Z",
     "iopub.status.idle": "2022-07-26T22:53:48.669366Z",
     "shell.execute_reply": "2022-07-26T22:53:48.668310Z"
    },
    "papermill": {
     "duration": 0.022154,
     "end_time": "2022-07-26T22:53:48.671804",
     "exception": false,
     "start_time": "2022-07-26T22:53:48.649650",
     "status": "completed"
    },
    "tags": []
   },
   "outputs": [
    {
     "data": {
      "text/plain": [
       "(271116, 17)"
      ]
     },
     "execution_count": 7,
     "metadata": {},
     "output_type": "execute_result"
    }
   ],
   "source": [
    "df.shape"
   ]
  },
  {
   "cell_type": "code",
   "execution_count": 8,
   "id": "ed742110",
   "metadata": {
    "execution": {
     "iopub.execute_input": "2022-07-26T22:53:48.697535Z",
     "iopub.status.busy": "2022-07-26T22:53:48.697171Z",
     "iopub.status.idle": "2022-07-26T22:53:48.880132Z",
     "shell.execute_reply": "2022-07-26T22:53:48.879065Z"
    },
    "papermill": {
     "duration": 0.19887,
     "end_time": "2022-07-26T22:53:48.882699",
     "exception": false,
     "start_time": "2022-07-26T22:53:48.683829",
     "status": "completed"
    },
    "tags": []
   },
   "outputs": [
    {
     "data": {
      "text/html": [
       "<div>\n",
       "<style scoped>\n",
       "    .dataframe tbody tr th:only-of-type {\n",
       "        vertical-align: middle;\n",
       "    }\n",
       "\n",
       "    .dataframe tbody tr th {\n",
       "        vertical-align: top;\n",
       "    }\n",
       "\n",
       "    .dataframe thead th {\n",
       "        text-align: right;\n",
       "    }\n",
       "</style>\n",
       "<table border=\"1\" class=\"dataframe\">\n",
       "  <thead>\n",
       "    <tr style=\"text-align: right;\">\n",
       "      <th></th>\n",
       "      <th>count</th>\n",
       "      <th>mean</th>\n",
       "      <th>std</th>\n",
       "      <th>min</th>\n",
       "      <th>25%</th>\n",
       "      <th>50%</th>\n",
       "      <th>75%</th>\n",
       "      <th>max</th>\n",
       "    </tr>\n",
       "  </thead>\n",
       "  <tbody>\n",
       "    <tr>\n",
       "      <th>ID</th>\n",
       "      <td>271116.0</td>\n",
       "      <td>68248.954396</td>\n",
       "      <td>39022.286345</td>\n",
       "      <td>1.0</td>\n",
       "      <td>34643.0</td>\n",
       "      <td>68205.0</td>\n",
       "      <td>102097.25</td>\n",
       "      <td>135571.0</td>\n",
       "    </tr>\n",
       "    <tr>\n",
       "      <th>Age</th>\n",
       "      <td>261642.0</td>\n",
       "      <td>25.556898</td>\n",
       "      <td>6.393561</td>\n",
       "      <td>10.0</td>\n",
       "      <td>21.0</td>\n",
       "      <td>24.0</td>\n",
       "      <td>28.00</td>\n",
       "      <td>97.0</td>\n",
       "    </tr>\n",
       "    <tr>\n",
       "      <th>Height</th>\n",
       "      <td>210945.0</td>\n",
       "      <td>175.338970</td>\n",
       "      <td>10.518462</td>\n",
       "      <td>127.0</td>\n",
       "      <td>168.0</td>\n",
       "      <td>175.0</td>\n",
       "      <td>183.00</td>\n",
       "      <td>226.0</td>\n",
       "    </tr>\n",
       "    <tr>\n",
       "      <th>Weight</th>\n",
       "      <td>208241.0</td>\n",
       "      <td>70.702393</td>\n",
       "      <td>14.348020</td>\n",
       "      <td>25.0</td>\n",
       "      <td>60.0</td>\n",
       "      <td>70.0</td>\n",
       "      <td>79.00</td>\n",
       "      <td>214.0</td>\n",
       "    </tr>\n",
       "    <tr>\n",
       "      <th>Year</th>\n",
       "      <td>271116.0</td>\n",
       "      <td>1978.378480</td>\n",
       "      <td>29.877632</td>\n",
       "      <td>1896.0</td>\n",
       "      <td>1960.0</td>\n",
       "      <td>1988.0</td>\n",
       "      <td>2002.00</td>\n",
       "      <td>2016.0</td>\n",
       "    </tr>\n",
       "  </tbody>\n",
       "</table>\n",
       "</div>"
      ],
      "text/plain": [
       "           count          mean           std     min      25%      50%  \\\n",
       "ID      271116.0  68248.954396  39022.286345     1.0  34643.0  68205.0   \n",
       "Age     261642.0     25.556898      6.393561    10.0     21.0     24.0   \n",
       "Height  210945.0    175.338970     10.518462   127.0    168.0    175.0   \n",
       "Weight  208241.0     70.702393     14.348020    25.0     60.0     70.0   \n",
       "Year    271116.0   1978.378480     29.877632  1896.0   1960.0   1988.0   \n",
       "\n",
       "              75%       max  \n",
       "ID      102097.25  135571.0  \n",
       "Age         28.00      97.0  \n",
       "Height     183.00     226.0  \n",
       "Weight      79.00     214.0  \n",
       "Year      2002.00    2016.0  "
      ]
     },
     "execution_count": 8,
     "metadata": {},
     "output_type": "execute_result"
    }
   ],
   "source": [
    "df.describe().T"
   ]
  },
  {
   "cell_type": "code",
   "execution_count": 9,
   "id": "e9da880f",
   "metadata": {
    "execution": {
     "iopub.execute_input": "2022-07-26T22:53:48.908823Z",
     "iopub.status.busy": "2022-07-26T22:53:48.908073Z",
     "iopub.status.idle": "2022-07-26T22:53:49.236591Z",
     "shell.execute_reply": "2022-07-26T22:53:49.234855Z"
    },
    "papermill": {
     "duration": 0.345035,
     "end_time": "2022-07-26T22:53:49.239622",
     "exception": false,
     "start_time": "2022-07-26T22:53:48.894587",
     "status": "completed"
    },
    "tags": []
   },
   "outputs": [
    {
     "name": "stdout",
     "output_type": "stream",
     "text": [
      "<class 'pandas.core.frame.DataFrame'>\n",
      "Int64Index: 271116 entries, 0 to 271115\n",
      "Data columns (total 17 columns):\n",
      " #   Column  Non-Null Count   Dtype  \n",
      "---  ------  --------------   -----  \n",
      " 0   ID      271116 non-null  int64  \n",
      " 1   Name    271116 non-null  object \n",
      " 2   Sex     271116 non-null  object \n",
      " 3   Age     261642 non-null  float64\n",
      " 4   Height  210945 non-null  float64\n",
      " 5   Weight  208241 non-null  float64\n",
      " 6   Team    271116 non-null  object \n",
      " 7   NOC     271116 non-null  object \n",
      " 8   Games   271116 non-null  object \n",
      " 9   Year    271116 non-null  int64  \n",
      " 10  Season  271116 non-null  object \n",
      " 11  City    271116 non-null  object \n",
      " 12  Sport   271116 non-null  object \n",
      " 13  Event   271116 non-null  object \n",
      " 14  Medal   39783 non-null   object \n",
      " 15  region  270746 non-null  object \n",
      " 16  notes   5039 non-null    object \n",
      "dtypes: float64(3), int64(2), object(12)\n",
      "memory usage: 37.2+ MB\n"
     ]
    }
   ],
   "source": [
    "df.info()"
   ]
  },
  {
   "cell_type": "code",
   "execution_count": 10,
   "id": "cc4cca30",
   "metadata": {
    "execution": {
     "iopub.execute_input": "2022-07-26T22:53:49.266453Z",
     "iopub.status.busy": "2022-07-26T22:53:49.266082Z",
     "iopub.status.idle": "2022-07-26T22:53:49.312111Z",
     "shell.execute_reply": "2022-07-26T22:53:49.311276Z"
    },
    "papermill": {
     "duration": 0.061887,
     "end_time": "2022-07-26T22:53:49.314337",
     "exception": false,
     "start_time": "2022-07-26T22:53:49.252450",
     "status": "completed"
    },
    "tags": []
   },
   "outputs": [
    {
     "data": {
      "text/plain": [
       "array(['A Dijiang', 'A Lamusi', 'Gunnar Nielsen Aaby', ..., 'Andrzej ya',\n",
       "       'Piotr ya', 'Tomasz Ireneusz ya'], dtype=object)"
      ]
     },
     "execution_count": 10,
     "metadata": {},
     "output_type": "execute_result"
    }
   ],
   "source": [
    "df.Name.unique()"
   ]
  },
  {
   "cell_type": "code",
   "execution_count": 11,
   "id": "d773d915",
   "metadata": {
    "execution": {
     "iopub.execute_input": "2022-07-26T22:53:49.340658Z",
     "iopub.status.busy": "2022-07-26T22:53:49.340085Z",
     "iopub.status.idle": "2022-07-26T22:53:49.384325Z",
     "shell.execute_reply": "2022-07-26T22:53:49.382957Z"
    },
    "papermill": {
     "duration": 0.060031,
     "end_time": "2022-07-26T22:53:49.386584",
     "exception": false,
     "start_time": "2022-07-26T22:53:49.326553",
     "status": "completed"
    },
    "tags": []
   },
   "outputs": [
    {
     "data": {
      "text/plain": [
       "array(['A Dijiang', 'A Lamusi', 'Gunnar Nielsen Aaby', ..., 'Andrzej ya',\n",
       "       'Piotr ya', 'Tomasz Ireneusz ya'], dtype=object)"
      ]
     },
     "execution_count": 11,
     "metadata": {},
     "output_type": "execute_result"
    }
   ],
   "source": [
    "#2.\n",
    "#sns.scatterplot(x=\"Year\",y=\"Name\", data=df)\n",
    "df.Name.unique()"
   ]
  },
  {
   "cell_type": "code",
   "execution_count": 12,
   "id": "f2b1d143",
   "metadata": {
    "execution": {
     "iopub.execute_input": "2022-07-26T22:53:49.413320Z",
     "iopub.status.busy": "2022-07-26T22:53:49.412896Z",
     "iopub.status.idle": "2022-07-26T22:53:49.543783Z",
     "shell.execute_reply": "2022-07-26T22:53:49.542760Z"
    },
    "papermill": {
     "duration": 0.147194,
     "end_time": "2022-07-26T22:53:49.546353",
     "exception": false,
     "start_time": "2022-07-26T22:53:49.399159",
     "status": "completed"
    },
    "tags": []
   },
   "outputs": [
    {
     "data": {
      "text/html": [
       "<div>\n",
       "<style scoped>\n",
       "    .dataframe tbody tr th:only-of-type {\n",
       "        vertical-align: middle;\n",
       "    }\n",
       "\n",
       "    .dataframe tbody tr th {\n",
       "        vertical-align: top;\n",
       "    }\n",
       "\n",
       "    .dataframe thead th {\n",
       "        text-align: right;\n",
       "    }\n",
       "</style>\n",
       "<table border=\"1\" class=\"dataframe\">\n",
       "  <thead>\n",
       "    <tr style=\"text-align: right;\">\n",
       "      <th></th>\n",
       "      <th>Name</th>\n",
       "    </tr>\n",
       "  </thead>\n",
       "  <tbody>\n",
       "    <tr>\n",
       "      <th>Robert Tait McKenzie</th>\n",
       "      <td>58</td>\n",
       "    </tr>\n",
       "    <tr>\n",
       "      <th>Heikki Ilmari Savolainen</th>\n",
       "      <td>39</td>\n",
       "    </tr>\n",
       "    <tr>\n",
       "      <th>Joseph \"Josy\" Stoffel</th>\n",
       "      <td>38</td>\n",
       "    </tr>\n",
       "    <tr>\n",
       "      <th>Ioannis Theofilakis</th>\n",
       "      <td>36</td>\n",
       "    </tr>\n",
       "    <tr>\n",
       "      <th>Takashi Ono</th>\n",
       "      <td>33</td>\n",
       "    </tr>\n",
       "    <tr>\n",
       "      <th>...</th>\n",
       "      <td>...</td>\n",
       "    </tr>\n",
       "    <tr>\n",
       "      <th>Tatyana Vasilyevna Kalmykova</th>\n",
       "      <td>1</td>\n",
       "    </tr>\n",
       "    <tr>\n",
       "      <th>Mariya Lvovna Kalmykova</th>\n",
       "      <td>1</td>\n",
       "    </tr>\n",
       "    <tr>\n",
       "      <th>Christine Kalmer</th>\n",
       "      <td>1</td>\n",
       "    </tr>\n",
       "    <tr>\n",
       "      <th>Joannis \"Jannis\" Kalmazidis</th>\n",
       "      <td>1</td>\n",
       "    </tr>\n",
       "    <tr>\n",
       "      <th>Pierre-Georges LeClercq</th>\n",
       "      <td>1</td>\n",
       "    </tr>\n",
       "  </tbody>\n",
       "</table>\n",
       "<p>134732 rows × 1 columns</p>\n",
       "</div>"
      ],
      "text/plain": [
       "                              Name\n",
       "Robert Tait McKenzie            58\n",
       "Heikki Ilmari Savolainen        39\n",
       "Joseph \"Josy\" Stoffel           38\n",
       "Ioannis Theofilakis             36\n",
       "Takashi Ono                     33\n",
       "...                            ...\n",
       "Tatyana Vasilyevna Kalmykova     1\n",
       "Mariya Lvovna Kalmykova          1\n",
       "Christine Kalmer                 1\n",
       "Joannis \"Jannis\" Kalmazidis      1\n",
       "Pierre-Georges LeClercq          1\n",
       "\n",
       "[134732 rows x 1 columns]"
      ]
     },
     "execution_count": 12,
     "metadata": {},
     "output_type": "execute_result"
    }
   ],
   "source": [
    "df.Name.value_counts(dropna=False).to_frame()"
   ]
  },
  {
   "cell_type": "code",
   "execution_count": 13,
   "id": "a798cf23",
   "metadata": {
    "execution": {
     "iopub.execute_input": "2022-07-26T22:53:49.574591Z",
     "iopub.status.busy": "2022-07-26T22:53:49.573497Z",
     "iopub.status.idle": "2022-07-26T22:53:49.581877Z",
     "shell.execute_reply": "2022-07-26T22:53:49.580813Z"
    },
    "papermill": {
     "duration": 0.024683,
     "end_time": "2022-07-26T22:53:49.583935",
     "exception": false,
     "start_time": "2022-07-26T22:53:49.559252",
     "status": "completed"
    },
    "tags": []
   },
   "outputs": [
    {
     "data": {
      "text/plain": [
       "array([1992, 2012, 1920, 1900, 1988, 1994, 1932, 2002, 1952, 1980, 2000,\n",
       "       1996, 1912, 1924, 2014, 1948, 1998, 2006, 2008, 2016, 2004, 1960,\n",
       "       1964, 1984, 1968, 1972, 1936, 1956, 1928, 1976, 2010, 1906, 1904,\n",
       "       1908, 1896])"
      ]
     },
     "execution_count": 13,
     "metadata": {},
     "output_type": "execute_result"
    }
   ],
   "source": [
    "df.Year.unique()"
   ]
  },
  {
   "cell_type": "markdown",
   "id": "0a8292c8",
   "metadata": {
    "execution": {
     "iopub.execute_input": "2022-07-26T16:33:56.794184Z",
     "iopub.status.busy": "2022-07-26T16:33:56.793725Z",
     "iopub.status.idle": "2022-07-26T16:33:57.183352Z",
     "shell.execute_reply": "2022-07-26T16:33:57.182427Z",
     "shell.execute_reply.started": "2022-07-26T16:33:56.794142Z"
    },
    "papermill": {
     "duration": 0.012919,
     "end_time": "2022-07-26T22:53:49.609953",
     "exception": false,
     "start_time": "2022-07-26T22:53:49.597034",
     "status": "completed"
    },
    "tags": []
   },
   "source": [
    "### df.groupby('Name')['Year'].count().nlargest(37).reset_index()"
   ]
  },
  {
   "cell_type": "code",
   "execution_count": 14,
   "id": "3e341cea",
   "metadata": {
    "execution": {
     "iopub.execute_input": "2022-07-26T22:53:49.637942Z",
     "iopub.status.busy": "2022-07-26T22:53:49.637277Z",
     "iopub.status.idle": "2022-07-26T22:53:49.682873Z",
     "shell.execute_reply": "2022-07-26T22:53:49.681850Z"
    },
    "papermill": {
     "duration": 0.061956,
     "end_time": "2022-07-26T22:53:49.685263",
     "exception": false,
     "start_time": "2022-07-26T22:53:49.623307",
     "status": "completed"
    },
    "tags": []
   },
   "outputs": [
    {
     "data": {
      "text/html": [
       "<div>\n",
       "<style scoped>\n",
       "    .dataframe tbody tr th:only-of-type {\n",
       "        vertical-align: middle;\n",
       "    }\n",
       "\n",
       "    .dataframe tbody tr th {\n",
       "        vertical-align: top;\n",
       "    }\n",
       "\n",
       "    .dataframe thead th {\n",
       "        text-align: right;\n",
       "    }\n",
       "</style>\n",
       "<table border=\"1\" class=\"dataframe\">\n",
       "  <thead>\n",
       "    <tr style=\"text-align: right;\">\n",
       "      <th></th>\n",
       "      <th>Year</th>\n",
       "      <th>Name</th>\n",
       "    </tr>\n",
       "  </thead>\n",
       "  <tbody>\n",
       "    <tr>\n",
       "      <th>0</th>\n",
       "      <td>1992</td>\n",
       "      <td>16413</td>\n",
       "    </tr>\n",
       "    <tr>\n",
       "      <th>1</th>\n",
       "      <td>1988</td>\n",
       "      <td>14676</td>\n",
       "    </tr>\n",
       "    <tr>\n",
       "      <th>2</th>\n",
       "      <td>2000</td>\n",
       "      <td>13821</td>\n",
       "    </tr>\n",
       "    <tr>\n",
       "      <th>3</th>\n",
       "      <td>1996</td>\n",
       "      <td>13780</td>\n",
       "    </tr>\n",
       "    <tr>\n",
       "      <th>4</th>\n",
       "      <td>2016</td>\n",
       "      <td>13688</td>\n",
       "    </tr>\n",
       "    <tr>\n",
       "      <th>5</th>\n",
       "      <td>2008</td>\n",
       "      <td>13602</td>\n",
       "    </tr>\n",
       "    <tr>\n",
       "      <th>6</th>\n",
       "      <td>2004</td>\n",
       "      <td>13443</td>\n",
       "    </tr>\n",
       "    <tr>\n",
       "      <th>7</th>\n",
       "      <td>2012</td>\n",
       "      <td>12920</td>\n",
       "    </tr>\n",
       "    <tr>\n",
       "      <th>8</th>\n",
       "      <td>1972</td>\n",
       "      <td>11959</td>\n",
       "    </tr>\n",
       "    <tr>\n",
       "      <th>9</th>\n",
       "      <td>1984</td>\n",
       "      <td>11588</td>\n",
       "    </tr>\n",
       "    <tr>\n",
       "      <th>10</th>\n",
       "      <td>1976</td>\n",
       "      <td>10502</td>\n",
       "    </tr>\n",
       "    <tr>\n",
       "      <th>11</th>\n",
       "      <td>1968</td>\n",
       "      <td>10479</td>\n",
       "    </tr>\n",
       "    <tr>\n",
       "      <th>12</th>\n",
       "      <td>1964</td>\n",
       "      <td>9480</td>\n",
       "    </tr>\n",
       "    <tr>\n",
       "      <th>13</th>\n",
       "      <td>1952</td>\n",
       "      <td>9358</td>\n",
       "    </tr>\n",
       "    <tr>\n",
       "      <th>14</th>\n",
       "      <td>1960</td>\n",
       "      <td>9235</td>\n",
       "    </tr>\n",
       "    <tr>\n",
       "      <th>15</th>\n",
       "      <td>1980</td>\n",
       "      <td>8937</td>\n",
       "    </tr>\n",
       "    <tr>\n",
       "      <th>16</th>\n",
       "      <td>1948</td>\n",
       "      <td>7480</td>\n",
       "    </tr>\n",
       "    <tr>\n",
       "      <th>17</th>\n",
       "      <td>1936</td>\n",
       "      <td>7401</td>\n",
       "    </tr>\n",
       "    <tr>\n",
       "      <th>18</th>\n",
       "      <td>1956</td>\n",
       "      <td>6434</td>\n",
       "    </tr>\n",
       "    <tr>\n",
       "      <th>19</th>\n",
       "      <td>1924</td>\n",
       "      <td>5693</td>\n",
       "    </tr>\n",
       "    <tr>\n",
       "      <th>20</th>\n",
       "      <td>1928</td>\n",
       "      <td>5574</td>\n",
       "    </tr>\n",
       "    <tr>\n",
       "      <th>21</th>\n",
       "      <td>2014</td>\n",
       "      <td>4891</td>\n",
       "    </tr>\n",
       "    <tr>\n",
       "      <th>22</th>\n",
       "      <td>2010</td>\n",
       "      <td>4402</td>\n",
       "    </tr>\n",
       "    <tr>\n",
       "      <th>23</th>\n",
       "      <td>2006</td>\n",
       "      <td>4382</td>\n",
       "    </tr>\n",
       "    <tr>\n",
       "      <th>24</th>\n",
       "      <td>1920</td>\n",
       "      <td>4292</td>\n",
       "    </tr>\n",
       "    <tr>\n",
       "      <th>25</th>\n",
       "      <td>2002</td>\n",
       "      <td>4109</td>\n",
       "    </tr>\n",
       "    <tr>\n",
       "      <th>26</th>\n",
       "      <td>1912</td>\n",
       "      <td>4040</td>\n",
       "    </tr>\n",
       "    <tr>\n",
       "      <th>27</th>\n",
       "      <td>1998</td>\n",
       "      <td>3605</td>\n",
       "    </tr>\n",
       "    <tr>\n",
       "      <th>28</th>\n",
       "      <td>1932</td>\n",
       "      <td>3321</td>\n",
       "    </tr>\n",
       "    <tr>\n",
       "      <th>29</th>\n",
       "      <td>1994</td>\n",
       "      <td>3160</td>\n",
       "    </tr>\n",
       "    <tr>\n",
       "      <th>30</th>\n",
       "      <td>1908</td>\n",
       "      <td>3101</td>\n",
       "    </tr>\n",
       "    <tr>\n",
       "      <th>31</th>\n",
       "      <td>1900</td>\n",
       "      <td>1936</td>\n",
       "    </tr>\n",
       "    <tr>\n",
       "      <th>32</th>\n",
       "      <td>1906</td>\n",
       "      <td>1733</td>\n",
       "    </tr>\n",
       "    <tr>\n",
       "      <th>33</th>\n",
       "      <td>1904</td>\n",
       "      <td>1301</td>\n",
       "    </tr>\n",
       "    <tr>\n",
       "      <th>34</th>\n",
       "      <td>1896</td>\n",
       "      <td>380</td>\n",
       "    </tr>\n",
       "  </tbody>\n",
       "</table>\n",
       "</div>"
      ],
      "text/plain": [
       "    Year   Name\n",
       "0   1992  16413\n",
       "1   1988  14676\n",
       "2   2000  13821\n",
       "3   1996  13780\n",
       "4   2016  13688\n",
       "5   2008  13602\n",
       "6   2004  13443\n",
       "7   2012  12920\n",
       "8   1972  11959\n",
       "9   1984  11588\n",
       "10  1976  10502\n",
       "11  1968  10479\n",
       "12  1964   9480\n",
       "13  1952   9358\n",
       "14  1960   9235\n",
       "15  1980   8937\n",
       "16  1948   7480\n",
       "17  1936   7401\n",
       "18  1956   6434\n",
       "19  1924   5693\n",
       "20  1928   5574\n",
       "21  2014   4891\n",
       "22  2010   4402\n",
       "23  2006   4382\n",
       "24  1920   4292\n",
       "25  2002   4109\n",
       "26  1912   4040\n",
       "27  1998   3605\n",
       "28  1932   3321\n",
       "29  1994   3160\n",
       "30  1908   3101\n",
       "31  1900   1936\n",
       "32  1906   1733\n",
       "33  1904   1301\n",
       "34  1896    380"
      ]
     },
     "execution_count": 14,
     "metadata": {},
     "output_type": "execute_result"
    }
   ],
   "source": [
    "df.groupby('Year')['Name'].count().nlargest(37).reset_index()"
   ]
  },
  {
   "cell_type": "code",
   "execution_count": 15,
   "id": "dd7b748f",
   "metadata": {
    "execution": {
     "iopub.execute_input": "2022-07-26T22:53:49.714679Z",
     "iopub.status.busy": "2022-07-26T22:53:49.713759Z",
     "iopub.status.idle": "2022-07-26T22:53:49.761889Z",
     "shell.execute_reply": "2022-07-26T22:53:49.761055Z"
    },
    "papermill": {
     "duration": 0.065417,
     "end_time": "2022-07-26T22:53:49.764210",
     "exception": false,
     "start_time": "2022-07-26T22:53:49.698793",
     "status": "completed"
    },
    "tags": []
   },
   "outputs": [
    {
     "data": {
      "text/html": [
       "<div>\n",
       "<style scoped>\n",
       "    .dataframe tbody tr th:only-of-type {\n",
       "        vertical-align: middle;\n",
       "    }\n",
       "\n",
       "    .dataframe tbody tr th {\n",
       "        vertical-align: top;\n",
       "    }\n",
       "\n",
       "    .dataframe thead th {\n",
       "        text-align: right;\n",
       "    }\n",
       "</style>\n",
       "<table border=\"1\" class=\"dataframe\">\n",
       "  <thead>\n",
       "    <tr style=\"text-align: right;\">\n",
       "      <th></th>\n",
       "      <th>Year</th>\n",
       "      <th>Athlets</th>\n",
       "    </tr>\n",
       "  </thead>\n",
       "  <tbody>\n",
       "    <tr>\n",
       "      <th>0</th>\n",
       "      <td>1896</td>\n",
       "      <td>380</td>\n",
       "    </tr>\n",
       "    <tr>\n",
       "      <th>1</th>\n",
       "      <td>1900</td>\n",
       "      <td>1936</td>\n",
       "    </tr>\n",
       "    <tr>\n",
       "      <th>2</th>\n",
       "      <td>1904</td>\n",
       "      <td>1301</td>\n",
       "    </tr>\n",
       "    <tr>\n",
       "      <th>3</th>\n",
       "      <td>1906</td>\n",
       "      <td>1733</td>\n",
       "    </tr>\n",
       "    <tr>\n",
       "      <th>4</th>\n",
       "      <td>1908</td>\n",
       "      <td>3101</td>\n",
       "    </tr>\n",
       "    <tr>\n",
       "      <th>5</th>\n",
       "      <td>1912</td>\n",
       "      <td>4040</td>\n",
       "    </tr>\n",
       "    <tr>\n",
       "      <th>6</th>\n",
       "      <td>1920</td>\n",
       "      <td>4292</td>\n",
       "    </tr>\n",
       "    <tr>\n",
       "      <th>7</th>\n",
       "      <td>1924</td>\n",
       "      <td>5693</td>\n",
       "    </tr>\n",
       "    <tr>\n",
       "      <th>8</th>\n",
       "      <td>1928</td>\n",
       "      <td>5574</td>\n",
       "    </tr>\n",
       "    <tr>\n",
       "      <th>9</th>\n",
       "      <td>1932</td>\n",
       "      <td>3321</td>\n",
       "    </tr>\n",
       "    <tr>\n",
       "      <th>10</th>\n",
       "      <td>1936</td>\n",
       "      <td>7401</td>\n",
       "    </tr>\n",
       "    <tr>\n",
       "      <th>11</th>\n",
       "      <td>1948</td>\n",
       "      <td>7480</td>\n",
       "    </tr>\n",
       "    <tr>\n",
       "      <th>12</th>\n",
       "      <td>1952</td>\n",
       "      <td>9358</td>\n",
       "    </tr>\n",
       "    <tr>\n",
       "      <th>13</th>\n",
       "      <td>1956</td>\n",
       "      <td>6434</td>\n",
       "    </tr>\n",
       "    <tr>\n",
       "      <th>14</th>\n",
       "      <td>1960</td>\n",
       "      <td>9235</td>\n",
       "    </tr>\n",
       "    <tr>\n",
       "      <th>15</th>\n",
       "      <td>1964</td>\n",
       "      <td>9480</td>\n",
       "    </tr>\n",
       "    <tr>\n",
       "      <th>16</th>\n",
       "      <td>1968</td>\n",
       "      <td>10479</td>\n",
       "    </tr>\n",
       "    <tr>\n",
       "      <th>17</th>\n",
       "      <td>1972</td>\n",
       "      <td>11959</td>\n",
       "    </tr>\n",
       "    <tr>\n",
       "      <th>18</th>\n",
       "      <td>1976</td>\n",
       "      <td>10502</td>\n",
       "    </tr>\n",
       "    <tr>\n",
       "      <th>19</th>\n",
       "      <td>1980</td>\n",
       "      <td>8937</td>\n",
       "    </tr>\n",
       "    <tr>\n",
       "      <th>20</th>\n",
       "      <td>1984</td>\n",
       "      <td>11588</td>\n",
       "    </tr>\n",
       "    <tr>\n",
       "      <th>21</th>\n",
       "      <td>1988</td>\n",
       "      <td>14676</td>\n",
       "    </tr>\n",
       "    <tr>\n",
       "      <th>22</th>\n",
       "      <td>1992</td>\n",
       "      <td>16413</td>\n",
       "    </tr>\n",
       "    <tr>\n",
       "      <th>23</th>\n",
       "      <td>1994</td>\n",
       "      <td>3160</td>\n",
       "    </tr>\n",
       "    <tr>\n",
       "      <th>24</th>\n",
       "      <td>1996</td>\n",
       "      <td>13780</td>\n",
       "    </tr>\n",
       "    <tr>\n",
       "      <th>25</th>\n",
       "      <td>1998</td>\n",
       "      <td>3605</td>\n",
       "    </tr>\n",
       "    <tr>\n",
       "      <th>26</th>\n",
       "      <td>2000</td>\n",
       "      <td>13821</td>\n",
       "    </tr>\n",
       "    <tr>\n",
       "      <th>27</th>\n",
       "      <td>2002</td>\n",
       "      <td>4109</td>\n",
       "    </tr>\n",
       "    <tr>\n",
       "      <th>28</th>\n",
       "      <td>2004</td>\n",
       "      <td>13443</td>\n",
       "    </tr>\n",
       "    <tr>\n",
       "      <th>29</th>\n",
       "      <td>2006</td>\n",
       "      <td>4382</td>\n",
       "    </tr>\n",
       "    <tr>\n",
       "      <th>30</th>\n",
       "      <td>2008</td>\n",
       "      <td>13602</td>\n",
       "    </tr>\n",
       "    <tr>\n",
       "      <th>31</th>\n",
       "      <td>2010</td>\n",
       "      <td>4402</td>\n",
       "    </tr>\n",
       "    <tr>\n",
       "      <th>32</th>\n",
       "      <td>2012</td>\n",
       "      <td>12920</td>\n",
       "    </tr>\n",
       "    <tr>\n",
       "      <th>33</th>\n",
       "      <td>2014</td>\n",
       "      <td>4891</td>\n",
       "    </tr>\n",
       "    <tr>\n",
       "      <th>34</th>\n",
       "      <td>2016</td>\n",
       "      <td>13688</td>\n",
       "    </tr>\n",
       "  </tbody>\n",
       "</table>\n",
       "</div>"
      ],
      "text/plain": [
       "    Year  Athlets\n",
       "0   1896      380\n",
       "1   1900     1936\n",
       "2   1904     1301\n",
       "3   1906     1733\n",
       "4   1908     3101\n",
       "5   1912     4040\n",
       "6   1920     4292\n",
       "7   1924     5693\n",
       "8   1928     5574\n",
       "9   1932     3321\n",
       "10  1936     7401\n",
       "11  1948     7480\n",
       "12  1952     9358\n",
       "13  1956     6434\n",
       "14  1960     9235\n",
       "15  1964     9480\n",
       "16  1968    10479\n",
       "17  1972    11959\n",
       "18  1976    10502\n",
       "19  1980     8937\n",
       "20  1984    11588\n",
       "21  1988    14676\n",
       "22  1992    16413\n",
       "23  1994     3160\n",
       "24  1996    13780\n",
       "25  1998     3605\n",
       "26  2000    13821\n",
       "27  2002     4109\n",
       "28  2004    13443\n",
       "29  2006     4382\n",
       "30  2008    13602\n",
       "31  2010     4402\n",
       "32  2012    12920\n",
       "33  2014     4891\n",
       "34  2016    13688"
      ]
     },
     "execution_count": 15,
     "metadata": {},
     "output_type": "execute_result"
    }
   ],
   "source": [
    "participants=df.groupby('Year')['Name'].count().reset_index()\n",
    "participants.rename(columns={'Name':'Athlets'},inplace=True)\n",
    "participants"
   ]
  },
  {
   "cell_type": "code",
   "execution_count": 16,
   "id": "5aa1a2fb",
   "metadata": {
    "execution": {
     "iopub.execute_input": "2022-07-26T22:53:49.792983Z",
     "iopub.status.busy": "2022-07-26T22:53:49.792595Z",
     "iopub.status.idle": "2022-07-26T22:53:50.043713Z",
     "shell.execute_reply": "2022-07-26T22:53:50.042590Z"
    },
    "papermill": {
     "duration": 0.268123,
     "end_time": "2022-07-26T22:53:50.045923",
     "exception": false,
     "start_time": "2022-07-26T22:53:49.777800",
     "status": "completed"
    },
    "tags": []
   },
   "outputs": [
    {
     "data": {
      "image/png": "[encoded data removed]",
      "text/plain": [
       "<Figure size 432x288 with 1 Axes>"
      ]
     },
     "metadata": {
      "needs_background": "light"
     },
     "output_type": "display_data"
    }
   ],
   "source": [
    "sns.scatterplot(x='Year',y='Athlets',data=participants)\n",
    "plt.title('Year and Athlets Scatter Plot')\n",
    "plt.show()"
   ]
  },
  {
   "cell_type": "code",
   "execution_count": 17,
   "id": "865c39e7",
   "metadata": {
    "execution": {
     "iopub.execute_input": "2022-07-26T22:53:50.076258Z",
     "iopub.status.busy": "2022-07-26T22:53:50.075878Z",
     "iopub.status.idle": "2022-07-26T22:53:50.152282Z",
     "shell.execute_reply": "2022-07-26T22:53:50.151257Z"
    },
    "papermill": {
     "duration": 0.09447,
     "end_time": "2022-07-26T22:53:50.154838",
     "exception": false,
     "start_time": "2022-07-26T22:53:50.060368",
     "status": "completed"
    },
    "tags": []
   },
   "outputs": [
    {
     "data": {
      "text/html": [
       "<div>\n",
       "<style scoped>\n",
       "    .dataframe tbody tr th:only-of-type {\n",
       "        vertical-align: middle;\n",
       "    }\n",
       "\n",
       "    .dataframe tbody tr th {\n",
       "        vertical-align: top;\n",
       "    }\n",
       "\n",
       "    .dataframe thead th {\n",
       "        text-align: right;\n",
       "    }\n",
       "</style>\n",
       "<table border=\"1\" class=\"dataframe\">\n",
       "  <thead>\n",
       "    <tr style=\"text-align: right;\">\n",
       "      <th></th>\n",
       "      <th>Year</th>\n",
       "      <th>Season</th>\n",
       "      <th>Athlets</th>\n",
       "    </tr>\n",
       "  </thead>\n",
       "  <tbody>\n",
       "    <tr>\n",
       "      <th>0</th>\n",
       "      <td>1896</td>\n",
       "      <td>Summer</td>\n",
       "      <td>380</td>\n",
       "    </tr>\n",
       "    <tr>\n",
       "      <th>1</th>\n",
       "      <td>1900</td>\n",
       "      <td>Summer</td>\n",
       "      <td>1936</td>\n",
       "    </tr>\n",
       "    <tr>\n",
       "      <th>2</th>\n",
       "      <td>1904</td>\n",
       "      <td>Summer</td>\n",
       "      <td>1301</td>\n",
       "    </tr>\n",
       "    <tr>\n",
       "      <th>3</th>\n",
       "      <td>1906</td>\n",
       "      <td>Summer</td>\n",
       "      <td>1733</td>\n",
       "    </tr>\n",
       "    <tr>\n",
       "      <th>4</th>\n",
       "      <td>1908</td>\n",
       "      <td>Summer</td>\n",
       "      <td>3101</td>\n",
       "    </tr>\n",
       "    <tr>\n",
       "      <th>5</th>\n",
       "      <td>1912</td>\n",
       "      <td>Summer</td>\n",
       "      <td>4040</td>\n",
       "    </tr>\n",
       "    <tr>\n",
       "      <th>6</th>\n",
       "      <td>1920</td>\n",
       "      <td>Summer</td>\n",
       "      <td>4292</td>\n",
       "    </tr>\n",
       "    <tr>\n",
       "      <th>7</th>\n",
       "      <td>1924</td>\n",
       "      <td>Summer</td>\n",
       "      <td>5233</td>\n",
       "    </tr>\n",
       "    <tr>\n",
       "      <th>8</th>\n",
       "      <td>1924</td>\n",
       "      <td>Winter</td>\n",
       "      <td>460</td>\n",
       "    </tr>\n",
       "    <tr>\n",
       "      <th>9</th>\n",
       "      <td>1928</td>\n",
       "      <td>Summer</td>\n",
       "      <td>4992</td>\n",
       "    </tr>\n",
       "    <tr>\n",
       "      <th>10</th>\n",
       "      <td>1928</td>\n",
       "      <td>Winter</td>\n",
       "      <td>582</td>\n",
       "    </tr>\n",
       "    <tr>\n",
       "      <th>11</th>\n",
       "      <td>1932</td>\n",
       "      <td>Summer</td>\n",
       "      <td>2969</td>\n",
       "    </tr>\n",
       "    <tr>\n",
       "      <th>12</th>\n",
       "      <td>1932</td>\n",
       "      <td>Winter</td>\n",
       "      <td>352</td>\n",
       "    </tr>\n",
       "    <tr>\n",
       "      <th>13</th>\n",
       "      <td>1936</td>\n",
       "      <td>Summer</td>\n",
       "      <td>6506</td>\n",
       "    </tr>\n",
       "    <tr>\n",
       "      <th>14</th>\n",
       "      <td>1936</td>\n",
       "      <td>Winter</td>\n",
       "      <td>895</td>\n",
       "    </tr>\n",
       "    <tr>\n",
       "      <th>15</th>\n",
       "      <td>1948</td>\n",
       "      <td>Summer</td>\n",
       "      <td>6405</td>\n",
       "    </tr>\n",
       "    <tr>\n",
       "      <th>16</th>\n",
       "      <td>1948</td>\n",
       "      <td>Winter</td>\n",
       "      <td>1075</td>\n",
       "    </tr>\n",
       "    <tr>\n",
       "      <th>17</th>\n",
       "      <td>1952</td>\n",
       "      <td>Summer</td>\n",
       "      <td>8270</td>\n",
       "    </tr>\n",
       "    <tr>\n",
       "      <th>18</th>\n",
       "      <td>1952</td>\n",
       "      <td>Winter</td>\n",
       "      <td>1088</td>\n",
       "    </tr>\n",
       "    <tr>\n",
       "      <th>19</th>\n",
       "      <td>1956</td>\n",
       "      <td>Summer</td>\n",
       "      <td>5127</td>\n",
       "    </tr>\n",
       "    <tr>\n",
       "      <th>20</th>\n",
       "      <td>1956</td>\n",
       "      <td>Winter</td>\n",
       "      <td>1307</td>\n",
       "    </tr>\n",
       "    <tr>\n",
       "      <th>21</th>\n",
       "      <td>1960</td>\n",
       "      <td>Summer</td>\n",
       "      <td>8119</td>\n",
       "    </tr>\n",
       "    <tr>\n",
       "      <th>22</th>\n",
       "      <td>1960</td>\n",
       "      <td>Winter</td>\n",
       "      <td>1116</td>\n",
       "    </tr>\n",
       "    <tr>\n",
       "      <th>23</th>\n",
       "      <td>1964</td>\n",
       "      <td>Summer</td>\n",
       "      <td>7702</td>\n",
       "    </tr>\n",
       "    <tr>\n",
       "      <th>24</th>\n",
       "      <td>1964</td>\n",
       "      <td>Winter</td>\n",
       "      <td>1778</td>\n",
       "    </tr>\n",
       "    <tr>\n",
       "      <th>25</th>\n",
       "      <td>1968</td>\n",
       "      <td>Summer</td>\n",
       "      <td>8588</td>\n",
       "    </tr>\n",
       "    <tr>\n",
       "      <th>26</th>\n",
       "      <td>1968</td>\n",
       "      <td>Winter</td>\n",
       "      <td>1891</td>\n",
       "    </tr>\n",
       "    <tr>\n",
       "      <th>27</th>\n",
       "      <td>1972</td>\n",
       "      <td>Summer</td>\n",
       "      <td>10304</td>\n",
       "    </tr>\n",
       "    <tr>\n",
       "      <th>28</th>\n",
       "      <td>1972</td>\n",
       "      <td>Winter</td>\n",
       "      <td>1655</td>\n",
       "    </tr>\n",
       "    <tr>\n",
       "      <th>29</th>\n",
       "      <td>1976</td>\n",
       "      <td>Summer</td>\n",
       "      <td>8641</td>\n",
       "    </tr>\n",
       "    <tr>\n",
       "      <th>30</th>\n",
       "      <td>1976</td>\n",
       "      <td>Winter</td>\n",
       "      <td>1861</td>\n",
       "    </tr>\n",
       "    <tr>\n",
       "      <th>31</th>\n",
       "      <td>1980</td>\n",
       "      <td>Summer</td>\n",
       "      <td>7191</td>\n",
       "    </tr>\n",
       "    <tr>\n",
       "      <th>32</th>\n",
       "      <td>1980</td>\n",
       "      <td>Winter</td>\n",
       "      <td>1746</td>\n",
       "    </tr>\n",
       "    <tr>\n",
       "      <th>33</th>\n",
       "      <td>1984</td>\n",
       "      <td>Summer</td>\n",
       "      <td>9454</td>\n",
       "    </tr>\n",
       "    <tr>\n",
       "      <th>34</th>\n",
       "      <td>1984</td>\n",
       "      <td>Winter</td>\n",
       "      <td>2134</td>\n",
       "    </tr>\n",
       "    <tr>\n",
       "      <th>35</th>\n",
       "      <td>1988</td>\n",
       "      <td>Summer</td>\n",
       "      <td>12037</td>\n",
       "    </tr>\n",
       "    <tr>\n",
       "      <th>36</th>\n",
       "      <td>1988</td>\n",
       "      <td>Winter</td>\n",
       "      <td>2639</td>\n",
       "    </tr>\n",
       "    <tr>\n",
       "      <th>37</th>\n",
       "      <td>1992</td>\n",
       "      <td>Summer</td>\n",
       "      <td>12977</td>\n",
       "    </tr>\n",
       "    <tr>\n",
       "      <th>38</th>\n",
       "      <td>1992</td>\n",
       "      <td>Winter</td>\n",
       "      <td>3436</td>\n",
       "    </tr>\n",
       "    <tr>\n",
       "      <th>39</th>\n",
       "      <td>1994</td>\n",
       "      <td>Winter</td>\n",
       "      <td>3160</td>\n",
       "    </tr>\n",
       "    <tr>\n",
       "      <th>40</th>\n",
       "      <td>1996</td>\n",
       "      <td>Summer</td>\n",
       "      <td>13780</td>\n",
       "    </tr>\n",
       "    <tr>\n",
       "      <th>41</th>\n",
       "      <td>1998</td>\n",
       "      <td>Winter</td>\n",
       "      <td>3605</td>\n",
       "    </tr>\n",
       "    <tr>\n",
       "      <th>42</th>\n",
       "      <td>2000</td>\n",
       "      <td>Summer</td>\n",
       "      <td>13821</td>\n",
       "    </tr>\n",
       "    <tr>\n",
       "      <th>43</th>\n",
       "      <td>2002</td>\n",
       "      <td>Winter</td>\n",
       "      <td>4109</td>\n",
       "    </tr>\n",
       "    <tr>\n",
       "      <th>44</th>\n",
       "      <td>2004</td>\n",
       "      <td>Summer</td>\n",
       "      <td>13443</td>\n",
       "    </tr>\n",
       "    <tr>\n",
       "      <th>45</th>\n",
       "      <td>2006</td>\n",
       "      <td>Winter</td>\n",
       "      <td>4382</td>\n",
       "    </tr>\n",
       "    <tr>\n",
       "      <th>46</th>\n",
       "      <td>2008</td>\n",
       "      <td>Summer</td>\n",
       "      <td>13602</td>\n",
       "    </tr>\n",
       "    <tr>\n",
       "      <th>47</th>\n",
       "      <td>2010</td>\n",
       "      <td>Winter</td>\n",
       "      <td>4402</td>\n",
       "    </tr>\n",
       "    <tr>\n",
       "      <th>48</th>\n",
       "      <td>2012</td>\n",
       "      <td>Summer</td>\n",
       "      <td>12920</td>\n",
       "    </tr>\n",
       "    <tr>\n",
       "      <th>49</th>\n",
       "      <td>2014</td>\n",
       "      <td>Winter</td>\n",
       "      <td>4891</td>\n",
       "    </tr>\n",
       "    <tr>\n",
       "      <th>50</th>\n",
       "      <td>2016</td>\n",
       "      <td>Summer</td>\n",
       "      <td>13688</td>\n",
       "    </tr>\n",
       "  </tbody>\n",
       "</table>\n",
       "</div>"
      ],
      "text/plain": [
       "    Year  Season  Athlets\n",
       "0   1896  Summer      380\n",
       "1   1900  Summer     1936\n",
       "2   1904  Summer     1301\n",
       "3   1906  Summer     1733\n",
       "4   1908  Summer     3101\n",
       "5   1912  Summer     4040\n",
       "6   1920  Summer     4292\n",
       "7   1924  Summer     5233\n",
       "8   1924  Winter      460\n",
       "9   1928  Summer     4992\n",
       "10  1928  Winter      582\n",
       "11  1932  Summer     2969\n",
       "12  1932  Winter      352\n",
       "13  1936  Summer     6506\n",
       "14  1936  Winter      895\n",
       "15  1948  Summer     6405\n",
       "16  1948  Winter     1075\n",
       "17  1952  Summer     8270\n",
       "18  1952  Winter     1088\n",
       "19  1956  Summer     5127\n",
       "20  1956  Winter     1307\n",
       "21  1960  Summer     8119\n",
       "22  1960  Winter     1116\n",
       "23  1964  Summer     7702\n",
       "24  1964  Winter     1778\n",
       "25  1968  Summer     8588\n",
       "26  1968  Winter     1891\n",
       "27  1972  Summer    10304\n",
       "28  1972  Winter     1655\n",
       "29  1976  Summer     8641\n",
       "30  1976  Winter     1861\n",
       "31  1980  Summer     7191\n",
       "32  1980  Winter     1746\n",
       "33  1984  Summer     9454\n",
       "34  1984  Winter     2134\n",
       "35  1988  Summer    12037\n",
       "36  1988  Winter     2639\n",
       "37  1992  Summer    12977\n",
       "38  1992  Winter     3436\n",
       "39  1994  Winter     3160\n",
       "40  1996  Summer    13780\n",
       "41  1998  Winter     3605\n",
       "42  2000  Summer    13821\n",
       "43  2002  Winter     4109\n",
       "44  2004  Summer    13443\n",
       "45  2006  Winter     4382\n",
       "46  2008  Summer    13602\n",
       "47  2010  Winter     4402\n",
       "48  2012  Summer    12920\n",
       "49  2014  Winter     4891\n",
       "50  2016  Summer    13688"
      ]
     },
     "execution_count": 17,
     "metadata": {},
     "output_type": "execute_result"
    }
   ],
   "source": [
    "participants=df.groupby(['Year','Season'])['Name'].count().reset_index()\n",
    "participants.rename(columns={'Name':'Athlets'},inplace=True)\n",
    "participants"
   ]
  },
  {
   "cell_type": "code",
   "execution_count": 18,
   "id": "73e68aa6",
   "metadata": {
    "execution": {
     "iopub.execute_input": "2022-07-26T22:53:50.186429Z",
     "iopub.status.busy": "2022-07-26T22:53:50.185933Z",
     "iopub.status.idle": "2022-07-26T22:53:50.451196Z",
     "shell.execute_reply": "2022-07-26T22:53:50.450036Z"
    },
    "papermill": {
     "duration": 0.283779,
     "end_time": "2022-07-26T22:53:50.453460",
     "exception": false,
     "start_time": "2022-07-26T22:53:50.169681",
     "status": "completed"
    },
    "tags": []
   },
   "outputs": [
    {
     "data": {
      "image/png": "[encoded data removed]",
      "text/plain": [
       "<Figure size 432x288 with 1 Axes>"
      ]
     },
     "metadata": {
      "needs_background": "light"
     },
     "output_type": "display_data"
    }
   ],
   "source": [
    "#3.\n",
    "sns.scatterplot(x='Year',y='Athlets',hue='Season',data=participants)\n",
    "plt.title('Year and Athlets Scatter Plot')\n",
    "plt.show()"
   ]
  },
  {
   "cell_type": "code",
   "execution_count": 19,
   "id": "4ec1283f",
   "metadata": {
    "execution": {
     "iopub.execute_input": "2022-07-26T22:53:50.485782Z",
     "iopub.status.busy": "2022-07-26T22:53:50.485218Z",
     "iopub.status.idle": "2022-07-26T22:53:51.365572Z",
     "shell.execute_reply": "2022-07-26T22:53:51.364784Z"
    },
    "papermill": {
     "duration": 0.898954,
     "end_time": "2022-07-26T22:53:51.367661",
     "exception": false,
     "start_time": "2022-07-26T22:53:50.468707",
     "status": "completed"
    },
    "tags": []
   },
   "outputs": [
    {
     "data": {
      "application/vnd.plotly.v1+json": {
       "config": {
        "linkText": "Export to plot.ly",
        "plotlyServerURL": "https://plot.ly",
        "showLink": false
       },
       "data": [
        {
         "marker": {
          "color": "rgba(16, 112, 2, 0.8)"
         },
         "mode": "lines+markers",
         "name": "Summer Athlets",
         "type": "scatter",
         "x": [
          1896.0,
          1900.0,
          1904.0,
          1906.0,
          1908.0,
          1912.0,
          1920.0,
          1924.0,
          null,
          1928.0,
          null,
          1932.0,
          null,
          1936.0,
          null,
          1948.0,
          null,
          1952.0,
          null,
          1956.0,
          null,
          1960.0,
          null,
          1964.0,
          null,
          1968.0,
          null,
          1972.0,
          null,
          1976.0,
          null,
          1980.0,
          null,
          1984.0,
          null,
          1988.0,
          null,
          1992.0,
          null,
          null,
          1996.0,
          null,
          2000.0,
          null,
          2004.0,
          null,
          2008.0,
          null,
          2012.0,
          null,
          2016.0
         ],
         "y": [
          380,
          1936,
          1301,
          1733,
          3101,
          4040,
          4292,
          5233,
          460,
          4992,
          582,
          2969,
          352,
          6506,
          895,
          6405,
          1075,
          8270,
          1088,
          5127,
          1307,
          8119,
          1116,
          7702,
          1778,
          8588,
          1891,
          10304,
          1655,
          8641,
          1861,
          7191,
          1746,
          9454,
          2134,
          12037,
          2639,
          12977,
          3436,
          3160,
          13780,
          3605,
          13821,
          4109,
          13443,
          4382,
          13602,
          4402,
          12920,
          4891,
          13688
         ]
        },
        {
         "marker": {
          "color": "rgba(80, 26, 80, 0.8)"
         },
         "mode": "lines+markers",
         "name": "Winter Athlets",
         "type": "scatter",
         "x": [
          null,
          null,
          null,
          null,
          null,
          null,
          null,
          null,
          1924.0,
          null,
          1928.0,
          null,
          1932.0,
          null,
          1936.0,
          null,
          1948.0,
          null,
          1952.0,
          null,
          1956.0,
          null,
          1960.0,
          null,
          1964.0,
          null,
          1968.0,
          null,
          1972.0,
          null,
          1976.0,
          null,
          1980.0,
          null,
          1984.0,
          null,
          1988.0,
          null,
          1992.0,
          1994.0,
          null,
          1998.0,
          null,
          2002.0,
          null,
          2006.0,
          null,
          2010.0,
          null,
          2014.0,
          null
         ],
         "y": [
          380,
          1936,
          1301,
          1733,
          3101,
          4040,
          4292,
          5233,
          460,
          4992,
          582,
          2969,
          352,
          6506,
          895,
          6405,
          1075,
          8270,
          1088,
          5127,
          1307,
          8119,
          1116,
          7702,
          1778,
          8588,
          1891,
          10304,
          1655,
          8641,
          1861,
          7191,
          1746,
          9454,
          2134,
          12037,
          2639,
          12977,
          3436,
          3160,
          13780,
          3605,
          13821,
          4109,
          13443,
          4382,
          13602,
          4402,
          12920,
          4891,
          13688
         ]
        }
       ],
       "layout": {
        "template": {
         "data": {
          "bar": [
           {
            "error_x": {
             "color": "#2a3f5f"
            },
            "error_y": {
             "color": "#2a3f5f"
            },
            "marker": {
             "line": {
              "color": "#E5ECF6",
              "width": 0.5
             },
             "pattern": {
              "fillmode": "overlay",
              "size": 10,
              "solidity": 0.2
             }
            },
            "type": "bar"
           }
          ],
          "barpolar": [
           {
            "marker": {
             "line": {
              "color": "#E5ECF6",
              "width": 0.5
             },
             "pattern": {
              "fillmode": "overlay",
              "size": 10,
              "solidity": 0.2
             }
            },
            "type": "barpolar"
           }
          ],
          "carpet": [
           {
            "aaxis": {
             "endlinecolor": "#2a3f5f",
             "gridcolor": "white",
             "linecolor": "white",
             "minorgridcolor": "white",
             "startlinecolor": "#2a3f5f"
            },
            "baxis": {
             "endlinecolor": "#2a3f5f",
             "gridcolor": "white",
             "linecolor": "white",
             "minorgridcolor": "white",
             "startlinecolor": "#2a3f5f"
            },
            "type": "carpet"
           }
          ],
          "choropleth": [
           {
            "colorbar": {
             "outlinewidth": 0,
             "ticks": ""
            },
            "type": "choropleth"
           }
          ],
          "contour": [
           {
            "colorbar": {
             "outlinewidth": 0,
             "ticks": ""
            },
            "colorscale": [
             [
              0.0,
              "#0d0887"
             ],
             [
              0.1111111111111111,
              "#46039f"
             ],
             [
              0.2222222222222222,
              "#7201a8"
             ],
             [
              0.3333333333333333,
              "#9c179e"
             ],
             [
              0.4444444444444444,
              "#bd3786"
             ],
             [
              0.5555555555555556,
              "#d8576b"
             ],
             [
              0.6666666666666666,
              "#ed7953"
             ],
             [
              0.7777777777777778,
              "#fb9f3a"
             ],
             [
              0.8888888888888888,
              "#fdca26"
             ],
             [
              1.0,
              "#f0f921"
             ]
            ],
            "type": "contour"
           }
          ],
          "contourcarpet": [
           {
            "colorbar": {
             "outlinewidth": 0,
             "ticks": ""
            },
            "type": "contourcarpet"
           }
          ],
          "heatmap": [
           {
            "colorbar": {
             "outlinewidth": 0,
             "ticks": ""
            },
            "colorscale": [
             [
              0.0,
              "#0d0887"
             ],
             [
              0.1111111111111111,
              "#46039f"
             ],
             [
              0.2222222222222222,
              "#7201a8"
             ],
             [
              0.3333333333333333,
              "#9c179e"
             ],
             [
              0.4444444444444444,
              "#bd3786"
             ],
             [
              0.5555555555555556,
              "#d8576b"
             ],
             [
              0.6666666666666666,
              "#ed7953"
             ],
             [
              0.7777777777777778,
              "#fb9f3a"
             ],
             [
              0.8888888888888888,
              "#fdca26"
             ],
             [
              1.0,
              "#f0f921"
             ]
            ],
            "type": "heatmap"
           }
          ],
          "heatmapgl": [
           {
            "colorbar": {
             "outlinewidth": 0,
             "ticks": ""
            },
            "colorscale": [
             [
              0.0,
              "#0d0887"
             ],
             [
              0.1111111111111111,
              "#46039f"
             ],
             [
              0.2222222222222222,
              "#7201a8"
             ],
             [
              0.3333333333333333,
              "#9c179e"
             ],
             [
              0.4444444444444444,
              "#bd3786"
             ],
             [
              0.5555555555555556,
              "#d8576b"
             ],
             [
              0.6666666666666666,
              "#ed7953"
             ],
             [
              0.7777777777777778,
              "#fb9f3a"
             ],
             [
              0.8888888888888888,
              "#fdca26"
             ],
             [
              1.0,
              "#f0f921"
             ]
            ],
            "type": "heatmapgl"
           }
          ],
          "histogram": [
           {
            "marker": {
             "pattern": {
              "fillmode": "overlay",
              "size": 10,
              "solidity": 0.2
             }
            },
            "type": "histogram"
           }
          ],
          "histogram2d": [
           {
            "colorbar": {
             "outlinewidth": 0,
             "ticks": ""
            },
            "colorscale": [
             [
              0.0,
              "#0d0887"
             ],
             [
              0.1111111111111111,
              "#46039f"
             ],
             [
              0.2222222222222222,
              "#7201a8"
             ],
             [
              0.3333333333333333,
              "#9c179e"
             ],
             [
              0.4444444444444444,
              "#bd3786"
             ],
             [
              0.5555555555555556,
              "#d8576b"
             ],
             [
              0.6666666666666666,
              "#ed7953"
             ],
             [
              0.7777777777777778,
              "#fb9f3a"
             ],
             [
              0.8888888888888888,
              "#fdca26"
             ],
             [
              1.0,
              "#f0f921"
             ]
            ],
            "type": "histogram2d"
           }
          ],
          "histogram2dcontour": [
           {
            "colorbar": {
             "outlinewidth": 0,
             "ticks": ""
            },
            "colorscale": [
             [
              0.0,
              "#0d0887"
             ],
             [
              0.1111111111111111,
              "#46039f"
             ],
             [
              0.2222222222222222,
              "#7201a8"
             ],
             [
              0.3333333333333333,
              "#9c179e"
             ],
             [
              0.4444444444444444,
              "#bd3786"
             ],
             [
              0.5555555555555556,
              "#d8576b"
             ],
             [
              0.6666666666666666,
              "#ed7953"
             ],
             [
              0.7777777777777778,
              "#fb9f3a"
             ],
             [
              0.8888888888888888,
              "#fdca26"
             ],
             [
              1.0,
              "#f0f921"
             ]
            ],
            "type": "histogram2dcontour"
           }
          ],
          "mesh3d": [
           {
            "colorbar": {
             "outlinewidth": 0,
             "ticks": ""
            },
            "type": "mesh3d"
           }
          ],
          "parcoords": [
           {
            "line": {
             "colorbar": {
              "outlinewidth": 0,
              "ticks": ""
             }
            },
            "type": "parcoords"
           }
          ],
          "pie": [
           {
            "automargin": true,
            "type": "pie"
           }
          ],
          "scatter": [
           {
            "fillpattern": {
             "fillmode": "overlay",
             "size": 10,
             "solidity": 0.2
            },
            "type": "scatter"
           }
          ],
          "scatter3d": [
           {
            "line": {
             "colorbar": {
              "outlinewidth": 0,
              "ticks": ""
             }
            },
            "marker": {
             "colorbar": {
              "outlinewidth": 0,
              "ticks": ""
             }
            },
            "type": "scatter3d"
           }
          ],
          "scattercarpet": [
           {
            "marker": {
             "colorbar": {
              "outlinewidth": 0,
              "ticks": ""
             }
            },
            "type": "scattercarpet"
           }
          ],
          "scattergeo": [
           {
            "marker": {
             "colorbar": {
              "outlinewidth": 0,
              "ticks": ""
             }
            },
            "type": "scattergeo"
           }
          ],
          "scattergl": [
           {
            "marker": {
             "colorbar": {
              "outlinewidth": 0,
              "ticks": ""
             }
            },
            "type": "scattergl"
           }
          ],
          "scattermapbox": [
           {
            "marker": {
             "colorbar": {
              "outlinewidth": 0,
              "ticks": ""
             }
            },
            "type": "scattermapbox"
           }
          ],
          "scatterpolar": [
           {
            "marker": {
             "colorbar": {
              "outlinewidth": 0,
              "ticks": ""
             }
            },
            "type": "scatterpolar"
           }
          ],
          "scatterpolargl": [
           {
            "marker": {
             "colorbar": {
              "outlinewidth": 0,
              "ticks": ""
             }
            },
            "type": "scatterpolargl"
           }
          ],
          "scatterternary": [
           {
            "marker": {
             "colorbar": {
              "outlinewidth": 0,
              "ticks": ""
             }
            },
            "type": "scatterternary"
           }
          ],
          "surface": [
           {
            "colorbar": {
             "outlinewidth": 0,
             "ticks": ""
            },
            "colorscale": [
             [
              0.0,
              "#0d0887"
             ],
             [
              0.1111111111111111,
              "#46039f"
             ],
             [
              0.2222222222222222,
              "#7201a8"
             ],
             [
              0.3333333333333333,
              "#9c179e"
             ],
             [
              0.4444444444444444,
              "#bd3786"
             ],
             [
              0.5555555555555556,
              "#d8576b"
             ],
             [
              0.6666666666666666,
              "#ed7953"
             ],
             [
              0.7777777777777778,
              "#fb9f3a"
             ],
             [
              0.8888888888888888,
              "#fdca26"
             ],
             [
              1.0,
              "#f0f921"
             ]
            ],
            "type": "surface"
           }
          ],
          "table": [
           {
            "cells": {
             "fill": {
              "color": "#EBF0F8"
             },
             "line": {
              "color": "white"
             }
            },
            "header": {
             "fill": {
              "color": "#C8D4E3"
             },
             "line": {
              "color": "white"
             }
            },
            "type": "table"
           }
          ]
         },
         "layout": {
          "annotationdefaults": {
           "arrowcolor": "#2a3f5f",
           "arrowhead": 0,
           "arrowwidth": 1
          },
          "autotypenumbers": "strict",
          "coloraxis": {
           "colorbar": {
            "outlinewidth": 0,
            "ticks": ""
           }
          },
          "colorscale": {
           "diverging": [
            [
             0,
             "#8e0152"
            ],
            [
             0.1,
             "#c51b7d"
            ],
            [
             0.2,
             "#de77ae"
            ],
            [
             0.3,
             "#f1b6da"
            ],
            [
             0.4,
             "#fde0ef"
            ],
            [
             0.5,
             "#f7f7f7"
            ],
            [
             0.6,
             "#e6f5d0"
            ],
            [
             0.7,
             "#b8e186"
            ],
            [
             0.8,
             "#7fbc41"
            ],
            [
             0.9,
             "#4d9221"
            ],
            [
             1,
             "#276419"
            ]
           ],
           "sequential": [
            [
             0.0,
             "#0d0887"
            ],
            [
             0.1111111111111111,
             "#46039f"
            ],
            [
             0.2222222222222222,
             "#7201a8"
            ],
            [
             0.3333333333333333,
             "#9c179e"
            ],
            [
             0.4444444444444444,
             "#bd3786"
            ],
            [
             0.5555555555555556,
             "#d8576b"
            ],
            [
             0.6666666666666666,
             "#ed7953"
            ],
            [
             0.7777777777777778,
             "#fb9f3a"
            ],
            [
             0.8888888888888888,
             "#fdca26"
            ],
            [
             1.0,
             "#f0f921"
            ]
           ],
           "sequentialminus": [
            [
             0.0,
             "#0d0887"
            ],
            [
             0.1111111111111111,
             "#46039f"
            ],
            [
             0.2222222222222222,
             "#7201a8"
            ],
            [
             0.3333333333333333,
             "#9c179e"
            ],
            [
             0.4444444444444444,
             "#bd3786"
            ],
            [
             0.5555555555555556,
             "#d8576b"
            ],
            [
             0.6666666666666666,
             "#ed7953"
            ],
            [
             0.7777777777777778,
             "#fb9f3a"
            ],
            [
             0.8888888888888888,
             "#fdca26"
            ],
            [
             1.0,
             "#f0f921"
            ]
           ]
          },
          "colorway": [
           "#636efa",
           "#EF553B",
           "#00cc96",
           "#ab63fa",
           "#FFA15A",
           "#19d3f3",
           "#FF6692",
           "#B6E880",
           "#FF97FF",
           "#FECB52"
          ],
          "font": {
           "color": "#2a3f5f"
          },
          "geo": {
           "bgcolor": "white",
           "lakecolor": "white",
           "landcolor": "#E5ECF6",
           "showlakes": true,
           "showland": true,
           "subunitcolor": "white"
          },
          "hoverlabel": {
           "align": "left"
          },
          "hovermode": "closest",
          "mapbox": {
           "style": "light"
          },
          "paper_bgcolor": "white",
          "plot_bgcolor": "#E5ECF6",
          "polar": {
           "angularaxis": {
            "gridcolor": "white",
            "linecolor": "white",
            "ticks": ""
           },
           "bgcolor": "#E5ECF6",
           "radialaxis": {
            "gridcolor": "white",
            "linecolor": "white",
            "ticks": ""
           }
          },
          "scene": {
           "xaxis": {
            "backgroundcolor": "#E5ECF6",
            "gridcolor": "white",
            "gridwidth": 2,
            "linecolor": "white",
            "showbackground": true,
            "ticks": "",
            "zerolinecolor": "white"
           },
           "yaxis": {
            "backgroundcolor": "#E5ECF6",
            "gridcolor": "white",
            "gridwidth": 2,
            "linecolor": "white",
            "showbackground": true,
            "ticks": "",
            "zerolinecolor": "white"
           },
           "zaxis": {
            "backgroundcolor": "#E5ECF6",
            "gridcolor": "white",
            "gridwidth": 2,
            "linecolor": "white",
            "showbackground": true,
            "ticks": "",
            "zerolinecolor": "white"
           }
          },
          "shapedefaults": {
           "line": {
            "color": "#2a3f5f"
           }
          },
          "ternary": {
           "aaxis": {
            "gridcolor": "white",
            "linecolor": "white",
            "ticks": ""
           },
           "baxis": {
            "gridcolor": "white",
            "linecolor": "white",
            "ticks": ""
           },
           "bgcolor": "#E5ECF6",
           "caxis": {
            "gridcolor": "white",
            "linecolor": "white",
            "ticks": ""
           }
          },
          "title": {
           "x": 0.05
          },
          "xaxis": {
           "automargin": true,
           "gridcolor": "white",
           "linecolor": "white",
           "ticks": "",
           "title": {
            "standoff": 15
           },
           "zerolinecolor": "white",
           "zerolinewidth": 2
          },
          "yaxis": {
           "automargin": true,
           "gridcolor": "white",
           "linecolor": "white",
           "ticks": "",
           "title": {
            "standoff": 15
           },
           "zerolinecolor": "white",
           "zerolinewidth": 2
          }
         }
        },
        "title": {
         "text": "Year and Athlets Scatter Plot"
        },
        "xaxis": {
         "ticklen": 5,
         "title": {
          "text": "Year and Athlets Scatter Plot"
         },
         "zeroline": false
        }
       }
      },
      "text/html": [
       "<div>                            <div id=\"aa53f210-6e70-4a35-8b09-4e78e0e68b78\" class=\"plotly-graph-div\" style=\"height:525px; width:100%;\"></div>            <script type=\"text/javascript\">                require([\"plotly\"], function(Plotly) {                    window.PLOTLYENV=window.PLOTLYENV || {};                                    if (document.getElementById(\"aa53f210-6e70-4a35-8b09-4e78e0e68b78\")) {                    Plotly.newPlot(                        \"aa53f210-6e70-4a35-8b09-4e78e0e68b78\",                        [{\"marker\":{\"color\":\"rgba(16, 112, 2, 0.8)\"},\"mode\":\"lines+markers\",\"name\":\"Summer Athlets\",\"x\":[1896.0,1900.0,1904.0,1906.0,1908.0,1912.0,1920.0,1924.0,null,1928.0,null,1932.0,null,1936.0,null,1948.0,null,1952.0,null,1956.0,null,1960.0,null,1964.0,null,1968.0,null,1972.0,null,1976.0,null,1980.0,null,1984.0,null,1988.0,null,1992.0,null,null,1996.0,null,2000.0,null,2004.0,null,2008.0,null,2012.0,null,2016.0],\"y\":[380,1936,1301,1733,3101,4040,4292,5233,460,4992,582,2969,352,6506,895,6405,1075,8270,1088,5127,1307,8119,1116,7702,1778,8588,1891,10304,1655,8641,1861,7191,1746,9454,2134,12037,2639,12977,3436,3160,13780,3605,13821,4109,13443,4382,13602,4402,12920,4891,13688],\"type\":\"scatter\"},{\"marker\":{\"color\":\"rgba(80, 26, 80, 0.8)\"},\"mode\":\"lines+markers\",\"name\":\"Winter Athlets\",\"x\":[null,null,null,null,null,null,null,null,1924.0,null,1928.0,null,1932.0,null,1936.0,null,1948.0,null,1952.0,null,1956.0,null,1960.0,null,1964.0,null,1968.0,null,1972.0,null,1976.0,null,1980.0,null,1984.0,null,1988.0,null,1992.0,1994.0,null,1998.0,null,2002.0,null,2006.0,null,2010.0,null,2014.0,null],\"y\":[380,1936,1301,1733,3101,4040,4292,5233,460,4992,582,2969,352,6506,895,6405,1075,8270,1088,5127,1307,8119,1116,7702,1778,8588,1891,10304,1655,8641,1861,7191,1746,9454,2134,12037,2639,12977,3436,3160,13780,3605,13821,4109,13443,4382,13602,4402,12920,4891,13688],\"type\":\"scatter\"}],                        {\"template\":{\"data\":{\"barpolar\":[{\"marker\":{\"line\":{\"color\":\"#E5ECF6\",\"width\":0.5},\"pattern\":{\"fillmode\":\"overlay\",\"size\":10,\"solidity\":0.2}},\"type\":\"barpolar\"}],\"bar\":[{\"error_x\":{\"color\":\"#2a3f5f\"},\"error_y\":{\"color\":\"#2a3f5f\"},\"marker\":{\"line\":{\"color\":\"#E5ECF6\",\"width\":0.5},\"pattern\":{\"fillmode\":\"overlay\",\"size\":10,\"solidity\":0.2}},\"type\":\"bar\"}],\"carpet\":[{\"aaxis\":{\"endlinecolor\":\"#2a3f5f\",\"gridcolor\":\"white\",\"linecolor\":\"white\",\"minorgridcolor\":\"white\",\"startlinecolor\":\"#2a3f5f\"},\"baxis\":{\"endlinecolor\":\"#2a3f5f\",\"gridcolor\":\"white\",\"linecolor\":\"white\",\"minorgridcolor\":\"white\",\"startlinecolor\":\"#2a3f5f\"},\"type\":\"carpet\"}],\"choropleth\":[{\"colorbar\":{\"outlinewidth\":0,\"ticks\":\"\"},\"type\":\"choropleth\"}],\"contourcarpet\":[{\"colorbar\":{\"outlinewidth\":0,\"ticks\":\"\"},\"type\":\"contourcarpet\"}],\"contour\":[{\"colorbar\":{\"outlinewidth\":0,\"ticks\":\"\"},\"colorscale\":[[0.0,\"#0d0887\"],[0.1111111111111111,\"#46039f\"],[0.2222222222222222,\"#7201a8\"],[0.3333333333333333,\"#9c179e\"],[0.4444444444444444,\"#bd3786\"],[0.5555555555555556,\"#d8576b\"],[0.6666666666666666,\"#ed7953\"],[0.7777777777777778,\"#fb9f3a\"],[0.8888888888888888,\"#fdca26\"],[1.0,\"#f0f921\"]],\"type\":\"contour\"}],\"heatmapgl\":[{\"colorbar\":{\"outlinewidth\":0,\"ticks\":\"\"},\"colorscale\":[[0.0,\"#0d0887\"],[0.1111111111111111,\"#46039f\"],[0.2222222222222222,\"#7201a8\"],[0.3333333333333333,\"#9c179e\"],[0.4444444444444444,\"#bd3786\"],[0.5555555555555556,\"#d8576b\"],[0.6666666666666666,\"#ed7953\"],[0.7777777777777778,\"#fb9f3a\"],[0.8888888888888888,\"#fdca26\"],[1.0,\"#f0f921\"]],\"type\":\"heatmapgl\"}],\"heatmap\":[{\"colorbar\":{\"outlinewidth\":0,\"ticks\":\"\"},\"colorscale\":[[0.0,\"#0d0887\"],[0.1111111111111111,\"#46039f\"],[0.2222222222222222,\"#7201a8\"],[0.3333333333333333,\"#9c179e\"],[0.4444444444444444,\"#bd3786\"],[0.5555555555555556,\"#d8576b\"],[0.6666666666666666,\"#ed7953\"],[0.7777777777777778,\"#fb9f3a\"],[0.8888888888888888,\"#fdca26\"],[1.0,\"#f0f921\"]],\"type\":\"heatmap\"}],\"histogram2dcontour\":[{\"colorbar\":{\"outlinewidth\":0,\"ticks\":\"\"},\"colorscale\":[[0.0,\"#0d0887\"],[0.1111111111111111,\"#46039f\"],[0.2222222222222222,\"#7201a8\"],[0.3333333333333333,\"#9c179e\"],[0.4444444444444444,\"#bd3786\"],[0.5555555555555556,\"#d8576b\"],[0.6666666666666666,\"#ed7953\"],[0.7777777777777778,\"#fb9f3a\"],[0.8888888888888888,\"#fdca26\"],[1.0,\"#f0f921\"]],\"type\":\"histogram2dcontour\"}],\"histogram2d\":[{\"colorbar\":{\"outlinewidth\":0,\"ticks\":\"\"},\"colorscale\":[[0.0,\"#0d0887\"],[0.1111111111111111,\"#46039f\"],[0.2222222222222222,\"#7201a8\"],[0.3333333333333333,\"#9c179e\"],[0.4444444444444444,\"#bd3786\"],[0.5555555555555556,\"#d8576b\"],[0.6666666666666666,\"#ed7953\"],[0.7777777777777778,\"#fb9f3a\"],[0.8888888888888888,\"#fdca26\"],[1.0,\"#f0f921\"]],\"type\":\"histogram2d\"}],\"histogram\":[{\"marker\":{\"pattern\":{\"fillmode\":\"overlay\",\"size\":10,\"solidity\":0.2}},\"type\":\"histogram\"}],\"mesh3d\":[{\"colorbar\":{\"outlinewidth\":0,\"ticks\":\"\"},\"type\":\"mesh3d\"}],\"parcoords\":[{\"line\":{\"colorbar\":{\"outlinewidth\":0,\"ticks\":\"\"}},\"type\":\"parcoords\"}],\"pie\":[{\"automargin\":true,\"type\":\"pie\"}],\"scatter3d\":[{\"line\":{\"colorbar\":{\"outlinewidth\":0,\"ticks\":\"\"}},\"marker\":{\"colorbar\":{\"outlinewidth\":0,\"ticks\":\"\"}},\"type\":\"scatter3d\"}],\"scattercarpet\":[{\"marker\":{\"colorbar\":{\"outlinewidth\":0,\"ticks\":\"\"}},\"type\":\"scattercarpet\"}],\"scattergeo\":[{\"marker\":{\"colorbar\":{\"outlinewidth\":0,\"ticks\":\"\"}},\"type\":\"scattergeo\"}],\"scattergl\":[{\"marker\":{\"colorbar\":{\"outlinewidth\":0,\"ticks\":\"\"}},\"type\":\"scattergl\"}],\"scattermapbox\":[{\"marker\":{\"colorbar\":{\"outlinewidth\":0,\"ticks\":\"\"}},\"type\":\"scattermapbox\"}],\"scatterpolargl\":[{\"marker\":{\"colorbar\":{\"outlinewidth\":0,\"ticks\":\"\"}},\"type\":\"scatterpolargl\"}],\"scatterpolar\":[{\"marker\":{\"colorbar\":{\"outlinewidth\":0,\"ticks\":\"\"}},\"type\":\"scatterpolar\"}],\"scatter\":[{\"fillpattern\":{\"fillmode\":\"overlay\",\"size\":10,\"solidity\":0.2},\"type\":\"scatter\"}],\"scatterternary\":[{\"marker\":{\"colorbar\":{\"outlinewidth\":0,\"ticks\":\"\"}},\"type\":\"scatterternary\"}],\"surface\":[{\"colorbar\":{\"outlinewidth\":0,\"ticks\":\"\"},\"colorscale\":[[0.0,\"#0d0887\"],[0.1111111111111111,\"#46039f\"],[0.2222222222222222,\"#7201a8\"],[0.3333333333333333,\"#9c179e\"],[0.4444444444444444,\"#bd3786\"],[0.5555555555555556,\"#d8576b\"],[0.6666666666666666,\"#ed7953\"],[0.7777777777777778,\"#fb9f3a\"],[0.8888888888888888,\"#fdca26\"],[1.0,\"#f0f921\"]],\"type\":\"surface\"}],\"table\":[{\"cells\":{\"fill\":{\"color\":\"#EBF0F8\"},\"line\":{\"color\":\"white\"}},\"header\":{\"fill\":{\"color\":\"#C8D4E3\"},\"line\":{\"color\":\"white\"}},\"type\":\"table\"}]},\"layout\":{\"annotationdefaults\":{\"arrowcolor\":\"#2a3f5f\",\"arrowhead\":0,\"arrowwidth\":1},\"autotypenumbers\":\"strict\",\"coloraxis\":{\"colorbar\":{\"outlinewidth\":0,\"ticks\":\"\"}},\"colorscale\":{\"diverging\":[[0,\"#8e0152\"],[0.1,\"#c51b7d\"],[0.2,\"#de77ae\"],[0.3,\"#f1b6da\"],[0.4,\"#fde0ef\"],[0.5,\"#f7f7f7\"],[0.6,\"#e6f5d0\"],[0.7,\"#b8e186\"],[0.8,\"#7fbc41\"],[0.9,\"#4d9221\"],[1,\"#276419\"]],\"sequential\":[[0.0,\"#0d0887\"],[0.1111111111111111,\"#46039f\"],[0.2222222222222222,\"#7201a8\"],[0.3333333333333333,\"#9c179e\"],[0.4444444444444444,\"#bd3786\"],[0.5555555555555556,\"#d8576b\"],[0.6666666666666666,\"#ed7953\"],[0.7777777777777778,\"#fb9f3a\"],[0.8888888888888888,\"#fdca26\"],[1.0,\"#f0f921\"]],\"sequentialminus\":[[0.0,\"#0d0887\"],[0.1111111111111111,\"#46039f\"],[0.2222222222222222,\"#7201a8\"],[0.3333333333333333,\"#9c179e\"],[0.4444444444444444,\"#bd3786\"],[0.5555555555555556,\"#d8576b\"],[0.6666666666666666,\"#ed7953\"],[0.7777777777777778,\"#fb9f3a\"],[0.8888888888888888,\"#fdca26\"],[1.0,\"#f0f921\"]]},\"colorway\":[\"#636efa\",\"#EF553B\",\"#00cc96\",\"#ab63fa\",\"#FFA15A\",\"#19d3f3\",\"#FF6692\",\"#B6E880\",\"#FF97FF\",\"#FECB52\"],\"font\":{\"color\":\"#2a3f5f\"},\"geo\":{\"bgcolor\":\"white\",\"lakecolor\":\"white\",\"landcolor\":\"#E5ECF6\",\"showlakes\":true,\"showland\":true,\"subunitcolor\":\"white\"},\"hoverlabel\":{\"align\":\"left\"},\"hovermode\":\"closest\",\"mapbox\":{\"style\":\"light\"},\"paper_bgcolor\":\"white\",\"plot_bgcolor\":\"#E5ECF6\",\"polar\":{\"angularaxis\":{\"gridcolor\":\"white\",\"linecolor\":\"white\",\"ticks\":\"\"},\"bgcolor\":\"#E5ECF6\",\"radialaxis\":{\"gridcolor\":\"white\",\"linecolor\":\"white\",\"ticks\":\"\"}},\"scene\":{\"xaxis\":{\"backgroundcolor\":\"#E5ECF6\",\"gridcolor\":\"white\",\"gridwidth\":2,\"linecolor\":\"white\",\"showbackground\":true,\"ticks\":\"\",\"zerolinecolor\":\"white\"},\"yaxis\":{\"backgroundcolor\":\"#E5ECF6\",\"gridcolor\":\"white\",\"gridwidth\":2,\"linecolor\":\"white\",\"showbackground\":true,\"ticks\":\"\",\"zerolinecolor\":\"white\"},\"zaxis\":{\"backgroundcolor\":\"#E5ECF6\",\"gridcolor\":\"white\",\"gridwidth\":2,\"linecolor\":\"white\",\"showbackground\":true,\"ticks\":\"\",\"zerolinecolor\":\"white\"}},\"shapedefaults\":{\"line\":{\"color\":\"#2a3f5f\"}},\"ternary\":{\"aaxis\":{\"gridcolor\":\"white\",\"linecolor\":\"white\",\"ticks\":\"\"},\"baxis\":{\"gridcolor\":\"white\",\"linecolor\":\"white\",\"ticks\":\"\"},\"bgcolor\":\"#E5ECF6\",\"caxis\":{\"gridcolor\":\"white\",\"linecolor\":\"white\",\"ticks\":\"\"}},\"title\":{\"x\":0.05},\"xaxis\":{\"automargin\":true,\"gridcolor\":\"white\",\"linecolor\":\"white\",\"ticks\":\"\",\"title\":{\"standoff\":15},\"zerolinecolor\":\"white\",\"zerolinewidth\":2},\"yaxis\":{\"automargin\":true,\"gridcolor\":\"white\",\"linecolor\":\"white\",\"ticks\":\"\",\"title\":{\"standoff\":15},\"zerolinecolor\":\"white\",\"zerolinewidth\":2}}},\"title\":{\"text\":\"Year and Athlets Scatter Plot\"},\"xaxis\":{\"ticklen\":5,\"title\":{\"text\":\"Year and Athlets Scatter Plot\"},\"zeroline\":false}},                        {\"responsive\": true}                    ).then(function(){\n",
       "                            \n",
       "var gd = document.getElementById('aa53f210-6e70-4a35-8b09-4e78e0e68b78');\n",
       "var x = new MutationObserver(function (mutations, observer) {{\n",
       "        var display = window.getComputedStyle(gd).display;\n",
       "        if (!display || display === 'none') {{\n",
       "            console.log([gd, 'removed!']);\n",
       "            Plotly.purge(gd);\n",
       "            observer.disconnect();\n",
       "        }}\n",
       "}});\n",
       "\n",
       "// Listen for the removal of the full notebook cells\n",
       "var notebookContainer = gd.closest('#notebook-container');\n",
       "if (notebookContainer) {{\n",
       "    x.observe(notebookContainer, {childList: true});\n",
       "}}\n",
       "\n",
       "// Listen for the clearing of the current output cell\n",
       "var outputEl = gd.closest('.output');\n",
       "if (outputEl) {{\n",
       "    x.observe(outputEl, {childList: true});\n",
       "}}\n",
       "\n",
       "                        })                };                });            </script>        </div>"
      ]
     },
     "metadata": {},
     "output_type": "display_data"
    }
   ],
   "source": [
    "import plotly.graph_objs as go\n",
    "# Creating trace1\n",
    "trace1 = go.Scatter(\n",
    "                    x = participants.Year.where(participants[\"Season\"]=='Summer'),\n",
    "                    y = participants.Athlets,\n",
    "                    mode = \"lines+markers\",\n",
    "                    name = \"Summer Athlets\",\n",
    "                    marker = dict(color = 'rgba(16, 112, 2, 0.8)'),\n",
    "                    #text= df.participants)\n",
    "                                          )\n",
    "# Creating trace2\n",
    "trace2 = go.Scatter(\n",
    "                    x = participants.Year.where(participants[\"Season\"]=='Winter'),\n",
    "                    y = participants.Athlets,\n",
    "                    mode = \"lines+markers\",\n",
    "                    name = \"Winter Athlets\",\n",
    "                    marker = dict(color = 'rgba(80, 26, 80, 0.8)'),\n",
    "                    #text= participants)\n",
    "                                       )\n",
    "data = [trace1, trace2]\n",
    "layout = dict(title = 'Year and Athlets Scatter Plot',\n",
    "              xaxis= dict(title= 'Year and Athlets Scatter Plot',ticklen= 5,zeroline= False)\n",
    "             )\n",
    "fig = dict(data = data, layout = layout)\n",
    "iplot(fig)"
   ]
  },
  {
   "cell_type": "code",
   "execution_count": 20,
   "id": "45debaba",
   "metadata": {
    "execution": {
     "iopub.execute_input": "2022-07-26T22:53:51.412634Z",
     "iopub.status.busy": "2022-07-26T22:53:51.411937Z",
     "iopub.status.idle": "2022-07-26T22:53:51.462208Z",
     "shell.execute_reply": "2022-07-26T22:53:51.461166Z"
    },
    "papermill": {
     "duration": 0.075362,
     "end_time": "2022-07-26T22:53:51.464720",
     "exception": false,
     "start_time": "2022-07-26T22:53:51.389358",
     "status": "completed"
    },
    "tags": []
   },
   "outputs": [
    {
     "data": {
      "application/vnd.plotly.v1+json": {
       "config": {
        "linkText": "Export to plot.ly",
        "plotlyServerURL": "https://plot.ly",
        "showLink": false
       },
       "data": [
        {
         "marker": {
          "color": "rgba(16, 112, 2, 0.8)"
         },
         "mode": "lines+markers",
         "name": "Summer Athlets",
         "type": "scatter",
         "x": [
          1896.0,
          1900.0,
          1904.0,
          1906.0,
          1908.0,
          1912.0,
          1920.0,
          1924.0,
          null,
          1928.0,
          null,
          1932.0,
          null,
          1936.0,
          null,
          1948.0,
          null,
          1952.0,
          null,
          1956.0,
          null,
          1960.0,
          null,
          1964.0,
          null,
          1968.0,
          null,
          1972.0,
          null,
          1976.0,
          null,
          1980.0,
          null,
          1984.0,
          null,
          1988.0,
          null,
          1992.0,
          null,
          null,
          1996.0,
          null,
          2000.0,
          null,
          2004.0,
          null,
          2008.0,
          null,
          2012.0,
          null,
          2016.0
         ],
         "y": [
          380,
          1936,
          1301,
          1733,
          3101,
          4040,
          4292,
          5233,
          460,
          4992,
          582,
          2969,
          352,
          6506,
          895,
          6405,
          1075,
          8270,
          1088,
          5127,
          1307,
          8119,
          1116,
          7702,
          1778,
          8588,
          1891,
          10304,
          1655,
          8641,
          1861,
          7191,
          1746,
          9454,
          2134,
          12037,
          2639,
          12977,
          3436,
          3160,
          13780,
          3605,
          13821,
          4109,
          13443,
          4382,
          13602,
          4402,
          12920,
          4891,
          13688
         ]
        },
        {
         "marker": {
          "color": "rgba(80, 26, 80, 0.8)"
         },
         "mode": "lines+markers",
         "name": "Winter Athlets",
         "type": "scatter",
         "x": [
          null,
          null,
          null,
          null,
          null,
          null,
          null,
          null,
          1924.0,
          null,
          1928.0,
          null,
          1932.0,
          null,
          1936.0,
          null,
          1948.0,
          null,
          1952.0,
          null,
          1956.0,
          null,
          1960.0,
          null,
          1964.0,
          null,
          1968.0,
          null,
          1972.0,
          null,
          1976.0,
          null,
          1980.0,
          null,
          1984.0,
          null,
          1988.0,
          null,
          1992.0,
          1994.0,
          null,
          1998.0,
          null,
          2002.0,
          null,
          2006.0,
          null,
          2010.0,
          null,
          2014.0,
          null
         ],
         "xaxis": "x2",
         "y": [
          380,
          1936,
          1301,
          1733,
          3101,
          4040,
          4292,
          5233,
          460,
          4992,
          582,
          2969,
          352,
          6506,
          895,
          6405,
          1075,
          8270,
          1088,
          5127,
          1307,
          8119,
          1116,
          7702,
          1778,
          8588,
          1891,
          10304,
          1655,
          8641,
          1861,
          7191,
          1746,
          9454,
          2134,
          12037,
          2639,
          12977,
          3436,
          3160,
          13780,
          3605,
          13821,
          4109,
          13443,
          4382,
          13602,
          4402,
          12920,
          4891,
          13688
         ],
         "yaxis": "y2"
        }
       ],
       "layout": {
        "template": {
         "data": {
          "bar": [
           {
            "error_x": {
             "color": "#2a3f5f"
            },
            "error_y": {
             "color": "#2a3f5f"
            },
            "marker": {
             "line": {
              "color": "#E5ECF6",
              "width": 0.5
             },
             "pattern": {
              "fillmode": "overlay",
              "size": 10,
              "solidity": 0.2
             }
            },
            "type": "bar"
           }
          ],
          "barpolar": [
           {
            "marker": {
             "line": {
              "color": "#E5ECF6",
              "width": 0.5
             },
             "pattern": {
              "fillmode": "overlay",
              "size": 10,
              "solidity": 0.2
             }
            },
            "type": "barpolar"
           }
          ],
          "carpet": [
           {
            "aaxis": {
             "endlinecolor": "#2a3f5f",
             "gridcolor": "white",
             "linecolor": "white",
             "minorgridcolor": "white",
             "startlinecolor": "#2a3f5f"
            },
            "baxis": {
             "endlinecolor": "#2a3f5f",
             "gridcolor": "white",
             "linecolor": "white",
             "minorgridcolor": "white",
             "startlinecolor": "#2a3f5f"
            },
            "type": "carpet"
           }
          ],
          "choropleth": [
           {
            "colorbar": {
             "outlinewidth": 0,
             "ticks": ""
            },
            "type": "choropleth"
           }
          ],
          "contour": [
           {
            "colorbar": {
             "outlinewidth": 0,
             "ticks": ""
            },
            "colorscale": [
             [
              0.0,
              "#0d0887"
             ],
             [
              0.1111111111111111,
              "#46039f"
             ],
             [
              0.2222222222222222,
              "#7201a8"
             ],
             [
              0.3333333333333333,
              "#9c179e"
             ],
             [
              0.4444444444444444,
              "#bd3786"
             ],
             [
              0.5555555555555556,
              "#d8576b"
             ],
             [
              0.6666666666666666,
              "#ed7953"
             ],
             [
              0.7777777777777778,
              "#fb9f3a"
             ],
             [
              0.8888888888888888,
              "#fdca26"
             ],
             [
              1.0,
              "#f0f921"
             ]
            ],
            "type": "contour"
           }
          ],
          "contourcarpet": [
           {
            "colorbar": {
             "outlinewidth": 0,
             "ticks": ""
            },
            "type": "contourcarpet"
           }
          ],
          "heatmap": [
           {
            "colorbar": {
             "outlinewidth": 0,
             "ticks": ""
            },
            "colorscale": [
             [
              0.0,
              "#0d0887"
             ],
             [
              0.1111111111111111,
              "#46039f"
             ],
             [
              0.2222222222222222,
              "#7201a8"
             ],
             [
              0.3333333333333333,
              "#9c179e"
             ],
             [
              0.4444444444444444,
              "#bd3786"
             ],
             [
              0.5555555555555556,
              "#d8576b"
             ],
             [
              0.6666666666666666,
              "#ed7953"
             ],
             [
              0.7777777777777778,
              "#fb9f3a"
             ],
             [
              0.8888888888888888,
              "#fdca26"
             ],
             [
              1.0,
              "#f0f921"
             ]
            ],
            "type": "heatmap"
           }
          ],
          "heatmapgl": [
           {
            "colorbar": {
             "outlinewidth": 0,
             "ticks": ""
            },
            "colorscale": [
             [
              0.0,
              "#0d0887"
             ],
             [
              0.1111111111111111,
              "#46039f"
             ],
             [
              0.2222222222222222,
              "#7201a8"
             ],
             [
              0.3333333333333333,
              "#9c179e"
             ],
             [
              0.4444444444444444,
              "#bd3786"
             ],
             [
              0.5555555555555556,
              "#d8576b"
             ],
             [
              0.6666666666666666,
              "#ed7953"
             ],
             [
              0.7777777777777778,
              "#fb9f3a"
             ],
             [
              0.8888888888888888,
              "#fdca26"
             ],
             [
              1.0,
              "#f0f921"
             ]
            ],
            "type": "heatmapgl"
           }
          ],
          "histogram": [
           {
            "marker": {
             "pattern": {
              "fillmode": "overlay",
              "size": 10,
              "solidity": 0.2
             }
            },
            "type": "histogram"
           }
          ],
          "histogram2d": [
           {
            "colorbar": {
             "outlinewidth": 0,
             "ticks": ""
            },
            "colorscale": [
             [
              0.0,
              "#0d0887"
             ],
             [
              0.1111111111111111,
              "#46039f"
             ],
             [
              0.2222222222222222,
              "#7201a8"
             ],
             [
              0.3333333333333333,
              "#9c179e"
             ],
             [
              0.4444444444444444,
              "#bd3786"
             ],
             [
              0.5555555555555556,
              "#d8576b"
             ],
             [
              0.6666666666666666,
              "#ed7953"
             ],
             [
              0.7777777777777778,
              "#fb9f3a"
             ],
             [
              0.8888888888888888,
              "#fdca26"
             ],
             [
              1.0,
              "#f0f921"
             ]
            ],
            "type": "histogram2d"
           }
          ],
          "histogram2dcontour": [
           {
            "colorbar": {
             "outlinewidth": 0,
             "ticks": ""
            },
            "colorscale": [
             [
              0.0,
              "#0d0887"
             ],
             [
              0.1111111111111111,
              "#46039f"
             ],
             [
              0.2222222222222222,
              "#7201a8"
             ],
             [
              0.3333333333333333,
              "#9c179e"
             ],
             [
              0.4444444444444444,
              "#bd3786"
             ],
             [
              0.5555555555555556,
              "#d8576b"
             ],
             [
              0.6666666666666666,
              "#ed7953"
             ],
             [
              0.7777777777777778,
              "#fb9f3a"
             ],
             [
              0.8888888888888888,
              "#fdca26"
             ],
             [
              1.0,
              "#f0f921"
             ]
            ],
            "type": "histogram2dcontour"
           }
          ],
          "mesh3d": [
           {
            "colorbar": {
             "outlinewidth": 0,
             "ticks": ""
            },
            "type": "mesh3d"
           }
          ],
          "parcoords": [
           {
            "line": {
             "colorbar": {
              "outlinewidth": 0,
              "ticks": ""
             }
            },
            "type": "parcoords"
           }
          ],
          "pie": [
           {
            "automargin": true,
            "type": "pie"
           }
          ],
          "scatter": [
           {
            "fillpattern": {
             "fillmode": "overlay",
             "size": 10,
             "solidity": 0.2
            },
            "type": "scatter"
           }
          ],
          "scatter3d": [
           {
            "line": {
             "colorbar": {
              "outlinewidth": 0,
              "ticks": ""
             }
            },
            "marker": {
             "colorbar": {
              "outlinewidth": 0,
              "ticks": ""
             }
            },
            "type": "scatter3d"
           }
          ],
          "scattercarpet": [
           {
            "marker": {
             "colorbar": {
              "outlinewidth": 0,
              "ticks": ""
             }
            },
            "type": "scattercarpet"
           }
          ],
          "scattergeo": [
           {
            "marker": {
             "colorbar": {
              "outlinewidth": 0,
              "ticks": ""
             }
            },
            "type": "scattergeo"
           }
          ],
          "scattergl": [
           {
            "marker": {
             "colorbar": {
              "outlinewidth": 0,
              "ticks": ""
             }
            },
            "type": "scattergl"
           }
          ],
          "scattermapbox": [
           {
            "marker": {
             "colorbar": {
              "outlinewidth": 0,
              "ticks": ""
             }
            },
            "type": "scattermapbox"
           }
          ],
          "scatterpolar": [
           {
            "marker": {
             "colorbar": {
              "outlinewidth": 0,
              "ticks": ""
             }
            },
            "type": "scatterpolar"
           }
          ],
          "scatterpolargl": [
           {
            "marker": {
             "colorbar": {
              "outlinewidth": 0,
              "ticks": ""
             }
            },
            "type": "scatterpolargl"
           }
          ],
          "scatterternary": [
           {
            "marker": {
             "colorbar": {
              "outlinewidth": 0,
              "ticks": ""
             }
            },
            "type": "scatterternary"
           }
          ],
          "surface": [
           {
            "colorbar": {
             "outlinewidth": 0,
             "ticks": ""
            },
            "colorscale": [
             [
              0.0,
              "#0d0887"
             ],
             [
              0.1111111111111111,
              "#46039f"
             ],
             [
              0.2222222222222222,
              "#7201a8"
             ],
             [
              0.3333333333333333,
              "#9c179e"
             ],
             [
              0.4444444444444444,
              "#bd3786"
             ],
             [
              0.5555555555555556,
              "#d8576b"
             ],
             [
              0.6666666666666666,
              "#ed7953"
             ],
             [
              0.7777777777777778,
              "#fb9f3a"
             ],
             [
              0.8888888888888888,
              "#fdca26"
             ],
             [
              1.0,
              "#f0f921"
             ]
            ],
            "type": "surface"
           }
          ],
          "table": [
           {
            "cells": {
             "fill": {
              "color": "#EBF0F8"
             },
             "line": {
              "color": "white"
             }
            },
            "header": {
             "fill": {
              "color": "#C8D4E3"
             },
             "line": {
              "color": "white"
             }
            },
            "type": "table"
           }
          ]
         },
         "layout": {
          "annotationdefaults": {
           "arrowcolor": "#2a3f5f",
           "arrowhead": 0,
           "arrowwidth": 1
          },
          "autotypenumbers": "strict",
          "coloraxis": {
           "colorbar": {
            "outlinewidth": 0,
            "ticks": ""
           }
          },
          "colorscale": {
           "diverging": [
            [
             0,
             "#8e0152"
            ],
            [
             0.1,
             "#c51b7d"
            ],
            [
             0.2,
             "#de77ae"
            ],
            [
             0.3,
             "#f1b6da"
            ],
            [
             0.4,
             "#fde0ef"
            ],
            [
             0.5,
             "#f7f7f7"
            ],
            [
             0.6,
             "#e6f5d0"
            ],
            [
             0.7,
             "#b8e186"
            ],
            [
             0.8,
             "#7fbc41"
            ],
            [
             0.9,
             "#4d9221"
            ],
            [
             1,
             "#276419"
            ]
           ],
           "sequential": [
            [
             0.0,
             "#0d0887"
            ],
            [
             0.1111111111111111,
             "#46039f"
            ],
            [
             0.2222222222222222,
             "#7201a8"
            ],
            [
             0.3333333333333333,
             "#9c179e"
            ],
            [
             0.4444444444444444,
             "#bd3786"
            ],
            [
             0.5555555555555556,
             "#d8576b"
            ],
            [
             0.6666666666666666,
             "#ed7953"
            ],
            [
             0.7777777777777778,
             "#fb9f3a"
            ],
            [
             0.8888888888888888,
             "#fdca26"
            ],
            [
             1.0,
             "#f0f921"
            ]
           ],
           "sequentialminus": [
            [
             0.0,
             "#0d0887"
            ],
            [
             0.1111111111111111,
             "#46039f"
            ],
            [
             0.2222222222222222,
             "#7201a8"
            ],
            [
             0.3333333333333333,
             "#9c179e"
            ],
            [
             0.4444444444444444,
             "#bd3786"
            ],
            [
             0.5555555555555556,
             "#d8576b"
            ],
            [
             0.6666666666666666,
             "#ed7953"
            ],
            [
             0.7777777777777778,
             "#fb9f3a"
            ],
            [
             0.8888888888888888,
             "#fdca26"
            ],
            [
             1.0,
             "#f0f921"
            ]
           ]
          },
          "colorway": [
           "#636efa",
           "#EF553B",
           "#00cc96",
           "#ab63fa",
           "#FFA15A",
           "#19d3f3",
           "#FF6692",
           "#B6E880",
           "#FF97FF",
           "#FECB52"
          ],
          "font": {
           "color": "#2a3f5f"
          },
          "geo": {
           "bgcolor": "white",
           "lakecolor": "white",
           "landcolor": "#E5ECF6",
           "showlakes": true,
           "showland": true,
           "subunitcolor": "white"
          },
          "hoverlabel": {
           "align": "left"
          },
          "hovermode": "closest",
          "mapbox": {
           "style": "light"
          },
          "paper_bgcolor": "white",
          "plot_bgcolor": "#E5ECF6",
          "polar": {
           "angularaxis": {
            "gridcolor": "white",
            "linecolor": "white",
            "ticks": ""
           },
           "bgcolor": "#E5ECF6",
           "radialaxis": {
            "gridcolor": "white",
            "linecolor": "white",
            "ticks": ""
           }
          },
          "scene": {
           "xaxis": {
            "backgroundcolor": "#E5ECF6",
            "gridcolor": "white",
            "gridwidth": 2,
            "linecolor": "white",
            "showbackground": true,
            "ticks": "",
            "zerolinecolor": "white"
           },
           "yaxis": {
            "backgroundcolor": "#E5ECF6",
            "gridcolor": "white",
            "gridwidth": 2,
            "linecolor": "white",
            "showbackground": true,
            "ticks": "",
            "zerolinecolor": "white"
           },
           "zaxis": {
            "backgroundcolor": "#E5ECF6",
            "gridcolor": "white",
            "gridwidth": 2,
            "linecolor": "white",
            "showbackground": true,
            "ticks": "",
            "zerolinecolor": "white"
           }
          },
          "shapedefaults": {
           "line": {
            "color": "#2a3f5f"
           }
          },
          "ternary": {
           "aaxis": {
            "gridcolor": "white",
            "linecolor": "white",
            "ticks": ""
           },
           "baxis": {
            "gridcolor": "white",
            "linecolor": "white",
            "ticks": ""
           },
           "bgcolor": "#E5ECF6",
           "caxis": {
            "gridcolor": "white",
            "linecolor": "white",
            "ticks": ""
           }
          },
          "title": {
           "x": 0.05
          },
          "xaxis": {
           "automargin": true,
           "gridcolor": "white",
           "linecolor": "white",
           "ticks": "",
           "title": {
            "standoff": 15
           },
           "zerolinecolor": "white",
           "zerolinewidth": 2
          },
          "yaxis": {
           "automargin": true,
           "gridcolor": "white",
           "linecolor": "white",
           "ticks": "",
           "title": {
            "standoff": 15
           },
           "zerolinecolor": "white",
           "zerolinewidth": 2
          }
         }
        },
        "title": {
         "text": "Year and Athlets Scatter Plot"
        },
        "xaxis": {
         "domain": [
          0,
          0.45
         ]
        },
        "xaxis2": {
         "domain": [
          0.55,
          1
         ]
        },
        "yaxis": {
         "domain": [
          0,
          0.45
         ]
        },
        "yaxis2": {
         "anchor": "x2",
         "domain": [
          0,
          0.45
         ]
        }
       }
      },
      "text/html": [
       "<div>                            <div id=\"5830752f-3024-4e9a-8e31-f309edf637a7\" class=\"plotly-graph-div\" style=\"height:525px; width:100%;\"></div>            <script type=\"text/javascript\">                require([\"plotly\"], function(Plotly) {                    window.PLOTLYENV=window.PLOTLYENV || {};                                    if (document.getElementById(\"5830752f-3024-4e9a-8e31-f309edf637a7\")) {                    Plotly.newPlot(                        \"5830752f-3024-4e9a-8e31-f309edf637a7\",                        [{\"marker\":{\"color\":\"rgba(16, 112, 2, 0.8)\"},\"mode\":\"lines+markers\",\"name\":\"Summer Athlets\",\"x\":[1896.0,1900.0,1904.0,1906.0,1908.0,1912.0,1920.0,1924.0,null,1928.0,null,1932.0,null,1936.0,null,1948.0,null,1952.0,null,1956.0,null,1960.0,null,1964.0,null,1968.0,null,1972.0,null,1976.0,null,1980.0,null,1984.0,null,1988.0,null,1992.0,null,null,1996.0,null,2000.0,null,2004.0,null,2008.0,null,2012.0,null,2016.0],\"y\":[380,1936,1301,1733,3101,4040,4292,5233,460,4992,582,2969,352,6506,895,6405,1075,8270,1088,5127,1307,8119,1116,7702,1778,8588,1891,10304,1655,8641,1861,7191,1746,9454,2134,12037,2639,12977,3436,3160,13780,3605,13821,4109,13443,4382,13602,4402,12920,4891,13688],\"type\":\"scatter\"},{\"marker\":{\"color\":\"rgba(80, 26, 80, 0.8)\"},\"mode\":\"lines+markers\",\"name\":\"Winter Athlets\",\"x\":[null,null,null,null,null,null,null,null,1924.0,null,1928.0,null,1932.0,null,1936.0,null,1948.0,null,1952.0,null,1956.0,null,1960.0,null,1964.0,null,1968.0,null,1972.0,null,1976.0,null,1980.0,null,1984.0,null,1988.0,null,1992.0,1994.0,null,1998.0,null,2002.0,null,2006.0,null,2010.0,null,2014.0,null],\"xaxis\":\"x2\",\"y\":[380,1936,1301,1733,3101,4040,4292,5233,460,4992,582,2969,352,6506,895,6405,1075,8270,1088,5127,1307,8119,1116,7702,1778,8588,1891,10304,1655,8641,1861,7191,1746,9454,2134,12037,2639,12977,3436,3160,13780,3605,13821,4109,13443,4382,13602,4402,12920,4891,13688],\"yaxis\":\"y2\",\"type\":\"scatter\"}],                        {\"template\":{\"data\":{\"barpolar\":[{\"marker\":{\"line\":{\"color\":\"#E5ECF6\",\"width\":0.5},\"pattern\":{\"fillmode\":\"overlay\",\"size\":10,\"solidity\":0.2}},\"type\":\"barpolar\"}],\"bar\":[{\"error_x\":{\"color\":\"#2a3f5f\"},\"error_y\":{\"color\":\"#2a3f5f\"},\"marker\":{\"line\":{\"color\":\"#E5ECF6\",\"width\":0.5},\"pattern\":{\"fillmode\":\"overlay\",\"size\":10,\"solidity\":0.2}},\"type\":\"bar\"}],\"carpet\":[{\"aaxis\":{\"endlinecolor\":\"#2a3f5f\",\"gridcolor\":\"white\",\"linecolor\":\"white\",\"minorgridcolor\":\"white\",\"startlinecolor\":\"#2a3f5f\"},\"baxis\":{\"endlinecolor\":\"#2a3f5f\",\"gridcolor\":\"white\",\"linecolor\":\"white\",\"minorgridcolor\":\"white\",\"startlinecolor\":\"#2a3f5f\"},\"type\":\"carpet\"}],\"choropleth\":[{\"colorbar\":{\"outlinewidth\":0,\"ticks\":\"\"},\"type\":\"choropleth\"}],\"contourcarpet\":[{\"colorbar\":{\"outlinewidth\":0,\"ticks\":\"\"},\"type\":\"contourcarpet\"}],\"contour\":[{\"colorbar\":{\"outlinewidth\":0,\"ticks\":\"\"},\"colorscale\":[[0.0,\"#0d0887\"],[0.1111111111111111,\"#46039f\"],[0.2222222222222222,\"#7201a8\"],[0.3333333333333333,\"#9c179e\"],[0.4444444444444444,\"#bd3786\"],[0.5555555555555556,\"#d8576b\"],[0.6666666666666666,\"#ed7953\"],[0.7777777777777778,\"#fb9f3a\"],[0.8888888888888888,\"#fdca26\"],[1.0,\"#f0f921\"]],\"type\":\"contour\"}],\"heatmapgl\":[{\"colorbar\":{\"outlinewidth\":0,\"ticks\":\"\"},\"colorscale\":[[0.0,\"#0d0887\"],[0.1111111111111111,\"#46039f\"],[0.2222222222222222,\"#7201a8\"],[0.3333333333333333,\"#9c179e\"],[0.4444444444444444,\"#bd3786\"],[0.5555555555555556,\"#d8576b\"],[0.6666666666666666,\"#ed7953\"],[0.7777777777777778,\"#fb9f3a\"],[0.8888888888888888,\"#fdca26\"],[1.0,\"#f0f921\"]],\"type\":\"heatmapgl\"}],\"heatmap\":[{\"colorbar\":{\"outlinewidth\":0,\"ticks\":\"\"},\"colorscale\":[[0.0,\"#0d0887\"],[0.1111111111111111,\"#46039f\"],[0.2222222222222222,\"#7201a8\"],[0.3333333333333333,\"#9c179e\"],[0.4444444444444444,\"#bd3786\"],[0.5555555555555556,\"#d8576b\"],[0.6666666666666666,\"#ed7953\"],[0.7777777777777778,\"#fb9f3a\"],[0.8888888888888888,\"#fdca26\"],[1.0,\"#f0f921\"]],\"type\":\"heatmap\"}],\"histogram2dcontour\":[{\"colorbar\":{\"outlinewidth\":0,\"ticks\":\"\"},\"colorscale\":[[0.0,\"#0d0887\"],[0.1111111111111111,\"#46039f\"],[0.2222222222222222,\"#7201a8\"],[0.3333333333333333,\"#9c179e\"],[0.4444444444444444,\"#bd3786\"],[0.5555555555555556,\"#d8576b\"],[0.6666666666666666,\"#ed7953\"],[0.7777777777777778,\"#fb9f3a\"],[0.8888888888888888,\"#fdca26\"],[1.0,\"#f0f921\"]],\"type\":\"histogram2dcontour\"}],\"histogram2d\":[{\"colorbar\":{\"outlinewidth\":0,\"ticks\":\"\"},\"colorscale\":[[0.0,\"#0d0887\"],[0.1111111111111111,\"#46039f\"],[0.2222222222222222,\"#7201a8\"],[0.3333333333333333,\"#9c179e\"],[0.4444444444444444,\"#bd3786\"],[0.5555555555555556,\"#d8576b\"],[0.6666666666666666,\"#ed7953\"],[0.7777777777777778,\"#fb9f3a\"],[0.8888888888888888,\"#fdca26\"],[1.0,\"#f0f921\"]],\"type\":\"histogram2d\"}],\"histogram\":[{\"marker\":{\"pattern\":{\"fillmode\":\"overlay\",\"size\":10,\"solidity\":0.2}},\"type\":\"histogram\"}],\"mesh3d\":[{\"colorbar\":{\"outlinewidth\":0,\"ticks\":\"\"},\"type\":\"mesh3d\"}],\"parcoords\":[{\"line\":{\"colorbar\":{\"outlinewidth\":0,\"ticks\":\"\"}},\"type\":\"parcoords\"}],\"pie\":[{\"automargin\":true,\"type\":\"pie\"}],\"scatter3d\":[{\"line\":{\"colorbar\":{\"outlinewidth\":0,\"ticks\":\"\"}},\"marker\":{\"colorbar\":{\"outlinewidth\":0,\"ticks\":\"\"}},\"type\":\"scatter3d\"}],\"scattercarpet\":[{\"marker\":{\"colorbar\":{\"outlinewidth\":0,\"ticks\":\"\"}},\"type\":\"scattercarpet\"}],\"scattergeo\":[{\"marker\":{\"colorbar\":{\"outlinewidth\":0,\"ticks\":\"\"}},\"type\":\"scattergeo\"}],\"scattergl\":[{\"marker\":{\"colorbar\":{\"outlinewidth\":0,\"ticks\":\"\"}},\"type\":\"scattergl\"}],\"scattermapbox\":[{\"marker\":{\"colorbar\":{\"outlinewidth\":0,\"ticks\":\"\"}},\"type\":\"scattermapbox\"}],\"scatterpolargl\":[{\"marker\":{\"colorbar\":{\"outlinewidth\":0,\"ticks\":\"\"}},\"type\":\"scatterpolargl\"}],\"scatterpolar\":[{\"marker\":{\"colorbar\":{\"outlinewidth\":0,\"ticks\":\"\"}},\"type\":\"scatterpolar\"}],\"scatter\":[{\"fillpattern\":{\"fillmode\":\"overlay\",\"size\":10,\"solidity\":0.2},\"type\":\"scatter\"}],\"scatterternary\":[{\"marker\":{\"colorbar\":{\"outlinewidth\":0,\"ticks\":\"\"}},\"type\":\"scatterternary\"}],\"surface\":[{\"colorbar\":{\"outlinewidth\":0,\"ticks\":\"\"},\"colorscale\":[[0.0,\"#0d0887\"],[0.1111111111111111,\"#46039f\"],[0.2222222222222222,\"#7201a8\"],[0.3333333333333333,\"#9c179e\"],[0.4444444444444444,\"#bd3786\"],[0.5555555555555556,\"#d8576b\"],[0.6666666666666666,\"#ed7953\"],[0.7777777777777778,\"#fb9f3a\"],[0.8888888888888888,\"#fdca26\"],[1.0,\"#f0f921\"]],\"type\":\"surface\"}],\"table\":[{\"cells\":{\"fill\":{\"color\":\"#EBF0F8\"},\"line\":{\"color\":\"white\"}},\"header\":{\"fill\":{\"color\":\"#C8D4E3\"},\"line\":{\"color\":\"white\"}},\"type\":\"table\"}]},\"layout\":{\"annotationdefaults\":{\"arrowcolor\":\"#2a3f5f\",\"arrowhead\":0,\"arrowwidth\":1},\"autotypenumbers\":\"strict\",\"coloraxis\":{\"colorbar\":{\"outlinewidth\":0,\"ticks\":\"\"}},\"colorscale\":{\"diverging\":[[0,\"#8e0152\"],[0.1,\"#c51b7d\"],[0.2,\"#de77ae\"],[0.3,\"#f1b6da\"],[0.4,\"#fde0ef\"],[0.5,\"#f7f7f7\"],[0.6,\"#e6f5d0\"],[0.7,\"#b8e186\"],[0.8,\"#7fbc41\"],[0.9,\"#4d9221\"],[1,\"#276419\"]],\"sequential\":[[0.0,\"#0d0887\"],[0.1111111111111111,\"#46039f\"],[0.2222222222222222,\"#7201a8\"],[0.3333333333333333,\"#9c179e\"],[0.4444444444444444,\"#bd3786\"],[0.5555555555555556,\"#d8576b\"],[0.6666666666666666,\"#ed7953\"],[0.7777777777777778,\"#fb9f3a\"],[0.8888888888888888,\"#fdca26\"],[1.0,\"#f0f921\"]],\"sequentialminus\":[[0.0,\"#0d0887\"],[0.1111111111111111,\"#46039f\"],[0.2222222222222222,\"#7201a8\"],[0.3333333333333333,\"#9c179e\"],[0.4444444444444444,\"#bd3786\"],[0.5555555555555556,\"#d8576b\"],[0.6666666666666666,\"#ed7953\"],[0.7777777777777778,\"#fb9f3a\"],[0.8888888888888888,\"#fdca26\"],[1.0,\"#f0f921\"]]},\"colorway\":[\"#636efa\",\"#EF553B\",\"#00cc96\",\"#ab63fa\",\"#FFA15A\",\"#19d3f3\",\"#FF6692\",\"#B6E880\",\"#FF97FF\",\"#FECB52\"],\"font\":{\"color\":\"#2a3f5f\"},\"geo\":{\"bgcolor\":\"white\",\"lakecolor\":\"white\",\"landcolor\":\"#E5ECF6\",\"showlakes\":true,\"showland\":true,\"subunitcolor\":\"white\"},\"hoverlabel\":{\"align\":\"left\"},\"hovermode\":\"closest\",\"mapbox\":{\"style\":\"light\"},\"paper_bgcolor\":\"white\",\"plot_bgcolor\":\"#E5ECF6\",\"polar\":{\"angularaxis\":{\"gridcolor\":\"white\",\"linecolor\":\"white\",\"ticks\":\"\"},\"bgcolor\":\"#E5ECF6\",\"radialaxis\":{\"gridcolor\":\"white\",\"linecolor\":\"white\",\"ticks\":\"\"}},\"scene\":{\"xaxis\":{\"backgroundcolor\":\"#E5ECF6\",\"gridcolor\":\"white\",\"gridwidth\":2,\"linecolor\":\"white\",\"showbackground\":true,\"ticks\":\"\",\"zerolinecolor\":\"white\"},\"yaxis\":{\"backgroundcolor\":\"#E5ECF6\",\"gridcolor\":\"white\",\"gridwidth\":2,\"linecolor\":\"white\",\"showbackground\":true,\"ticks\":\"\",\"zerolinecolor\":\"white\"},\"zaxis\":{\"backgroundcolor\":\"#E5ECF6\",\"gridcolor\":\"white\",\"gridwidth\":2,\"linecolor\":\"white\",\"showbackground\":true,\"ticks\":\"\",\"zerolinecolor\":\"white\"}},\"shapedefaults\":{\"line\":{\"color\":\"#2a3f5f\"}},\"ternary\":{\"aaxis\":{\"gridcolor\":\"white\",\"linecolor\":\"white\",\"ticks\":\"\"},\"baxis\":{\"gridcolor\":\"white\",\"linecolor\":\"white\",\"ticks\":\"\"},\"bgcolor\":\"#E5ECF6\",\"caxis\":{\"gridcolor\":\"white\",\"linecolor\":\"white\",\"ticks\":\"\"}},\"title\":{\"x\":0.05},\"xaxis\":{\"automargin\":true,\"gridcolor\":\"white\",\"linecolor\":\"white\",\"ticks\":\"\",\"title\":{\"standoff\":15},\"zerolinecolor\":\"white\",\"zerolinewidth\":2},\"yaxis\":{\"automargin\":true,\"gridcolor\":\"white\",\"linecolor\":\"white\",\"ticks\":\"\",\"title\":{\"standoff\":15},\"zerolinecolor\":\"white\",\"zerolinewidth\":2}}},\"title\":{\"text\":\"Year and Athlets Scatter Plot\"},\"xaxis\":{\"domain\":[0,0.45]},\"yaxis\":{\"domain\":[0,0.45]},\"xaxis2\":{\"domain\":[0.55,1]},\"yaxis2\":{\"anchor\":\"x2\",\"domain\":[0,0.45]}},                        {\"responsive\": true}                    ).then(function(){\n",
       "                            \n",
       "var gd = document.getElementById('5830752f-3024-4e9a-8e31-f309edf637a7');\n",
       "var x = new MutationObserver(function (mutations, observer) {{\n",
       "        var display = window.getComputedStyle(gd).display;\n",
       "        if (!display || display === 'none') {{\n",
       "            console.log([gd, 'removed!']);\n",
       "            Plotly.purge(gd);\n",
       "            observer.disconnect();\n",
       "        }}\n",
       "}});\n",
       "\n",
       "// Listen for the removal of the full notebook cells\n",
       "var notebookContainer = gd.closest('#notebook-container');\n",
       "if (notebookContainer) {{\n",
       "    x.observe(notebookContainer, {childList: true});\n",
       "}}\n",
       "\n",
       "// Listen for the clearing of the current output cell\n",
       "var outputEl = gd.closest('.output');\n",
       "if (outputEl) {{\n",
       "    x.observe(outputEl, {childList: true});\n",
       "}}\n",
       "\n",
       "                        })                };                });            </script>        </div>"
      ]
     },
     "metadata": {},
     "output_type": "display_data"
    }
   ],
   "source": [
    "#4.\n",
    "import plotly.graph_objs as go\n",
    "# Creating trace1\n",
    "trace1 = go.Scatter(\n",
    "                    x = participants.Year.where(participants[\"Season\"]=='Summer'),\n",
    "                    y = participants.Athlets,\n",
    "                    mode = \"lines+markers\",\n",
    "                    name = \"Summer Athlets\",\n",
    "                    marker = dict(color = 'rgba(16, 112, 2, 0.8)'),\n",
    "                    #text= df.participants)\n",
    "                                          )\n",
    "# Creating trace2\n",
    "trace2 = go.Scatter(\n",
    "                    x = participants.Year.where(participants[\"Season\"]=='Winter'),\n",
    "                    y = participants.Athlets,\n",
    "                    xaxis='x2',\n",
    "                    yaxis='y2',\n",
    "                    mode = \"lines+markers\",\n",
    "                    name = \"Winter Athlets\",\n",
    "                    marker = dict(color = 'rgba(80, 26, 80, 0.8)'),\n",
    "                    #text= participants)\n",
    "                                       )\n",
    "data = [trace1, trace2]\n",
    "layout = go.Layout(\n",
    "    xaxis=dict(\n",
    "        domain=[0, 0.45]\n",
    "    ),\n",
    "    yaxis=dict(\n",
    "        domain=[0, 0.45]\n",
    "    ),\n",
    "    xaxis2=dict(\n",
    "        domain=[0.55, 1]\n",
    "    ),\n",
    "    yaxis2=dict(\n",
    "        domain=[0, 0.45],\n",
    "        anchor='x2'\n",
    "    ),\n",
    "    title = 'Year and Athlets Scatter Plot'\n",
    ")\n",
    "fig = dict(data = data, layout = layout)\n",
    "iplot(fig)"
   ]
  },
  {
   "cell_type": "code",
   "execution_count": 21,
   "id": "fb839960",
   "metadata": {
    "execution": {
     "iopub.execute_input": "2022-07-26T22:53:51.520900Z",
     "iopub.status.busy": "2022-07-26T22:53:51.519988Z",
     "iopub.status.idle": "2022-07-26T22:53:51.549831Z",
     "shell.execute_reply": "2022-07-26T22:53:51.548814Z"
    },
    "papermill": {
     "duration": 0.06011,
     "end_time": "2022-07-26T22:53:51.552115",
     "exception": false,
     "start_time": "2022-07-26T22:53:51.492005",
     "status": "completed"
    },
    "tags": []
   },
   "outputs": [
    {
     "data": {
      "text/html": [
       "<div>\n",
       "<style scoped>\n",
       "    .dataframe tbody tr th:only-of-type {\n",
       "        vertical-align: middle;\n",
       "    }\n",
       "\n",
       "    .dataframe tbody tr th {\n",
       "        vertical-align: top;\n",
       "    }\n",
       "\n",
       "    .dataframe thead th {\n",
       "        text-align: right;\n",
       "    }\n",
       "</style>\n",
       "<table border=\"1\" class=\"dataframe\">\n",
       "  <thead>\n",
       "    <tr style=\"text-align: right;\">\n",
       "      <th></th>\n",
       "      <th>ID</th>\n",
       "      <th>Name</th>\n",
       "      <th>Sex</th>\n",
       "      <th>Age</th>\n",
       "      <th>Height</th>\n",
       "      <th>Weight</th>\n",
       "      <th>Team</th>\n",
       "      <th>NOC</th>\n",
       "      <th>Games</th>\n",
       "      <th>Year</th>\n",
       "      <th>Season</th>\n",
       "      <th>City</th>\n",
       "      <th>Sport</th>\n",
       "      <th>Event</th>\n",
       "      <th>Medal</th>\n",
       "      <th>region</th>\n",
       "      <th>notes</th>\n",
       "    </tr>\n",
       "  </thead>\n",
       "  <tbody>\n",
       "    <tr>\n",
       "      <th>0</th>\n",
       "      <td>1</td>\n",
       "      <td>A Dijiang</td>\n",
       "      <td>M</td>\n",
       "      <td>24.0</td>\n",
       "      <td>180.0</td>\n",
       "      <td>80.0</td>\n",
       "      <td>China</td>\n",
       "      <td>CHN</td>\n",
       "      <td>1992 Summer</td>\n",
       "      <td>1992</td>\n",
       "      <td>Summer</td>\n",
       "      <td>Barcelona</td>\n",
       "      <td>Basketball</td>\n",
       "      <td>Basketball Men's Basketball</td>\n",
       "      <td>NaN</td>\n",
       "      <td>China</td>\n",
       "      <td>NaN</td>\n",
       "    </tr>\n",
       "    <tr>\n",
       "      <th>1</th>\n",
       "      <td>2</td>\n",
       "      <td>A Lamusi</td>\n",
       "      <td>M</td>\n",
       "      <td>23.0</td>\n",
       "      <td>170.0</td>\n",
       "      <td>60.0</td>\n",
       "      <td>China</td>\n",
       "      <td>CHN</td>\n",
       "      <td>2012 Summer</td>\n",
       "      <td>2012</td>\n",
       "      <td>Summer</td>\n",
       "      <td>London</td>\n",
       "      <td>Judo</td>\n",
       "      <td>Judo Men's Extra-Lightweight</td>\n",
       "      <td>NaN</td>\n",
       "      <td>China</td>\n",
       "      <td>NaN</td>\n",
       "    </tr>\n",
       "    <tr>\n",
       "      <th>2</th>\n",
       "      <td>3</td>\n",
       "      <td>Gunnar Nielsen Aaby</td>\n",
       "      <td>M</td>\n",
       "      <td>24.0</td>\n",
       "      <td>NaN</td>\n",
       "      <td>NaN</td>\n",
       "      <td>Denmark</td>\n",
       "      <td>DEN</td>\n",
       "      <td>1920 Summer</td>\n",
       "      <td>1920</td>\n",
       "      <td>Summer</td>\n",
       "      <td>Antwerpen</td>\n",
       "      <td>Football</td>\n",
       "      <td>Football Men's Football</td>\n",
       "      <td>NaN</td>\n",
       "      <td>Denmark</td>\n",
       "      <td>NaN</td>\n",
       "    </tr>\n",
       "    <tr>\n",
       "      <th>3</th>\n",
       "      <td>4</td>\n",
       "      <td>Edgar Lindenau Aabye</td>\n",
       "      <td>M</td>\n",
       "      <td>34.0</td>\n",
       "      <td>NaN</td>\n",
       "      <td>NaN</td>\n",
       "      <td>Denmark/Sweden</td>\n",
       "      <td>DEN</td>\n",
       "      <td>1900 Summer</td>\n",
       "      <td>1900</td>\n",
       "      <td>Summer</td>\n",
       "      <td>Paris</td>\n",
       "      <td>Tug-Of-War</td>\n",
       "      <td>Tug-Of-War Men's Tug-Of-War</td>\n",
       "      <td>Gold</td>\n",
       "      <td>Denmark</td>\n",
       "      <td>NaN</td>\n",
       "    </tr>\n",
       "    <tr>\n",
       "      <th>4</th>\n",
       "      <td>5</td>\n",
       "      <td>Christine Jacoba Aaftink</td>\n",
       "      <td>F</td>\n",
       "      <td>21.0</td>\n",
       "      <td>185.0</td>\n",
       "      <td>82.0</td>\n",
       "      <td>Netherlands</td>\n",
       "      <td>NED</td>\n",
       "      <td>1988 Winter</td>\n",
       "      <td>1988</td>\n",
       "      <td>Winter</td>\n",
       "      <td>Calgary</td>\n",
       "      <td>Speed Skating</td>\n",
       "      <td>Speed Skating Women's 500 metres</td>\n",
       "      <td>NaN</td>\n",
       "      <td>Netherlands</td>\n",
       "      <td>NaN</td>\n",
       "    </tr>\n",
       "    <tr>\n",
       "      <th>...</th>\n",
       "      <td>...</td>\n",
       "      <td>...</td>\n",
       "      <td>...</td>\n",
       "      <td>...</td>\n",
       "      <td>...</td>\n",
       "      <td>...</td>\n",
       "      <td>...</td>\n",
       "      <td>...</td>\n",
       "      <td>...</td>\n",
       "      <td>...</td>\n",
       "      <td>...</td>\n",
       "      <td>...</td>\n",
       "      <td>...</td>\n",
       "      <td>...</td>\n",
       "      <td>...</td>\n",
       "      <td>...</td>\n",
       "      <td>...</td>\n",
       "    </tr>\n",
       "    <tr>\n",
       "      <th>271111</th>\n",
       "      <td>135569</td>\n",
       "      <td>Andrzej ya</td>\n",
       "      <td>M</td>\n",
       "      <td>29.0</td>\n",
       "      <td>179.0</td>\n",
       "      <td>89.0</td>\n",
       "      <td>Poland-1</td>\n",
       "      <td>POL</td>\n",
       "      <td>1976 Winter</td>\n",
       "      <td>1976</td>\n",
       "      <td>Winter</td>\n",
       "      <td>Innsbruck</td>\n",
       "      <td>Luge</td>\n",
       "      <td>Luge Mixed (Men)'s Doubles</td>\n",
       "      <td>NaN</td>\n",
       "      <td>Poland</td>\n",
       "      <td>NaN</td>\n",
       "    </tr>\n",
       "    <tr>\n",
       "      <th>271112</th>\n",
       "      <td>135570</td>\n",
       "      <td>Piotr ya</td>\n",
       "      <td>M</td>\n",
       "      <td>27.0</td>\n",
       "      <td>176.0</td>\n",
       "      <td>59.0</td>\n",
       "      <td>Poland</td>\n",
       "      <td>POL</td>\n",
       "      <td>2014 Winter</td>\n",
       "      <td>2014</td>\n",
       "      <td>Winter</td>\n",
       "      <td>Sochi</td>\n",
       "      <td>Ski Jumping</td>\n",
       "      <td>Ski Jumping Men's Large Hill, Individual</td>\n",
       "      <td>NaN</td>\n",
       "      <td>Poland</td>\n",
       "      <td>NaN</td>\n",
       "    </tr>\n",
       "    <tr>\n",
       "      <th>271113</th>\n",
       "      <td>135570</td>\n",
       "      <td>Piotr ya</td>\n",
       "      <td>M</td>\n",
       "      <td>27.0</td>\n",
       "      <td>176.0</td>\n",
       "      <td>59.0</td>\n",
       "      <td>Poland</td>\n",
       "      <td>POL</td>\n",
       "      <td>2014 Winter</td>\n",
       "      <td>2014</td>\n",
       "      <td>Winter</td>\n",
       "      <td>Sochi</td>\n",
       "      <td>Ski Jumping</td>\n",
       "      <td>Ski Jumping Men's Large Hill, Team</td>\n",
       "      <td>NaN</td>\n",
       "      <td>Poland</td>\n",
       "      <td>NaN</td>\n",
       "    </tr>\n",
       "    <tr>\n",
       "      <th>271114</th>\n",
       "      <td>135571</td>\n",
       "      <td>Tomasz Ireneusz ya</td>\n",
       "      <td>M</td>\n",
       "      <td>30.0</td>\n",
       "      <td>185.0</td>\n",
       "      <td>96.0</td>\n",
       "      <td>Poland</td>\n",
       "      <td>POL</td>\n",
       "      <td>1998 Winter</td>\n",
       "      <td>1998</td>\n",
       "      <td>Winter</td>\n",
       "      <td>Nagano</td>\n",
       "      <td>Bobsleigh</td>\n",
       "      <td>Bobsleigh Men's Four</td>\n",
       "      <td>NaN</td>\n",
       "      <td>Poland</td>\n",
       "      <td>NaN</td>\n",
       "    </tr>\n",
       "    <tr>\n",
       "      <th>271115</th>\n",
       "      <td>135571</td>\n",
       "      <td>Tomasz Ireneusz ya</td>\n",
       "      <td>M</td>\n",
       "      <td>34.0</td>\n",
       "      <td>185.0</td>\n",
       "      <td>96.0</td>\n",
       "      <td>Poland</td>\n",
       "      <td>POL</td>\n",
       "      <td>2002 Winter</td>\n",
       "      <td>2002</td>\n",
       "      <td>Winter</td>\n",
       "      <td>Salt Lake City</td>\n",
       "      <td>Bobsleigh</td>\n",
       "      <td>Bobsleigh Men's Four</td>\n",
       "      <td>NaN</td>\n",
       "      <td>Poland</td>\n",
       "      <td>NaN</td>\n",
       "    </tr>\n",
       "  </tbody>\n",
       "</table>\n",
       "<p>271116 rows × 17 columns</p>\n",
       "</div>"
      ],
      "text/plain": [
       "            ID                      Name Sex   Age  Height  Weight  \\\n",
       "0            1                 A Dijiang   M  24.0   180.0    80.0   \n",
       "1            2                  A Lamusi   M  23.0   170.0    60.0   \n",
       "2            3       Gunnar Nielsen Aaby   M  24.0     NaN     NaN   \n",
       "3            4      Edgar Lindenau Aabye   M  34.0     NaN     NaN   \n",
       "4            5  Christine Jacoba Aaftink   F  21.0   185.0    82.0   \n",
       "...        ...                       ...  ..   ...     ...     ...   \n",
       "271111  135569                Andrzej ya   M  29.0   179.0    89.0   \n",
       "271112  135570                  Piotr ya   M  27.0   176.0    59.0   \n",
       "271113  135570                  Piotr ya   M  27.0   176.0    59.0   \n",
       "271114  135571        Tomasz Ireneusz ya   M  30.0   185.0    96.0   \n",
       "271115  135571        Tomasz Ireneusz ya   M  34.0   185.0    96.0   \n",
       "\n",
       "                  Team  NOC        Games  Year  Season            City  \\\n",
       "0                China  CHN  1992 Summer  1992  Summer       Barcelona   \n",
       "1                China  CHN  2012 Summer  2012  Summer          London   \n",
       "2              Denmark  DEN  1920 Summer  1920  Summer       Antwerpen   \n",
       "3       Denmark/Sweden  DEN  1900 Summer  1900  Summer           Paris   \n",
       "4          Netherlands  NED  1988 Winter  1988  Winter         Calgary   \n",
       "...                ...  ...          ...   ...     ...             ...   \n",
       "271111        Poland-1  POL  1976 Winter  1976  Winter       Innsbruck   \n",
       "271112          Poland  POL  2014 Winter  2014  Winter           Sochi   \n",
       "271113          Poland  POL  2014 Winter  2014  Winter           Sochi   \n",
       "271114          Poland  POL  1998 Winter  1998  Winter          Nagano   \n",
       "271115          Poland  POL  2002 Winter  2002  Winter  Salt Lake City   \n",
       "\n",
       "                Sport                                     Event Medal  \\\n",
       "0          Basketball               Basketball Men's Basketball   NaN   \n",
       "1                Judo              Judo Men's Extra-Lightweight   NaN   \n",
       "2            Football                   Football Men's Football   NaN   \n",
       "3          Tug-Of-War               Tug-Of-War Men's Tug-Of-War  Gold   \n",
       "4       Speed Skating          Speed Skating Women's 500 metres   NaN   \n",
       "...               ...                                       ...   ...   \n",
       "271111           Luge                Luge Mixed (Men)'s Doubles   NaN   \n",
       "271112    Ski Jumping  Ski Jumping Men's Large Hill, Individual   NaN   \n",
       "271113    Ski Jumping        Ski Jumping Men's Large Hill, Team   NaN   \n",
       "271114      Bobsleigh                      Bobsleigh Men's Four   NaN   \n",
       "271115      Bobsleigh                      Bobsleigh Men's Four   NaN   \n",
       "\n",
       "             region notes  \n",
       "0             China   NaN  \n",
       "1             China   NaN  \n",
       "2           Denmark   NaN  \n",
       "3           Denmark   NaN  \n",
       "4       Netherlands   NaN  \n",
       "...             ...   ...  \n",
       "271111       Poland   NaN  \n",
       "271112       Poland   NaN  \n",
       "271113       Poland   NaN  \n",
       "271114       Poland   NaN  \n",
       "271115       Poland   NaN  \n",
       "\n",
       "[271116 rows x 17 columns]"
      ]
     },
     "execution_count": 21,
     "metadata": {},
     "output_type": "execute_result"
    }
   ],
   "source": [
    "df"
   ]
  },
  {
   "cell_type": "code",
   "execution_count": 22,
   "id": "38636bf3",
   "metadata": {
    "execution": {
     "iopub.execute_input": "2022-07-26T22:53:51.609747Z",
     "iopub.status.busy": "2022-07-26T22:53:51.609001Z",
     "iopub.status.idle": "2022-07-26T22:53:51.679116Z",
     "shell.execute_reply": "2022-07-26T22:53:51.678100Z"
    },
    "papermill": {
     "duration": 0.10182,
     "end_time": "2022-07-26T22:53:51.681409",
     "exception": false,
     "start_time": "2022-07-26T22:53:51.579589",
     "status": "completed"
    },
    "tags": []
   },
   "outputs": [
    {
     "data": {
      "text/html": [
       "<div>\n",
       "<style scoped>\n",
       "    .dataframe tbody tr th:only-of-type {\n",
       "        vertical-align: middle;\n",
       "    }\n",
       "\n",
       "    .dataframe tbody tr th {\n",
       "        vertical-align: top;\n",
       "    }\n",
       "\n",
       "    .dataframe thead th {\n",
       "        text-align: right;\n",
       "    }\n",
       "</style>\n",
       "<table border=\"1\" class=\"dataframe\">\n",
       "  <thead>\n",
       "    <tr style=\"text-align: right;\">\n",
       "      <th></th>\n",
       "      <th>Games</th>\n",
       "      <th>Athlets</th>\n",
       "    </tr>\n",
       "  </thead>\n",
       "  <tbody>\n",
       "    <tr>\n",
       "      <th>0</th>\n",
       "      <td>1896 Summer</td>\n",
       "      <td>380</td>\n",
       "    </tr>\n",
       "    <tr>\n",
       "      <th>1</th>\n",
       "      <td>1900 Summer</td>\n",
       "      <td>1936</td>\n",
       "    </tr>\n",
       "    <tr>\n",
       "      <th>2</th>\n",
       "      <td>1904 Summer</td>\n",
       "      <td>1301</td>\n",
       "    </tr>\n",
       "    <tr>\n",
       "      <th>3</th>\n",
       "      <td>1906 Summer</td>\n",
       "      <td>1733</td>\n",
       "    </tr>\n",
       "    <tr>\n",
       "      <th>4</th>\n",
       "      <td>1908 Summer</td>\n",
       "      <td>3101</td>\n",
       "    </tr>\n",
       "    <tr>\n",
       "      <th>5</th>\n",
       "      <td>1912 Summer</td>\n",
       "      <td>4040</td>\n",
       "    </tr>\n",
       "    <tr>\n",
       "      <th>6</th>\n",
       "      <td>1920 Summer</td>\n",
       "      <td>4292</td>\n",
       "    </tr>\n",
       "    <tr>\n",
       "      <th>7</th>\n",
       "      <td>1924 Summer</td>\n",
       "      <td>5233</td>\n",
       "    </tr>\n",
       "    <tr>\n",
       "      <th>8</th>\n",
       "      <td>1924 Winter</td>\n",
       "      <td>460</td>\n",
       "    </tr>\n",
       "    <tr>\n",
       "      <th>9</th>\n",
       "      <td>1928 Summer</td>\n",
       "      <td>4992</td>\n",
       "    </tr>\n",
       "    <tr>\n",
       "      <th>10</th>\n",
       "      <td>1928 Winter</td>\n",
       "      <td>582</td>\n",
       "    </tr>\n",
       "    <tr>\n",
       "      <th>11</th>\n",
       "      <td>1932 Summer</td>\n",
       "      <td>2969</td>\n",
       "    </tr>\n",
       "    <tr>\n",
       "      <th>12</th>\n",
       "      <td>1932 Winter</td>\n",
       "      <td>352</td>\n",
       "    </tr>\n",
       "    <tr>\n",
       "      <th>13</th>\n",
       "      <td>1936 Summer</td>\n",
       "      <td>6506</td>\n",
       "    </tr>\n",
       "    <tr>\n",
       "      <th>14</th>\n",
       "      <td>1936 Winter</td>\n",
       "      <td>895</td>\n",
       "    </tr>\n",
       "    <tr>\n",
       "      <th>15</th>\n",
       "      <td>1948 Summer</td>\n",
       "      <td>6405</td>\n",
       "    </tr>\n",
       "    <tr>\n",
       "      <th>16</th>\n",
       "      <td>1948 Winter</td>\n",
       "      <td>1075</td>\n",
       "    </tr>\n",
       "    <tr>\n",
       "      <th>17</th>\n",
       "      <td>1952 Summer</td>\n",
       "      <td>8270</td>\n",
       "    </tr>\n",
       "    <tr>\n",
       "      <th>18</th>\n",
       "      <td>1952 Winter</td>\n",
       "      <td>1088</td>\n",
       "    </tr>\n",
       "    <tr>\n",
       "      <th>19</th>\n",
       "      <td>1956 Summer</td>\n",
       "      <td>5127</td>\n",
       "    </tr>\n",
       "    <tr>\n",
       "      <th>20</th>\n",
       "      <td>1956 Winter</td>\n",
       "      <td>1307</td>\n",
       "    </tr>\n",
       "    <tr>\n",
       "      <th>21</th>\n",
       "      <td>1960 Summer</td>\n",
       "      <td>8119</td>\n",
       "    </tr>\n",
       "    <tr>\n",
       "      <th>22</th>\n",
       "      <td>1960 Winter</td>\n",
       "      <td>1116</td>\n",
       "    </tr>\n",
       "    <tr>\n",
       "      <th>23</th>\n",
       "      <td>1964 Summer</td>\n",
       "      <td>7702</td>\n",
       "    </tr>\n",
       "    <tr>\n",
       "      <th>24</th>\n",
       "      <td>1964 Winter</td>\n",
       "      <td>1778</td>\n",
       "    </tr>\n",
       "    <tr>\n",
       "      <th>25</th>\n",
       "      <td>1968 Summer</td>\n",
       "      <td>8588</td>\n",
       "    </tr>\n",
       "    <tr>\n",
       "      <th>26</th>\n",
       "      <td>1968 Winter</td>\n",
       "      <td>1891</td>\n",
       "    </tr>\n",
       "    <tr>\n",
       "      <th>27</th>\n",
       "      <td>1972 Summer</td>\n",
       "      <td>10304</td>\n",
       "    </tr>\n",
       "    <tr>\n",
       "      <th>28</th>\n",
       "      <td>1972 Winter</td>\n",
       "      <td>1655</td>\n",
       "    </tr>\n",
       "    <tr>\n",
       "      <th>29</th>\n",
       "      <td>1976 Summer</td>\n",
       "      <td>8641</td>\n",
       "    </tr>\n",
       "    <tr>\n",
       "      <th>30</th>\n",
       "      <td>1976 Winter</td>\n",
       "      <td>1861</td>\n",
       "    </tr>\n",
       "    <tr>\n",
       "      <th>31</th>\n",
       "      <td>1980 Summer</td>\n",
       "      <td>7191</td>\n",
       "    </tr>\n",
       "    <tr>\n",
       "      <th>32</th>\n",
       "      <td>1980 Winter</td>\n",
       "      <td>1746</td>\n",
       "    </tr>\n",
       "    <tr>\n",
       "      <th>33</th>\n",
       "      <td>1984 Summer</td>\n",
       "      <td>9454</td>\n",
       "    </tr>\n",
       "    <tr>\n",
       "      <th>34</th>\n",
       "      <td>1984 Winter</td>\n",
       "      <td>2134</td>\n",
       "    </tr>\n",
       "    <tr>\n",
       "      <th>35</th>\n",
       "      <td>1988 Summer</td>\n",
       "      <td>12037</td>\n",
       "    </tr>\n",
       "    <tr>\n",
       "      <th>36</th>\n",
       "      <td>1988 Winter</td>\n",
       "      <td>2639</td>\n",
       "    </tr>\n",
       "    <tr>\n",
       "      <th>37</th>\n",
       "      <td>1992 Summer</td>\n",
       "      <td>12977</td>\n",
       "    </tr>\n",
       "    <tr>\n",
       "      <th>38</th>\n",
       "      <td>1992 Winter</td>\n",
       "      <td>3436</td>\n",
       "    </tr>\n",
       "    <tr>\n",
       "      <th>39</th>\n",
       "      <td>1994 Winter</td>\n",
       "      <td>3160</td>\n",
       "    </tr>\n",
       "    <tr>\n",
       "      <th>40</th>\n",
       "      <td>1996 Summer</td>\n",
       "      <td>13780</td>\n",
       "    </tr>\n",
       "    <tr>\n",
       "      <th>41</th>\n",
       "      <td>1998 Winter</td>\n",
       "      <td>3605</td>\n",
       "    </tr>\n",
       "    <tr>\n",
       "      <th>42</th>\n",
       "      <td>2000 Summer</td>\n",
       "      <td>13821</td>\n",
       "    </tr>\n",
       "    <tr>\n",
       "      <th>43</th>\n",
       "      <td>2002 Winter</td>\n",
       "      <td>4109</td>\n",
       "    </tr>\n",
       "    <tr>\n",
       "      <th>44</th>\n",
       "      <td>2004 Summer</td>\n",
       "      <td>13443</td>\n",
       "    </tr>\n",
       "    <tr>\n",
       "      <th>45</th>\n",
       "      <td>2006 Winter</td>\n",
       "      <td>4382</td>\n",
       "    </tr>\n",
       "    <tr>\n",
       "      <th>46</th>\n",
       "      <td>2008 Summer</td>\n",
       "      <td>13602</td>\n",
       "    </tr>\n",
       "    <tr>\n",
       "      <th>47</th>\n",
       "      <td>2010 Winter</td>\n",
       "      <td>4402</td>\n",
       "    </tr>\n",
       "    <tr>\n",
       "      <th>48</th>\n",
       "      <td>2012 Summer</td>\n",
       "      <td>12920</td>\n",
       "    </tr>\n",
       "    <tr>\n",
       "      <th>49</th>\n",
       "      <td>2014 Winter</td>\n",
       "      <td>4891</td>\n",
       "    </tr>\n",
       "    <tr>\n",
       "      <th>50</th>\n",
       "      <td>2016 Summer</td>\n",
       "      <td>13688</td>\n",
       "    </tr>\n",
       "  </tbody>\n",
       "</table>\n",
       "</div>"
      ],
      "text/plain": [
       "          Games  Athlets\n",
       "0   1896 Summer      380\n",
       "1   1900 Summer     1936\n",
       "2   1904 Summer     1301\n",
       "3   1906 Summer     1733\n",
       "4   1908 Summer     3101\n",
       "5   1912 Summer     4040\n",
       "6   1920 Summer     4292\n",
       "7   1924 Summer     5233\n",
       "8   1924 Winter      460\n",
       "9   1928 Summer     4992\n",
       "10  1928 Winter      582\n",
       "11  1932 Summer     2969\n",
       "12  1932 Winter      352\n",
       "13  1936 Summer     6506\n",
       "14  1936 Winter      895\n",
       "15  1948 Summer     6405\n",
       "16  1948 Winter     1075\n",
       "17  1952 Summer     8270\n",
       "18  1952 Winter     1088\n",
       "19  1956 Summer     5127\n",
       "20  1956 Winter     1307\n",
       "21  1960 Summer     8119\n",
       "22  1960 Winter     1116\n",
       "23  1964 Summer     7702\n",
       "24  1964 Winter     1778\n",
       "25  1968 Summer     8588\n",
       "26  1968 Winter     1891\n",
       "27  1972 Summer    10304\n",
       "28  1972 Winter     1655\n",
       "29  1976 Summer     8641\n",
       "30  1976 Winter     1861\n",
       "31  1980 Summer     7191\n",
       "32  1980 Winter     1746\n",
       "33  1984 Summer     9454\n",
       "34  1984 Winter     2134\n",
       "35  1988 Summer    12037\n",
       "36  1988 Winter     2639\n",
       "37  1992 Summer    12977\n",
       "38  1992 Winter     3436\n",
       "39  1994 Winter     3160\n",
       "40  1996 Summer    13780\n",
       "41  1998 Winter     3605\n",
       "42  2000 Summer    13821\n",
       "43  2002 Winter     4109\n",
       "44  2004 Summer    13443\n",
       "45  2006 Winter     4382\n",
       "46  2008 Summer    13602\n",
       "47  2010 Winter     4402\n",
       "48  2012 Summer    12920\n",
       "49  2014 Winter     4891\n",
       "50  2016 Summer    13688"
      ]
     },
     "execution_count": 22,
     "metadata": {},
     "output_type": "execute_result"
    }
   ],
   "source": [
    "#5.\n",
    "participants=df.groupby('Games')['Name'].count().reset_index()\n",
    "participants.rename(columns={'Name':'Athlets'},inplace=True)\n",
    "participants"
   ]
  },
  {
   "cell_type": "code",
   "execution_count": 23,
   "id": "f7950442",
   "metadata": {
    "execution": {
     "iopub.execute_input": "2022-07-26T22:53:51.756764Z",
     "iopub.status.busy": "2022-07-26T22:53:51.755508Z",
     "iopub.status.idle": "2022-07-26T22:53:53.243229Z",
     "shell.execute_reply": "2022-07-26T22:53:53.242153Z"
    },
    "papermill": {
     "duration": 1.531631,
     "end_time": "2022-07-26T22:53:53.246077",
     "exception": false,
     "start_time": "2022-07-26T22:53:51.714446",
     "status": "completed"
    },
    "tags": []
   },
   "outputs": [
    {
     "data": {
      "application/vnd.plotly.v1+json": {
       "config": {
        "plotlyServerURL": "https://plot.ly"
       },
       "data": [
        {
         "alignmentgroup": "True",
         "hovertemplate": "Games=%{x}<br>Athlets=%{y}<extra></extra>",
         "legendgroup": "",
         "marker": {
          "color": "#636efa",
          "pattern": {
           "shape": ""
          }
         },
         "name": "",
         "offsetgroup": "",
         "orientation": "v",
         "showlegend": false,
         "textposition": "auto",
         "type": "bar",
         "x": [
          "1896 Summer",
          "1900 Summer",
          "1904 Summer",
          "1906 Summer",
          "1908 Summer",
          "1912 Summer",
          "1920 Summer",
          "1924 Summer",
          "1924 Winter",
          "1928 Summer",
          "1928 Winter",
          "1932 Summer",
          "1932 Winter",
          "1936 Summer",
          "1936 Winter",
          "1948 Summer",
          "1948 Winter",
          "1952 Summer",
          "1952 Winter",
          "1956 Summer",
          "1956 Winter",
          "1960 Summer",
          "1960 Winter",
          "1964 Summer",
          "1964 Winter",
          "1968 Summer",
          "1968 Winter",
          "1972 Summer",
          "1972 Winter",
          "1976 Summer",
          "1976 Winter",
          "1980 Summer",
          "1980 Winter",
          "1984 Summer",
          "1984 Winter",
          "1988 Summer",
          "1988 Winter",
          "1992 Summer",
          "1992 Winter",
          "1994 Winter",
          "1996 Summer",
          "1998 Winter",
          "2000 Summer",
          "2002 Winter",
          "2004 Summer",
          "2006 Winter",
          "2008 Summer",
          "2010 Winter",
          "2012 Summer",
          "2014 Winter",
          "2016 Summer"
         ],
         "xaxis": "x",
         "y": [
          380,
          1936,
          1301,
          1733,
          3101,
          4040,
          4292,
          5233,
          460,
          4992,
          582,
          2969,
          352,
          6506,
          895,
          6405,
          1075,
          8270,
          1088,
          5127,
          1307,
          8119,
          1116,
          7702,
          1778,
          8588,
          1891,
          10304,
          1655,
          8641,
          1861,
          7191,
          1746,
          9454,
          2134,
          12037,
          2639,
          12977,
          3436,
          3160,
          13780,
          3605,
          13821,
          4109,
          13443,
          4382,
          13602,
          4402,
          12920,
          4891,
          13688
         ],
         "yaxis": "y"
        }
       ],
       "layout": {
        "barmode": "relative",
        "legend": {
         "tracegroupgap": 0
        },
        "margin": {
         "t": 60
        },
        "template": {
         "data": {
          "bar": [
           {
            "error_x": {
             "color": "#2a3f5f"
            },
            "error_y": {
             "color": "#2a3f5f"
            },
            "marker": {
             "line": {
              "color": "#E5ECF6",
              "width": 0.5
             },
             "pattern": {
              "fillmode": "overlay",
              "size": 10,
              "solidity": 0.2
             }
            },
            "type": "bar"
           }
          ],
          "barpolar": [
           {
            "marker": {
             "line": {
              "color": "#E5ECF6",
              "width": 0.5
             },
             "pattern": {
              "fillmode": "overlay",
              "size": 10,
              "solidity": 0.2
             }
            },
            "type": "barpolar"
           }
          ],
          "carpet": [
           {
            "aaxis": {
             "endlinecolor": "#2a3f5f",
             "gridcolor": "white",
             "linecolor": "white",
             "minorgridcolor": "white",
             "startlinecolor": "#2a3f5f"
            },
            "baxis": {
             "endlinecolor": "#2a3f5f",
             "gridcolor": "white",
             "linecolor": "white",
             "minorgridcolor": "white",
             "startlinecolor": "#2a3f5f"
            },
            "type": "carpet"
           }
          ],
          "choropleth": [
           {
            "colorbar": {
             "outlinewidth": 0,
             "ticks": ""
            },
            "type": "choropleth"
           }
          ],
          "contour": [
           {
            "colorbar": {
             "outlinewidth": 0,
             "ticks": ""
            },
            "colorscale": [
             [
              0.0,
              "#0d0887"
             ],
             [
              0.1111111111111111,
              "#46039f"
             ],
             [
              0.2222222222222222,
              "#7201a8"
             ],
             [
              0.3333333333333333,
              "#9c179e"
             ],
             [
              0.4444444444444444,
              "#bd3786"
             ],
             [
              0.5555555555555556,
              "#d8576b"
             ],
             [
              0.6666666666666666,
              "#ed7953"
             ],
             [
              0.7777777777777778,
              "#fb9f3a"
             ],
             [
              0.8888888888888888,
              "#fdca26"
             ],
             [
              1.0,
              "#f0f921"
             ]
            ],
            "type": "contour"
           }
          ],
          "contourcarpet": [
           {
            "colorbar": {
             "outlinewidth": 0,
             "ticks": ""
            },
            "type": "contourcarpet"
           }
          ],
          "heatmap": [
           {
            "colorbar": {
             "outlinewidth": 0,
             "ticks": ""
            },
            "colorscale": [
             [
              0.0,
              "#0d0887"
             ],
             [
              0.1111111111111111,
              "#46039f"
             ],
             [
              0.2222222222222222,
              "#7201a8"
             ],
             [
              0.3333333333333333,
              "#9c179e"
             ],
             [
              0.4444444444444444,
              "#bd3786"
             ],
             [
              0.5555555555555556,
              "#d8576b"
             ],
             [
              0.6666666666666666,
              "#ed7953"
             ],
             [
              0.7777777777777778,
              "#fb9f3a"
             ],
             [
              0.8888888888888888,
              "#fdca26"
             ],
             [
              1.0,
              "#f0f921"
             ]
            ],
            "type": "heatmap"
           }
          ],
          "heatmapgl": [
           {
            "colorbar": {
             "outlinewidth": 0,
             "ticks": ""
            },
            "colorscale": [
             [
              0.0,
              "#0d0887"
             ],
             [
              0.1111111111111111,
              "#46039f"
             ],
             [
              0.2222222222222222,
              "#7201a8"
             ],
             [
              0.3333333333333333,
              "#9c179e"
             ],
             [
              0.4444444444444444,
              "#bd3786"
             ],
             [
              0.5555555555555556,
              "#d8576b"
             ],
             [
              0.6666666666666666,
              "#ed7953"
             ],
             [
              0.7777777777777778,
              "#fb9f3a"
             ],
             [
              0.8888888888888888,
              "#fdca26"
             ],
             [
              1.0,
              "#f0f921"
             ]
            ],
            "type": "heatmapgl"
           }
          ],
          "histogram": [
           {
            "marker": {
             "pattern": {
              "fillmode": "overlay",
              "size": 10,
              "solidity": 0.2
             }
            },
            "type": "histogram"
           }
          ],
          "histogram2d": [
           {
            "colorbar": {
             "outlinewidth": 0,
             "ticks": ""
            },
            "colorscale": [
             [
              0.0,
              "#0d0887"
             ],
             [
              0.1111111111111111,
              "#46039f"
             ],
             [
              0.2222222222222222,
              "#7201a8"
             ],
             [
              0.3333333333333333,
              "#9c179e"
             ],
             [
              0.4444444444444444,
              "#bd3786"
             ],
             [
              0.5555555555555556,
              "#d8576b"
             ],
             [
              0.6666666666666666,
              "#ed7953"
             ],
             [
              0.7777777777777778,
              "#fb9f3a"
             ],
             [
              0.8888888888888888,
              "#fdca26"
             ],
             [
              1.0,
              "#f0f921"
             ]
            ],
            "type": "histogram2d"
           }
          ],
          "histogram2dcontour": [
           {
            "colorbar": {
             "outlinewidth": 0,
             "ticks": ""
            },
            "colorscale": [
             [
              0.0,
              "#0d0887"
             ],
             [
              0.1111111111111111,
              "#46039f"
             ],
             [
              0.2222222222222222,
              "#7201a8"
             ],
             [
              0.3333333333333333,
              "#9c179e"
             ],
             [
              0.4444444444444444,
              "#bd3786"
             ],
             [
              0.5555555555555556,
              "#d8576b"
             ],
             [
              0.6666666666666666,
              "#ed7953"
             ],
             [
              0.7777777777777778,
              "#fb9f3a"
             ],
             [
              0.8888888888888888,
              "#fdca26"
             ],
             [
              1.0,
              "#f0f921"
             ]
            ],
            "type": "histogram2dcontour"
           }
          ],
          "mesh3d": [
           {
            "colorbar": {
             "outlinewidth": 0,
             "ticks": ""
            },
            "type": "mesh3d"
           }
          ],
          "parcoords": [
           {
            "line": {
             "colorbar": {
              "outlinewidth": 0,
              "ticks": ""
             }
            },
            "type": "parcoords"
           }
          ],
          "pie": [
           {
            "automargin": true,
            "type": "pie"
           }
          ],
          "scatter": [
           {
            "fillpattern": {
             "fillmode": "overlay",
             "size": 10,
             "solidity": 0.2
            },
            "type": "scatter"
           }
          ],
          "scatter3d": [
           {
            "line": {
             "colorbar": {
              "outlinewidth": 0,
              "ticks": ""
             }
            },
            "marker": {
             "colorbar": {
              "outlinewidth": 0,
              "ticks": ""
             }
            },
            "type": "scatter3d"
           }
          ],
          "scattercarpet": [
           {
            "marker": {
             "colorbar": {
              "outlinewidth": 0,
              "ticks": ""
             }
            },
            "type": "scattercarpet"
           }
          ],
          "scattergeo": [
           {
            "marker": {
             "colorbar": {
              "outlinewidth": 0,
              "ticks": ""
             }
            },
            "type": "scattergeo"
           }
          ],
          "scattergl": [
           {
            "marker": {
             "colorbar": {
              "outlinewidth": 0,
              "ticks": ""
             }
            },
            "type": "scattergl"
           }
          ],
          "scattermapbox": [
           {
            "marker": {
             "colorbar": {
              "outlinewidth": 0,
              "ticks": ""
             }
            },
            "type": "scattermapbox"
           }
          ],
          "scatterpolar": [
           {
            "marker": {
             "colorbar": {
              "outlinewidth": 0,
              "ticks": ""
             }
            },
            "type": "scatterpolar"
           }
          ],
          "scatterpolargl": [
           {
            "marker": {
             "colorbar": {
              "outlinewidth": 0,
              "ticks": ""
             }
            },
            "type": "scatterpolargl"
           }
          ],
          "scatterternary": [
           {
            "marker": {
             "colorbar": {
              "outlinewidth": 0,
              "ticks": ""
             }
            },
            "type": "scatterternary"
           }
          ],
          "surface": [
           {
            "colorbar": {
             "outlinewidth": 0,
             "ticks": ""
            },
            "colorscale": [
             [
              0.0,
              "#0d0887"
             ],
             [
              0.1111111111111111,
              "#46039f"
             ],
             [
              0.2222222222222222,
              "#7201a8"
             ],
             [
              0.3333333333333333,
              "#9c179e"
             ],
             [
              0.4444444444444444,
              "#bd3786"
             ],
             [
              0.5555555555555556,
              "#d8576b"
             ],
             [
              0.6666666666666666,
              "#ed7953"
             ],
             [
              0.7777777777777778,
              "#fb9f3a"
             ],
             [
              0.8888888888888888,
              "#fdca26"
             ],
             [
              1.0,
              "#f0f921"
             ]
            ],
            "type": "surface"
           }
          ],
          "table": [
           {
            "cells": {
             "fill": {
              "color": "#EBF0F8"
             },
             "line": {
              "color": "white"
             }
            },
            "header": {
             "fill": {
              "color": "#C8D4E3"
             },
             "line": {
              "color": "white"
             }
            },
            "type": "table"
           }
          ]
         },
         "layout": {
          "annotationdefaults": {
           "arrowcolor": "#2a3f5f",
           "arrowhead": 0,
           "arrowwidth": 1
          },
          "autotypenumbers": "strict",
          "coloraxis": {
           "colorbar": {
            "outlinewidth": 0,
            "ticks": ""
           }
          },
          "colorscale": {
           "diverging": [
            [
             0,
             "#8e0152"
            ],
            [
             0.1,
             "#c51b7d"
            ],
            [
             0.2,
             "#de77ae"
            ],
            [
             0.3,
             "#f1b6da"
            ],
            [
             0.4,
             "#fde0ef"
            ],
            [
             0.5,
             "#f7f7f7"
            ],
            [
             0.6,
             "#e6f5d0"
            ],
            [
             0.7,
             "#b8e186"
            ],
            [
             0.8,
             "#7fbc41"
            ],
            [
             0.9,
             "#4d9221"
            ],
            [
             1,
             "#276419"
            ]
           ],
           "sequential": [
            [
             0.0,
             "#0d0887"
            ],
            [
             0.1111111111111111,
             "#46039f"
            ],
            [
             0.2222222222222222,
             "#7201a8"
            ],
            [
             0.3333333333333333,
             "#9c179e"
            ],
            [
             0.4444444444444444,
             "#bd3786"
            ],
            [
             0.5555555555555556,
             "#d8576b"
            ],
            [
             0.6666666666666666,
             "#ed7953"
            ],
            [
             0.7777777777777778,
             "#fb9f3a"
            ],
            [
             0.8888888888888888,
             "#fdca26"
            ],
            [
             1.0,
             "#f0f921"
            ]
           ],
           "sequentialminus": [
            [
             0.0,
             "#0d0887"
            ],
            [
             0.1111111111111111,
             "#46039f"
            ],
            [
             0.2222222222222222,
             "#7201a8"
            ],
            [
             0.3333333333333333,
             "#9c179e"
            ],
            [
             0.4444444444444444,
             "#bd3786"
            ],
            [
             0.5555555555555556,
             "#d8576b"
            ],
            [
             0.6666666666666666,
             "#ed7953"
            ],
            [
             0.7777777777777778,
             "#fb9f3a"
            ],
            [
             0.8888888888888888,
             "#fdca26"
            ],
            [
             1.0,
             "#f0f921"
            ]
           ]
          },
          "colorway": [
           "#636efa",
           "#EF553B",
           "#00cc96",
           "#ab63fa",
           "#FFA15A",
           "#19d3f3",
           "#FF6692",
           "#B6E880",
           "#FF97FF",
           "#FECB52"
          ],
          "font": {
           "color": "#2a3f5f"
          },
          "geo": {
           "bgcolor": "white",
           "lakecolor": "white",
           "landcolor": "#E5ECF6",
           "showlakes": true,
           "showland": true,
           "subunitcolor": "white"
          },
          "hoverlabel": {
           "align": "left"
          },
          "hovermode": "closest",
          "mapbox": {
           "style": "light"
          },
          "paper_bgcolor": "white",
          "plot_bgcolor": "#E5ECF6",
          "polar": {
           "angularaxis": {
            "gridcolor": "white",
            "linecolor": "white",
            "ticks": ""
           },
           "bgcolor": "#E5ECF6",
           "radialaxis": {
            "gridcolor": "white",
            "linecolor": "white",
            "ticks": ""
           }
          },
          "scene": {
           "xaxis": {
            "backgroundcolor": "#E5ECF6",
            "gridcolor": "white",
            "gridwidth": 2,
            "linecolor": "white",
            "showbackground": true,
            "ticks": "",
            "zerolinecolor": "white"
           },
           "yaxis": {
            "backgroundcolor": "#E5ECF6",
            "gridcolor": "white",
            "gridwidth": 2,
            "linecolor": "white",
            "showbackground": true,
            "ticks": "",
            "zerolinecolor": "white"
           },
           "zaxis": {
            "backgroundcolor": "#E5ECF6",
            "gridcolor": "white",
            "gridwidth": 2,
            "linecolor": "white",
            "showbackground": true,
            "ticks": "",
            "zerolinecolor": "white"
           }
          },
          "shapedefaults": {
           "line": {
            "color": "#2a3f5f"
           }
          },
          "ternary": {
           "aaxis": {
            "gridcolor": "white",
            "linecolor": "white",
            "ticks": ""
           },
           "baxis": {
            "gridcolor": "white",
            "linecolor": "white",
            "ticks": ""
           },
           "bgcolor": "#E5ECF6",
           "caxis": {
            "gridcolor": "white",
            "linecolor": "white",
            "ticks": ""
           }
          },
          "title": {
           "x": 0.05
          },
          "xaxis": {
           "automargin": true,
           "gridcolor": "white",
           "linecolor": "white",
           "ticks": "",
           "title": {
            "standoff": 15
           },
           "zerolinecolor": "white",
           "zerolinewidth": 2
          },
          "yaxis": {
           "automargin": true,
           "gridcolor": "white",
           "linecolor": "white",
           "ticks": "",
           "title": {
            "standoff": 15
           },
           "zerolinecolor": "white",
           "zerolinewidth": 2
          }
         }
        },
        "xaxis": {
         "anchor": "y",
         "domain": [
          0.0,
          1.0
         ],
         "title": {
          "text": "Games"
         }
        },
        "yaxis": {
         "anchor": "x",
         "domain": [
          0.0,
          1.0
         ],
         "title": {
          "text": "Athlets"
         }
        }
       }
      },
      "text/html": [
       "<div>                            <div id=\"a0c7593f-6792-451f-95c1-935b23d60c43\" class=\"plotly-graph-div\" style=\"height:525px; width:100%;\"></div>            <script type=\"text/javascript\">                require([\"plotly\"], function(Plotly) {                    window.PLOTLYENV=window.PLOTLYENV || {};                                    if (document.getElementById(\"a0c7593f-6792-451f-95c1-935b23d60c43\")) {                    Plotly.newPlot(                        \"a0c7593f-6792-451f-95c1-935b23d60c43\",                        [{\"alignmentgroup\":\"True\",\"hovertemplate\":\"Games=%{x}<br>Athlets=%{y}<extra></extra>\",\"legendgroup\":\"\",\"marker\":{\"color\":\"#636efa\",\"pattern\":{\"shape\":\"\"}},\"name\":\"\",\"offsetgroup\":\"\",\"orientation\":\"v\",\"showlegend\":false,\"textposition\":\"auto\",\"x\":[\"1896 Summer\",\"1900 Summer\",\"1904 Summer\",\"1906 Summer\",\"1908 Summer\",\"1912 Summer\",\"1920 Summer\",\"1924 Summer\",\"1924 Winter\",\"1928 Summer\",\"1928 Winter\",\"1932 Summer\",\"1932 Winter\",\"1936 Summer\",\"1936 Winter\",\"1948 Summer\",\"1948 Winter\",\"1952 Summer\",\"1952 Winter\",\"1956 Summer\",\"1956 Winter\",\"1960 Summer\",\"1960 Winter\",\"1964 Summer\",\"1964 Winter\",\"1968 Summer\",\"1968 Winter\",\"1972 Summer\",\"1972 Winter\",\"1976 Summer\",\"1976 Winter\",\"1980 Summer\",\"1980 Winter\",\"1984 Summer\",\"1984 Winter\",\"1988 Summer\",\"1988 Winter\",\"1992 Summer\",\"1992 Winter\",\"1994 Winter\",\"1996 Summer\",\"1998 Winter\",\"2000 Summer\",\"2002 Winter\",\"2004 Summer\",\"2006 Winter\",\"2008 Summer\",\"2010 Winter\",\"2012 Summer\",\"2014 Winter\",\"2016 Summer\"],\"xaxis\":\"x\",\"y\":[380,1936,1301,1733,3101,4040,4292,5233,460,4992,582,2969,352,6506,895,6405,1075,8270,1088,5127,1307,8119,1116,7702,1778,8588,1891,10304,1655,8641,1861,7191,1746,9454,2134,12037,2639,12977,3436,3160,13780,3605,13821,4109,13443,4382,13602,4402,12920,4891,13688],\"yaxis\":\"y\",\"type\":\"bar\"}],                        {\"template\":{\"data\":{\"histogram2dcontour\":[{\"type\":\"histogram2dcontour\",\"colorbar\":{\"outlinewidth\":0,\"ticks\":\"\"},\"colorscale\":[[0.0,\"#0d0887\"],[0.1111111111111111,\"#46039f\"],[0.2222222222222222,\"#7201a8\"],[0.3333333333333333,\"#9c179e\"],[0.4444444444444444,\"#bd3786\"],[0.5555555555555556,\"#d8576b\"],[0.6666666666666666,\"#ed7953\"],[0.7777777777777778,\"#fb9f3a\"],[0.8888888888888888,\"#fdca26\"],[1.0,\"#f0f921\"]]}],\"choropleth\":[{\"type\":\"choropleth\",\"colorbar\":{\"outlinewidth\":0,\"ticks\":\"\"}}],\"histogram2d\":[{\"type\":\"histogram2d\",\"colorbar\":{\"outlinewidth\":0,\"ticks\":\"\"},\"colorscale\":[[0.0,\"#0d0887\"],[0.1111111111111111,\"#46039f\"],[0.2222222222222222,\"#7201a8\"],[0.3333333333333333,\"#9c179e\"],[0.4444444444444444,\"#bd3786\"],[0.5555555555555556,\"#d8576b\"],[0.6666666666666666,\"#ed7953\"],[0.7777777777777778,\"#fb9f3a\"],[0.8888888888888888,\"#fdca26\"],[1.0,\"#f0f921\"]]}],\"heatmap\":[{\"type\":\"heatmap\",\"colorbar\":{\"outlinewidth\":0,\"ticks\":\"\"},\"colorscale\":[[0.0,\"#0d0887\"],[0.1111111111111111,\"#46039f\"],[0.2222222222222222,\"#7201a8\"],[0.3333333333333333,\"#9c179e\"],[0.4444444444444444,\"#bd3786\"],[0.5555555555555556,\"#d8576b\"],[0.6666666666666666,\"#ed7953\"],[0.7777777777777778,\"#fb9f3a\"],[0.8888888888888888,\"#fdca26\"],[1.0,\"#f0f921\"]]}],\"heatmapgl\":[{\"type\":\"heatmapgl\",\"colorbar\":{\"outlinewidth\":0,\"ticks\":\"\"},\"colorscale\":[[0.0,\"#0d0887\"],[0.1111111111111111,\"#46039f\"],[0.2222222222222222,\"#7201a8\"],[0.3333333333333333,\"#9c179e\"],[0.4444444444444444,\"#bd3786\"],[0.5555555555555556,\"#d8576b\"],[0.6666666666666666,\"#ed7953\"],[0.7777777777777778,\"#fb9f3a\"],[0.8888888888888888,\"#fdca26\"],[1.0,\"#f0f921\"]]}],\"contourcarpet\":[{\"type\":\"contourcarpet\",\"colorbar\":{\"outlinewidth\":0,\"ticks\":\"\"}}],\"contour\":[{\"type\":\"contour\",\"colorbar\":{\"outlinewidth\":0,\"ticks\":\"\"},\"colorscale\":[[0.0,\"#0d0887\"],[0.1111111111111111,\"#46039f\"],[0.2222222222222222,\"#7201a8\"],[0.3333333333333333,\"#9c179e\"],[0.4444444444444444,\"#bd3786\"],[0.5555555555555556,\"#d8576b\"],[0.6666666666666666,\"#ed7953\"],[0.7777777777777778,\"#fb9f3a\"],[0.8888888888888888,\"#fdca26\"],[1.0,\"#f0f921\"]]}],\"surface\":[{\"type\":\"surface\",\"colorbar\":{\"outlinewidth\":0,\"ticks\":\"\"},\"colorscale\":[[0.0,\"#0d0887\"],[0.1111111111111111,\"#46039f\"],[0.2222222222222222,\"#7201a8\"],[0.3333333333333333,\"#9c179e\"],[0.4444444444444444,\"#bd3786\"],[0.5555555555555556,\"#d8576b\"],[0.6666666666666666,\"#ed7953\"],[0.7777777777777778,\"#fb9f3a\"],[0.8888888888888888,\"#fdca26\"],[1.0,\"#f0f921\"]]}],\"mesh3d\":[{\"type\":\"mesh3d\",\"colorbar\":{\"outlinewidth\":0,\"ticks\":\"\"}}],\"scatter\":[{\"fillpattern\":{\"fillmode\":\"overlay\",\"size\":10,\"solidity\":0.2},\"type\":\"scatter\"}],\"parcoords\":[{\"type\":\"parcoords\",\"line\":{\"colorbar\":{\"outlinewidth\":0,\"ticks\":\"\"}}}],\"scatterpolargl\":[{\"type\":\"scatterpolargl\",\"marker\":{\"colorbar\":{\"outlinewidth\":0,\"ticks\":\"\"}}}],\"bar\":[{\"error_x\":{\"color\":\"#2a3f5f\"},\"error_y\":{\"color\":\"#2a3f5f\"},\"marker\":{\"line\":{\"color\":\"#E5ECF6\",\"width\":0.5},\"pattern\":{\"fillmode\":\"overlay\",\"size\":10,\"solidity\":0.2}},\"type\":\"bar\"}],\"scattergeo\":[{\"type\":\"scattergeo\",\"marker\":{\"colorbar\":{\"outlinewidth\":0,\"ticks\":\"\"}}}],\"scatterpolar\":[{\"type\":\"scatterpolar\",\"marker\":{\"colorbar\":{\"outlinewidth\":0,\"ticks\":\"\"}}}],\"histogram\":[{\"marker\":{\"pattern\":{\"fillmode\":\"overlay\",\"size\":10,\"solidity\":0.2}},\"type\":\"histogram\"}],\"scattergl\":[{\"type\":\"scattergl\",\"marker\":{\"colorbar\":{\"outlinewidth\":0,\"ticks\":\"\"}}}],\"scatter3d\":[{\"type\":\"scatter3d\",\"line\":{\"colorbar\":{\"outlinewidth\":0,\"ticks\":\"\"}},\"marker\":{\"colorbar\":{\"outlinewidth\":0,\"ticks\":\"\"}}}],\"scattermapbox\":[{\"type\":\"scattermapbox\",\"marker\":{\"colorbar\":{\"outlinewidth\":0,\"ticks\":\"\"}}}],\"scatterternary\":[{\"type\":\"scatterternary\",\"marker\":{\"colorbar\":{\"outlinewidth\":0,\"ticks\":\"\"}}}],\"scattercarpet\":[{\"type\":\"scattercarpet\",\"marker\":{\"colorbar\":{\"outlinewidth\":0,\"ticks\":\"\"}}}],\"carpet\":[{\"aaxis\":{\"endlinecolor\":\"#2a3f5f\",\"gridcolor\":\"white\",\"linecolor\":\"white\",\"minorgridcolor\":\"white\",\"startlinecolor\":\"#2a3f5f\"},\"baxis\":{\"endlinecolor\":\"#2a3f5f\",\"gridcolor\":\"white\",\"linecolor\":\"white\",\"minorgridcolor\":\"white\",\"startlinecolor\":\"#2a3f5f\"},\"type\":\"carpet\"}],\"table\":[{\"cells\":{\"fill\":{\"color\":\"#EBF0F8\"},\"line\":{\"color\":\"white\"}},\"header\":{\"fill\":{\"color\":\"#C8D4E3\"},\"line\":{\"color\":\"white\"}},\"type\":\"table\"}],\"barpolar\":[{\"marker\":{\"line\":{\"color\":\"#E5ECF6\",\"width\":0.5},\"pattern\":{\"fillmode\":\"overlay\",\"size\":10,\"solidity\":0.2}},\"type\":\"barpolar\"}],\"pie\":[{\"automargin\":true,\"type\":\"pie\"}]},\"layout\":{\"autotypenumbers\":\"strict\",\"colorway\":[\"#636efa\",\"#EF553B\",\"#00cc96\",\"#ab63fa\",\"#FFA15A\",\"#19d3f3\",\"#FF6692\",\"#B6E880\",\"#FF97FF\",\"#FECB52\"],\"font\":{\"color\":\"#2a3f5f\"},\"hovermode\":\"closest\",\"hoverlabel\":{\"align\":\"left\"},\"paper_bgcolor\":\"white\",\"plot_bgcolor\":\"#E5ECF6\",\"polar\":{\"bgcolor\":\"#E5ECF6\",\"angularaxis\":{\"gridcolor\":\"white\",\"linecolor\":\"white\",\"ticks\":\"\"},\"radialaxis\":{\"gridcolor\":\"white\",\"linecolor\":\"white\",\"ticks\":\"\"}},\"ternary\":{\"bgcolor\":\"#E5ECF6\",\"aaxis\":{\"gridcolor\":\"white\",\"linecolor\":\"white\",\"ticks\":\"\"},\"baxis\":{\"gridcolor\":\"white\",\"linecolor\":\"white\",\"ticks\":\"\"},\"caxis\":{\"gridcolor\":\"white\",\"linecolor\":\"white\",\"ticks\":\"\"}},\"coloraxis\":{\"colorbar\":{\"outlinewidth\":0,\"ticks\":\"\"}},\"colorscale\":{\"sequential\":[[0.0,\"#0d0887\"],[0.1111111111111111,\"#46039f\"],[0.2222222222222222,\"#7201a8\"],[0.3333333333333333,\"#9c179e\"],[0.4444444444444444,\"#bd3786\"],[0.5555555555555556,\"#d8576b\"],[0.6666666666666666,\"#ed7953\"],[0.7777777777777778,\"#fb9f3a\"],[0.8888888888888888,\"#fdca26\"],[1.0,\"#f0f921\"]],\"sequentialminus\":[[0.0,\"#0d0887\"],[0.1111111111111111,\"#46039f\"],[0.2222222222222222,\"#7201a8\"],[0.3333333333333333,\"#9c179e\"],[0.4444444444444444,\"#bd3786\"],[0.5555555555555556,\"#d8576b\"],[0.6666666666666666,\"#ed7953\"],[0.7777777777777778,\"#fb9f3a\"],[0.8888888888888888,\"#fdca26\"],[1.0,\"#f0f921\"]],\"diverging\":[[0,\"#8e0152\"],[0.1,\"#c51b7d\"],[0.2,\"#de77ae\"],[0.3,\"#f1b6da\"],[0.4,\"#fde0ef\"],[0.5,\"#f7f7f7\"],[0.6,\"#e6f5d0\"],[0.7,\"#b8e186\"],[0.8,\"#7fbc41\"],[0.9,\"#4d9221\"],[1,\"#276419\"]]},\"xaxis\":{\"gridcolor\":\"white\",\"linecolor\":\"white\",\"ticks\":\"\",\"title\":{\"standoff\":15},\"zerolinecolor\":\"white\",\"automargin\":true,\"zerolinewidth\":2},\"yaxis\":{\"gridcolor\":\"white\",\"linecolor\":\"white\",\"ticks\":\"\",\"title\":{\"standoff\":15},\"zerolinecolor\":\"white\",\"automargin\":true,\"zerolinewidth\":2},\"scene\":{\"xaxis\":{\"backgroundcolor\":\"#E5ECF6\",\"gridcolor\":\"white\",\"linecolor\":\"white\",\"showbackground\":true,\"ticks\":\"\",\"zerolinecolor\":\"white\",\"gridwidth\":2},\"yaxis\":{\"backgroundcolor\":\"#E5ECF6\",\"gridcolor\":\"white\",\"linecolor\":\"white\",\"showbackground\":true,\"ticks\":\"\",\"zerolinecolor\":\"white\",\"gridwidth\":2},\"zaxis\":{\"backgroundcolor\":\"#E5ECF6\",\"gridcolor\":\"white\",\"linecolor\":\"white\",\"showbackground\":true,\"ticks\":\"\",\"zerolinecolor\":\"white\",\"gridwidth\":2}},\"shapedefaults\":{\"line\":{\"color\":\"#2a3f5f\"}},\"annotationdefaults\":{\"arrowcolor\":\"#2a3f5f\",\"arrowhead\":0,\"arrowwidth\":1},\"geo\":{\"bgcolor\":\"white\",\"landcolor\":\"#E5ECF6\",\"subunitcolor\":\"white\",\"showland\":true,\"showlakes\":true,\"lakecolor\":\"white\"},\"title\":{\"x\":0.05},\"mapbox\":{\"style\":\"light\"}}},\"xaxis\":{\"anchor\":\"y\",\"domain\":[0.0,1.0],\"title\":{\"text\":\"Games\"}},\"yaxis\":{\"anchor\":\"x\",\"domain\":[0.0,1.0],\"title\":{\"text\":\"Athlets\"}},\"legend\":{\"tracegroupgap\":0},\"margin\":{\"t\":60},\"barmode\":\"relative\"},                        {\"responsive\": true}                    ).then(function(){\n",
       "                            \n",
       "var gd = document.getElementById('a0c7593f-6792-451f-95c1-935b23d60c43');\n",
       "var x = new MutationObserver(function (mutations, observer) {{\n",
       "        var display = window.getComputedStyle(gd).display;\n",
       "        if (!display || display === 'none') {{\n",
       "            console.log([gd, 'removed!']);\n",
       "            Plotly.purge(gd);\n",
       "            observer.disconnect();\n",
       "        }}\n",
       "}});\n",
       "\n",
       "// Listen for the removal of the full notebook cells\n",
       "var notebookContainer = gd.closest('#notebook-container');\n",
       "if (notebookContainer) {{\n",
       "    x.observe(notebookContainer, {childList: true});\n",
       "}}\n",
       "\n",
       "// Listen for the clearing of the current output cell\n",
       "var outputEl = gd.closest('.output');\n",
       "if (outputEl) {{\n",
       "    x.observe(outputEl, {childList: true});\n",
       "}}\n",
       "\n",
       "                        })                };                });            </script>        </div>"
      ]
     },
     "metadata": {},
     "output_type": "display_data"
    }
   ],
   "source": [
    "import plotly.express as px\n",
    "\n",
    "fig = px.bar(participants, x='Games', y='Athlets')\n",
    "fig.show()"
   ]
  },
  {
   "cell_type": "code",
   "execution_count": 24,
   "id": "dd3e4cd2",
   "metadata": {
    "execution": {
     "iopub.execute_input": "2022-07-26T22:53:53.316105Z",
     "iopub.status.busy": "2022-07-26T22:53:53.315744Z",
     "iopub.status.idle": "2022-07-26T22:53:53.381443Z",
     "shell.execute_reply": "2022-07-26T22:53:53.380190Z"
    },
    "papermill": {
     "duration": 0.103766,
     "end_time": "2022-07-26T22:53:53.383851",
     "exception": false,
     "start_time": "2022-07-26T22:53:53.280085",
     "status": "completed"
    },
    "tags": []
   },
   "outputs": [
    {
     "data": {
      "text/html": [
       "<div>\n",
       "<style scoped>\n",
       "    .dataframe tbody tr th:only-of-type {\n",
       "        vertical-align: middle;\n",
       "    }\n",
       "\n",
       "    .dataframe tbody tr th {\n",
       "        vertical-align: top;\n",
       "    }\n",
       "\n",
       "    .dataframe thead th {\n",
       "        text-align: right;\n",
       "    }\n",
       "</style>\n",
       "<table border=\"1\" class=\"dataframe\">\n",
       "  <thead>\n",
       "    <tr style=\"text-align: right;\">\n",
       "      <th></th>\n",
       "      <th>Season</th>\n",
       "      <th>Athlets</th>\n",
       "    </tr>\n",
       "  </thead>\n",
       "  <tbody>\n",
       "    <tr>\n",
       "      <th>0</th>\n",
       "      <td>Summer</td>\n",
       "      <td>222552</td>\n",
       "    </tr>\n",
       "    <tr>\n",
       "      <th>1</th>\n",
       "      <td>Winter</td>\n",
       "      <td>48564</td>\n",
       "    </tr>\n",
       "  </tbody>\n",
       "</table>\n",
       "</div>"
      ],
      "text/plain": [
       "   Season  Athlets\n",
       "0  Summer   222552\n",
       "1  Winter    48564"
      ]
     },
     "execution_count": 24,
     "metadata": {},
     "output_type": "execute_result"
    }
   ],
   "source": [
    "#6.\n",
    "participants=df.groupby('Season')['Name'].count().reset_index()\n",
    "participants.rename(columns={'Name':'Athlets'},inplace=True)\n",
    "participants"
   ]
  },
  {
   "cell_type": "code",
   "execution_count": 25,
   "id": "8f73287c",
   "metadata": {
    "execution": {
     "iopub.execute_input": "2022-07-26T22:53:53.462558Z",
     "iopub.status.busy": "2022-07-26T22:53:53.462143Z",
     "iopub.status.idle": "2022-07-26T22:53:53.544790Z",
     "shell.execute_reply": "2022-07-26T22:53:53.543812Z"
    },
    "papermill": {
     "duration": 0.12044,
     "end_time": "2022-07-26T22:53:53.547341",
     "exception": false,
     "start_time": "2022-07-26T22:53:53.426901",
     "status": "completed"
    },
    "tags": []
   },
   "outputs": [
    {
     "data": {
      "application/vnd.plotly.v1+json": {
       "config": {
        "plotlyServerURL": "https://plot.ly"
       },
       "data": [
        {
         "alignmentgroup": "True",
         "hovertemplate": "Athlets=%{y}<extra></extra>",
         "legendgroup": "",
         "marker": {
          "color": "#636efa"
         },
         "name": "",
         "notched": false,
         "offsetgroup": "",
         "orientation": "v",
         "showlegend": false,
         "type": "box",
         "x0": " ",
         "xaxis": "x",
         "y": [
          222552,
          48564
         ],
         "y0": " ",
         "yaxis": "y"
        }
       ],
       "layout": {
        "boxmode": "group",
        "legend": {
         "tracegroupgap": 0
        },
        "margin": {
         "t": 60
        },
        "template": {
         "data": {
          "bar": [
           {
            "error_x": {
             "color": "#2a3f5f"
            },
            "error_y": {
             "color": "#2a3f5f"
            },
            "marker": {
             "line": {
              "color": "#E5ECF6",
              "width": 0.5
             },
             "pattern": {
              "fillmode": "overlay",
              "size": 10,
              "solidity": 0.2
             }
            },
            "type": "bar"
           }
          ],
          "barpolar": [
           {
            "marker": {
             "line": {
              "color": "#E5ECF6",
              "width": 0.5
             },
             "pattern": {
              "fillmode": "overlay",
              "size": 10,
              "solidity": 0.2
             }
            },
            "type": "barpolar"
           }
          ],
          "carpet": [
           {
            "aaxis": {
             "endlinecolor": "#2a3f5f",
             "gridcolor": "white",
             "linecolor": "white",
             "minorgridcolor": "white",
             "startlinecolor": "#2a3f5f"
            },
            "baxis": {
             "endlinecolor": "#2a3f5f",
             "gridcolor": "white",
             "linecolor": "white",
             "minorgridcolor": "white",
             "startlinecolor": "#2a3f5f"
            },
            "type": "carpet"
           }
          ],
          "choropleth": [
           {
            "colorbar": {
             "outlinewidth": 0,
             "ticks": ""
            },
            "type": "choropleth"
           }
          ],
          "contour": [
           {
            "colorbar": {
             "outlinewidth": 0,
             "ticks": ""
            },
            "colorscale": [
             [
              0.0,
              "#0d0887"
             ],
             [
              0.1111111111111111,
              "#46039f"
             ],
             [
              0.2222222222222222,
              "#7201a8"
             ],
             [
              0.3333333333333333,
              "#9c179e"
             ],
             [
              0.4444444444444444,
              "#bd3786"
             ],
             [
              0.5555555555555556,
              "#d8576b"
             ],
             [
              0.6666666666666666,
              "#ed7953"
             ],
             [
              0.7777777777777778,
              "#fb9f3a"
             ],
             [
              0.8888888888888888,
              "#fdca26"
             ],
             [
              1.0,
              "#f0f921"
             ]
            ],
            "type": "contour"
           }
          ],
          "contourcarpet": [
           {
            "colorbar": {
             "outlinewidth": 0,
             "ticks": ""
            },
            "type": "contourcarpet"
           }
          ],
          "heatmap": [
           {
            "colorbar": {
             "outlinewidth": 0,
             "ticks": ""
            },
            "colorscale": [
             [
              0.0,
              "#0d0887"
             ],
             [
              0.1111111111111111,
              "#46039f"
             ],
             [
              0.2222222222222222,
              "#7201a8"
             ],
             [
              0.3333333333333333,
              "#9c179e"
             ],
             [
              0.4444444444444444,
              "#bd3786"
             ],
             [
              0.5555555555555556,
              "#d8576b"
             ],
             [
              0.6666666666666666,
              "#ed7953"
             ],
             [
              0.7777777777777778,
              "#fb9f3a"
             ],
             [
              0.8888888888888888,
              "#fdca26"
             ],
             [
              1.0,
              "#f0f921"
             ]
            ],
            "type": "heatmap"
           }
          ],
          "heatmapgl": [
           {
            "colorbar": {
             "outlinewidth": 0,
             "ticks": ""
            },
            "colorscale": [
             [
              0.0,
              "#0d0887"
             ],
             [
              0.1111111111111111,
              "#46039f"
             ],
             [
              0.2222222222222222,
              "#7201a8"
             ],
             [
              0.3333333333333333,
              "#9c179e"
             ],
             [
              0.4444444444444444,
              "#bd3786"
             ],
             [
              0.5555555555555556,
              "#d8576b"
             ],
             [
              0.6666666666666666,
              "#ed7953"
             ],
             [
              0.7777777777777778,
              "#fb9f3a"
             ],
             [
              0.8888888888888888,
              "#fdca26"
             ],
             [
              1.0,
              "#f0f921"
             ]
            ],
            "type": "heatmapgl"
           }
          ],
          "histogram": [
           {
            "marker": {
             "pattern": {
              "fillmode": "overlay",
              "size": 10,
              "solidity": 0.2
             }
            },
            "type": "histogram"
           }
          ],
          "histogram2d": [
           {
            "colorbar": {
             "outlinewidth": 0,
             "ticks": ""
            },
            "colorscale": [
             [
              0.0,
              "#0d0887"
             ],
             [
              0.1111111111111111,
              "#46039f"
             ],
             [
              0.2222222222222222,
              "#7201a8"
             ],
             [
              0.3333333333333333,
              "#9c179e"
             ],
             [
              0.4444444444444444,
              "#bd3786"
             ],
             [
              0.5555555555555556,
              "#d8576b"
             ],
             [
              0.6666666666666666,
              "#ed7953"
             ],
             [
              0.7777777777777778,
              "#fb9f3a"
             ],
             [
              0.8888888888888888,
              "#fdca26"
             ],
             [
              1.0,
              "#f0f921"
             ]
            ],
            "type": "histogram2d"
           }
          ],
          "histogram2dcontour": [
           {
            "colorbar": {
             "outlinewidth": 0,
             "ticks": ""
            },
            "colorscale": [
             [
              0.0,
              "#0d0887"
             ],
             [
              0.1111111111111111,
              "#46039f"
             ],
             [
              0.2222222222222222,
              "#7201a8"
             ],
             [
              0.3333333333333333,
              "#9c179e"
             ],
             [
              0.4444444444444444,
              "#bd3786"
             ],
             [
              0.5555555555555556,
              "#d8576b"
             ],
             [
              0.6666666666666666,
              "#ed7953"
             ],
             [
              0.7777777777777778,
              "#fb9f3a"
             ],
             [
              0.8888888888888888,
              "#fdca26"
             ],
             [
              1.0,
              "#f0f921"
             ]
            ],
            "type": "histogram2dcontour"
           }
          ],
          "mesh3d": [
           {
            "colorbar": {
             "outlinewidth": 0,
             "ticks": ""
            },
            "type": "mesh3d"
           }
          ],
          "parcoords": [
           {
            "line": {
             "colorbar": {
              "outlinewidth": 0,
              "ticks": ""
             }
            },
            "type": "parcoords"
           }
          ],
          "pie": [
           {
            "automargin": true,
            "type": "pie"
           }
          ],
          "scatter": [
           {
            "fillpattern": {
             "fillmode": "overlay",
             "size": 10,
             "solidity": 0.2
            },
            "type": "scatter"
           }
          ],
          "scatter3d": [
           {
            "line": {
             "colorbar": {
              "outlinewidth": 0,
              "ticks": ""
             }
            },
            "marker": {
             "colorbar": {
              "outlinewidth": 0,
              "ticks": ""
             }
            },
            "type": "scatter3d"
           }
          ],
          "scattercarpet": [
           {
            "marker": {
             "colorbar": {
              "outlinewidth": 0,
              "ticks": ""
             }
            },
            "type": "scattercarpet"
           }
          ],
          "scattergeo": [
           {
            "marker": {
             "colorbar": {
              "outlinewidth": 0,
              "ticks": ""
             }
            },
            "type": "scattergeo"
           }
          ],
          "scattergl": [
           {
            "marker": {
             "colorbar": {
              "outlinewidth": 0,
              "ticks": ""
             }
            },
            "type": "scattergl"
           }
          ],
          "scattermapbox": [
           {
            "marker": {
             "colorbar": {
              "outlinewidth": 0,
              "ticks": ""
             }
            },
            "type": "scattermapbox"
           }
          ],
          "scatterpolar": [
           {
            "marker": {
             "colorbar": {
              "outlinewidth": 0,
              "ticks": ""
             }
            },
            "type": "scatterpolar"
           }
          ],
          "scatterpolargl": [
           {
            "marker": {
             "colorbar": {
              "outlinewidth": 0,
              "ticks": ""
             }
            },
            "type": "scatterpolargl"
           }
          ],
          "scatterternary": [
           {
            "marker": {
             "colorbar": {
              "outlinewidth": 0,
              "ticks": ""
             }
            },
            "type": "scatterternary"
           }
          ],
          "surface": [
           {
            "colorbar": {
             "outlinewidth": 0,
             "ticks": ""
            },
            "colorscale": [
             [
              0.0,
              "#0d0887"
             ],
             [
              0.1111111111111111,
              "#46039f"
             ],
             [
              0.2222222222222222,
              "#7201a8"
             ],
             [
              0.3333333333333333,
              "#9c179e"
             ],
             [
              0.4444444444444444,
              "#bd3786"
             ],
             [
              0.5555555555555556,
              "#d8576b"
             ],
             [
              0.6666666666666666,
              "#ed7953"
             ],
             [
              0.7777777777777778,
              "#fb9f3a"
             ],
             [
              0.8888888888888888,
              "#fdca26"
             ],
             [
              1.0,
              "#f0f921"
             ]
            ],
            "type": "surface"
           }
          ],
          "table": [
           {
            "cells": {
             "fill": {
              "color": "#EBF0F8"
             },
             "line": {
              "color": "white"
             }
            },
            "header": {
             "fill": {
              "color": "#C8D4E3"
             },
             "line": {
              "color": "white"
             }
            },
            "type": "table"
           }
          ]
         },
         "layout": {
          "annotationdefaults": {
           "arrowcolor": "#2a3f5f",
           "arrowhead": 0,
           "arrowwidth": 1
          },
          "autotypenumbers": "strict",
          "coloraxis": {
           "colorbar": {
            "outlinewidth": 0,
            "ticks": ""
           }
          },
          "colorscale": {
           "diverging": [
            [
             0,
             "#8e0152"
            ],
            [
             0.1,
             "#c51b7d"
            ],
            [
             0.2,
             "#de77ae"
            ],
            [
             0.3,
             "#f1b6da"
            ],
            [
             0.4,
             "#fde0ef"
            ],
            [
             0.5,
             "#f7f7f7"
            ],
            [
             0.6,
             "#e6f5d0"
            ],
            [
             0.7,
             "#b8e186"
            ],
            [
             0.8,
             "#7fbc41"
            ],
            [
             0.9,
             "#4d9221"
            ],
            [
             1,
             "#276419"
            ]
           ],
           "sequential": [
            [
             0.0,
             "#0d0887"
            ],
            [
             0.1111111111111111,
             "#46039f"
            ],
            [
             0.2222222222222222,
             "#7201a8"
            ],
            [
             0.3333333333333333,
             "#9c179e"
            ],
            [
             0.4444444444444444,
             "#bd3786"
            ],
            [
             0.5555555555555556,
             "#d8576b"
            ],
            [
             0.6666666666666666,
             "#ed7953"
            ],
            [
             0.7777777777777778,
             "#fb9f3a"
            ],
            [
             0.8888888888888888,
             "#fdca26"
            ],
            [
             1.0,
             "#f0f921"
            ]
           ],
           "sequentialminus": [
            [
             0.0,
             "#0d0887"
            ],
            [
             0.1111111111111111,
             "#46039f"
            ],
            [
             0.2222222222222222,
             "#7201a8"
            ],
            [
             0.3333333333333333,
             "#9c179e"
            ],
            [
             0.4444444444444444,
             "#bd3786"
            ],
            [
             0.5555555555555556,
             "#d8576b"
            ],
            [
             0.6666666666666666,
             "#ed7953"
            ],
            [
             0.7777777777777778,
             "#fb9f3a"
            ],
            [
             0.8888888888888888,
             "#fdca26"
            ],
            [
             1.0,
             "#f0f921"
            ]
           ]
          },
          "colorway": [
           "#636efa",
           "#EF553B",
           "#00cc96",
           "#ab63fa",
           "#FFA15A",
           "#19d3f3",
           "#FF6692",
           "#B6E880",
           "#FF97FF",
           "#FECB52"
          ],
          "font": {
           "color": "#2a3f5f"
          },
          "geo": {
           "bgcolor": "white",
           "lakecolor": "white",
           "landcolor": "#E5ECF6",
           "showlakes": true,
           "showland": true,
           "subunitcolor": "white"
          },
          "hoverlabel": {
           "align": "left"
          },
          "hovermode": "closest",
          "mapbox": {
           "style": "light"
          },
          "paper_bgcolor": "white",
          "plot_bgcolor": "#E5ECF6",
          "polar": {
           "angularaxis": {
            "gridcolor": "white",
            "linecolor": "white",
            "ticks": ""
           },
           "bgcolor": "#E5ECF6",
           "radialaxis": {
            "gridcolor": "white",
            "linecolor": "white",
            "ticks": ""
           }
          },
          "scene": {
           "xaxis": {
            "backgroundcolor": "#E5ECF6",
            "gridcolor": "white",
            "gridwidth": 2,
            "linecolor": "white",
            "showbackground": true,
            "ticks": "",
            "zerolinecolor": "white"
           },
           "yaxis": {
            "backgroundcolor": "#E5ECF6",
            "gridcolor": "white",
            "gridwidth": 2,
            "linecolor": "white",
            "showbackground": true,
            "ticks": "",
            "zerolinecolor": "white"
           },
           "zaxis": {
            "backgroundcolor": "#E5ECF6",
            "gridcolor": "white",
            "gridwidth": 2,
            "linecolor": "white",
            "showbackground": true,
            "ticks": "",
            "zerolinecolor": "white"
           }
          },
          "shapedefaults": {
           "line": {
            "color": "#2a3f5f"
           }
          },
          "ternary": {
           "aaxis": {
            "gridcolor": "white",
            "linecolor": "white",
            "ticks": ""
           },
           "baxis": {
            "gridcolor": "white",
            "linecolor": "white",
            "ticks": ""
           },
           "bgcolor": "#E5ECF6",
           "caxis": {
            "gridcolor": "white",
            "linecolor": "white",
            "ticks": ""
           }
          },
          "title": {
           "x": 0.05
          },
          "xaxis": {
           "automargin": true,
           "gridcolor": "white",
           "linecolor": "white",
           "ticks": "",
           "title": {
            "standoff": 15
           },
           "zerolinecolor": "white",
           "zerolinewidth": 2
          },
          "yaxis": {
           "automargin": true,
           "gridcolor": "white",
           "linecolor": "white",
           "ticks": "",
           "title": {
            "standoff": 15
           },
           "zerolinecolor": "white",
           "zerolinewidth": 2
          }
         }
        },
        "xaxis": {
         "anchor": "y",
         "domain": [
          0.0,
          1.0
         ]
        },
        "yaxis": {
         "anchor": "x",
         "domain": [
          0.0,
          1.0
         ],
         "title": {
          "text": "Athlets"
         }
        }
       }
      },
      "text/html": [
       "<div>                            <div id=\"0c68cc69-ee9c-4c14-8cda-794d5b850c9d\" class=\"plotly-graph-div\" style=\"height:525px; width:100%;\"></div>            <script type=\"text/javascript\">                require([\"plotly\"], function(Plotly) {                    window.PLOTLYENV=window.PLOTLYENV || {};                                    if (document.getElementById(\"0c68cc69-ee9c-4c14-8cda-794d5b850c9d\")) {                    Plotly.newPlot(                        \"0c68cc69-ee9c-4c14-8cda-794d5b850c9d\",                        [{\"alignmentgroup\":\"True\",\"hovertemplate\":\"Athlets=%{y}<extra></extra>\",\"legendgroup\":\"\",\"marker\":{\"color\":\"#636efa\"},\"name\":\"\",\"notched\":false,\"offsetgroup\":\"\",\"orientation\":\"v\",\"showlegend\":false,\"x0\":\" \",\"xaxis\":\"x\",\"y\":[222552,48564],\"y0\":\" \",\"yaxis\":\"y\",\"type\":\"box\"}],                        {\"template\":{\"data\":{\"histogram2dcontour\":[{\"type\":\"histogram2dcontour\",\"colorbar\":{\"outlinewidth\":0,\"ticks\":\"\"},\"colorscale\":[[0.0,\"#0d0887\"],[0.1111111111111111,\"#46039f\"],[0.2222222222222222,\"#7201a8\"],[0.3333333333333333,\"#9c179e\"],[0.4444444444444444,\"#bd3786\"],[0.5555555555555556,\"#d8576b\"],[0.6666666666666666,\"#ed7953\"],[0.7777777777777778,\"#fb9f3a\"],[0.8888888888888888,\"#fdca26\"],[1.0,\"#f0f921\"]]}],\"choropleth\":[{\"type\":\"choropleth\",\"colorbar\":{\"outlinewidth\":0,\"ticks\":\"\"}}],\"histogram2d\":[{\"type\":\"histogram2d\",\"colorbar\":{\"outlinewidth\":0,\"ticks\":\"\"},\"colorscale\":[[0.0,\"#0d0887\"],[0.1111111111111111,\"#46039f\"],[0.2222222222222222,\"#7201a8\"],[0.3333333333333333,\"#9c179e\"],[0.4444444444444444,\"#bd3786\"],[0.5555555555555556,\"#d8576b\"],[0.6666666666666666,\"#ed7953\"],[0.7777777777777778,\"#fb9f3a\"],[0.8888888888888888,\"#fdca26\"],[1.0,\"#f0f921\"]]}],\"heatmap\":[{\"type\":\"heatmap\",\"colorbar\":{\"outlinewidth\":0,\"ticks\":\"\"},\"colorscale\":[[0.0,\"#0d0887\"],[0.1111111111111111,\"#46039f\"],[0.2222222222222222,\"#7201a8\"],[0.3333333333333333,\"#9c179e\"],[0.4444444444444444,\"#bd3786\"],[0.5555555555555556,\"#d8576b\"],[0.6666666666666666,\"#ed7953\"],[0.7777777777777778,\"#fb9f3a\"],[0.8888888888888888,\"#fdca26\"],[1.0,\"#f0f921\"]]}],\"heatmapgl\":[{\"type\":\"heatmapgl\",\"colorbar\":{\"outlinewidth\":0,\"ticks\":\"\"},\"colorscale\":[[0.0,\"#0d0887\"],[0.1111111111111111,\"#46039f\"],[0.2222222222222222,\"#7201a8\"],[0.3333333333333333,\"#9c179e\"],[0.4444444444444444,\"#bd3786\"],[0.5555555555555556,\"#d8576b\"],[0.6666666666666666,\"#ed7953\"],[0.7777777777777778,\"#fb9f3a\"],[0.8888888888888888,\"#fdca26\"],[1.0,\"#f0f921\"]]}],\"contourcarpet\":[{\"type\":\"contourcarpet\",\"colorbar\":{\"outlinewidth\":0,\"ticks\":\"\"}}],\"contour\":[{\"type\":\"contour\",\"colorbar\":{\"outlinewidth\":0,\"ticks\":\"\"},\"colorscale\":[[0.0,\"#0d0887\"],[0.1111111111111111,\"#46039f\"],[0.2222222222222222,\"#7201a8\"],[0.3333333333333333,\"#9c179e\"],[0.4444444444444444,\"#bd3786\"],[0.5555555555555556,\"#d8576b\"],[0.6666666666666666,\"#ed7953\"],[0.7777777777777778,\"#fb9f3a\"],[0.8888888888888888,\"#fdca26\"],[1.0,\"#f0f921\"]]}],\"surface\":[{\"type\":\"surface\",\"colorbar\":{\"outlinewidth\":0,\"ticks\":\"\"},\"colorscale\":[[0.0,\"#0d0887\"],[0.1111111111111111,\"#46039f\"],[0.2222222222222222,\"#7201a8\"],[0.3333333333333333,\"#9c179e\"],[0.4444444444444444,\"#bd3786\"],[0.5555555555555556,\"#d8576b\"],[0.6666666666666666,\"#ed7953\"],[0.7777777777777778,\"#fb9f3a\"],[0.8888888888888888,\"#fdca26\"],[1.0,\"#f0f921\"]]}],\"mesh3d\":[{\"type\":\"mesh3d\",\"colorbar\":{\"outlinewidth\":0,\"ticks\":\"\"}}],\"scatter\":[{\"fillpattern\":{\"fillmode\":\"overlay\",\"size\":10,\"solidity\":0.2},\"type\":\"scatter\"}],\"parcoords\":[{\"type\":\"parcoords\",\"line\":{\"colorbar\":{\"outlinewidth\":0,\"ticks\":\"\"}}}],\"scatterpolargl\":[{\"type\":\"scatterpolargl\",\"marker\":{\"colorbar\":{\"outlinewidth\":0,\"ticks\":\"\"}}}],\"bar\":[{\"error_x\":{\"color\":\"#2a3f5f\"},\"error_y\":{\"color\":\"#2a3f5f\"},\"marker\":{\"line\":{\"color\":\"#E5ECF6\",\"width\":0.5},\"pattern\":{\"fillmode\":\"overlay\",\"size\":10,\"solidity\":0.2}},\"type\":\"bar\"}],\"scattergeo\":[{\"type\":\"scattergeo\",\"marker\":{\"colorbar\":{\"outlinewidth\":0,\"ticks\":\"\"}}}],\"scatterpolar\":[{\"type\":\"scatterpolar\",\"marker\":{\"colorbar\":{\"outlinewidth\":0,\"ticks\":\"\"}}}],\"histogram\":[{\"marker\":{\"pattern\":{\"fillmode\":\"overlay\",\"size\":10,\"solidity\":0.2}},\"type\":\"histogram\"}],\"scattergl\":[{\"type\":\"scattergl\",\"marker\":{\"colorbar\":{\"outlinewidth\":0,\"ticks\":\"\"}}}],\"scatter3d\":[{\"type\":\"scatter3d\",\"line\":{\"colorbar\":{\"outlinewidth\":0,\"ticks\":\"\"}},\"marker\":{\"colorbar\":{\"outlinewidth\":0,\"ticks\":\"\"}}}],\"scattermapbox\":[{\"type\":\"scattermapbox\",\"marker\":{\"colorbar\":{\"outlinewidth\":0,\"ticks\":\"\"}}}],\"scatterternary\":[{\"type\":\"scatterternary\",\"marker\":{\"colorbar\":{\"outlinewidth\":0,\"ticks\":\"\"}}}],\"scattercarpet\":[{\"type\":\"scattercarpet\",\"marker\":{\"colorbar\":{\"outlinewidth\":0,\"ticks\":\"\"}}}],\"carpet\":[{\"aaxis\":{\"endlinecolor\":\"#2a3f5f\",\"gridcolor\":\"white\",\"linecolor\":\"white\",\"minorgridcolor\":\"white\",\"startlinecolor\":\"#2a3f5f\"},\"baxis\":{\"endlinecolor\":\"#2a3f5f\",\"gridcolor\":\"white\",\"linecolor\":\"white\",\"minorgridcolor\":\"white\",\"startlinecolor\":\"#2a3f5f\"},\"type\":\"carpet\"}],\"table\":[{\"cells\":{\"fill\":{\"color\":\"#EBF0F8\"},\"line\":{\"color\":\"white\"}},\"header\":{\"fill\":{\"color\":\"#C8D4E3\"},\"line\":{\"color\":\"white\"}},\"type\":\"table\"}],\"barpolar\":[{\"marker\":{\"line\":{\"color\":\"#E5ECF6\",\"width\":0.5},\"pattern\":{\"fillmode\":\"overlay\",\"size\":10,\"solidity\":0.2}},\"type\":\"barpolar\"}],\"pie\":[{\"automargin\":true,\"type\":\"pie\"}]},\"layout\":{\"autotypenumbers\":\"strict\",\"colorway\":[\"#636efa\",\"#EF553B\",\"#00cc96\",\"#ab63fa\",\"#FFA15A\",\"#19d3f3\",\"#FF6692\",\"#B6E880\",\"#FF97FF\",\"#FECB52\"],\"font\":{\"color\":\"#2a3f5f\"},\"hovermode\":\"closest\",\"hoverlabel\":{\"align\":\"left\"},\"paper_bgcolor\":\"white\",\"plot_bgcolor\":\"#E5ECF6\",\"polar\":{\"bgcolor\":\"#E5ECF6\",\"angularaxis\":{\"gridcolor\":\"white\",\"linecolor\":\"white\",\"ticks\":\"\"},\"radialaxis\":{\"gridcolor\":\"white\",\"linecolor\":\"white\",\"ticks\":\"\"}},\"ternary\":{\"bgcolor\":\"#E5ECF6\",\"aaxis\":{\"gridcolor\":\"white\",\"linecolor\":\"white\",\"ticks\":\"\"},\"baxis\":{\"gridcolor\":\"white\",\"linecolor\":\"white\",\"ticks\":\"\"},\"caxis\":{\"gridcolor\":\"white\",\"linecolor\":\"white\",\"ticks\":\"\"}},\"coloraxis\":{\"colorbar\":{\"outlinewidth\":0,\"ticks\":\"\"}},\"colorscale\":{\"sequential\":[[0.0,\"#0d0887\"],[0.1111111111111111,\"#46039f\"],[0.2222222222222222,\"#7201a8\"],[0.3333333333333333,\"#9c179e\"],[0.4444444444444444,\"#bd3786\"],[0.5555555555555556,\"#d8576b\"],[0.6666666666666666,\"#ed7953\"],[0.7777777777777778,\"#fb9f3a\"],[0.8888888888888888,\"#fdca26\"],[1.0,\"#f0f921\"]],\"sequentialminus\":[[0.0,\"#0d0887\"],[0.1111111111111111,\"#46039f\"],[0.2222222222222222,\"#7201a8\"],[0.3333333333333333,\"#9c179e\"],[0.4444444444444444,\"#bd3786\"],[0.5555555555555556,\"#d8576b\"],[0.6666666666666666,\"#ed7953\"],[0.7777777777777778,\"#fb9f3a\"],[0.8888888888888888,\"#fdca26\"],[1.0,\"#f0f921\"]],\"diverging\":[[0,\"#8e0152\"],[0.1,\"#c51b7d\"],[0.2,\"#de77ae\"],[0.3,\"#f1b6da\"],[0.4,\"#fde0ef\"],[0.5,\"#f7f7f7\"],[0.6,\"#e6f5d0\"],[0.7,\"#b8e186\"],[0.8,\"#7fbc41\"],[0.9,\"#4d9221\"],[1,\"#276419\"]]},\"xaxis\":{\"gridcolor\":\"white\",\"linecolor\":\"white\",\"ticks\":\"\",\"title\":{\"standoff\":15},\"zerolinecolor\":\"white\",\"automargin\":true,\"zerolinewidth\":2},\"yaxis\":{\"gridcolor\":\"white\",\"linecolor\":\"white\",\"ticks\":\"\",\"title\":{\"standoff\":15},\"zerolinecolor\":\"white\",\"automargin\":true,\"zerolinewidth\":2},\"scene\":{\"xaxis\":{\"backgroundcolor\":\"#E5ECF6\",\"gridcolor\":\"white\",\"linecolor\":\"white\",\"showbackground\":true,\"ticks\":\"\",\"zerolinecolor\":\"white\",\"gridwidth\":2},\"yaxis\":{\"backgroundcolor\":\"#E5ECF6\",\"gridcolor\":\"white\",\"linecolor\":\"white\",\"showbackground\":true,\"ticks\":\"\",\"zerolinecolor\":\"white\",\"gridwidth\":2},\"zaxis\":{\"backgroundcolor\":\"#E5ECF6\",\"gridcolor\":\"white\",\"linecolor\":\"white\",\"showbackground\":true,\"ticks\":\"\",\"zerolinecolor\":\"white\",\"gridwidth\":2}},\"shapedefaults\":{\"line\":{\"color\":\"#2a3f5f\"}},\"annotationdefaults\":{\"arrowcolor\":\"#2a3f5f\",\"arrowhead\":0,\"arrowwidth\":1},\"geo\":{\"bgcolor\":\"white\",\"landcolor\":\"#E5ECF6\",\"subunitcolor\":\"white\",\"showland\":true,\"showlakes\":true,\"lakecolor\":\"white\"},\"title\":{\"x\":0.05},\"mapbox\":{\"style\":\"light\"}}},\"xaxis\":{\"anchor\":\"y\",\"domain\":[0.0,1.0]},\"yaxis\":{\"anchor\":\"x\",\"domain\":[0.0,1.0],\"title\":{\"text\":\"Athlets\"}},\"legend\":{\"tracegroupgap\":0},\"margin\":{\"t\":60},\"boxmode\":\"group\"},                        {\"responsive\": true}                    ).then(function(){\n",
       "                            \n",
       "var gd = document.getElementById('0c68cc69-ee9c-4c14-8cda-794d5b850c9d');\n",
       "var x = new MutationObserver(function (mutations, observer) {{\n",
       "        var display = window.getComputedStyle(gd).display;\n",
       "        if (!display || display === 'none') {{\n",
       "            console.log([gd, 'removed!']);\n",
       "            Plotly.purge(gd);\n",
       "            observer.disconnect();\n",
       "        }}\n",
       "}});\n",
       "\n",
       "// Listen for the removal of the full notebook cells\n",
       "var notebookContainer = gd.closest('#notebook-container');\n",
       "if (notebookContainer) {{\n",
       "    x.observe(notebookContainer, {childList: true});\n",
       "}}\n",
       "\n",
       "// Listen for the clearing of the current output cell\n",
       "var outputEl = gd.closest('.output');\n",
       "if (outputEl) {{\n",
       "    x.observe(outputEl, {childList: true});\n",
       "}}\n",
       "\n",
       "                        })                };                });            </script>        </div>"
      ]
     },
     "metadata": {},
     "output_type": "display_data"
    }
   ],
   "source": [
    "import plotly.express as px\n",
    "\n",
    "fig = px.box(participants, y=\"Athlets\")\n",
    "fig.show()"
   ]
  },
  {
   "cell_type": "code",
   "execution_count": 26,
   "id": "84b3a1fc",
   "metadata": {
    "execution": {
     "iopub.execute_input": "2022-07-26T22:53:53.628927Z",
     "iopub.status.busy": "2022-07-26T22:53:53.628557Z",
     "iopub.status.idle": "2022-07-26T22:53:53.655568Z",
     "shell.execute_reply": "2022-07-26T22:53:53.654712Z"
    },
    "papermill": {
     "duration": 0.070273,
     "end_time": "2022-07-26T22:53:53.657517",
     "exception": false,
     "start_time": "2022-07-26T22:53:53.587244",
     "status": "completed"
    },
    "tags": []
   },
   "outputs": [
    {
     "data": {
      "text/html": [
       "<div>\n",
       "<style scoped>\n",
       "    .dataframe tbody tr th:only-of-type {\n",
       "        vertical-align: middle;\n",
       "    }\n",
       "\n",
       "    .dataframe tbody tr th {\n",
       "        vertical-align: top;\n",
       "    }\n",
       "\n",
       "    .dataframe thead th {\n",
       "        text-align: right;\n",
       "    }\n",
       "</style>\n",
       "<table border=\"1\" class=\"dataframe\">\n",
       "  <thead>\n",
       "    <tr style=\"text-align: right;\">\n",
       "      <th></th>\n",
       "      <th>ID</th>\n",
       "      <th>Name</th>\n",
       "      <th>Sex</th>\n",
       "      <th>Age</th>\n",
       "      <th>Height</th>\n",
       "      <th>Weight</th>\n",
       "      <th>Team</th>\n",
       "      <th>NOC</th>\n",
       "      <th>Games</th>\n",
       "      <th>Year</th>\n",
       "      <th>Season</th>\n",
       "      <th>City</th>\n",
       "      <th>Sport</th>\n",
       "      <th>Event</th>\n",
       "      <th>Medal</th>\n",
       "      <th>region</th>\n",
       "      <th>notes</th>\n",
       "    </tr>\n",
       "  </thead>\n",
       "  <tbody>\n",
       "    <tr>\n",
       "      <th>0</th>\n",
       "      <td>1</td>\n",
       "      <td>A Dijiang</td>\n",
       "      <td>M</td>\n",
       "      <td>24.0</td>\n",
       "      <td>180.0</td>\n",
       "      <td>80.0</td>\n",
       "      <td>China</td>\n",
       "      <td>CHN</td>\n",
       "      <td>1992 Summer</td>\n",
       "      <td>1992</td>\n",
       "      <td>Summer</td>\n",
       "      <td>Barcelona</td>\n",
       "      <td>Basketball</td>\n",
       "      <td>Basketball Men's Basketball</td>\n",
       "      <td>NaN</td>\n",
       "      <td>China</td>\n",
       "      <td>NaN</td>\n",
       "    </tr>\n",
       "    <tr>\n",
       "      <th>1</th>\n",
       "      <td>2</td>\n",
       "      <td>A Lamusi</td>\n",
       "      <td>M</td>\n",
       "      <td>23.0</td>\n",
       "      <td>170.0</td>\n",
       "      <td>60.0</td>\n",
       "      <td>China</td>\n",
       "      <td>CHN</td>\n",
       "      <td>2012 Summer</td>\n",
       "      <td>2012</td>\n",
       "      <td>Summer</td>\n",
       "      <td>London</td>\n",
       "      <td>Judo</td>\n",
       "      <td>Judo Men's Extra-Lightweight</td>\n",
       "      <td>NaN</td>\n",
       "      <td>China</td>\n",
       "      <td>NaN</td>\n",
       "    </tr>\n",
       "    <tr>\n",
       "      <th>2</th>\n",
       "      <td>3</td>\n",
       "      <td>Gunnar Nielsen Aaby</td>\n",
       "      <td>M</td>\n",
       "      <td>24.0</td>\n",
       "      <td>NaN</td>\n",
       "      <td>NaN</td>\n",
       "      <td>Denmark</td>\n",
       "      <td>DEN</td>\n",
       "      <td>1920 Summer</td>\n",
       "      <td>1920</td>\n",
       "      <td>Summer</td>\n",
       "      <td>Antwerpen</td>\n",
       "      <td>Football</td>\n",
       "      <td>Football Men's Football</td>\n",
       "      <td>NaN</td>\n",
       "      <td>Denmark</td>\n",
       "      <td>NaN</td>\n",
       "    </tr>\n",
       "    <tr>\n",
       "      <th>3</th>\n",
       "      <td>4</td>\n",
       "      <td>Edgar Lindenau Aabye</td>\n",
       "      <td>M</td>\n",
       "      <td>34.0</td>\n",
       "      <td>NaN</td>\n",
       "      <td>NaN</td>\n",
       "      <td>Denmark/Sweden</td>\n",
       "      <td>DEN</td>\n",
       "      <td>1900 Summer</td>\n",
       "      <td>1900</td>\n",
       "      <td>Summer</td>\n",
       "      <td>Paris</td>\n",
       "      <td>Tug-Of-War</td>\n",
       "      <td>Tug-Of-War Men's Tug-Of-War</td>\n",
       "      <td>Gold</td>\n",
       "      <td>Denmark</td>\n",
       "      <td>NaN</td>\n",
       "    </tr>\n",
       "    <tr>\n",
       "      <th>4</th>\n",
       "      <td>5</td>\n",
       "      <td>Christine Jacoba Aaftink</td>\n",
       "      <td>F</td>\n",
       "      <td>21.0</td>\n",
       "      <td>185.0</td>\n",
       "      <td>82.0</td>\n",
       "      <td>Netherlands</td>\n",
       "      <td>NED</td>\n",
       "      <td>1988 Winter</td>\n",
       "      <td>1988</td>\n",
       "      <td>Winter</td>\n",
       "      <td>Calgary</td>\n",
       "      <td>Speed Skating</td>\n",
       "      <td>Speed Skating Women's 500 metres</td>\n",
       "      <td>NaN</td>\n",
       "      <td>Netherlands</td>\n",
       "      <td>NaN</td>\n",
       "    </tr>\n",
       "    <tr>\n",
       "      <th>...</th>\n",
       "      <td>...</td>\n",
       "      <td>...</td>\n",
       "      <td>...</td>\n",
       "      <td>...</td>\n",
       "      <td>...</td>\n",
       "      <td>...</td>\n",
       "      <td>...</td>\n",
       "      <td>...</td>\n",
       "      <td>...</td>\n",
       "      <td>...</td>\n",
       "      <td>...</td>\n",
       "      <td>...</td>\n",
       "      <td>...</td>\n",
       "      <td>...</td>\n",
       "      <td>...</td>\n",
       "      <td>...</td>\n",
       "      <td>...</td>\n",
       "    </tr>\n",
       "    <tr>\n",
       "      <th>271111</th>\n",
       "      <td>135569</td>\n",
       "      <td>Andrzej ya</td>\n",
       "      <td>M</td>\n",
       "      <td>29.0</td>\n",
       "      <td>179.0</td>\n",
       "      <td>89.0</td>\n",
       "      <td>Poland-1</td>\n",
       "      <td>POL</td>\n",
       "      <td>1976 Winter</td>\n",
       "      <td>1976</td>\n",
       "      <td>Winter</td>\n",
       "      <td>Innsbruck</td>\n",
       "      <td>Luge</td>\n",
       "      <td>Luge Mixed (Men)'s Doubles</td>\n",
       "      <td>NaN</td>\n",
       "      <td>Poland</td>\n",
       "      <td>NaN</td>\n",
       "    </tr>\n",
       "    <tr>\n",
       "      <th>271112</th>\n",
       "      <td>135570</td>\n",
       "      <td>Piotr ya</td>\n",
       "      <td>M</td>\n",
       "      <td>27.0</td>\n",
       "      <td>176.0</td>\n",
       "      <td>59.0</td>\n",
       "      <td>Poland</td>\n",
       "      <td>POL</td>\n",
       "      <td>2014 Winter</td>\n",
       "      <td>2014</td>\n",
       "      <td>Winter</td>\n",
       "      <td>Sochi</td>\n",
       "      <td>Ski Jumping</td>\n",
       "      <td>Ski Jumping Men's Large Hill, Individual</td>\n",
       "      <td>NaN</td>\n",
       "      <td>Poland</td>\n",
       "      <td>NaN</td>\n",
       "    </tr>\n",
       "    <tr>\n",
       "      <th>271113</th>\n",
       "      <td>135570</td>\n",
       "      <td>Piotr ya</td>\n",
       "      <td>M</td>\n",
       "      <td>27.0</td>\n",
       "      <td>176.0</td>\n",
       "      <td>59.0</td>\n",
       "      <td>Poland</td>\n",
       "      <td>POL</td>\n",
       "      <td>2014 Winter</td>\n",
       "      <td>2014</td>\n",
       "      <td>Winter</td>\n",
       "      <td>Sochi</td>\n",
       "      <td>Ski Jumping</td>\n",
       "      <td>Ski Jumping Men's Large Hill, Team</td>\n",
       "      <td>NaN</td>\n",
       "      <td>Poland</td>\n",
       "      <td>NaN</td>\n",
       "    </tr>\n",
       "    <tr>\n",
       "      <th>271114</th>\n",
       "      <td>135571</td>\n",
       "      <td>Tomasz Ireneusz ya</td>\n",
       "      <td>M</td>\n",
       "      <td>30.0</td>\n",
       "      <td>185.0</td>\n",
       "      <td>96.0</td>\n",
       "      <td>Poland</td>\n",
       "      <td>POL</td>\n",
       "      <td>1998 Winter</td>\n",
       "      <td>1998</td>\n",
       "      <td>Winter</td>\n",
       "      <td>Nagano</td>\n",
       "      <td>Bobsleigh</td>\n",
       "      <td>Bobsleigh Men's Four</td>\n",
       "      <td>NaN</td>\n",
       "      <td>Poland</td>\n",
       "      <td>NaN</td>\n",
       "    </tr>\n",
       "    <tr>\n",
       "      <th>271115</th>\n",
       "      <td>135571</td>\n",
       "      <td>Tomasz Ireneusz ya</td>\n",
       "      <td>M</td>\n",
       "      <td>34.0</td>\n",
       "      <td>185.0</td>\n",
       "      <td>96.0</td>\n",
       "      <td>Poland</td>\n",
       "      <td>POL</td>\n",
       "      <td>2002 Winter</td>\n",
       "      <td>2002</td>\n",
       "      <td>Winter</td>\n",
       "      <td>Salt Lake City</td>\n",
       "      <td>Bobsleigh</td>\n",
       "      <td>Bobsleigh Men's Four</td>\n",
       "      <td>NaN</td>\n",
       "      <td>Poland</td>\n",
       "      <td>NaN</td>\n",
       "    </tr>\n",
       "  </tbody>\n",
       "</table>\n",
       "<p>271116 rows × 17 columns</p>\n",
       "</div>"
      ],
      "text/plain": [
       "            ID                      Name Sex   Age  Height  Weight  \\\n",
       "0            1                 A Dijiang   M  24.0   180.0    80.0   \n",
       "1            2                  A Lamusi   M  23.0   170.0    60.0   \n",
       "2            3       Gunnar Nielsen Aaby   M  24.0     NaN     NaN   \n",
       "3            4      Edgar Lindenau Aabye   M  34.0     NaN     NaN   \n",
       "4            5  Christine Jacoba Aaftink   F  21.0   185.0    82.0   \n",
       "...        ...                       ...  ..   ...     ...     ...   \n",
       "271111  135569                Andrzej ya   M  29.0   179.0    89.0   \n",
       "271112  135570                  Piotr ya   M  27.0   176.0    59.0   \n",
       "271113  135570                  Piotr ya   M  27.0   176.0    59.0   \n",
       "271114  135571        Tomasz Ireneusz ya   M  30.0   185.0    96.0   \n",
       "271115  135571        Tomasz Ireneusz ya   M  34.0   185.0    96.0   \n",
       "\n",
       "                  Team  NOC        Games  Year  Season            City  \\\n",
       "0                China  CHN  1992 Summer  1992  Summer       Barcelona   \n",
       "1                China  CHN  2012 Summer  2012  Summer          London   \n",
       "2              Denmark  DEN  1920 Summer  1920  Summer       Antwerpen   \n",
       "3       Denmark/Sweden  DEN  1900 Summer  1900  Summer           Paris   \n",
       "4          Netherlands  NED  1988 Winter  1988  Winter         Calgary   \n",
       "...                ...  ...          ...   ...     ...             ...   \n",
       "271111        Poland-1  POL  1976 Winter  1976  Winter       Innsbruck   \n",
       "271112          Poland  POL  2014 Winter  2014  Winter           Sochi   \n",
       "271113          Poland  POL  2014 Winter  2014  Winter           Sochi   \n",
       "271114          Poland  POL  1998 Winter  1998  Winter          Nagano   \n",
       "271115          Poland  POL  2002 Winter  2002  Winter  Salt Lake City   \n",
       "\n",
       "                Sport                                     Event Medal  \\\n",
       "0          Basketball               Basketball Men's Basketball   NaN   \n",
       "1                Judo              Judo Men's Extra-Lightweight   NaN   \n",
       "2            Football                   Football Men's Football   NaN   \n",
       "3          Tug-Of-War               Tug-Of-War Men's Tug-Of-War  Gold   \n",
       "4       Speed Skating          Speed Skating Women's 500 metres   NaN   \n",
       "...               ...                                       ...   ...   \n",
       "271111           Luge                Luge Mixed (Men)'s Doubles   NaN   \n",
       "271112    Ski Jumping  Ski Jumping Men's Large Hill, Individual   NaN   \n",
       "271113    Ski Jumping        Ski Jumping Men's Large Hill, Team   NaN   \n",
       "271114      Bobsleigh                      Bobsleigh Men's Four   NaN   \n",
       "271115      Bobsleigh                      Bobsleigh Men's Four   NaN   \n",
       "\n",
       "             region notes  \n",
       "0             China   NaN  \n",
       "1             China   NaN  \n",
       "2           Denmark   NaN  \n",
       "3           Denmark   NaN  \n",
       "4       Netherlands   NaN  \n",
       "...             ...   ...  \n",
       "271111       Poland   NaN  \n",
       "271112       Poland   NaN  \n",
       "271113       Poland   NaN  \n",
       "271114       Poland   NaN  \n",
       "271115       Poland   NaN  \n",
       "\n",
       "[271116 rows x 17 columns]"
      ]
     },
     "execution_count": 26,
     "metadata": {},
     "output_type": "execute_result"
    }
   ],
   "source": [
    "df"
   ]
  },
  {
   "cell_type": "code",
   "execution_count": 27,
   "id": "fe0d10ff",
   "metadata": {
    "execution": {
     "iopub.execute_input": "2022-07-26T22:53:53.741695Z",
     "iopub.status.busy": "2022-07-26T22:53:53.740998Z",
     "iopub.status.idle": "2022-07-26T22:53:55.867979Z",
     "shell.execute_reply": "2022-07-26T22:53:55.866839Z"
    },
    "papermill": {
     "duration": 2.173738,
     "end_time": "2022-07-26T22:53:55.871882",
     "exception": false,
     "start_time": "2022-07-26T22:53:53.698144",
     "status": "completed"
    },
    "tags": []
   },
   "outputs": [
    {
     "data": {
      "image/png": "[encoded data removed]",
      "text/plain": [
       "<Figure size 432x288 with 1 Axes>"
      ]
     },
     "metadata": {
      "needs_background": "light"
     },
     "output_type": "display_data"
    }
   ],
   "source": [
    "#7.\n",
    "participants=df.groupby(['Year','Sport'])['Name'].count().reset_index()\n",
    "participants.rename(columns={'Name':'Athlets'},inplace=True)\n",
    "participants\n",
    "sns.scatterplot(x='Year',y='Athlets',hue='Sport',data=participants)\n",
    "plt.title('Year and Athlets Scatter Plot')\n",
    "plt.show()"
   ]
  },
  {
   "cell_type": "code",
   "execution_count": 28,
   "id": "6bc3adae",
   "metadata": {
    "execution": {
     "iopub.execute_input": "2022-07-26T22:53:55.959287Z",
     "iopub.status.busy": "2022-07-26T22:53:55.958653Z",
     "iopub.status.idle": "2022-07-26T22:53:56.252103Z",
     "shell.execute_reply": "2022-07-26T22:53:56.251333Z"
    },
    "papermill": {
     "duration": 0.343966,
     "end_time": "2022-07-26T22:53:56.258438",
     "exception": false,
     "start_time": "2022-07-26T22:53:55.914472",
     "status": "completed"
    },
    "tags": []
   },
   "outputs": [
    {
     "data": {
      "application/vnd.plotly.v1+json": {
       "config": {
        "plotlyServerURL": "https://plot.ly"
       },
       "data": [
        {
         "hovertemplate": "Sport=Athletics<br>Year=%{x}<br>Athlets=%{y}<extra></extra>",
         "legendgroup": "Athletics",
         "marker": {
          "color": "#636efa",
          "symbol": "circle"
         },
         "mode": "markers",
         "name": "Athletics",
         "orientation": "v",
         "showlegend": true,
         "type": "scatter",
         "x": [
          1896,
          1900,
          1904,
          1906,
          1908,
          1912,
          1920,
          1924,
          1928,
          1932,
          1936,
          1948,
          1952,
          1956,
          1960,
          1964,
          1968,
          1972,
          1976,
          1980,
          1984,
          1988,
          1992,
          1996,
          2000,
          2004,
          2008,
          2012,
          2016
         ],
         "xaxis": "x",
         "y": [
          106,
          234,
          201,
          470,
          778,
          962,
          849,
          1003,
          992,
          522,
          1007,
          1051,
          1344,
          1013,
          1312,
          1335,
          1345,
          1686,
          1297,
          1268,
          1674,
          2062,
          2054,
          2386,
          2468,
          2175,
          2244,
          2278,
          2508
         ],
         "yaxis": "y"
        },
        {
         "hovertemplate": "Sport=Cycling<br>Year=%{x}<br>Athlets=%{y}<extra></extra>",
         "legendgroup": "Cycling",
         "marker": {
          "color": "#EF553B",
          "symbol": "diamond"
         },
         "mode": "markers",
         "name": "Cycling",
         "orientation": "v",
         "showlegend": true,
         "type": "scatter",
         "x": [
          1896,
          1900,
          1904,
          1906,
          1908,
          1912,
          1920,
          1924,
          1928,
          1932,
          1936,
          1948,
          1952,
          1956,
          1960,
          1964,
          1968,
          1972,
          1976,
          1980,
          1984,
          1988,
          1992,
          1996,
          2000,
          2004,
          2008,
          2012,
          2016
         ],
         "xaxis": "x",
         "y": [
          41,
          92,
          61,
          138,
          269,
          242,
          212,
          249,
          227,
          109,
          301,
          320,
          389,
          292,
          423,
          451,
          483,
          526,
          392,
          307,
          475,
          518,
          566,
          584,
          621,
          623,
          652,
          629,
          667
         ],
         "yaxis": "y"
        },
        {
         "hovertemplate": "Sport=Fencing<br>Year=%{x}<br>Athlets=%{y}<extra></extra>",
         "legendgroup": "Fencing",
         "marker": {
          "color": "#00cc96",
          "symbol": "square"
         },
         "mode": "markers",
         "name": "Fencing",
         "orientation": "v",
         "showlegend": true,
         "type": "scatter",
         "x": [
          1896,
          1900,
          1904,
          1906,
          1908,
          1912,
          1920,
          1924,
          1928,
          1932,
          1936,
          1948,
          1952,
          1956,
          1960,
          1964,
          1968,
          1972,
          1976,
          1980,
          1984,
          1988,
          1992,
          1996,
          2000,
          2004,
          2008,
          2012,
          2016
         ],
         "xaxis": "x",
         "y": [
          15,
          317,
          28,
          161,
          240,
          379,
          350,
          424,
          430,
          192,
          556,
          508,
          509,
          278,
          601,
          481,
          490,
          499,
          485,
          321,
          424,
          506,
          458,
          388,
          349,
          323,
          332,
          345,
          346
         ],
         "yaxis": "y"
        },
        {
         "hovertemplate": "Sport=Gymnastics<br>Year=%{x}<br>Athlets=%{y}<extra></extra>",
         "legendgroup": "Gymnastics",
         "marker": {
          "color": "#ab63fa",
          "symbol": "x"
         },
         "mode": "markers",
         "name": "Gymnastics",
         "orientation": "v",
         "showlegend": true,
         "type": "scatter",
         "x": [
          1896,
          1900,
          1904,
          1906,
          1908,
          1912,
          1920,
          1924,
          1928,
          1932,
          1936,
          1948,
          1952,
          1956,
          1960,
          1964,
          1968,
          1972,
          1976,
          1980,
          1984,
          1988,
          1992,
          1996,
          2000,
          2004,
          2008,
          2012,
          2016
         ],
         "xaxis": "x",
         "y": [
          97,
          135,
          458,
          156,
          349,
          310,
          263,
          638,
          664,
          147,
          947,
          1060,
          2391,
          913,
          1746,
          1484,
          1496,
          1584,
          1204,
          866,
          930,
          1217,
          1255,
          1397,
          1144,
          1151,
          996,
          848,
          861
         ],
         "yaxis": "y"
        },
        {
         "hovertemplate": "Sport=Shooting<br>Year=%{x}<br>Athlets=%{y}<extra></extra>",
         "legendgroup": "Shooting",
         "marker": {
          "color": "#FFA15A",
          "symbol": "cross"
         },
         "mode": "markers",
         "name": "Shooting",
         "orientation": "v",
         "showlegend": true,
         "type": "scatter",
         "x": [
          1896,
          1900,
          1906,
          1908,
          1912,
          1920,
          1924,
          1932,
          1936,
          1948,
          1952,
          1956,
          1960,
          1964,
          1968,
          1972,
          1976,
          1980,
          1984,
          1988,
          1992,
          1996,
          2000,
          2004,
          2008,
          2012,
          2016
         ],
         "xaxis": "x",
         "y": [
          65,
          221,
          320,
          444,
          794,
          838,
          508,
          44,
          162,
          216,
          289,
          219,
          389,
          312,
          410,
          472,
          369,
          267,
          539,
          545,
          564,
          612,
          599,
          558,
          577,
          560,
          555
         ],
         "yaxis": "y"
        },
        {
         "hovertemplate": "Sport=Swimming<br>Year=%{x}<br>Athlets=%{y}<extra></extra>",
         "legendgroup": "Swimming",
         "marker": {
          "color": "#19d3f3",
          "symbol": "circle"
         },
         "mode": "markers",
         "name": "Swimming",
         "orientation": "v",
         "showlegend": true,
         "type": "scatter",
         "x": [
          1896,
          1900,
          1904,
          1906,
          1908,
          1912,
          1920,
          1924,
          1928,
          1932,
          1936,
          1948,
          1952,
          1956,
          1960,
          1964,
          1968,
          1972,
          1976,
          1980,
          1984,
          1988,
          1992,
          1996,
          2000,
          2004,
          2008,
          2012,
          2016
         ],
         "xaxis": "x",
         "y": [
          18,
          131,
          64,
          78,
          150,
          201,
          209,
          263,
          278,
          195,
          364,
          398,
          483,
          356,
          630,
          736,
          1231,
          1263,
          1076,
          761,
          1232,
          1614,
          1615,
          1635,
          1741,
          1618,
          1749,
          1538,
          1568
         ],
         "yaxis": "y"
        },
        {
         "hovertemplate": "Sport=Tennis<br>Year=%{x}<br>Athlets=%{y}<extra></extra>",
         "legendgroup": "Tennis",
         "marker": {
          "color": "#FF6692",
          "symbol": "diamond"
         },
         "mode": "markers",
         "name": "Tennis",
         "orientation": "v",
         "showlegend": true,
         "type": "scatter",
         "x": [
          1896,
          1900,
          1904,
          1906,
          1908,
          1912,
          1920,
          1924,
          1988,
          1992,
          1996,
          2000,
          2004,
          2008,
          2012,
          2016
         ],
         "xaxis": "x",
         "y": [
          23,
          47,
          57,
          48,
          84,
          173,
          153,
          253,
          202,
          250,
          246,
          248,
          252,
          254,
          286,
          286
         ],
         "yaxis": "y"
        },
        {
         "hovertemplate": "Sport=Weightlifting<br>Year=%{x}<br>Athlets=%{y}<extra></extra>",
         "legendgroup": "Weightlifting",
         "marker": {
          "color": "#B6E880",
          "symbol": "square"
         },
         "mode": "markers",
         "name": "Weightlifting",
         "orientation": "v",
         "showlegend": true,
         "type": "scatter",
         "x": [
          1896,
          1904,
          1906,
          1920,
          1924,
          1928,
          1932,
          1936,
          1948,
          1952,
          1956,
          1960,
          1964,
          1968,
          1972,
          1976,
          1980,
          1984,
          1988,
          1992,
          1996,
          2000,
          2004,
          2008,
          2012,
          2016
         ],
         "xaxis": "x",
         "y": [
          10,
          7,
          22,
          53,
          107,
          94,
          29,
          80,
          120,
          142,
          105,
          172,
          149,
          160,
          188,
          173,
          172,
          186,
          226,
          244,
          243,
          246,
          249,
          253,
          252,
          255
         ],
         "yaxis": "y"
        },
        {
         "hovertemplate": "Sport=Wrestling<br>Year=%{x}<br>Athlets=%{y}<extra></extra>",
         "legendgroup": "Wrestling",
         "marker": {
          "color": "#FF97FF",
          "symbol": "x"
         },
         "mode": "markers",
         "name": "Wrestling",
         "orientation": "v",
         "showlegend": true,
         "type": "scatter",
         "x": [
          1896,
          1904,
          1906,
          1908,
          1912,
          1920,
          1924,
          1928,
          1932,
          1936,
          1948,
          1952,
          1956,
          1960,
          1964,
          1968,
          1972,
          1976,
          1980,
          1984,
          1988,
          1992,
          1996,
          2000,
          2004,
          2008,
          2012,
          2016
         ],
         "xaxis": "x",
         "y": [
          5,
          48,
          39,
          133,
          170,
          161,
          244,
          169,
          90,
          210,
          229,
          262,
          195,
          337,
          302,
          333,
          409,
          349,
          270,
          286,
          457,
          371,
          401,
          314,
          342,
          343,
          339,
          346
         ],
         "yaxis": "y"
        },
        {
         "hovertemplate": "Sport=Archery<br>Year=%{x}<br>Athlets=%{y}<extra></extra>",
         "legendgroup": "Archery",
         "marker": {
          "color": "#FECB52",
          "symbol": "cross"
         },
         "mode": "markers",
         "name": "Archery",
         "orientation": "v",
         "showlegend": true,
         "type": "scatter",
         "x": [
          1900,
          1904,
          1908,
          1920,
          1972,
          1976,
          1980,
          1984,
          1988,
          1992,
          1996,
          2000,
          2004,
          2008,
          2012,
          2016
         ],
         "xaxis": "x",
         "y": [
          32,
          70,
          77,
          86,
          95,
          64,
          67,
          109,
          257,
          247,
          218,
          206,
          212,
          194,
          200,
          200
         ],
         "yaxis": "y"
        },
        {
         "hovertemplate": "Sport=Basque Pelota<br>Year=%{x}<br>Athlets=%{y}<extra></extra>",
         "legendgroup": "Basque Pelota",
         "marker": {
          "color": "#636efa",
          "symbol": "circle"
         },
         "mode": "markers",
         "name": "Basque Pelota",
         "orientation": "v",
         "showlegend": true,
         "type": "scatter",
         "x": [
          1900
         ],
         "xaxis": "x",
         "y": [
          2
         ],
         "yaxis": "y"
        },
        {
         "hovertemplate": "Sport=Cricket<br>Year=%{x}<br>Athlets=%{y}<extra></extra>",
         "legendgroup": "Cricket",
         "marker": {
          "color": "#EF553B",
          "symbol": "diamond"
         },
         "mode": "markers",
         "name": "Cricket",
         "orientation": "v",
         "showlegend": true,
         "type": "scatter",
         "x": [
          1900
         ],
         "xaxis": "x",
         "y": [
          24
         ],
         "yaxis": "y"
        },
        {
         "hovertemplate": "Sport=Croquet<br>Year=%{x}<br>Athlets=%{y}<extra></extra>",
         "legendgroup": "Croquet",
         "marker": {
          "color": "#00cc96",
          "symbol": "square"
         },
         "mode": "markers",
         "name": "Croquet",
         "orientation": "v",
         "showlegend": true,
         "type": "scatter",
         "x": [
          1900
         ],
         "xaxis": "x",
         "y": [
          19
         ],
         "yaxis": "y"
        },
        {
         "hovertemplate": "Sport=Equestrianism<br>Year=%{x}<br>Athlets=%{y}<extra></extra>",
         "legendgroup": "Equestrianism",
         "marker": {
          "color": "#ab63fa",
          "symbol": "x"
         },
         "mode": "markers",
         "name": "Equestrianism",
         "orientation": "v",
         "showlegend": true,
         "type": "scatter",
         "x": [
          1900,
          1912,
          1920,
          1924,
          1928,
          1932,
          1936,
          1948,
          1952,
          1956,
          1960,
          1964,
          1968,
          1972,
          1976,
          1980,
          1984,
          1988,
          1992,
          1996,
          2000,
          2004,
          2008,
          2012,
          2016
         ],
         "xaxis": "x",
         "y": [
          79,
          128,
          132,
          194,
          232,
          65,
          256,
          207,
          263,
          298,
          276,
          224,
          233,
          326,
          246,
          122,
          281,
          324,
          404,
          343,
          295,
          371,
          340,
          350,
          355
         ],
         "yaxis": "y"
        },
        {
         "hovertemplate": "Sport=Football<br>Year=%{x}<br>Athlets=%{y}<extra></extra>",
         "legendgroup": "Football",
         "marker": {
          "color": "#FFA15A",
          "symbol": "cross"
         },
         "mode": "markers",
         "name": "Football",
         "orientation": "v",
         "showlegend": true,
         "type": "scatter",
         "x": [
          1900,
          1904,
          1906,
          1908,
          1912,
          1920,
          1924,
          1928,
          1936,
          1948,
          1952,
          1956,
          1960,
          1964,
          1968,
          1972,
          1976,
          1980,
          1984,
          1988,
          1992,
          1996,
          2000,
          2004,
          2008,
          2012,
          2016
         ],
         "xaxis": "x",
         "y": [
          35,
          36,
          45,
          72,
          163,
          190,
          279,
          219,
          201,
          218,
          294,
          143,
          235,
          214,
          273,
          269,
          202,
          256,
          246,
          270,
          272,
          388,
          391,
          425,
          469,
          467,
          473
         ],
         "yaxis": "y"
        },
        {
         "hovertemplate": "Sport=Golf<br>Year=%{x}<br>Athlets=%{y}<extra></extra>",
         "legendgroup": "Golf",
         "marker": {
          "color": "#19d3f3",
          "symbol": "circle"
         },
         "mode": "markers",
         "name": "Golf",
         "orientation": "v",
         "showlegend": true,
         "type": "scatter",
         "x": [
          1900,
          1904,
          2016
         ],
         "xaxis": "x",
         "y": [
          22,
          105,
          120
         ],
         "yaxis": "y"
        },
        {
         "hovertemplate": "Sport=Polo<br>Year=%{x}<br>Athlets=%{y}<extra></extra>",
         "legendgroup": "Polo",
         "marker": {
          "color": "#FF6692",
          "symbol": "diamond"
         },
         "mode": "markers",
         "name": "Polo",
         "orientation": "v",
         "showlegend": true,
         "type": "scatter",
         "x": [
          1900,
          1908,
          1920,
          1924,
          1936
         ],
         "xaxis": "x",
         "y": [
          21,
          12,
          17,
          24,
          21
         ],
         "yaxis": "y"
        },
        {
         "hovertemplate": "Sport=Rowing<br>Year=%{x}<br>Athlets=%{y}<extra></extra>",
         "legendgroup": "Rowing",
         "marker": {
          "color": "#B6E880",
          "symbol": "square"
         },
         "mode": "markers",
         "name": "Rowing",
         "orientation": "v",
         "showlegend": true,
         "type": "scatter",
         "x": [
          1900,
          1904,
          1906,
          1908,
          1912,
          1920,
          1924,
          1928,
          1932,
          1936,
          1948,
          1952,
          1956,
          1960,
          1964,
          1968,
          1972,
          1976,
          1980,
          1984,
          1988,
          1992,
          1996,
          2000,
          2004,
          2008,
          2012,
          2016
         ],
         "xaxis": "x",
         "y": [
          133,
          46,
          200,
          87,
          197,
          144,
          196,
          247,
          166,
          348,
          318,
          406,
          258,
          431,
          378,
          358,
          442,
          598,
          488,
          465,
          624,
          661,
          621,
          561,
          559,
          563,
          550,
          550
         ],
         "yaxis": "y"
        },
        {
         "hovertemplate": "Sport=Rugby<br>Year=%{x}<br>Athlets=%{y}<extra></extra>",
         "legendgroup": "Rugby",
         "marker": {
          "color": "#FF97FF",
          "symbol": "x"
         },
         "mode": "markers",
         "name": "Rugby",
         "orientation": "v",
         "showlegend": true,
         "type": "scatter",
         "x": [
          1900,
          1908,
          1920,
          1924
         ],
         "xaxis": "x",
         "y": [
          47,
          30,
          31,
          54
         ],
         "yaxis": "y"
        },
        {
         "hovertemplate": "Sport=Sailing<br>Year=%{x}<br>Athlets=%{y}<extra></extra>",
         "legendgroup": "Sailing",
         "marker": {
          "color": "#FECB52",
          "symbol": "cross"
         },
         "mode": "markers",
         "name": "Sailing",
         "orientation": "v",
         "showlegend": true,
         "type": "scatter",
         "x": [
          1900,
          1908,
          1912,
          1920,
          1924,
          1928,
          1932,
          1936,
          1948,
          1952,
          1956,
          1960,
          1964,
          1968,
          1972,
          1976,
          1980,
          1984,
          1988,
          1992,
          1996,
          2000,
          2004,
          2008,
          2012,
          2016
         ],
         "xaxis": "x",
         "y": [
          280,
          64,
          109,
          101,
          69,
          128,
          57,
          172,
          186,
          227,
          154,
          290,
          225,
          252,
          323,
          257,
          156,
          300,
          375,
          441,
          458,
          402,
          401,
          400,
          379,
          380
         ],
         "yaxis": "y"
        },
        {
         "hovertemplate": "Sport=Tug-Of-War<br>Year=%{x}<br>Athlets=%{y}<extra></extra>",
         "legendgroup": "Tug-Of-War",
         "marker": {
          "color": "#636efa",
          "symbol": "circle"
         },
         "mode": "markers",
         "name": "Tug-Of-War",
         "orientation": "v",
         "showlegend": true,
         "type": "scatter",
         "x": [
          1900,
          1904,
          1906,
          1908,
          1912,
          1920
         ],
         "xaxis": "x",
         "y": [
          12,
          30,
          32,
          40,
          16,
          40
         ],
         "yaxis": "y"
        },
        {
         "hovertemplate": "Sport=Water Polo<br>Year=%{x}<br>Athlets=%{y}<extra></extra>",
         "legendgroup": "Water Polo",
         "marker": {
          "color": "#EF553B",
          "symbol": "diamond"
         },
         "mode": "markers",
         "name": "Water Polo",
         "orientation": "v",
         "showlegend": true,
         "type": "scatter",
         "x": [
          1900,
          1904,
          1908,
          1912,
          1920,
          1924,
          1928,
          1932,
          1936,
          1948,
          1952,
          1956,
          1960,
          1964,
          1968,
          1972,
          1976,
          1980,
          1984,
          1988,
          1992,
          1996,
          2000,
          2004,
          2008,
          2012,
          2016
         ],
         "xaxis": "x",
         "y": [
          53,
          21,
          28,
          45,
          101,
          101,
          112,
          41,
          142,
          156,
          191,
          96,
          150,
          137,
          162,
          176,
          131,
          132,
          153,
          156,
          152,
          153,
          231,
          255,
          256,
          257,
          258
         ],
         "yaxis": "y"
        },
        {
         "hovertemplate": "Sport=Boxing<br>Year=%{x}<br>Athlets=%{y}<extra></extra>",
         "legendgroup": "Boxing",
         "marker": {
          "color": "#00cc96",
          "symbol": "square"
         },
         "mode": "markers",
         "name": "Boxing",
         "orientation": "v",
         "showlegend": true,
         "type": "scatter",
         "x": [
          1904,
          1908,
          1920,
          1924,
          1928,
          1932,
          1936,
          1948,
          1952,
          1956,
          1960,
          1964,
          1968,
          1972,
          1976,
          1980,
          1984,
          1988,
          1992,
          1996,
          2000,
          2004,
          2008,
          2012,
          2016
         ],
         "xaxis": "x",
         "y": [
          24,
          42,
          116,
          181,
          144,
          85,
          179,
          205,
          249,
          161,
          281,
          269,
          307,
          354,
          266,
          271,
          354,
          432,
          336,
          355,
          307,
          280,
          283,
          283,
          283
         ],
         "yaxis": "y"
        },
        {
         "hovertemplate": "Sport=Diving<br>Year=%{x}<br>Athlets=%{y}<extra></extra>",
         "legendgroup": "Diving",
         "marker": {
          "color": "#ab63fa",
          "symbol": "x"
         },
         "mode": "markers",
         "name": "Diving",
         "orientation": "v",
         "showlegend": true,
         "type": "scatter",
         "x": [
          1904,
          1906,
          1908,
          1912,
          1920,
          1924,
          1928,
          1932,
          1936,
          1948,
          1952,
          1956,
          1960,
          1964,
          1968,
          1972,
          1976,
          1980,
          1984,
          1988,
          1992,
          1996,
          2000,
          2004,
          2008,
          2012,
          2016
         ],
         "xaxis": "x",
         "y": [
          5,
          24,
          47,
          86,
          70,
          90,
          74,
          36,
          88,
          84,
          97,
          82,
          96,
          102,
          109,
          124,
          105,
          88,
          101,
          108,
          112,
          139,
          238,
          196,
          182,
          181,
          178
         ],
         "yaxis": "y"
        },
        {
         "hovertemplate": "Sport=Lacrosse<br>Year=%{x}<br>Athlets=%{y}<extra></extra>",
         "legendgroup": "Lacrosse",
         "marker": {
          "color": "#FFA15A",
          "symbol": "cross"
         },
         "mode": "markers",
         "name": "Lacrosse",
         "orientation": "v",
         "showlegend": true,
         "type": "scatter",
         "x": [
          1904,
          1908
         ],
         "xaxis": "x",
         "y": [
          36,
          24
         ],
         "yaxis": "y"
        },
        {
         "hovertemplate": "Sport=Roque<br>Year=%{x}<br>Athlets=%{y}<extra></extra>",
         "legendgroup": "Roque",
         "marker": {
          "color": "#19d3f3",
          "symbol": "circle"
         },
         "mode": "markers",
         "name": "Roque",
         "orientation": "v",
         "showlegend": true,
         "type": "scatter",
         "x": [
          1904
         ],
         "xaxis": "x",
         "y": [
          4
         ],
         "yaxis": "y"
        },
        {
         "hovertemplate": "Sport=Figure Skating<br>Year=%{x}<br>Athlets=%{y}<extra></extra>",
         "legendgroup": "Figure Skating",
         "marker": {
          "color": "#FF6692",
          "symbol": "diamond"
         },
         "mode": "markers",
         "name": "Figure Skating",
         "orientation": "v",
         "showlegend": true,
         "type": "scatter",
         "x": [
          1908,
          1920,
          1924,
          1928,
          1932,
          1936,
          1948,
          1952,
          1956,
          1960,
          1964,
          1968,
          1972,
          1976,
          1980,
          1984,
          1988,
          1992,
          1994,
          1998,
          2002,
          2006,
          2010,
          2014
         ],
         "xaxis": "x",
         "y": [
          23,
          31,
          37,
          63,
          41,
          87,
          71,
          65,
          59,
          71,
          88,
          96,
          68,
          105,
          85,
          114,
          129,
          133,
          130,
          145,
          143,
          147,
          146,
          221
         ],
         "yaxis": "y"
        },
        {
         "hovertemplate": "Sport=Hockey<br>Year=%{x}<br>Athlets=%{y}<extra></extra>",
         "legendgroup": "Hockey",
         "marker": {
          "color": "#B6E880",
          "symbol": "square"
         },
         "mode": "markers",
         "name": "Hockey",
         "orientation": "v",
         "showlegend": true,
         "type": "scatter",
         "x": [
          1908,
          1920,
          1928,
          1932,
          1936,
          1948,
          1952,
          1956,
          1960,
          1964,
          1968,
          1972,
          1976,
          1980,
          1984,
          1988,
          1992,
          1996,
          2000,
          2004,
          2008,
          2012,
          2016
         ],
         "xaxis": "x",
         "y": [
          68,
          51,
          137,
          40,
          167,
          187,
          157,
          173,
          236,
          226,
          253,
          263,
          172,
          187,
          286,
          314,
          314,
          320,
          350,
          352,
          387,
          387,
          390
         ],
         "yaxis": "y"
        },
        {
         "hovertemplate": "Sport=Jeu De Paume<br>Year=%{x}<br>Athlets=%{y}<extra></extra>",
         "legendgroup": "Jeu De Paume",
         "marker": {
          "color": "#FF97FF",
          "symbol": "x"
         },
         "mode": "markers",
         "name": "Jeu De Paume",
         "orientation": "v",
         "showlegend": true,
         "type": "scatter",
         "x": [
          1908
         ],
         "xaxis": "x",
         "y": [
          11
         ],
         "yaxis": "y"
        },
        {
         "hovertemplate": "Sport=Motorboating<br>Year=%{x}<br>Athlets=%{y}<extra></extra>",
         "legendgroup": "Motorboating",
         "marker": {
          "color": "#FECB52",
          "symbol": "cross"
         },
         "mode": "markers",
         "name": "Motorboating",
         "orientation": "v",
         "showlegend": true,
         "type": "scatter",
         "x": [
          1908
         ],
         "xaxis": "x",
         "y": [
          17
         ],
         "yaxis": "y"
        },
        {
         "hovertemplate": "Sport=Racquets<br>Year=%{x}<br>Athlets=%{y}<extra></extra>",
         "legendgroup": "Racquets",
         "marker": {
          "color": "#636efa",
          "symbol": "circle"
         },
         "mode": "markers",
         "name": "Racquets",
         "orientation": "v",
         "showlegend": true,
         "type": "scatter",
         "x": [
          1908
         ],
         "xaxis": "x",
         "y": [
          12
         ],
         "yaxis": "y"
        },
        {
         "hovertemplate": "Sport=Art Competitions<br>Year=%{x}<br>Athlets=%{y}<extra></extra>",
         "legendgroup": "Art Competitions",
         "marker": {
          "color": "#EF553B",
          "symbol": "diamond"
         },
         "mode": "markers",
         "name": "Art Competitions",
         "orientation": "v",
         "showlegend": true,
         "type": "scatter",
         "x": [
          1912,
          1920,
          1924,
          1928,
          1932,
          1936,
          1948
         ],
         "xaxis": "x",
         "y": [
          33,
          11,
          318,
          808,
          1124,
          813,
          471
         ],
         "yaxis": "y"
        },
        {
         "hovertemplate": "Sport=Modern Pentathlon<br>Year=%{x}<br>Athlets=%{y}<extra></extra>",
         "legendgroup": "Modern Pentathlon",
         "marker": {
          "color": "#00cc96",
          "symbol": "square"
         },
         "mode": "markers",
         "name": "Modern Pentathlon",
         "orientation": "v",
         "showlegend": true,
         "type": "scatter",
         "x": [
          1912,
          1920,
          1924,
          1928,
          1932,
          1936,
          1948,
          1952,
          1956,
          1960,
          1964,
          1968,
          1972,
          1976,
          1980,
          1984,
          1988,
          1992,
          1996,
          2000,
          2004,
          2008,
          2012,
          2016
         ],
         "xaxis": "x",
         "y": [
          32,
          23,
          38,
          37,
          25,
          42,
          45,
          99,
          76,
          111,
          70,
          93,
          116,
          89,
          79,
          103,
          122,
          117,
          32,
          48,
          64,
          72,
          72,
          72
         ],
         "yaxis": "y"
        },
        {
         "hovertemplate": "Sport=Ice Hockey<br>Year=%{x}<br>Athlets=%{y}<extra></extra>",
         "legendgroup": "Ice Hockey",
         "marker": {
          "color": "#ab63fa",
          "symbol": "x"
         },
         "mode": "markers",
         "name": "Ice Hockey",
         "orientation": "v",
         "showlegend": true,
         "type": "scatter",
         "x": [
          1920,
          1924,
          1928,
          1932,
          1936,
          1948,
          1952,
          1956,
          1960,
          1964,
          1968,
          1972,
          1976,
          1980,
          1984,
          1988,
          1992,
          1994,
          1998,
          2002,
          2006,
          2010,
          2014
         ],
         "xaxis": "x",
         "y": [
          60,
          82,
          124,
          48,
          173,
          139,
          147,
          169,
          152,
          270,
          250,
          208,
          217,
          239,
          239,
          265,
          267,
          268,
          426,
          468,
          442,
          420,
          443
         ],
         "yaxis": "y"
        },
        {
         "hovertemplate": "Sport=Alpinism<br>Year=%{x}<br>Athlets=%{y}<extra></extra>",
         "legendgroup": "Alpinism",
         "marker": {
          "color": "#FFA15A",
          "symbol": "cross"
         },
         "mode": "markers",
         "name": "Alpinism",
         "orientation": "v",
         "showlegend": true,
         "type": "scatter",
         "x": [
          1924,
          1932,
          1936
         ],
         "xaxis": "x",
         "y": [
          21,
          2,
          2
         ],
         "yaxis": "y"
        },
        {
         "hovertemplate": "Sport=Bobsleigh<br>Year=%{x}<br>Athlets=%{y}<extra></extra>",
         "legendgroup": "Bobsleigh",
         "marker": {
          "color": "#19d3f3",
          "symbol": "circle"
         },
         "mode": "markers",
         "name": "Bobsleigh",
         "orientation": "v",
         "showlegend": true,
         "type": "scatter",
         "x": [
          1924,
          1928,
          1932,
          1936,
          1948,
          1952,
          1956,
          1964,
          1968,
          1972,
          1976,
          1980,
          1984,
          1988,
          1992,
          1994,
          1998,
          2002,
          2006,
          2010,
          2014
         ],
         "xaxis": "x",
         "y": [
          39,
          116,
          52,
          118,
          92,
          96,
          135,
          117,
          120,
          114,
          133,
          108,
          152,
          186,
          216,
          207,
          204,
          240,
          191,
          199,
          223
         ],
         "yaxis": "y"
        },
        {
         "hovertemplate": "Sport=Cross Country Skiing<br>Year=%{x}<br>Athlets=%{y}<extra></extra>",
         "legendgroup": "Cross Country Skiing",
         "marker": {
          "color": "#FF6692",
          "symbol": "diamond"
         },
         "mode": "markers",
         "name": "Cross Country Skiing",
         "orientation": "v",
         "showlegend": true,
         "type": "scatter",
         "x": [
          1924,
          1928,
          1932,
          1936,
          1948,
          1952,
          1956,
          1960,
          1964,
          1968,
          1972,
          1976,
          1980,
          1984,
          1988,
          1992,
          1994,
          1998,
          2002,
          2006,
          2010,
          2014
         ],
         "xaxis": "x",
         "y": [
          74,
          90,
          74,
          175,
          156,
          188,
          275,
          216,
          332,
          344,
          335,
          395,
          309,
          477,
          528,
          717,
          639,
          733,
          774,
          812,
          725,
          765
         ],
         "yaxis": "y"
        },
        {
         "hovertemplate": "Sport=Curling<br>Year=%{x}<br>Athlets=%{y}<extra></extra>",
         "legendgroup": "Curling",
         "marker": {
          "color": "#B6E880",
          "symbol": "square"
         },
         "mode": "markers",
         "name": "Curling",
         "orientation": "v",
         "showlegend": true,
         "type": "scatter",
         "x": [
          1924,
          1998,
          2002,
          2006,
          2010,
          2014
         ],
         "xaxis": "x",
         "y": [
          16,
          80,
          96,
          91,
          93,
          87
         ],
         "yaxis": "y"
        },
        {
         "hovertemplate": "Sport=Military Ski Patrol<br>Year=%{x}<br>Athlets=%{y}<extra></extra>",
         "legendgroup": "Military Ski Patrol",
         "marker": {
          "color": "#FF97FF",
          "symbol": "x"
         },
         "mode": "markers",
         "name": "Military Ski Patrol",
         "orientation": "v",
         "showlegend": true,
         "type": "scatter",
         "x": [
          1924
         ],
         "xaxis": "x",
         "y": [
          24
         ],
         "yaxis": "y"
        },
        {
         "hovertemplate": "Sport=Nordic Combined<br>Year=%{x}<br>Athlets=%{y}<extra></extra>",
         "legendgroup": "Nordic Combined",
         "marker": {
          "color": "#FECB52",
          "symbol": "cross"
         },
         "mode": "markers",
         "name": "Nordic Combined",
         "orientation": "v",
         "showlegend": true,
         "type": "scatter",
         "x": [
          1924,
          1928,
          1932,
          1936,
          1948,
          1952,
          1956,
          1960,
          1964,
          1968,
          1972,
          1976,
          1980,
          1984,
          1988,
          1992,
          1994,
          1998,
          2002,
          2006,
          2010,
          2014
         ],
         "xaxis": "x",
         "y": [
          30,
          35,
          33,
          51,
          39,
          25,
          36,
          33,
          32,
          41,
          40,
          34,
          31,
          28,
          75,
          78,
          89,
          92,
          125,
          138,
          131,
          128
         ],
         "yaxis": "y"
        },
        {
         "hovertemplate": "Sport=Ski Jumping<br>Year=%{x}<br>Athlets=%{y}<extra></extra>",
         "legendgroup": "Ski Jumping",
         "marker": {
          "color": "#636efa",
          "symbol": "circle"
         },
         "mode": "markers",
         "name": "Ski Jumping",
         "orientation": "v",
         "showlegend": true,
         "type": "scatter",
         "x": [
          1924,
          1928,
          1932,
          1936,
          1948,
          1952,
          1956,
          1960,
          1964,
          1968,
          1972,
          1976,
          1980,
          1984,
          1988,
          1992,
          1994,
          1998,
          2002,
          2006,
          2010,
          2014
         ],
         "xaxis": "x",
         "y": [
          27,
          38,
          34,
          48,
          49,
          44,
          51,
          45,
          105,
          116,
          108,
          109,
          98,
          111,
          157,
          171,
          164,
          176,
          178,
          202,
          170,
          200
         ],
         "yaxis": "y"
        },
        {
         "hovertemplate": "Sport=Speed Skating<br>Year=%{x}<br>Athlets=%{y}<extra></extra>",
         "legendgroup": "Speed Skating",
         "marker": {
          "color": "#EF553B",
          "symbol": "diamond"
         },
         "mode": "markers",
         "name": "Speed Skating",
         "orientation": "v",
         "showlegend": true,
         "type": "scatter",
         "x": [
          1924,
          1928,
          1932,
          1936,
          1948,
          1952,
          1956,
          1960,
          1964,
          1968,
          1972,
          1976,
          1980,
          1984,
          1988,
          1992,
          1994,
          1998,
          2002,
          2006,
          2010,
          2014
         ],
         "xaxis": "x",
         "y": [
          110,
          106,
          70,
          140,
          154,
          145,
          179,
          249,
          287,
          280,
          244,
          247,
          296,
          328,
          326,
          354,
          318,
          335,
          332,
          379,
          366,
          368
         ],
         "yaxis": "y"
        },
        {
         "hovertemplate": "Sport=Skeleton<br>Year=%{x}<br>Athlets=%{y}<extra></extra>",
         "legendgroup": "Skeleton",
         "marker": {
          "color": "#00cc96",
          "symbol": "square"
         },
         "mode": "markers",
         "name": "Skeleton",
         "orientation": "v",
         "showlegend": true,
         "type": "scatter",
         "x": [
          1928,
          1948,
          2002,
          2006,
          2010,
          2014
         ],
         "xaxis": "x",
         "y": [
          10,
          15,
          39,
          42,
          47,
          46
         ],
         "yaxis": "y"
        },
        {
         "hovertemplate": "Sport=Aeronautics<br>Year=%{x}<br>Athlets=%{y}<extra></extra>",
         "legendgroup": "Aeronautics",
         "marker": {
          "color": "#ab63fa",
          "symbol": "x"
         },
         "mode": "markers",
         "name": "Aeronautics",
         "orientation": "v",
         "showlegend": true,
         "type": "scatter",
         "x": [
          1936
         ],
         "xaxis": "x",
         "y": [
          1
         ],
         "yaxis": "y"
        },
        {
         "hovertemplate": "Sport=Alpine Skiing<br>Year=%{x}<br>Athlets=%{y}<extra></extra>",
         "legendgroup": "Alpine Skiing",
         "marker": {
          "color": "#FFA15A",
          "symbol": "cross"
         },
         "mode": "markers",
         "name": "Alpine Skiing",
         "orientation": "v",
         "showlegend": true,
         "type": "scatter",
         "x": [
          1936,
          1948,
          1952,
          1956,
          1960,
          1964,
          1968,
          1972,
          1976,
          1980,
          1984,
          1988,
          1992,
          1994,
          1998,
          2002,
          2006,
          2010,
          2014
         ],
         "xaxis": "x",
         "y": [
          103,
          360,
          378,
          403,
          320,
          411,
          422,
          325,
          390,
          327,
          401,
          668,
          750,
          544,
          477,
          559,
          619,
          685,
          687
         ],
         "yaxis": "y"
        },
        {
         "hovertemplate": "Sport=Basketball<br>Year=%{x}<br>Athlets=%{y}<extra></extra>",
         "legendgroup": "Basketball",
         "marker": {
          "color": "#19d3f3",
          "symbol": "circle"
         },
         "mode": "markers",
         "name": "Basketball",
         "orientation": "v",
         "showlegend": true,
         "type": "scatter",
         "x": [
          1936,
          1948,
          1952,
          1956,
          1960,
          1964,
          1968,
          1972,
          1976,
          1980,
          1984,
          1988,
          1992,
          1996,
          2000,
          2004,
          2008,
          2012,
          2016
         ],
         "xaxis": "x",
         "y": [
          199,
          287,
          294,
          169,
          192,
          189,
          191,
          190,
          213,
          215,
          213,
          236,
          236,
          284,
          286,
          287,
          287,
          287,
          281
         ],
         "yaxis": "y"
        },
        {
         "hovertemplate": "Sport=Canoeing<br>Year=%{x}<br>Athlets=%{y}<extra></extra>",
         "legendgroup": "Canoeing",
         "marker": {
          "color": "#FF6692",
          "symbol": "diamond"
         },
         "mode": "markers",
         "name": "Canoeing",
         "orientation": "v",
         "showlegend": true,
         "type": "scatter",
         "x": [
          1936,
          1948,
          1952,
          1956,
          1960,
          1964,
          1968,
          1972,
          1976,
          1980,
          1984,
          1988,
          1992,
          1996,
          2000,
          2004,
          2008,
          2012,
          2016
         ],
         "xaxis": "x",
         "y": [
          143,
          139,
          184,
          146,
          211,
          167,
          203,
          359,
          340,
          253,
          299,
          388,
          587,
          575,
          448,
          434,
          436,
          418,
          441
         ],
         "yaxis": "y"
        },
        {
         "hovertemplate": "Sport=Handball<br>Year=%{x}<br>Athlets=%{y}<extra></extra>",
         "legendgroup": "Handball",
         "marker": {
          "color": "#B6E880",
          "symbol": "square"
         },
         "mode": "markers",
         "name": "Handball",
         "orientation": "v",
         "showlegend": true,
         "type": "scatter",
         "x": [
          1936,
          1972,
          1976,
          1980,
          1984,
          1988,
          1992,
          1996,
          2000,
          2004,
          2008,
          2012,
          2016
         ],
         "xaxis": "x",
         "y": [
          105,
          243,
          243,
          248,
          259,
          281,
          292,
          300,
          323,
          328,
          343,
          347,
          353
         ],
         "yaxis": "y"
        },
        {
         "hovertemplate": "Sport=Biathlon<br>Year=%{x}<br>Athlets=%{y}<extra></extra>",
         "legendgroup": "Biathlon",
         "marker": {
          "color": "#FF97FF",
          "symbol": "x"
         },
         "mode": "markers",
         "name": "Biathlon",
         "orientation": "v",
         "showlegend": true,
         "type": "scatter",
         "x": [
          1960,
          1964,
          1968,
          1972,
          1976,
          1980,
          1984,
          1988,
          1992,
          1994,
          1998,
          2002,
          2006,
          2010,
          2014
         ],
         "xaxis": "x",
         "y": [
          30,
          51,
          116,
          106,
          112,
          159,
          195,
          207,
          457,
          416,
          413,
          564,
          658,
          683,
          726
         ],
         "yaxis": "y"
        },
        {
         "hovertemplate": "Sport=Judo<br>Year=%{x}<br>Athlets=%{y}<extra></extra>",
         "legendgroup": "Judo",
         "marker": {
          "color": "#FECB52",
          "symbol": "cross"
         },
         "mode": "markers",
         "name": "Judo",
         "orientation": "v",
         "showlegend": true,
         "type": "scatter",
         "x": [
          1964,
          1972,
          1976,
          1980,
          1984,
          1988,
          1992,
          1996,
          2000,
          2004,
          2008,
          2012,
          2016
         ],
         "xaxis": "x",
         "y": [
          72,
          166,
          154,
          193,
          212,
          243,
          433,
          387,
          398,
          384,
          386,
          384,
          389
         ],
         "yaxis": "y"
        },
        {
         "hovertemplate": "Sport=Luge<br>Year=%{x}<br>Athlets=%{y}<extra></extra>",
         "legendgroup": "Luge",
         "marker": {
          "color": "#636efa",
          "symbol": "circle"
         },
         "mode": "markers",
         "name": "Luge",
         "orientation": "v",
         "showlegend": true,
         "type": "scatter",
         "x": [
          1964,
          1968,
          1972,
          1976,
          1980,
          1984,
          1988,
          1992,
          1994,
          1998,
          2002,
          2006,
          2010,
          2014
         ],
         "xaxis": "x",
         "y": [
          85,
          106,
          107,
          119,
          94,
          89,
          98,
          98,
          98,
          97,
          117,
          108,
          107,
          156
         ],
         "yaxis": "y"
        },
        {
         "hovertemplate": "Sport=Volleyball<br>Year=%{x}<br>Athlets=%{y}<extra></extra>",
         "legendgroup": "Volleyball",
         "marker": {
          "color": "#EF553B",
          "symbol": "diamond"
         },
         "mode": "markers",
         "name": "Volleyball",
         "orientation": "v",
         "showlegend": true,
         "type": "scatter",
         "x": [
          1964,
          1968,
          1972,
          1976,
          1980,
          1984,
          1988,
          1992,
          1996,
          2000,
          2004,
          2008,
          2012,
          2016
         ],
         "xaxis": "x",
         "y": [
          179,
          206,
          231,
          216,
          204,
          208,
          239,
          231,
          275,
          279,
          283,
          283,
          287,
          283
         ],
         "yaxis": "y"
        },
        {
         "hovertemplate": "Sport=Rhythmic Gymnastics<br>Year=%{x}<br>Athlets=%{y}<extra></extra>",
         "legendgroup": "Rhythmic Gymnastics",
         "marker": {
          "color": "#00cc96",
          "symbol": "square"
         },
         "mode": "markers",
         "name": "Rhythmic Gymnastics",
         "orientation": "v",
         "showlegend": true,
         "type": "scatter",
         "x": [
          1984,
          1988,
          1992,
          1996,
          2000,
          2004,
          2008,
          2012,
          2016
         ],
         "xaxis": "x",
         "y": [
          33,
          39,
          42,
          90,
          84,
          84,
          95,
          95,
          96
         ],
         "yaxis": "y"
        },
        {
         "hovertemplate": "Sport=Synchronized Swimming<br>Year=%{x}<br>Athlets=%{y}<extra></extra>",
         "legendgroup": "Synchronized Swimming",
         "marker": {
          "color": "#ab63fa",
          "symbol": "x"
         },
         "mode": "markers",
         "name": "Synchronized Swimming",
         "orientation": "v",
         "showlegend": true,
         "type": "scatter",
         "x": [
          1984,
          1988,
          1992,
          1996,
          2000,
          2004,
          2008,
          2012,
          2016
         ],
         "xaxis": "x",
         "y": [
          86,
          76,
          89,
          72,
          117,
          117,
          117,
          117,
          118
         ],
         "yaxis": "y"
        },
        {
         "hovertemplate": "Sport=Table Tennis<br>Year=%{x}<br>Athlets=%{y}<extra></extra>",
         "legendgroup": "Table Tennis",
         "marker": {
          "color": "#FFA15A",
          "symbol": "cross"
         },
         "mode": "markers",
         "name": "Table Tennis",
         "orientation": "v",
         "showlegend": true,
         "type": "scatter",
         "x": [
          1988,
          1992,
          1996,
          2000,
          2004,
          2008,
          2012,
          2016
         ],
         "xaxis": "x",
         "y": [
          206,
          248,
          251,
          268,
          260,
          250,
          236,
          236
         ],
         "yaxis": "y"
        },
        {
         "hovertemplate": "Sport=Badminton<br>Year=%{x}<br>Athlets=%{y}<extra></extra>",
         "legendgroup": "Badminton",
         "marker": {
          "color": "#19d3f3",
          "symbol": "circle"
         },
         "mode": "markers",
         "name": "Badminton",
         "orientation": "v",
         "showlegend": true,
         "type": "scatter",
         "x": [
          1992,
          1996,
          2000,
          2004,
          2008,
          2012,
          2016
         ],
         "xaxis": "x",
         "y": [
          226,
          263,
          225,
          200,
          184,
          182,
          177
         ],
         "yaxis": "y"
        },
        {
         "hovertemplate": "Sport=Baseball<br>Year=%{x}<br>Athlets=%{y}<extra></extra>",
         "legendgroup": "Baseball",
         "marker": {
          "color": "#FF6692",
          "symbol": "diamond"
         },
         "mode": "markers",
         "name": "Baseball",
         "orientation": "v",
         "showlegend": true,
         "type": "scatter",
         "x": [
          1992,
          1996,
          2000,
          2004,
          2008
         ],
         "xaxis": "x",
         "y": [
          160,
          160,
          192,
          191,
          191
         ],
         "yaxis": "y"
        },
        {
         "hovertemplate": "Sport=Freestyle Skiing<br>Year=%{x}<br>Athlets=%{y}<extra></extra>",
         "legendgroup": "Freestyle Skiing",
         "marker": {
          "color": "#B6E880",
          "symbol": "square"
         },
         "mode": "markers",
         "name": "Freestyle Skiing",
         "orientation": "v",
         "showlegend": true,
         "type": "scatter",
         "x": [
          1992,
          1994,
          1998,
          2002,
          2006,
          2010,
          2014
         ],
         "xaxis": "x",
         "y": [
          71,
          99,
          110,
          105,
          116,
          172,
          264
         ],
         "yaxis": "y"
        },
        {
         "hovertemplate": "Sport=Short Track Speed Skating<br>Year=%{x}<br>Athlets=%{y}<extra></extra>",
         "legendgroup": "Short Track Speed Skating",
         "marker": {
          "color": "#FF97FF",
          "symbol": "x"
         },
         "mode": "markers",
         "name": "Short Track Speed Skating",
         "orientation": "v",
         "showlegend": true,
         "type": "scatter",
         "x": [
          1992,
          1994,
          1998,
          2002,
          2006,
          2010,
          2014
         ],
         "xaxis": "x",
         "y": [
          124,
          188,
          190,
          251,
          239,
          273,
          269
         ],
         "yaxis": "y"
        },
        {
         "hovertemplate": "Sport=Beach Volleyball<br>Year=%{x}<br>Athlets=%{y}<extra></extra>",
         "legendgroup": "Beach Volleyball",
         "marker": {
          "color": "#FECB52",
          "symbol": "cross"
         },
         "mode": "markers",
         "name": "Beach Volleyball",
         "orientation": "v",
         "showlegend": true,
         "type": "scatter",
         "x": [
          1996,
          2000,
          2004,
          2008,
          2012,
          2016
         ],
         "xaxis": "x",
         "y": [
          84,
          96,
          96,
          96,
          96,
          96
         ],
         "yaxis": "y"
        },
        {
         "hovertemplate": "Sport=Softball<br>Year=%{x}<br>Athlets=%{y}<extra></extra>",
         "legendgroup": "Softball",
         "marker": {
          "color": "#636efa",
          "symbol": "circle"
         },
         "mode": "markers",
         "name": "Softball",
         "orientation": "v",
         "showlegend": true,
         "type": "scatter",
         "x": [
          1996,
          2000,
          2004,
          2008
         ],
         "xaxis": "x",
         "y": [
          120,
          120,
          118,
          120
         ],
         "yaxis": "y"
        },
        {
         "hovertemplate": "Sport=Snowboarding<br>Year=%{x}<br>Athlets=%{y}<extra></extra>",
         "legendgroup": "Snowboarding",
         "marker": {
          "color": "#EF553B",
          "symbol": "diamond"
         },
         "mode": "markers",
         "name": "Snowboarding",
         "orientation": "v",
         "showlegend": true,
         "type": "scatter",
         "x": [
          1998,
          2002,
          2006,
          2010,
          2014
         ],
         "xaxis": "x",
         "y": [
          127,
          118,
          198,
          185,
          308
         ],
         "yaxis": "y"
        },
        {
         "hovertemplate": "Sport=Taekwondo<br>Year=%{x}<br>Athlets=%{y}<extra></extra>",
         "legendgroup": "Taekwondo",
         "marker": {
          "color": "#00cc96",
          "symbol": "square"
         },
         "mode": "markers",
         "name": "Taekwondo",
         "orientation": "v",
         "showlegend": true,
         "type": "scatter",
         "x": [
          2000,
          2004,
          2008,
          2012,
          2016
         ],
         "xaxis": "x",
         "y": [
          102,
          124,
          126,
          128,
          126
         ],
         "yaxis": "y"
        },
        {
         "hovertemplate": "Sport=Trampolining<br>Year=%{x}<br>Athlets=%{y}<extra></extra>",
         "legendgroup": "Trampolining",
         "marker": {
          "color": "#ab63fa",
          "symbol": "x"
         },
         "mode": "markers",
         "name": "Trampolining",
         "orientation": "v",
         "showlegend": true,
         "type": "scatter",
         "x": [
          2000,
          2004,
          2008,
          2012,
          2016
         ],
         "xaxis": "x",
         "y": [
          24,
          32,
          32,
          32,
          32
         ],
         "yaxis": "y"
        },
        {
         "hovertemplate": "Sport=Triathlon<br>Year=%{x}<br>Athlets=%{y}<extra></extra>",
         "legendgroup": "Triathlon",
         "marker": {
          "color": "#FFA15A",
          "symbol": "cross"
         },
         "mode": "markers",
         "name": "Triathlon",
         "orientation": "v",
         "showlegend": true,
         "type": "scatter",
         "x": [
          2000,
          2004,
          2008,
          2012,
          2016
         ],
         "xaxis": "x",
         "y": [
          100,
          99,
          110,
          110,
          110
         ],
         "yaxis": "y"
        },
        {
         "hovertemplate": "Sport=Rugby Sevens<br>Year=%{x}<br>Athlets=%{y}<extra></extra>",
         "legendgroup": "Rugby Sevens",
         "marker": {
          "color": "#19d3f3",
          "symbol": "circle"
         },
         "mode": "markers",
         "name": "Rugby Sevens",
         "orientation": "v",
         "showlegend": true,
         "type": "scatter",
         "x": [
          2016
         ],
         "xaxis": "x",
         "y": [
          299
         ],
         "yaxis": "y"
        }
       ],
       "layout": {
        "legend": {
         "title": {
          "text": "Sport"
         },
         "tracegroupgap": 0
        },
        "margin": {
         "t": 60
        },
        "template": {
         "data": {
          "bar": [
           {
            "error_x": {
             "color": "#2a3f5f"
            },
            "error_y": {
             "color": "#2a3f5f"
            },
            "marker": {
             "line": {
              "color": "#E5ECF6",
              "width": 0.5
             },
             "pattern": {
              "fillmode": "overlay",
              "size": 10,
              "solidity": 0.2
             }
            },
            "type": "bar"
           }
          ],
          "barpolar": [
           {
            "marker": {
             "line": {
              "color": "#E5ECF6",
              "width": 0.5
             },
             "pattern": {
              "fillmode": "overlay",
              "size": 10,
              "solidity": 0.2
             }
            },
            "type": "barpolar"
           }
          ],
          "carpet": [
           {
            "aaxis": {
             "endlinecolor": "#2a3f5f",
             "gridcolor": "white",
             "linecolor": "white",
             "minorgridcolor": "white",
             "startlinecolor": "#2a3f5f"
            },
            "baxis": {
             "endlinecolor": "#2a3f5f",
             "gridcolor": "white",
             "linecolor": "white",
             "minorgridcolor": "white",
             "startlinecolor": "#2a3f5f"
            },
            "type": "carpet"
           }
          ],
          "choropleth": [
           {
            "colorbar": {
             "outlinewidth": 0,
             "ticks": ""
            },
            "type": "choropleth"
           }
          ],
          "contour": [
           {
            "colorbar": {
             "outlinewidth": 0,
             "ticks": ""
            },
            "colorscale": [
             [
              0.0,
              "#0d0887"
             ],
             [
              0.1111111111111111,
              "#46039f"
             ],
             [
              0.2222222222222222,
              "#7201a8"
             ],
             [
              0.3333333333333333,
              "#9c179e"
             ],
             [
              0.4444444444444444,
              "#bd3786"
             ],
             [
              0.5555555555555556,
              "#d8576b"
             ],
             [
              0.6666666666666666,
              "#ed7953"
             ],
             [
              0.7777777777777778,
              "#fb9f3a"
             ],
             [
              0.8888888888888888,
              "#fdca26"
             ],
             [
              1.0,
              "#f0f921"
             ]
            ],
            "type": "contour"
           }
          ],
          "contourcarpet": [
           {
            "colorbar": {
             "outlinewidth": 0,
             "ticks": ""
            },
            "type": "contourcarpet"
           }
          ],
          "heatmap": [
           {
            "colorbar": {
             "outlinewidth": 0,
             "ticks": ""
            },
            "colorscale": [
             [
              0.0,
              "#0d0887"
             ],
             [
              0.1111111111111111,
              "#46039f"
             ],
             [
              0.2222222222222222,
              "#7201a8"
             ],
             [
              0.3333333333333333,
              "#9c179e"
             ],
             [
              0.4444444444444444,
              "#bd3786"
             ],
             [
              0.5555555555555556,
              "#d8576b"
             ],
             [
              0.6666666666666666,
              "#ed7953"
             ],
             [
              0.7777777777777778,
              "#fb9f3a"
             ],
             [
              0.8888888888888888,
              "#fdca26"
             ],
             [
              1.0,
              "#f0f921"
             ]
            ],
            "type": "heatmap"
           }
          ],
          "heatmapgl": [
           {
            "colorbar": {
             "outlinewidth": 0,
             "ticks": ""
            },
            "colorscale": [
             [
              0.0,
              "#0d0887"
             ],
             [
              0.1111111111111111,
              "#46039f"
             ],
             [
              0.2222222222222222,
              "#7201a8"
             ],
             [
              0.3333333333333333,
              "#9c179e"
             ],
             [
              0.4444444444444444,
              "#bd3786"
             ],
             [
              0.5555555555555556,
              "#d8576b"
             ],
             [
              0.6666666666666666,
              "#ed7953"
             ],
             [
              0.7777777777777778,
              "#fb9f3a"
             ],
             [
              0.8888888888888888,
              "#fdca26"
             ],
             [
              1.0,
              "#f0f921"
             ]
            ],
            "type": "heatmapgl"
           }
          ],
          "histogram": [
           {
            "marker": {
             "pattern": {
              "fillmode": "overlay",
              "size": 10,
              "solidity": 0.2
             }
            },
            "type": "histogram"
           }
          ],
          "histogram2d": [
           {
            "colorbar": {
             "outlinewidth": 0,
             "ticks": ""
            },
            "colorscale": [
             [
              0.0,
              "#0d0887"
             ],
             [
              0.1111111111111111,
              "#46039f"
             ],
             [
              0.2222222222222222,
              "#7201a8"
             ],
             [
              0.3333333333333333,
              "#9c179e"
             ],
             [
              0.4444444444444444,
              "#bd3786"
             ],
             [
              0.5555555555555556,
              "#d8576b"
             ],
             [
              0.6666666666666666,
              "#ed7953"
             ],
             [
              0.7777777777777778,
              "#fb9f3a"
             ],
             [
              0.8888888888888888,
              "#fdca26"
             ],
             [
              1.0,
              "#f0f921"
             ]
            ],
            "type": "histogram2d"
           }
          ],
          "histogram2dcontour": [
           {
            "colorbar": {
             "outlinewidth": 0,
             "ticks": ""
            },
            "colorscale": [
             [
              0.0,
              "#0d0887"
             ],
             [
              0.1111111111111111,
              "#46039f"
             ],
             [
              0.2222222222222222,
              "#7201a8"
             ],
             [
              0.3333333333333333,
              "#9c179e"
             ],
             [
              0.4444444444444444,
              "#bd3786"
             ],
             [
              0.5555555555555556,
              "#d8576b"
             ],
             [
              0.6666666666666666,
              "#ed7953"
             ],
             [
              0.7777777777777778,
              "#fb9f3a"
             ],
             [
              0.8888888888888888,
              "#fdca26"
             ],
             [
              1.0,
              "#f0f921"
             ]
            ],
            "type": "histogram2dcontour"
           }
          ],
          "mesh3d": [
           {
            "colorbar": {
             "outlinewidth": 0,
             "ticks": ""
            },
            "type": "mesh3d"
           }
          ],
          "parcoords": [
           {
            "line": {
             "colorbar": {
              "outlinewidth": 0,
              "ticks": ""
             }
            },
            "type": "parcoords"
           }
          ],
          "pie": [
           {
            "automargin": true,
            "type": "pie"
           }
          ],
          "scatter": [
           {
            "fillpattern": {
             "fillmode": "overlay",
             "size": 10,
             "solidity": 0.2
            },
            "type": "scatter"
           }
          ],
          "scatter3d": [
           {
            "line": {
             "colorbar": {
              "outlinewidth": 0,
              "ticks": ""
             }
            },
            "marker": {
             "colorbar": {
              "outlinewidth": 0,
              "ticks": ""
             }
            },
            "type": "scatter3d"
           }
          ],
          "scattercarpet": [
           {
            "marker": {
             "colorbar": {
              "outlinewidth": 0,
              "ticks": ""
             }
            },
            "type": "scattercarpet"
           }
          ],
          "scattergeo": [
           {
            "marker": {
             "colorbar": {
              "outlinewidth": 0,
              "ticks": ""
             }
            },
            "type": "scattergeo"
           }
          ],
          "scattergl": [
           {
            "marker": {
             "colorbar": {
              "outlinewidth": 0,
              "ticks": ""
             }
            },
            "type": "scattergl"
           }
          ],
          "scattermapbox": [
           {
            "marker": {
             "colorbar": {
              "outlinewidth": 0,
              "ticks": ""
             }
            },
            "type": "scattermapbox"
           }
          ],
          "scatterpolar": [
           {
            "marker": {
             "colorbar": {
              "outlinewidth": 0,
              "ticks": ""
             }
            },
            "type": "scatterpolar"
           }
          ],
          "scatterpolargl": [
           {
            "marker": {
             "colorbar": {
              "outlinewidth": 0,
              "ticks": ""
             }
            },
            "type": "scatterpolargl"
           }
          ],
          "scatterternary": [
           {
            "marker": {
             "colorbar": {
              "outlinewidth": 0,
              "ticks": ""
             }
            },
            "type": "scatterternary"
           }
          ],
          "surface": [
           {
            "colorbar": {
             "outlinewidth": 0,
             "ticks": ""
            },
            "colorscale": [
             [
              0.0,
              "#0d0887"
             ],
             [
              0.1111111111111111,
              "#46039f"
             ],
             [
              0.2222222222222222,
              "#7201a8"
             ],
             [
              0.3333333333333333,
              "#9c179e"
             ],
             [
              0.4444444444444444,
              "#bd3786"
             ],
             [
              0.5555555555555556,
              "#d8576b"
             ],
             [
              0.6666666666666666,
              "#ed7953"
             ],
             [
              0.7777777777777778,
              "#fb9f3a"
             ],
             [
              0.8888888888888888,
              "#fdca26"
             ],
             [
              1.0,
              "#f0f921"
             ]
            ],
            "type": "surface"
           }
          ],
          "table": [
           {
            "cells": {
             "fill": {
              "color": "#EBF0F8"
             },
             "line": {
              "color": "white"
             }
            },
            "header": {
             "fill": {
              "color": "#C8D4E3"
             },
             "line": {
              "color": "white"
             }
            },
            "type": "table"
           }
          ]
         },
         "layout": {
          "annotationdefaults": {
           "arrowcolor": "#2a3f5f",
           "arrowhead": 0,
           "arrowwidth": 1
          },
          "autotypenumbers": "strict",
          "coloraxis": {
           "colorbar": {
            "outlinewidth": 0,
            "ticks": ""
           }
          },
          "colorscale": {
           "diverging": [
            [
             0,
             "#8e0152"
            ],
            [
             0.1,
             "#c51b7d"
            ],
            [
             0.2,
             "#de77ae"
            ],
            [
             0.3,
             "#f1b6da"
            ],
            [
             0.4,
             "#fde0ef"
            ],
            [
             0.5,
             "#f7f7f7"
            ],
            [
             0.6,
             "#e6f5d0"
            ],
            [
             0.7,
             "#b8e186"
            ],
            [
             0.8,
             "#7fbc41"
            ],
            [
             0.9,
             "#4d9221"
            ],
            [
             1,
             "#276419"
            ]
           ],
           "sequential": [
            [
             0.0,
             "#0d0887"
            ],
            [
             0.1111111111111111,
             "#46039f"
            ],
            [
             0.2222222222222222,
             "#7201a8"
            ],
            [
             0.3333333333333333,
             "#9c179e"
            ],
            [
             0.4444444444444444,
             "#bd3786"
            ],
            [
             0.5555555555555556,
             "#d8576b"
            ],
            [
             0.6666666666666666,
             "#ed7953"
            ],
            [
             0.7777777777777778,
             "#fb9f3a"
            ],
            [
             0.8888888888888888,
             "#fdca26"
            ],
            [
             1.0,
             "#f0f921"
            ]
           ],
           "sequentialminus": [
            [
             0.0,
             "#0d0887"
            ],
            [
             0.1111111111111111,
             "#46039f"
            ],
            [
             0.2222222222222222,
             "#7201a8"
            ],
            [
             0.3333333333333333,
             "#9c179e"
            ],
            [
             0.4444444444444444,
             "#bd3786"
            ],
            [
             0.5555555555555556,
             "#d8576b"
            ],
            [
             0.6666666666666666,
             "#ed7953"
            ],
            [
             0.7777777777777778,
             "#fb9f3a"
            ],
            [
             0.8888888888888888,
             "#fdca26"
            ],
            [
             1.0,
             "#f0f921"
            ]
           ]
          },
          "colorway": [
           "#636efa",
           "#EF553B",
           "#00cc96",
           "#ab63fa",
           "#FFA15A",
           "#19d3f3",
           "#FF6692",
           "#B6E880",
           "#FF97FF",
           "#FECB52"
          ],
          "font": {
           "color": "#2a3f5f"
          },
          "geo": {
           "bgcolor": "white",
           "lakecolor": "white",
           "landcolor": "#E5ECF6",
           "showlakes": true,
           "showland": true,
           "subunitcolor": "white"
          },
          "hoverlabel": {
           "align": "left"
          },
          "hovermode": "closest",
          "mapbox": {
           "style": "light"
          },
          "paper_bgcolor": "white",
          "plot_bgcolor": "#E5ECF6",
          "polar": {
           "angularaxis": {
            "gridcolor": "white",
            "linecolor": "white",
            "ticks": ""
           },
           "bgcolor": "#E5ECF6",
           "radialaxis": {
            "gridcolor": "white",
            "linecolor": "white",
            "ticks": ""
           }
          },
          "scene": {
           "xaxis": {
            "backgroundcolor": "#E5ECF6",
            "gridcolor": "white",
            "gridwidth": 2,
            "linecolor": "white",
            "showbackground": true,
            "ticks": "",
            "zerolinecolor": "white"
           },
           "yaxis": {
            "backgroundcolor": "#E5ECF6",
            "gridcolor": "white",
            "gridwidth": 2,
            "linecolor": "white",
            "showbackground": true,
            "ticks": "",
            "zerolinecolor": "white"
           },
           "zaxis": {
            "backgroundcolor": "#E5ECF6",
            "gridcolor": "white",
            "gridwidth": 2,
            "linecolor": "white",
            "showbackground": true,
            "ticks": "",
            "zerolinecolor": "white"
           }
          },
          "shapedefaults": {
           "line": {
            "color": "#2a3f5f"
           }
          },
          "ternary": {
           "aaxis": {
            "gridcolor": "white",
            "linecolor": "white",
            "ticks": ""
           },
           "baxis": {
            "gridcolor": "white",
            "linecolor": "white",
            "ticks": ""
           },
           "bgcolor": "#E5ECF6",
           "caxis": {
            "gridcolor": "white",
            "linecolor": "white",
            "ticks": ""
           }
          },
          "title": {
           "x": 0.05
          },
          "xaxis": {
           "automargin": true,
           "gridcolor": "white",
           "linecolor": "white",
           "ticks": "",
           "title": {
            "standoff": 15
           },
           "zerolinecolor": "white",
           "zerolinewidth": 2
          },
          "yaxis": {
           "automargin": true,
           "gridcolor": "white",
           "linecolor": "white",
           "ticks": "",
           "title": {
            "standoff": 15
           },
           "zerolinecolor": "white",
           "zerolinewidth": 2
          }
         }
        },
        "xaxis": {
         "anchor": "y",
         "domain": [
          0.0,
          1.0
         ],
         "title": {
          "text": "Year"
         }
        },
        "yaxis": {
         "anchor": "x",
         "domain": [
          0.0,
          1.0
         ],
         "title": {
          "text": "Athlets"
         }
        }
       }
      },
      "text/html": [
       "<div>                            <div id=\"434a08c7-3925-411a-8983-df31370f05a6\" class=\"plotly-graph-div\" style=\"height:525px; width:100%;\"></div>            <script type=\"text/javascript\">                require([\"plotly\"], function(Plotly) {                    window.PLOTLYENV=window.PLOTLYENV || {};                                    if (document.getElementById(\"434a08c7-3925-411a-8983-df31370f05a6\")) {                    Plotly.newPlot(                        \"434a08c7-3925-411a-8983-df31370f05a6\",                        [{\"hovertemplate\":\"Sport=Athletics<br>Year=%{x}<br>Athlets=%{y}<extra></extra>\",\"legendgroup\":\"Athletics\",\"marker\":{\"color\":\"#636efa\",\"symbol\":\"circle\"},\"mode\":\"markers\",\"name\":\"Athletics\",\"orientation\":\"v\",\"showlegend\":true,\"x\":[1896,1900,1904,1906,1908,1912,1920,1924,1928,1932,1936,1948,1952,1956,1960,1964,1968,1972,1976,1980,1984,1988,1992,1996,2000,2004,2008,2012,2016],\"xaxis\":\"x\",\"y\":[106,234,201,470,778,962,849,1003,992,522,1007,1051,1344,1013,1312,1335,1345,1686,1297,1268,1674,2062,2054,2386,2468,2175,2244,2278,2508],\"yaxis\":\"y\",\"type\":\"scatter\"},{\"hovertemplate\":\"Sport=Cycling<br>Year=%{x}<br>Athlets=%{y}<extra></extra>\",\"legendgroup\":\"Cycling\",\"marker\":{\"color\":\"#EF553B\",\"symbol\":\"diamond\"},\"mode\":\"markers\",\"name\":\"Cycling\",\"orientation\":\"v\",\"showlegend\":true,\"x\":[1896,1900,1904,1906,1908,1912,1920,1924,1928,1932,1936,1948,1952,1956,1960,1964,1968,1972,1976,1980,1984,1988,1992,1996,2000,2004,2008,2012,2016],\"xaxis\":\"x\",\"y\":[41,92,61,138,269,242,212,249,227,109,301,320,389,292,423,451,483,526,392,307,475,518,566,584,621,623,652,629,667],\"yaxis\":\"y\",\"type\":\"scatter\"},{\"hovertemplate\":\"Sport=Fencing<br>Year=%{x}<br>Athlets=%{y}<extra></extra>\",\"legendgroup\":\"Fencing\",\"marker\":{\"color\":\"#00cc96\",\"symbol\":\"square\"},\"mode\":\"markers\",\"name\":\"Fencing\",\"orientation\":\"v\",\"showlegend\":true,\"x\":[1896,1900,1904,1906,1908,1912,1920,1924,1928,1932,1936,1948,1952,1956,1960,1964,1968,1972,1976,1980,1984,1988,1992,1996,2000,2004,2008,2012,2016],\"xaxis\":\"x\",\"y\":[15,317,28,161,240,379,350,424,430,192,556,508,509,278,601,481,490,499,485,321,424,506,458,388,349,323,332,345,346],\"yaxis\":\"y\",\"type\":\"scatter\"},{\"hovertemplate\":\"Sport=Gymnastics<br>Year=%{x}<br>Athlets=%{y}<extra></extra>\",\"legendgroup\":\"Gymnastics\",\"marker\":{\"color\":\"#ab63fa\",\"symbol\":\"x\"},\"mode\":\"markers\",\"name\":\"Gymnastics\",\"orientation\":\"v\",\"showlegend\":true,\"x\":[1896,1900,1904,1906,1908,1912,1920,1924,1928,1932,1936,1948,1952,1956,1960,1964,1968,1972,1976,1980,1984,1988,1992,1996,2000,2004,2008,2012,2016],\"xaxis\":\"x\",\"y\":[97,135,458,156,349,310,263,638,664,147,947,1060,2391,913,1746,1484,1496,1584,1204,866,930,1217,1255,1397,1144,1151,996,848,861],\"yaxis\":\"y\",\"type\":\"scatter\"},{\"hovertemplate\":\"Sport=Shooting<br>Year=%{x}<br>Athlets=%{y}<extra></extra>\",\"legendgroup\":\"Shooting\",\"marker\":{\"color\":\"#FFA15A\",\"symbol\":\"cross\"},\"mode\":\"markers\",\"name\":\"Shooting\",\"orientation\":\"v\",\"showlegend\":true,\"x\":[1896,1900,1906,1908,1912,1920,1924,1932,1936,1948,1952,1956,1960,1964,1968,1972,1976,1980,1984,1988,1992,1996,2000,2004,2008,2012,2016],\"xaxis\":\"x\",\"y\":[65,221,320,444,794,838,508,44,162,216,289,219,389,312,410,472,369,267,539,545,564,612,599,558,577,560,555],\"yaxis\":\"y\",\"type\":\"scatter\"},{\"hovertemplate\":\"Sport=Swimming<br>Year=%{x}<br>Athlets=%{y}<extra></extra>\",\"legendgroup\":\"Swimming\",\"marker\":{\"color\":\"#19d3f3\",\"symbol\":\"circle\"},\"mode\":\"markers\",\"name\":\"Swimming\",\"orientation\":\"v\",\"showlegend\":true,\"x\":[1896,1900,1904,1906,1908,1912,1920,1924,1928,1932,1936,1948,1952,1956,1960,1964,1968,1972,1976,1980,1984,1988,1992,1996,2000,2004,2008,2012,2016],\"xaxis\":\"x\",\"y\":[18,131,64,78,150,201,209,263,278,195,364,398,483,356,630,736,1231,1263,1076,761,1232,1614,1615,1635,1741,1618,1749,1538,1568],\"yaxis\":\"y\",\"type\":\"scatter\"},{\"hovertemplate\":\"Sport=Tennis<br>Year=%{x}<br>Athlets=%{y}<extra></extra>\",\"legendgroup\":\"Tennis\",\"marker\":{\"color\":\"#FF6692\",\"symbol\":\"diamond\"},\"mode\":\"markers\",\"name\":\"Tennis\",\"orientation\":\"v\",\"showlegend\":true,\"x\":[1896,1900,1904,1906,1908,1912,1920,1924,1988,1992,1996,2000,2004,2008,2012,2016],\"xaxis\":\"x\",\"y\":[23,47,57,48,84,173,153,253,202,250,246,248,252,254,286,286],\"yaxis\":\"y\",\"type\":\"scatter\"},{\"hovertemplate\":\"Sport=Weightlifting<br>Year=%{x}<br>Athlets=%{y}<extra></extra>\",\"legendgroup\":\"Weightlifting\",\"marker\":{\"color\":\"#B6E880\",\"symbol\":\"square\"},\"mode\":\"markers\",\"name\":\"Weightlifting\",\"orientation\":\"v\",\"showlegend\":true,\"x\":[1896,1904,1906,1920,1924,1928,1932,1936,1948,1952,1956,1960,1964,1968,1972,1976,1980,1984,1988,1992,1996,2000,2004,2008,2012,2016],\"xaxis\":\"x\",\"y\":[10,7,22,53,107,94,29,80,120,142,105,172,149,160,188,173,172,186,226,244,243,246,249,253,252,255],\"yaxis\":\"y\",\"type\":\"scatter\"},{\"hovertemplate\":\"Sport=Wrestling<br>Year=%{x}<br>Athlets=%{y}<extra></extra>\",\"legendgroup\":\"Wrestling\",\"marker\":{\"color\":\"#FF97FF\",\"symbol\":\"x\"},\"mode\":\"markers\",\"name\":\"Wrestling\",\"orientation\":\"v\",\"showlegend\":true,\"x\":[1896,1904,1906,1908,1912,1920,1924,1928,1932,1936,1948,1952,1956,1960,1964,1968,1972,1976,1980,1984,1988,1992,1996,2000,2004,2008,2012,2016],\"xaxis\":\"x\",\"y\":[5,48,39,133,170,161,244,169,90,210,229,262,195,337,302,333,409,349,270,286,457,371,401,314,342,343,339,346],\"yaxis\":\"y\",\"type\":\"scatter\"},{\"hovertemplate\":\"Sport=Archery<br>Year=%{x}<br>Athlets=%{y}<extra></extra>\",\"legendgroup\":\"Archery\",\"marker\":{\"color\":\"#FECB52\",\"symbol\":\"cross\"},\"mode\":\"markers\",\"name\":\"Archery\",\"orientation\":\"v\",\"showlegend\":true,\"x\":[1900,1904,1908,1920,1972,1976,1980,1984,1988,1992,1996,2000,2004,2008,2012,2016],\"xaxis\":\"x\",\"y\":[32,70,77,86,95,64,67,109,257,247,218,206,212,194,200,200],\"yaxis\":\"y\",\"type\":\"scatter\"},{\"hovertemplate\":\"Sport=Basque Pelota<br>Year=%{x}<br>Athlets=%{y}<extra></extra>\",\"legendgroup\":\"Basque Pelota\",\"marker\":{\"color\":\"#636efa\",\"symbol\":\"circle\"},\"mode\":\"markers\",\"name\":\"Basque Pelota\",\"orientation\":\"v\",\"showlegend\":true,\"x\":[1900],\"xaxis\":\"x\",\"y\":[2],\"yaxis\":\"y\",\"type\":\"scatter\"},{\"hovertemplate\":\"Sport=Cricket<br>Year=%{x}<br>Athlets=%{y}<extra></extra>\",\"legendgroup\":\"Cricket\",\"marker\":{\"color\":\"#EF553B\",\"symbol\":\"diamond\"},\"mode\":\"markers\",\"name\":\"Cricket\",\"orientation\":\"v\",\"showlegend\":true,\"x\":[1900],\"xaxis\":\"x\",\"y\":[24],\"yaxis\":\"y\",\"type\":\"scatter\"},{\"hovertemplate\":\"Sport=Croquet<br>Year=%{x}<br>Athlets=%{y}<extra></extra>\",\"legendgroup\":\"Croquet\",\"marker\":{\"color\":\"#00cc96\",\"symbol\":\"square\"},\"mode\":\"markers\",\"name\":\"Croquet\",\"orientation\":\"v\",\"showlegend\":true,\"x\":[1900],\"xaxis\":\"x\",\"y\":[19],\"yaxis\":\"y\",\"type\":\"scatter\"},{\"hovertemplate\":\"Sport=Equestrianism<br>Year=%{x}<br>Athlets=%{y}<extra></extra>\",\"legendgroup\":\"Equestrianism\",\"marker\":{\"color\":\"#ab63fa\",\"symbol\":\"x\"},\"mode\":\"markers\",\"name\":\"Equestrianism\",\"orientation\":\"v\",\"showlegend\":true,\"x\":[1900,1912,1920,1924,1928,1932,1936,1948,1952,1956,1960,1964,1968,1972,1976,1980,1984,1988,1992,1996,2000,2004,2008,2012,2016],\"xaxis\":\"x\",\"y\":[79,128,132,194,232,65,256,207,263,298,276,224,233,326,246,122,281,324,404,343,295,371,340,350,355],\"yaxis\":\"y\",\"type\":\"scatter\"},{\"hovertemplate\":\"Sport=Football<br>Year=%{x}<br>Athlets=%{y}<extra></extra>\",\"legendgroup\":\"Football\",\"marker\":{\"color\":\"#FFA15A\",\"symbol\":\"cross\"},\"mode\":\"markers\",\"name\":\"Football\",\"orientation\":\"v\",\"showlegend\":true,\"x\":[1900,1904,1906,1908,1912,1920,1924,1928,1936,1948,1952,1956,1960,1964,1968,1972,1976,1980,1984,1988,1992,1996,2000,2004,2008,2012,2016],\"xaxis\":\"x\",\"y\":[35,36,45,72,163,190,279,219,201,218,294,143,235,214,273,269,202,256,246,270,272,388,391,425,469,467,473],\"yaxis\":\"y\",\"type\":\"scatter\"},{\"hovertemplate\":\"Sport=Golf<br>Year=%{x}<br>Athlets=%{y}<extra></extra>\",\"legendgroup\":\"Golf\",\"marker\":{\"color\":\"#19d3f3\",\"symbol\":\"circle\"},\"mode\":\"markers\",\"name\":\"Golf\",\"orientation\":\"v\",\"showlegend\":true,\"x\":[1900,1904,2016],\"xaxis\":\"x\",\"y\":[22,105,120],\"yaxis\":\"y\",\"type\":\"scatter\"},{\"hovertemplate\":\"Sport=Polo<br>Year=%{x}<br>Athlets=%{y}<extra></extra>\",\"legendgroup\":\"Polo\",\"marker\":{\"color\":\"#FF6692\",\"symbol\":\"diamond\"},\"mode\":\"markers\",\"name\":\"Polo\",\"orientation\":\"v\",\"showlegend\":true,\"x\":[1900,1908,1920,1924,1936],\"xaxis\":\"x\",\"y\":[21,12,17,24,21],\"yaxis\":\"y\",\"type\":\"scatter\"},{\"hovertemplate\":\"Sport=Rowing<br>Year=%{x}<br>Athlets=%{y}<extra></extra>\",\"legendgroup\":\"Rowing\",\"marker\":{\"color\":\"#B6E880\",\"symbol\":\"square\"},\"mode\":\"markers\",\"name\":\"Rowing\",\"orientation\":\"v\",\"showlegend\":true,\"x\":[1900,1904,1906,1908,1912,1920,1924,1928,1932,1936,1948,1952,1956,1960,1964,1968,1972,1976,1980,1984,1988,1992,1996,2000,2004,2008,2012,2016],\"xaxis\":\"x\",\"y\":[133,46,200,87,197,144,196,247,166,348,318,406,258,431,378,358,442,598,488,465,624,661,621,561,559,563,550,550],\"yaxis\":\"y\",\"type\":\"scatter\"},{\"hovertemplate\":\"Sport=Rugby<br>Year=%{x}<br>Athlets=%{y}<extra></extra>\",\"legendgroup\":\"Rugby\",\"marker\":{\"color\":\"#FF97FF\",\"symbol\":\"x\"},\"mode\":\"markers\",\"name\":\"Rugby\",\"orientation\":\"v\",\"showlegend\":true,\"x\":[1900,1908,1920,1924],\"xaxis\":\"x\",\"y\":[47,30,31,54],\"yaxis\":\"y\",\"type\":\"scatter\"},{\"hovertemplate\":\"Sport=Sailing<br>Year=%{x}<br>Athlets=%{y}<extra></extra>\",\"legendgroup\":\"Sailing\",\"marker\":{\"color\":\"#FECB52\",\"symbol\":\"cross\"},\"mode\":\"markers\",\"name\":\"Sailing\",\"orientation\":\"v\",\"showlegend\":true,\"x\":[1900,1908,1912,1920,1924,1928,1932,1936,1948,1952,1956,1960,1964,1968,1972,1976,1980,1984,1988,1992,1996,2000,2004,2008,2012,2016],\"xaxis\":\"x\",\"y\":[280,64,109,101,69,128,57,172,186,227,154,290,225,252,323,257,156,300,375,441,458,402,401,400,379,380],\"yaxis\":\"y\",\"type\":\"scatter\"},{\"hovertemplate\":\"Sport=Tug-Of-War<br>Year=%{x}<br>Athlets=%{y}<extra></extra>\",\"legendgroup\":\"Tug-Of-War\",\"marker\":{\"color\":\"#636efa\",\"symbol\":\"circle\"},\"mode\":\"markers\",\"name\":\"Tug-Of-War\",\"orientation\":\"v\",\"showlegend\":true,\"x\":[1900,1904,1906,1908,1912,1920],\"xaxis\":\"x\",\"y\":[12,30,32,40,16,40],\"yaxis\":\"y\",\"type\":\"scatter\"},{\"hovertemplate\":\"Sport=Water Polo<br>Year=%{x}<br>Athlets=%{y}<extra></extra>\",\"legendgroup\":\"Water Polo\",\"marker\":{\"color\":\"#EF553B\",\"symbol\":\"diamond\"},\"mode\":\"markers\",\"name\":\"Water Polo\",\"orientation\":\"v\",\"showlegend\":true,\"x\":[1900,1904,1908,1912,1920,1924,1928,1932,1936,1948,1952,1956,1960,1964,1968,1972,1976,1980,1984,1988,1992,1996,2000,2004,2008,2012,2016],\"xaxis\":\"x\",\"y\":[53,21,28,45,101,101,112,41,142,156,191,96,150,137,162,176,131,132,153,156,152,153,231,255,256,257,258],\"yaxis\":\"y\",\"type\":\"scatter\"},{\"hovertemplate\":\"Sport=Boxing<br>Year=%{x}<br>Athlets=%{y}<extra></extra>\",\"legendgroup\":\"Boxing\",\"marker\":{\"color\":\"#00cc96\",\"symbol\":\"square\"},\"mode\":\"markers\",\"name\":\"Boxing\",\"orientation\":\"v\",\"showlegend\":true,\"x\":[1904,1908,1920,1924,1928,1932,1936,1948,1952,1956,1960,1964,1968,1972,1976,1980,1984,1988,1992,1996,2000,2004,2008,2012,2016],\"xaxis\":\"x\",\"y\":[24,42,116,181,144,85,179,205,249,161,281,269,307,354,266,271,354,432,336,355,307,280,283,283,283],\"yaxis\":\"y\",\"type\":\"scatter\"},{\"hovertemplate\":\"Sport=Diving<br>Year=%{x}<br>Athlets=%{y}<extra></extra>\",\"legendgroup\":\"Diving\",\"marker\":{\"color\":\"#ab63fa\",\"symbol\":\"x\"},\"mode\":\"markers\",\"name\":\"Diving\",\"orientation\":\"v\",\"showlegend\":true,\"x\":[1904,1906,1908,1912,1920,1924,1928,1932,1936,1948,1952,1956,1960,1964,1968,1972,1976,1980,1984,1988,1992,1996,2000,2004,2008,2012,2016],\"xaxis\":\"x\",\"y\":[5,24,47,86,70,90,74,36,88,84,97,82,96,102,109,124,105,88,101,108,112,139,238,196,182,181,178],\"yaxis\":\"y\",\"type\":\"scatter\"},{\"hovertemplate\":\"Sport=Lacrosse<br>Year=%{x}<br>Athlets=%{y}<extra></extra>\",\"legendgroup\":\"Lacrosse\",\"marker\":{\"color\":\"#FFA15A\",\"symbol\":\"cross\"},\"mode\":\"markers\",\"name\":\"Lacrosse\",\"orientation\":\"v\",\"showlegend\":true,\"x\":[1904,1908],\"xaxis\":\"x\",\"y\":[36,24],\"yaxis\":\"y\",\"type\":\"scatter\"},{\"hovertemplate\":\"Sport=Roque<br>Year=%{x}<br>Athlets=%{y}<extra></extra>\",\"legendgroup\":\"Roque\",\"marker\":{\"color\":\"#19d3f3\",\"symbol\":\"circle\"},\"mode\":\"markers\",\"name\":\"Roque\",\"orientation\":\"v\",\"showlegend\":true,\"x\":[1904],\"xaxis\":\"x\",\"y\":[4],\"yaxis\":\"y\",\"type\":\"scatter\"},{\"hovertemplate\":\"Sport=Figure Skating<br>Year=%{x}<br>Athlets=%{y}<extra></extra>\",\"legendgroup\":\"Figure Skating\",\"marker\":{\"color\":\"#FF6692\",\"symbol\":\"diamond\"},\"mode\":\"markers\",\"name\":\"Figure Skating\",\"orientation\":\"v\",\"showlegend\":true,\"x\":[1908,1920,1924,1928,1932,1936,1948,1952,1956,1960,1964,1968,1972,1976,1980,1984,1988,1992,1994,1998,2002,2006,2010,2014],\"xaxis\":\"x\",\"y\":[23,31,37,63,41,87,71,65,59,71,88,96,68,105,85,114,129,133,130,145,143,147,146,221],\"yaxis\":\"y\",\"type\":\"scatter\"},{\"hovertemplate\":\"Sport=Hockey<br>Year=%{x}<br>Athlets=%{y}<extra></extra>\",\"legendgroup\":\"Hockey\",\"marker\":{\"color\":\"#B6E880\",\"symbol\":\"square\"},\"mode\":\"markers\",\"name\":\"Hockey\",\"orientation\":\"v\",\"showlegend\":true,\"x\":[1908,1920,1928,1932,1936,1948,1952,1956,1960,1964,1968,1972,1976,1980,1984,1988,1992,1996,2000,2004,2008,2012,2016],\"xaxis\":\"x\",\"y\":[68,51,137,40,167,187,157,173,236,226,253,263,172,187,286,314,314,320,350,352,387,387,390],\"yaxis\":\"y\",\"type\":\"scatter\"},{\"hovertemplate\":\"Sport=Jeu De Paume<br>Year=%{x}<br>Athlets=%{y}<extra></extra>\",\"legendgroup\":\"Jeu De Paume\",\"marker\":{\"color\":\"#FF97FF\",\"symbol\":\"x\"},\"mode\":\"markers\",\"name\":\"Jeu De Paume\",\"orientation\":\"v\",\"showlegend\":true,\"x\":[1908],\"xaxis\":\"x\",\"y\":[11],\"yaxis\":\"y\",\"type\":\"scatter\"},{\"hovertemplate\":\"Sport=Motorboating<br>Year=%{x}<br>Athlets=%{y}<extra></extra>\",\"legendgroup\":\"Motorboating\",\"marker\":{\"color\":\"#FECB52\",\"symbol\":\"cross\"},\"mode\":\"markers\",\"name\":\"Motorboating\",\"orientation\":\"v\",\"showlegend\":true,\"x\":[1908],\"xaxis\":\"x\",\"y\":[17],\"yaxis\":\"y\",\"type\":\"scatter\"},{\"hovertemplate\":\"Sport=Racquets<br>Year=%{x}<br>Athlets=%{y}<extra></extra>\",\"legendgroup\":\"Racquets\",\"marker\":{\"color\":\"#636efa\",\"symbol\":\"circle\"},\"mode\":\"markers\",\"name\":\"Racquets\",\"orientation\":\"v\",\"showlegend\":true,\"x\":[1908],\"xaxis\":\"x\",\"y\":[12],\"yaxis\":\"y\",\"type\":\"scatter\"},{\"hovertemplate\":\"Sport=Art Competitions<br>Year=%{x}<br>Athlets=%{y}<extra></extra>\",\"legendgroup\":\"Art Competitions\",\"marker\":{\"color\":\"#EF553B\",\"symbol\":\"diamond\"},\"mode\":\"markers\",\"name\":\"Art Competitions\",\"orientation\":\"v\",\"showlegend\":true,\"x\":[1912,1920,1924,1928,1932,1936,1948],\"xaxis\":\"x\",\"y\":[33,11,318,808,1124,813,471],\"yaxis\":\"y\",\"type\":\"scatter\"},{\"hovertemplate\":\"Sport=Modern Pentathlon<br>Year=%{x}<br>Athlets=%{y}<extra></extra>\",\"legendgroup\":\"Modern Pentathlon\",\"marker\":{\"color\":\"#00cc96\",\"symbol\":\"square\"},\"mode\":\"markers\",\"name\":\"Modern Pentathlon\",\"orientation\":\"v\",\"showlegend\":true,\"x\":[1912,1920,1924,1928,1932,1936,1948,1952,1956,1960,1964,1968,1972,1976,1980,1984,1988,1992,1996,2000,2004,2008,2012,2016],\"xaxis\":\"x\",\"y\":[32,23,38,37,25,42,45,99,76,111,70,93,116,89,79,103,122,117,32,48,64,72,72,72],\"yaxis\":\"y\",\"type\":\"scatter\"},{\"hovertemplate\":\"Sport=Ice Hockey<br>Year=%{x}<br>Athlets=%{y}<extra></extra>\",\"legendgroup\":\"Ice Hockey\",\"marker\":{\"color\":\"#ab63fa\",\"symbol\":\"x\"},\"mode\":\"markers\",\"name\":\"Ice Hockey\",\"orientation\":\"v\",\"showlegend\":true,\"x\":[1920,1924,1928,1932,1936,1948,1952,1956,1960,1964,1968,1972,1976,1980,1984,1988,1992,1994,1998,2002,2006,2010,2014],\"xaxis\":\"x\",\"y\":[60,82,124,48,173,139,147,169,152,270,250,208,217,239,239,265,267,268,426,468,442,420,443],\"yaxis\":\"y\",\"type\":\"scatter\"},{\"hovertemplate\":\"Sport=Alpinism<br>Year=%{x}<br>Athlets=%{y}<extra></extra>\",\"legendgroup\":\"Alpinism\",\"marker\":{\"color\":\"#FFA15A\",\"symbol\":\"cross\"},\"mode\":\"markers\",\"name\":\"Alpinism\",\"orientation\":\"v\",\"showlegend\":true,\"x\":[1924,1932,1936],\"xaxis\":\"x\",\"y\":[21,2,2],\"yaxis\":\"y\",\"type\":\"scatter\"},{\"hovertemplate\":\"Sport=Bobsleigh<br>Year=%{x}<br>Athlets=%{y}<extra></extra>\",\"legendgroup\":\"Bobsleigh\",\"marker\":{\"color\":\"#19d3f3\",\"symbol\":\"circle\"},\"mode\":\"markers\",\"name\":\"Bobsleigh\",\"orientation\":\"v\",\"showlegend\":true,\"x\":[1924,1928,1932,1936,1948,1952,1956,1964,1968,1972,1976,1980,1984,1988,1992,1994,1998,2002,2006,2010,2014],\"xaxis\":\"x\",\"y\":[39,116,52,118,92,96,135,117,120,114,133,108,152,186,216,207,204,240,191,199,223],\"yaxis\":\"y\",\"type\":\"scatter\"},{\"hovertemplate\":\"Sport=Cross Country Skiing<br>Year=%{x}<br>Athlets=%{y}<extra></extra>\",\"legendgroup\":\"Cross Country Skiing\",\"marker\":{\"color\":\"#FF6692\",\"symbol\":\"diamond\"},\"mode\":\"markers\",\"name\":\"Cross Country Skiing\",\"orientation\":\"v\",\"showlegend\":true,\"x\":[1924,1928,1932,1936,1948,1952,1956,1960,1964,1968,1972,1976,1980,1984,1988,1992,1994,1998,2002,2006,2010,2014],\"xaxis\":\"x\",\"y\":[74,90,74,175,156,188,275,216,332,344,335,395,309,477,528,717,639,733,774,812,725,765],\"yaxis\":\"y\",\"type\":\"scatter\"},{\"hovertemplate\":\"Sport=Curling<br>Year=%{x}<br>Athlets=%{y}<extra></extra>\",\"legendgroup\":\"Curling\",\"marker\":{\"color\":\"#B6E880\",\"symbol\":\"square\"},\"mode\":\"markers\",\"name\":\"Curling\",\"orientation\":\"v\",\"showlegend\":true,\"x\":[1924,1998,2002,2006,2010,2014],\"xaxis\":\"x\",\"y\":[16,80,96,91,93,87],\"yaxis\":\"y\",\"type\":\"scatter\"},{\"hovertemplate\":\"Sport=Military Ski Patrol<br>Year=%{x}<br>Athlets=%{y}<extra></extra>\",\"legendgroup\":\"Military Ski Patrol\",\"marker\":{\"color\":\"#FF97FF\",\"symbol\":\"x\"},\"mode\":\"markers\",\"name\":\"Military Ski Patrol\",\"orientation\":\"v\",\"showlegend\":true,\"x\":[1924],\"xaxis\":\"x\",\"y\":[24],\"yaxis\":\"y\",\"type\":\"scatter\"},{\"hovertemplate\":\"Sport=Nordic Combined<br>Year=%{x}<br>Athlets=%{y}<extra></extra>\",\"legendgroup\":\"Nordic Combined\",\"marker\":{\"color\":\"#FECB52\",\"symbol\":\"cross\"},\"mode\":\"markers\",\"name\":\"Nordic Combined\",\"orientation\":\"v\",\"showlegend\":true,\"x\":[1924,1928,1932,1936,1948,1952,1956,1960,1964,1968,1972,1976,1980,1984,1988,1992,1994,1998,2002,2006,2010,2014],\"xaxis\":\"x\",\"y\":[30,35,33,51,39,25,36,33,32,41,40,34,31,28,75,78,89,92,125,138,131,128],\"yaxis\":\"y\",\"type\":\"scatter\"},{\"hovertemplate\":\"Sport=Ski Jumping<br>Year=%{x}<br>Athlets=%{y}<extra></extra>\",\"legendgroup\":\"Ski Jumping\",\"marker\":{\"color\":\"#636efa\",\"symbol\":\"circle\"},\"mode\":\"markers\",\"name\":\"Ski Jumping\",\"orientation\":\"v\",\"showlegend\":true,\"x\":[1924,1928,1932,1936,1948,1952,1956,1960,1964,1968,1972,1976,1980,1984,1988,1992,1994,1998,2002,2006,2010,2014],\"xaxis\":\"x\",\"y\":[27,38,34,48,49,44,51,45,105,116,108,109,98,111,157,171,164,176,178,202,170,200],\"yaxis\":\"y\",\"type\":\"scatter\"},{\"hovertemplate\":\"Sport=Speed Skating<br>Year=%{x}<br>Athlets=%{y}<extra></extra>\",\"legendgroup\":\"Speed Skating\",\"marker\":{\"color\":\"#EF553B\",\"symbol\":\"diamond\"},\"mode\":\"markers\",\"name\":\"Speed Skating\",\"orientation\":\"v\",\"showlegend\":true,\"x\":[1924,1928,1932,1936,1948,1952,1956,1960,1964,1968,1972,1976,1980,1984,1988,1992,1994,1998,2002,2006,2010,2014],\"xaxis\":\"x\",\"y\":[110,106,70,140,154,145,179,249,287,280,244,247,296,328,326,354,318,335,332,379,366,368],\"yaxis\":\"y\",\"type\":\"scatter\"},{\"hovertemplate\":\"Sport=Skeleton<br>Year=%{x}<br>Athlets=%{y}<extra></extra>\",\"legendgroup\":\"Skeleton\",\"marker\":{\"color\":\"#00cc96\",\"symbol\":\"square\"},\"mode\":\"markers\",\"name\":\"Skeleton\",\"orientation\":\"v\",\"showlegend\":true,\"x\":[1928,1948,2002,2006,2010,2014],\"xaxis\":\"x\",\"y\":[10,15,39,42,47,46],\"yaxis\":\"y\",\"type\":\"scatter\"},{\"hovertemplate\":\"Sport=Aeronautics<br>Year=%{x}<br>Athlets=%{y}<extra></extra>\",\"legendgroup\":\"Aeronautics\",\"marker\":{\"color\":\"#ab63fa\",\"symbol\":\"x\"},\"mode\":\"markers\",\"name\":\"Aeronautics\",\"orientation\":\"v\",\"showlegend\":true,\"x\":[1936],\"xaxis\":\"x\",\"y\":[1],\"yaxis\":\"y\",\"type\":\"scatter\"},{\"hovertemplate\":\"Sport=Alpine Skiing<br>Year=%{x}<br>Athlets=%{y}<extra></extra>\",\"legendgroup\":\"Alpine Skiing\",\"marker\":{\"color\":\"#FFA15A\",\"symbol\":\"cross\"},\"mode\":\"markers\",\"name\":\"Alpine Skiing\",\"orientation\":\"v\",\"showlegend\":true,\"x\":[1936,1948,1952,1956,1960,1964,1968,1972,1976,1980,1984,1988,1992,1994,1998,2002,2006,2010,2014],\"xaxis\":\"x\",\"y\":[103,360,378,403,320,411,422,325,390,327,401,668,750,544,477,559,619,685,687],\"yaxis\":\"y\",\"type\":\"scatter\"},{\"hovertemplate\":\"Sport=Basketball<br>Year=%{x}<br>Athlets=%{y}<extra></extra>\",\"legendgroup\":\"Basketball\",\"marker\":{\"color\":\"#19d3f3\",\"symbol\":\"circle\"},\"mode\":\"markers\",\"name\":\"Basketball\",\"orientation\":\"v\",\"showlegend\":true,\"x\":[1936,1948,1952,1956,1960,1964,1968,1972,1976,1980,1984,1988,1992,1996,2000,2004,2008,2012,2016],\"xaxis\":\"x\",\"y\":[199,287,294,169,192,189,191,190,213,215,213,236,236,284,286,287,287,287,281],\"yaxis\":\"y\",\"type\":\"scatter\"},{\"hovertemplate\":\"Sport=Canoeing<br>Year=%{x}<br>Athlets=%{y}<extra></extra>\",\"legendgroup\":\"Canoeing\",\"marker\":{\"color\":\"#FF6692\",\"symbol\":\"diamond\"},\"mode\":\"markers\",\"name\":\"Canoeing\",\"orientation\":\"v\",\"showlegend\":true,\"x\":[1936,1948,1952,1956,1960,1964,1968,1972,1976,1980,1984,1988,1992,1996,2000,2004,2008,2012,2016],\"xaxis\":\"x\",\"y\":[143,139,184,146,211,167,203,359,340,253,299,388,587,575,448,434,436,418,441],\"yaxis\":\"y\",\"type\":\"scatter\"},{\"hovertemplate\":\"Sport=Handball<br>Year=%{x}<br>Athlets=%{y}<extra></extra>\",\"legendgroup\":\"Handball\",\"marker\":{\"color\":\"#B6E880\",\"symbol\":\"square\"},\"mode\":\"markers\",\"name\":\"Handball\",\"orientation\":\"v\",\"showlegend\":true,\"x\":[1936,1972,1976,1980,1984,1988,1992,1996,2000,2004,2008,2012,2016],\"xaxis\":\"x\",\"y\":[105,243,243,248,259,281,292,300,323,328,343,347,353],\"yaxis\":\"y\",\"type\":\"scatter\"},{\"hovertemplate\":\"Sport=Biathlon<br>Year=%{x}<br>Athlets=%{y}<extra></extra>\",\"legendgroup\":\"Biathlon\",\"marker\":{\"color\":\"#FF97FF\",\"symbol\":\"x\"},\"mode\":\"markers\",\"name\":\"Biathlon\",\"orientation\":\"v\",\"showlegend\":true,\"x\":[1960,1964,1968,1972,1976,1980,1984,1988,1992,1994,1998,2002,2006,2010,2014],\"xaxis\":\"x\",\"y\":[30,51,116,106,112,159,195,207,457,416,413,564,658,683,726],\"yaxis\":\"y\",\"type\":\"scatter\"},{\"hovertemplate\":\"Sport=Judo<br>Year=%{x}<br>Athlets=%{y}<extra></extra>\",\"legendgroup\":\"Judo\",\"marker\":{\"color\":\"#FECB52\",\"symbol\":\"cross\"},\"mode\":\"markers\",\"name\":\"Judo\",\"orientation\":\"v\",\"showlegend\":true,\"x\":[1964,1972,1976,1980,1984,1988,1992,1996,2000,2004,2008,2012,2016],\"xaxis\":\"x\",\"y\":[72,166,154,193,212,243,433,387,398,384,386,384,389],\"yaxis\":\"y\",\"type\":\"scatter\"},{\"hovertemplate\":\"Sport=Luge<br>Year=%{x}<br>Athlets=%{y}<extra></extra>\",\"legendgroup\":\"Luge\",\"marker\":{\"color\":\"#636efa\",\"symbol\":\"circle\"},\"mode\":\"markers\",\"name\":\"Luge\",\"orientation\":\"v\",\"showlegend\":true,\"x\":[1964,1968,1972,1976,1980,1984,1988,1992,1994,1998,2002,2006,2010,2014],\"xaxis\":\"x\",\"y\":[85,106,107,119,94,89,98,98,98,97,117,108,107,156],\"yaxis\":\"y\",\"type\":\"scatter\"},{\"hovertemplate\":\"Sport=Volleyball<br>Year=%{x}<br>Athlets=%{y}<extra></extra>\",\"legendgroup\":\"Volleyball\",\"marker\":{\"color\":\"#EF553B\",\"symbol\":\"diamond\"},\"mode\":\"markers\",\"name\":\"Volleyball\",\"orientation\":\"v\",\"showlegend\":true,\"x\":[1964,1968,1972,1976,1980,1984,1988,1992,1996,2000,2004,2008,2012,2016],\"xaxis\":\"x\",\"y\":[179,206,231,216,204,208,239,231,275,279,283,283,287,283],\"yaxis\":\"y\",\"type\":\"scatter\"},{\"hovertemplate\":\"Sport=Rhythmic Gymnastics<br>Year=%{x}<br>Athlets=%{y}<extra></extra>\",\"legendgroup\":\"Rhythmic Gymnastics\",\"marker\":{\"color\":\"#00cc96\",\"symbol\":\"square\"},\"mode\":\"markers\",\"name\":\"Rhythmic Gymnastics\",\"orientation\":\"v\",\"showlegend\":true,\"x\":[1984,1988,1992,1996,2000,2004,2008,2012,2016],\"xaxis\":\"x\",\"y\":[33,39,42,90,84,84,95,95,96],\"yaxis\":\"y\",\"type\":\"scatter\"},{\"hovertemplate\":\"Sport=Synchronized Swimming<br>Year=%{x}<br>Athlets=%{y}<extra></extra>\",\"legendgroup\":\"Synchronized Swimming\",\"marker\":{\"color\":\"#ab63fa\",\"symbol\":\"x\"},\"mode\":\"markers\",\"name\":\"Synchronized Swimming\",\"orientation\":\"v\",\"showlegend\":true,\"x\":[1984,1988,1992,1996,2000,2004,2008,2012,2016],\"xaxis\":\"x\",\"y\":[86,76,89,72,117,117,117,117,118],\"yaxis\":\"y\",\"type\":\"scatter\"},{\"hovertemplate\":\"Sport=Table Tennis<br>Year=%{x}<br>Athlets=%{y}<extra></extra>\",\"legendgroup\":\"Table Tennis\",\"marker\":{\"color\":\"#FFA15A\",\"symbol\":\"cross\"},\"mode\":\"markers\",\"name\":\"Table Tennis\",\"orientation\":\"v\",\"showlegend\":true,\"x\":[1988,1992,1996,2000,2004,2008,2012,2016],\"xaxis\":\"x\",\"y\":[206,248,251,268,260,250,236,236],\"yaxis\":\"y\",\"type\":\"scatter\"},{\"hovertemplate\":\"Sport=Badminton<br>Year=%{x}<br>Athlets=%{y}<extra></extra>\",\"legendgroup\":\"Badminton\",\"marker\":{\"color\":\"#19d3f3\",\"symbol\":\"circle\"},\"mode\":\"markers\",\"name\":\"Badminton\",\"orientation\":\"v\",\"showlegend\":true,\"x\":[1992,1996,2000,2004,2008,2012,2016],\"xaxis\":\"x\",\"y\":[226,263,225,200,184,182,177],\"yaxis\":\"y\",\"type\":\"scatter\"},{\"hovertemplate\":\"Sport=Baseball<br>Year=%{x}<br>Athlets=%{y}<extra></extra>\",\"legendgroup\":\"Baseball\",\"marker\":{\"color\":\"#FF6692\",\"symbol\":\"diamond\"},\"mode\":\"markers\",\"name\":\"Baseball\",\"orientation\":\"v\",\"showlegend\":true,\"x\":[1992,1996,2000,2004,2008],\"xaxis\":\"x\",\"y\":[160,160,192,191,191],\"yaxis\":\"y\",\"type\":\"scatter\"},{\"hovertemplate\":\"Sport=Freestyle Skiing<br>Year=%{x}<br>Athlets=%{y}<extra></extra>\",\"legendgroup\":\"Freestyle Skiing\",\"marker\":{\"color\":\"#B6E880\",\"symbol\":\"square\"},\"mode\":\"markers\",\"name\":\"Freestyle Skiing\",\"orientation\":\"v\",\"showlegend\":true,\"x\":[1992,1994,1998,2002,2006,2010,2014],\"xaxis\":\"x\",\"y\":[71,99,110,105,116,172,264],\"yaxis\":\"y\",\"type\":\"scatter\"},{\"hovertemplate\":\"Sport=Short Track Speed Skating<br>Year=%{x}<br>Athlets=%{y}<extra></extra>\",\"legendgroup\":\"Short Track Speed Skating\",\"marker\":{\"color\":\"#FF97FF\",\"symbol\":\"x\"},\"mode\":\"markers\",\"name\":\"Short Track Speed Skating\",\"orientation\":\"v\",\"showlegend\":true,\"x\":[1992,1994,1998,2002,2006,2010,2014],\"xaxis\":\"x\",\"y\":[124,188,190,251,239,273,269],\"yaxis\":\"y\",\"type\":\"scatter\"},{\"hovertemplate\":\"Sport=Beach Volleyball<br>Year=%{x}<br>Athlets=%{y}<extra></extra>\",\"legendgroup\":\"Beach Volleyball\",\"marker\":{\"color\":\"#FECB52\",\"symbol\":\"cross\"},\"mode\":\"markers\",\"name\":\"Beach Volleyball\",\"orientation\":\"v\",\"showlegend\":true,\"x\":[1996,2000,2004,2008,2012,2016],\"xaxis\":\"x\",\"y\":[84,96,96,96,96,96],\"yaxis\":\"y\",\"type\":\"scatter\"},{\"hovertemplate\":\"Sport=Softball<br>Year=%{x}<br>Athlets=%{y}<extra></extra>\",\"legendgroup\":\"Softball\",\"marker\":{\"color\":\"#636efa\",\"symbol\":\"circle\"},\"mode\":\"markers\",\"name\":\"Softball\",\"orientation\":\"v\",\"showlegend\":true,\"x\":[1996,2000,2004,2008],\"xaxis\":\"x\",\"y\":[120,120,118,120],\"yaxis\":\"y\",\"type\":\"scatter\"},{\"hovertemplate\":\"Sport=Snowboarding<br>Year=%{x}<br>Athlets=%{y}<extra></extra>\",\"legendgroup\":\"Snowboarding\",\"marker\":{\"color\":\"#EF553B\",\"symbol\":\"diamond\"},\"mode\":\"markers\",\"name\":\"Snowboarding\",\"orientation\":\"v\",\"showlegend\":true,\"x\":[1998,2002,2006,2010,2014],\"xaxis\":\"x\",\"y\":[127,118,198,185,308],\"yaxis\":\"y\",\"type\":\"scatter\"},{\"hovertemplate\":\"Sport=Taekwondo<br>Year=%{x}<br>Athlets=%{y}<extra></extra>\",\"legendgroup\":\"Taekwondo\",\"marker\":{\"color\":\"#00cc96\",\"symbol\":\"square\"},\"mode\":\"markers\",\"name\":\"Taekwondo\",\"orientation\":\"v\",\"showlegend\":true,\"x\":[2000,2004,2008,2012,2016],\"xaxis\":\"x\",\"y\":[102,124,126,128,126],\"yaxis\":\"y\",\"type\":\"scatter\"},{\"hovertemplate\":\"Sport=Trampolining<br>Year=%{x}<br>Athlets=%{y}<extra></extra>\",\"legendgroup\":\"Trampolining\",\"marker\":{\"color\":\"#ab63fa\",\"symbol\":\"x\"},\"mode\":\"markers\",\"name\":\"Trampolining\",\"orientation\":\"v\",\"showlegend\":true,\"x\":[2000,2004,2008,2012,2016],\"xaxis\":\"x\",\"y\":[24,32,32,32,32],\"yaxis\":\"y\",\"type\":\"scatter\"},{\"hovertemplate\":\"Sport=Triathlon<br>Year=%{x}<br>Athlets=%{y}<extra></extra>\",\"legendgroup\":\"Triathlon\",\"marker\":{\"color\":\"#FFA15A\",\"symbol\":\"cross\"},\"mode\":\"markers\",\"name\":\"Triathlon\",\"orientation\":\"v\",\"showlegend\":true,\"x\":[2000,2004,2008,2012,2016],\"xaxis\":\"x\",\"y\":[100,99,110,110,110],\"yaxis\":\"y\",\"type\":\"scatter\"},{\"hovertemplate\":\"Sport=Rugby Sevens<br>Year=%{x}<br>Athlets=%{y}<extra></extra>\",\"legendgroup\":\"Rugby Sevens\",\"marker\":{\"color\":\"#19d3f3\",\"symbol\":\"circle\"},\"mode\":\"markers\",\"name\":\"Rugby Sevens\",\"orientation\":\"v\",\"showlegend\":true,\"x\":[2016],\"xaxis\":\"x\",\"y\":[299],\"yaxis\":\"y\",\"type\":\"scatter\"}],                        {\"template\":{\"data\":{\"histogram2dcontour\":[{\"type\":\"histogram2dcontour\",\"colorbar\":{\"outlinewidth\":0,\"ticks\":\"\"},\"colorscale\":[[0.0,\"#0d0887\"],[0.1111111111111111,\"#46039f\"],[0.2222222222222222,\"#7201a8\"],[0.3333333333333333,\"#9c179e\"],[0.4444444444444444,\"#bd3786\"],[0.5555555555555556,\"#d8576b\"],[0.6666666666666666,\"#ed7953\"],[0.7777777777777778,\"#fb9f3a\"],[0.8888888888888888,\"#fdca26\"],[1.0,\"#f0f921\"]]}],\"choropleth\":[{\"type\":\"choropleth\",\"colorbar\":{\"outlinewidth\":0,\"ticks\":\"\"}}],\"histogram2d\":[{\"type\":\"histogram2d\",\"colorbar\":{\"outlinewidth\":0,\"ticks\":\"\"},\"colorscale\":[[0.0,\"#0d0887\"],[0.1111111111111111,\"#46039f\"],[0.2222222222222222,\"#7201a8\"],[0.3333333333333333,\"#9c179e\"],[0.4444444444444444,\"#bd3786\"],[0.5555555555555556,\"#d8576b\"],[0.6666666666666666,\"#ed7953\"],[0.7777777777777778,\"#fb9f3a\"],[0.8888888888888888,\"#fdca26\"],[1.0,\"#f0f921\"]]}],\"heatmap\":[{\"type\":\"heatmap\",\"colorbar\":{\"outlinewidth\":0,\"ticks\":\"\"},\"colorscale\":[[0.0,\"#0d0887\"],[0.1111111111111111,\"#46039f\"],[0.2222222222222222,\"#7201a8\"],[0.3333333333333333,\"#9c179e\"],[0.4444444444444444,\"#bd3786\"],[0.5555555555555556,\"#d8576b\"],[0.6666666666666666,\"#ed7953\"],[0.7777777777777778,\"#fb9f3a\"],[0.8888888888888888,\"#fdca26\"],[1.0,\"#f0f921\"]]}],\"heatmapgl\":[{\"type\":\"heatmapgl\",\"colorbar\":{\"outlinewidth\":0,\"ticks\":\"\"},\"colorscale\":[[0.0,\"#0d0887\"],[0.1111111111111111,\"#46039f\"],[0.2222222222222222,\"#7201a8\"],[0.3333333333333333,\"#9c179e\"],[0.4444444444444444,\"#bd3786\"],[0.5555555555555556,\"#d8576b\"],[0.6666666666666666,\"#ed7953\"],[0.7777777777777778,\"#fb9f3a\"],[0.8888888888888888,\"#fdca26\"],[1.0,\"#f0f921\"]]}],\"contourcarpet\":[{\"type\":\"contourcarpet\",\"colorbar\":{\"outlinewidth\":0,\"ticks\":\"\"}}],\"contour\":[{\"type\":\"contour\",\"colorbar\":{\"outlinewidth\":0,\"ticks\":\"\"},\"colorscale\":[[0.0,\"#0d0887\"],[0.1111111111111111,\"#46039f\"],[0.2222222222222222,\"#7201a8\"],[0.3333333333333333,\"#9c179e\"],[0.4444444444444444,\"#bd3786\"],[0.5555555555555556,\"#d8576b\"],[0.6666666666666666,\"#ed7953\"],[0.7777777777777778,\"#fb9f3a\"],[0.8888888888888888,\"#fdca26\"],[1.0,\"#f0f921\"]]}],\"surface\":[{\"type\":\"surface\",\"colorbar\":{\"outlinewidth\":0,\"ticks\":\"\"},\"colorscale\":[[0.0,\"#0d0887\"],[0.1111111111111111,\"#46039f\"],[0.2222222222222222,\"#7201a8\"],[0.3333333333333333,\"#9c179e\"],[0.4444444444444444,\"#bd3786\"],[0.5555555555555556,\"#d8576b\"],[0.6666666666666666,\"#ed7953\"],[0.7777777777777778,\"#fb9f3a\"],[0.8888888888888888,\"#fdca26\"],[1.0,\"#f0f921\"]]}],\"mesh3d\":[{\"type\":\"mesh3d\",\"colorbar\":{\"outlinewidth\":0,\"ticks\":\"\"}}],\"scatter\":[{\"fillpattern\":{\"fillmode\":\"overlay\",\"size\":10,\"solidity\":0.2},\"type\":\"scatter\"}],\"parcoords\":[{\"type\":\"parcoords\",\"line\":{\"colorbar\":{\"outlinewidth\":0,\"ticks\":\"\"}}}],\"scatterpolargl\":[{\"type\":\"scatterpolargl\",\"marker\":{\"colorbar\":{\"outlinewidth\":0,\"ticks\":\"\"}}}],\"bar\":[{\"error_x\":{\"color\":\"#2a3f5f\"},\"error_y\":{\"color\":\"#2a3f5f\"},\"marker\":{\"line\":{\"color\":\"#E5ECF6\",\"width\":0.5},\"pattern\":{\"fillmode\":\"overlay\",\"size\":10,\"solidity\":0.2}},\"type\":\"bar\"}],\"scattergeo\":[{\"type\":\"scattergeo\",\"marker\":{\"colorbar\":{\"outlinewidth\":0,\"ticks\":\"\"}}}],\"scatterpolar\":[{\"type\":\"scatterpolar\",\"marker\":{\"colorbar\":{\"outlinewidth\":0,\"ticks\":\"\"}}}],\"histogram\":[{\"marker\":{\"pattern\":{\"fillmode\":\"overlay\",\"size\":10,\"solidity\":0.2}},\"type\":\"histogram\"}],\"scattergl\":[{\"type\":\"scattergl\",\"marker\":{\"colorbar\":{\"outlinewidth\":0,\"ticks\":\"\"}}}],\"scatter3d\":[{\"type\":\"scatter3d\",\"line\":{\"colorbar\":{\"outlinewidth\":0,\"ticks\":\"\"}},\"marker\":{\"colorbar\":{\"outlinewidth\":0,\"ticks\":\"\"}}}],\"scattermapbox\":[{\"type\":\"scattermapbox\",\"marker\":{\"colorbar\":{\"outlinewidth\":0,\"ticks\":\"\"}}}],\"scatterternary\":[{\"type\":\"scatterternary\",\"marker\":{\"colorbar\":{\"outlinewidth\":0,\"ticks\":\"\"}}}],\"scattercarpet\":[{\"type\":\"scattercarpet\",\"marker\":{\"colorbar\":{\"outlinewidth\":0,\"ticks\":\"\"}}}],\"carpet\":[{\"aaxis\":{\"endlinecolor\":\"#2a3f5f\",\"gridcolor\":\"white\",\"linecolor\":\"white\",\"minorgridcolor\":\"white\",\"startlinecolor\":\"#2a3f5f\"},\"baxis\":{\"endlinecolor\":\"#2a3f5f\",\"gridcolor\":\"white\",\"linecolor\":\"white\",\"minorgridcolor\":\"white\",\"startlinecolor\":\"#2a3f5f\"},\"type\":\"carpet\"}],\"table\":[{\"cells\":{\"fill\":{\"color\":\"#EBF0F8\"},\"line\":{\"color\":\"white\"}},\"header\":{\"fill\":{\"color\":\"#C8D4E3\"},\"line\":{\"color\":\"white\"}},\"type\":\"table\"}],\"barpolar\":[{\"marker\":{\"line\":{\"color\":\"#E5ECF6\",\"width\":0.5},\"pattern\":{\"fillmode\":\"overlay\",\"size\":10,\"solidity\":0.2}},\"type\":\"barpolar\"}],\"pie\":[{\"automargin\":true,\"type\":\"pie\"}]},\"layout\":{\"autotypenumbers\":\"strict\",\"colorway\":[\"#636efa\",\"#EF553B\",\"#00cc96\",\"#ab63fa\",\"#FFA15A\",\"#19d3f3\",\"#FF6692\",\"#B6E880\",\"#FF97FF\",\"#FECB52\"],\"font\":{\"color\":\"#2a3f5f\"},\"hovermode\":\"closest\",\"hoverlabel\":{\"align\":\"left\"},\"paper_bgcolor\":\"white\",\"plot_bgcolor\":\"#E5ECF6\",\"polar\":{\"bgcolor\":\"#E5ECF6\",\"angularaxis\":{\"gridcolor\":\"white\",\"linecolor\":\"white\",\"ticks\":\"\"},\"radialaxis\":{\"gridcolor\":\"white\",\"linecolor\":\"white\",\"ticks\":\"\"}},\"ternary\":{\"bgcolor\":\"#E5ECF6\",\"aaxis\":{\"gridcolor\":\"white\",\"linecolor\":\"white\",\"ticks\":\"\"},\"baxis\":{\"gridcolor\":\"white\",\"linecolor\":\"white\",\"ticks\":\"\"},\"caxis\":{\"gridcolor\":\"white\",\"linecolor\":\"white\",\"ticks\":\"\"}},\"coloraxis\":{\"colorbar\":{\"outlinewidth\":0,\"ticks\":\"\"}},\"colorscale\":{\"sequential\":[[0.0,\"#0d0887\"],[0.1111111111111111,\"#46039f\"],[0.2222222222222222,\"#7201a8\"],[0.3333333333333333,\"#9c179e\"],[0.4444444444444444,\"#bd3786\"],[0.5555555555555556,\"#d8576b\"],[0.6666666666666666,\"#ed7953\"],[0.7777777777777778,\"#fb9f3a\"],[0.8888888888888888,\"#fdca26\"],[1.0,\"#f0f921\"]],\"sequentialminus\":[[0.0,\"#0d0887\"],[0.1111111111111111,\"#46039f\"],[0.2222222222222222,\"#7201a8\"],[0.3333333333333333,\"#9c179e\"],[0.4444444444444444,\"#bd3786\"],[0.5555555555555556,\"#d8576b\"],[0.6666666666666666,\"#ed7953\"],[0.7777777777777778,\"#fb9f3a\"],[0.8888888888888888,\"#fdca26\"],[1.0,\"#f0f921\"]],\"diverging\":[[0,\"#8e0152\"],[0.1,\"#c51b7d\"],[0.2,\"#de77ae\"],[0.3,\"#f1b6da\"],[0.4,\"#fde0ef\"],[0.5,\"#f7f7f7\"],[0.6,\"#e6f5d0\"],[0.7,\"#b8e186\"],[0.8,\"#7fbc41\"],[0.9,\"#4d9221\"],[1,\"#276419\"]]},\"xaxis\":{\"gridcolor\":\"white\",\"linecolor\":\"white\",\"ticks\":\"\",\"title\":{\"standoff\":15},\"zerolinecolor\":\"white\",\"automargin\":true,\"zerolinewidth\":2},\"yaxis\":{\"gridcolor\":\"white\",\"linecolor\":\"white\",\"ticks\":\"\",\"title\":{\"standoff\":15},\"zerolinecolor\":\"white\",\"automargin\":true,\"zerolinewidth\":2},\"scene\":{\"xaxis\":{\"backgroundcolor\":\"#E5ECF6\",\"gridcolor\":\"white\",\"linecolor\":\"white\",\"showbackground\":true,\"ticks\":\"\",\"zerolinecolor\":\"white\",\"gridwidth\":2},\"yaxis\":{\"backgroundcolor\":\"#E5ECF6\",\"gridcolor\":\"white\",\"linecolor\":\"white\",\"showbackground\":true,\"ticks\":\"\",\"zerolinecolor\":\"white\",\"gridwidth\":2},\"zaxis\":{\"backgroundcolor\":\"#E5ECF6\",\"gridcolor\":\"white\",\"linecolor\":\"white\",\"showbackground\":true,\"ticks\":\"\",\"zerolinecolor\":\"white\",\"gridwidth\":2}},\"shapedefaults\":{\"line\":{\"color\":\"#2a3f5f\"}},\"annotationdefaults\":{\"arrowcolor\":\"#2a3f5f\",\"arrowhead\":0,\"arrowwidth\":1},\"geo\":{\"bgcolor\":\"white\",\"landcolor\":\"#E5ECF6\",\"subunitcolor\":\"white\",\"showland\":true,\"showlakes\":true,\"lakecolor\":\"white\"},\"title\":{\"x\":0.05},\"mapbox\":{\"style\":\"light\"}}},\"xaxis\":{\"anchor\":\"y\",\"domain\":[0.0,1.0],\"title\":{\"text\":\"Year\"}},\"yaxis\":{\"anchor\":\"x\",\"domain\":[0.0,1.0],\"title\":{\"text\":\"Athlets\"}},\"legend\":{\"title\":{\"text\":\"Sport\"},\"tracegroupgap\":0},\"margin\":{\"t\":60}},                        {\"responsive\": true}                    ).then(function(){\n",
       "                            \n",
       "var gd = document.getElementById('434a08c7-3925-411a-8983-df31370f05a6');\n",
       "var x = new MutationObserver(function (mutations, observer) {{\n",
       "        var display = window.getComputedStyle(gd).display;\n",
       "        if (!display || display === 'none') {{\n",
       "            console.log([gd, 'removed!']);\n",
       "            Plotly.purge(gd);\n",
       "            observer.disconnect();\n",
       "        }}\n",
       "}});\n",
       "\n",
       "// Listen for the removal of the full notebook cells\n",
       "var notebookContainer = gd.closest('#notebook-container');\n",
       "if (notebookContainer) {{\n",
       "    x.observe(notebookContainer, {childList: true});\n",
       "}}\n",
       "\n",
       "// Listen for the clearing of the current output cell\n",
       "var outputEl = gd.closest('.output');\n",
       "if (outputEl) {{\n",
       "    x.observe(outputEl, {childList: true});\n",
       "}}\n",
       "\n",
       "                        })                };                });            </script>        </div>"
      ]
     },
     "metadata": {},
     "output_type": "display_data"
    }
   ],
   "source": [
    "import plotly.express as px\n",
    "\n",
    "fig = px.scatter(participants, x=\"Year\", y=\"Athlets\", color=\"Sport\", symbol=\"Sport\")\n",
    "fig.show()"
   ]
  },
  {
   "cell_type": "code",
   "execution_count": 29,
   "id": "70fe90b3",
   "metadata": {
    "execution": {
     "iopub.execute_input": "2022-07-26T22:53:56.384062Z",
     "iopub.status.busy": "2022-07-26T22:53:56.383398Z",
     "iopub.status.idle": "2022-07-26T22:53:56.486019Z",
     "shell.execute_reply": "2022-07-26T22:53:56.484911Z"
    },
    "papermill": {
     "duration": 0.16752,
     "end_time": "2022-07-26T22:53:56.488382",
     "exception": false,
     "start_time": "2022-07-26T22:53:56.320862",
     "status": "completed"
    },
    "tags": []
   },
   "outputs": [
    {
     "data": {
      "text/html": [
       "<div>\n",
       "<style scoped>\n",
       "    .dataframe tbody tr th:only-of-type {\n",
       "        vertical-align: middle;\n",
       "    }\n",
       "\n",
       "    .dataframe tbody tr th {\n",
       "        vertical-align: top;\n",
       "    }\n",
       "\n",
       "    .dataframe thead th {\n",
       "        text-align: right;\n",
       "    }\n",
       "</style>\n",
       "<table border=\"1\" class=\"dataframe\">\n",
       "  <thead>\n",
       "    <tr style=\"text-align: right;\">\n",
       "      <th></th>\n",
       "      <th>Year</th>\n",
       "      <th>Season</th>\n",
       "      <th>Sport</th>\n",
       "      <th>Athlets</th>\n",
       "    </tr>\n",
       "  </thead>\n",
       "  <tbody>\n",
       "    <tr>\n",
       "      <th>0</th>\n",
       "      <td>1896</td>\n",
       "      <td>Summer</td>\n",
       "      <td>Athletics</td>\n",
       "      <td>106</td>\n",
       "    </tr>\n",
       "    <tr>\n",
       "      <th>1</th>\n",
       "      <td>1896</td>\n",
       "      <td>Summer</td>\n",
       "      <td>Cycling</td>\n",
       "      <td>41</td>\n",
       "    </tr>\n",
       "    <tr>\n",
       "      <th>2</th>\n",
       "      <td>1896</td>\n",
       "      <td>Summer</td>\n",
       "      <td>Fencing</td>\n",
       "      <td>15</td>\n",
       "    </tr>\n",
       "    <tr>\n",
       "      <th>3</th>\n",
       "      <td>1896</td>\n",
       "      <td>Summer</td>\n",
       "      <td>Gymnastics</td>\n",
       "      <td>97</td>\n",
       "    </tr>\n",
       "    <tr>\n",
       "      <th>4</th>\n",
       "      <td>1896</td>\n",
       "      <td>Summer</td>\n",
       "      <td>Shooting</td>\n",
       "      <td>65</td>\n",
       "    </tr>\n",
       "    <tr>\n",
       "      <th>...</th>\n",
       "      <td>...</td>\n",
       "      <td>...</td>\n",
       "      <td>...</td>\n",
       "      <td>...</td>\n",
       "    </tr>\n",
       "    <tr>\n",
       "      <th>901</th>\n",
       "      <td>2016</td>\n",
       "      <td>Summer</td>\n",
       "      <td>Triathlon</td>\n",
       "      <td>110</td>\n",
       "    </tr>\n",
       "    <tr>\n",
       "      <th>902</th>\n",
       "      <td>2016</td>\n",
       "      <td>Summer</td>\n",
       "      <td>Volleyball</td>\n",
       "      <td>283</td>\n",
       "    </tr>\n",
       "    <tr>\n",
       "      <th>903</th>\n",
       "      <td>2016</td>\n",
       "      <td>Summer</td>\n",
       "      <td>Water Polo</td>\n",
       "      <td>258</td>\n",
       "    </tr>\n",
       "    <tr>\n",
       "      <th>904</th>\n",
       "      <td>2016</td>\n",
       "      <td>Summer</td>\n",
       "      <td>Weightlifting</td>\n",
       "      <td>255</td>\n",
       "    </tr>\n",
       "    <tr>\n",
       "      <th>905</th>\n",
       "      <td>2016</td>\n",
       "      <td>Summer</td>\n",
       "      <td>Wrestling</td>\n",
       "      <td>346</td>\n",
       "    </tr>\n",
       "  </tbody>\n",
       "</table>\n",
       "<p>906 rows × 4 columns</p>\n",
       "</div>"
      ],
      "text/plain": [
       "     Year  Season          Sport  Athlets\n",
       "0    1896  Summer      Athletics      106\n",
       "1    1896  Summer        Cycling       41\n",
       "2    1896  Summer        Fencing       15\n",
       "3    1896  Summer     Gymnastics       97\n",
       "4    1896  Summer       Shooting       65\n",
       "..    ...     ...            ...      ...\n",
       "901  2016  Summer      Triathlon      110\n",
       "902  2016  Summer     Volleyball      283\n",
       "903  2016  Summer     Water Polo      258\n",
       "904  2016  Summer  Weightlifting      255\n",
       "905  2016  Summer      Wrestling      346\n",
       "\n",
       "[906 rows x 4 columns]"
      ]
     },
     "execution_count": 29,
     "metadata": {},
     "output_type": "execute_result"
    }
   ],
   "source": [
    "#8.\n",
    "participants=df.groupby(['Year','Season','Sport'])['Name'].count().reset_index()\n",
    "participants.rename(columns={'Name':'Athlets'},inplace=True)\n",
    "participants\n"
   ]
  },
  {
   "cell_type": "code",
   "execution_count": 30,
   "id": "f2541ff0",
   "metadata": {
    "execution": {
     "iopub.execute_input": "2022-07-26T22:53:56.615825Z",
     "iopub.status.busy": "2022-07-26T22:53:56.615050Z",
     "iopub.status.idle": "2022-07-26T22:53:56.686766Z",
     "shell.execute_reply": "2022-07-26T22:53:56.685685Z"
    },
    "papermill": {
     "duration": 0.140242,
     "end_time": "2022-07-26T22:53:56.690252",
     "exception": false,
     "start_time": "2022-07-26T22:53:56.550010",
     "status": "completed"
    },
    "tags": []
   },
   "outputs": [
    {
     "data": {
      "application/vnd.plotly.v1+json": {
       "config": {
        "plotlyServerURL": "https://plot.ly"
       },
       "data": [
        {
         "hovertemplate": "Season=Summer<br>Sport=%{x}<br>Athlets=%{y}<extra></extra>",
         "legendgroup": "Summer",
         "marker": {
          "color": "#636efa",
          "symbol": "circle"
         },
         "mode": "markers",
         "name": "Summer",
         "orientation": "v",
         "showlegend": true,
         "type": "scatter",
         "x": [
          "Athletics",
          "Cycling",
          "Fencing",
          "Gymnastics",
          "Shooting",
          "Swimming",
          "Tennis",
          "Weightlifting",
          "Wrestling",
          "Archery",
          "Athletics",
          "Basque Pelota",
          "Cricket",
          "Croquet",
          "Cycling",
          "Equestrianism",
          "Fencing",
          "Football",
          "Golf",
          "Gymnastics",
          "Polo",
          "Rowing",
          "Rugby",
          "Sailing",
          "Shooting",
          "Swimming",
          "Tennis",
          "Tug-Of-War",
          "Water Polo",
          "Archery",
          "Athletics",
          "Boxing",
          "Cycling",
          "Diving",
          "Fencing",
          "Football",
          "Golf",
          "Gymnastics",
          "Lacrosse",
          "Roque",
          "Rowing",
          "Swimming",
          "Tennis",
          "Tug-Of-War",
          "Water Polo",
          "Weightlifting",
          "Wrestling",
          "Athletics",
          "Cycling",
          "Diving",
          "Fencing",
          "Football",
          "Gymnastics",
          "Rowing",
          "Shooting",
          "Swimming",
          "Tennis",
          "Tug-Of-War",
          "Weightlifting",
          "Wrestling",
          "Archery",
          "Athletics",
          "Boxing",
          "Cycling",
          "Diving",
          "Fencing",
          "Figure Skating",
          "Football",
          "Gymnastics",
          "Hockey",
          "Jeu De Paume",
          "Lacrosse",
          "Motorboating",
          "Polo",
          "Racquets",
          "Rowing",
          "Rugby",
          "Sailing",
          "Shooting",
          "Swimming",
          "Tennis",
          "Tug-Of-War",
          "Water Polo",
          "Wrestling",
          "Art Competitions",
          "Athletics",
          "Cycling",
          "Diving",
          "Equestrianism",
          "Fencing",
          "Football",
          "Gymnastics",
          "Modern Pentathlon",
          "Rowing",
          "Sailing",
          "Shooting",
          "Swimming",
          "Tennis",
          "Tug-Of-War",
          "Water Polo",
          "Wrestling",
          "Archery",
          "Art Competitions",
          "Athletics",
          "Boxing",
          "Cycling",
          "Diving",
          "Equestrianism",
          "Fencing",
          "Figure Skating",
          "Football",
          "Gymnastics",
          "Hockey",
          "Ice Hockey",
          "Modern Pentathlon",
          "Polo",
          "Rowing",
          "Rugby",
          "Sailing",
          "Shooting",
          "Swimming",
          "Tennis",
          "Tug-Of-War",
          "Water Polo",
          "Weightlifting",
          "Wrestling",
          "Art Competitions",
          "Athletics",
          "Boxing",
          "Cycling",
          "Diving",
          "Equestrianism",
          "Fencing",
          "Football",
          "Gymnastics",
          "Modern Pentathlon",
          "Polo",
          "Rowing",
          "Rugby",
          "Sailing",
          "Shooting",
          "Swimming",
          "Tennis",
          "Water Polo",
          "Weightlifting",
          "Wrestling",
          "Art Competitions",
          "Athletics",
          "Boxing",
          "Cycling",
          "Diving",
          "Equestrianism",
          "Fencing",
          "Football",
          "Gymnastics",
          "Hockey",
          "Modern Pentathlon",
          "Rowing",
          "Sailing",
          "Swimming",
          "Water Polo",
          "Weightlifting",
          "Wrestling",
          "Alpinism",
          "Art Competitions",
          "Athletics",
          "Boxing",
          "Cycling",
          "Diving",
          "Equestrianism",
          "Fencing",
          "Gymnastics",
          "Hockey",
          "Modern Pentathlon",
          "Rowing",
          "Sailing",
          "Shooting",
          "Swimming",
          "Water Polo",
          "Weightlifting",
          "Wrestling",
          "Aeronautics",
          "Alpinism",
          "Art Competitions",
          "Athletics",
          "Basketball",
          "Boxing",
          "Canoeing",
          "Cycling",
          "Diving",
          "Equestrianism",
          "Fencing",
          "Football",
          "Gymnastics",
          "Handball",
          "Hockey",
          "Modern Pentathlon",
          "Polo",
          "Rowing",
          "Sailing",
          "Shooting",
          "Swimming",
          "Water Polo",
          "Weightlifting",
          "Wrestling",
          "Art Competitions",
          "Athletics",
          "Basketball",
          "Boxing",
          "Canoeing",
          "Cycling",
          "Diving",
          "Equestrianism",
          "Fencing",
          "Football",
          "Gymnastics",
          "Hockey",
          "Modern Pentathlon",
          "Rowing",
          "Sailing",
          "Shooting",
          "Swimming",
          "Water Polo",
          "Weightlifting",
          "Wrestling",
          "Athletics",
          "Basketball",
          "Boxing",
          "Canoeing",
          "Cycling",
          "Diving",
          "Equestrianism",
          "Fencing",
          "Football",
          "Gymnastics",
          "Hockey",
          "Modern Pentathlon",
          "Rowing",
          "Sailing",
          "Shooting",
          "Swimming",
          "Water Polo",
          "Weightlifting",
          "Wrestling",
          "Athletics",
          "Basketball",
          "Boxing",
          "Canoeing",
          "Cycling",
          "Diving",
          "Equestrianism",
          "Fencing",
          "Football",
          "Gymnastics",
          "Hockey",
          "Modern Pentathlon",
          "Rowing",
          "Sailing",
          "Shooting",
          "Swimming",
          "Water Polo",
          "Weightlifting",
          "Wrestling",
          "Athletics",
          "Basketball",
          "Boxing",
          "Canoeing",
          "Cycling",
          "Diving",
          "Equestrianism",
          "Fencing",
          "Football",
          "Gymnastics",
          "Hockey",
          "Modern Pentathlon",
          "Rowing",
          "Sailing",
          "Shooting",
          "Swimming",
          "Water Polo",
          "Weightlifting",
          "Wrestling",
          "Athletics",
          "Basketball",
          "Boxing",
          "Canoeing",
          "Cycling",
          "Diving",
          "Equestrianism",
          "Fencing",
          "Football",
          "Gymnastics",
          "Hockey",
          "Judo",
          "Modern Pentathlon",
          "Rowing",
          "Sailing",
          "Shooting",
          "Swimming",
          "Volleyball",
          "Water Polo",
          "Weightlifting",
          "Wrestling",
          "Athletics",
          "Basketball",
          "Boxing",
          "Canoeing",
          "Cycling",
          "Diving",
          "Equestrianism",
          "Fencing",
          "Football",
          "Gymnastics",
          "Hockey",
          "Modern Pentathlon",
          "Rowing",
          "Sailing",
          "Shooting",
          "Swimming",
          "Volleyball",
          "Water Polo",
          "Weightlifting",
          "Wrestling",
          "Archery",
          "Athletics",
          "Basketball",
          "Boxing",
          "Canoeing",
          "Cycling",
          "Diving",
          "Equestrianism",
          "Fencing",
          "Football",
          "Gymnastics",
          "Handball",
          "Hockey",
          "Judo",
          "Modern Pentathlon",
          "Rowing",
          "Sailing",
          "Shooting",
          "Swimming",
          "Volleyball",
          "Water Polo",
          "Weightlifting",
          "Wrestling",
          "Archery",
          "Athletics",
          "Basketball",
          "Boxing",
          "Canoeing",
          "Cycling",
          "Diving",
          "Equestrianism",
          "Fencing",
          "Football",
          "Gymnastics",
          "Handball",
          "Hockey",
          "Judo",
          "Modern Pentathlon",
          "Rowing",
          "Sailing",
          "Shooting",
          "Swimming",
          "Volleyball",
          "Water Polo",
          "Weightlifting",
          "Wrestling",
          "Archery",
          "Athletics",
          "Basketball",
          "Boxing",
          "Canoeing",
          "Cycling",
          "Diving",
          "Equestrianism",
          "Fencing",
          "Football",
          "Gymnastics",
          "Handball",
          "Hockey",
          "Judo",
          "Modern Pentathlon",
          "Rowing",
          "Sailing",
          "Shooting",
          "Swimming",
          "Volleyball",
          "Water Polo",
          "Weightlifting",
          "Wrestling",
          "Archery",
          "Athletics",
          "Basketball",
          "Boxing",
          "Canoeing",
          "Cycling",
          "Diving",
          "Equestrianism",
          "Fencing",
          "Football",
          "Gymnastics",
          "Handball",
          "Hockey",
          "Judo",
          "Modern Pentathlon",
          "Rhythmic Gymnastics",
          "Rowing",
          "Sailing",
          "Shooting",
          "Swimming",
          "Synchronized Swimming",
          "Volleyball",
          "Water Polo",
          "Weightlifting",
          "Wrestling",
          "Archery",
          "Athletics",
          "Basketball",
          "Boxing",
          "Canoeing",
          "Cycling",
          "Diving",
          "Equestrianism",
          "Fencing",
          "Football",
          "Gymnastics",
          "Handball",
          "Hockey",
          "Judo",
          "Modern Pentathlon",
          "Rhythmic Gymnastics",
          "Rowing",
          "Sailing",
          "Shooting",
          "Swimming",
          "Synchronized Swimming",
          "Table Tennis",
          "Tennis",
          "Volleyball",
          "Water Polo",
          "Weightlifting",
          "Wrestling",
          "Archery",
          "Athletics",
          "Badminton",
          "Baseball",
          "Basketball",
          "Boxing",
          "Canoeing",
          "Cycling",
          "Diving",
          "Equestrianism",
          "Fencing",
          "Football",
          "Gymnastics",
          "Handball",
          "Hockey",
          "Judo",
          "Modern Pentathlon",
          "Rhythmic Gymnastics",
          "Rowing",
          "Sailing",
          "Shooting",
          "Swimming",
          "Synchronized Swimming",
          "Table Tennis",
          "Tennis",
          "Volleyball",
          "Water Polo",
          "Weightlifting",
          "Wrestling",
          "Archery",
          "Athletics",
          "Badminton",
          "Baseball",
          "Basketball",
          "Beach Volleyball",
          "Boxing",
          "Canoeing",
          "Cycling",
          "Diving",
          "Equestrianism",
          "Fencing",
          "Football",
          "Gymnastics",
          "Handball",
          "Hockey",
          "Judo",
          "Modern Pentathlon",
          "Rhythmic Gymnastics",
          "Rowing",
          "Sailing",
          "Shooting",
          "Softball",
          "Swimming",
          "Synchronized Swimming",
          "Table Tennis",
          "Tennis",
          "Volleyball",
          "Water Polo",
          "Weightlifting",
          "Wrestling",
          "Archery",
          "Athletics",
          "Badminton",
          "Baseball",
          "Basketball",
          "Beach Volleyball",
          "Boxing",
          "Canoeing",
          "Cycling",
          "Diving",
          "Equestrianism",
          "Fencing",
          "Football",
          "Gymnastics",
          "Handball",
          "Hockey",
          "Judo",
          "Modern Pentathlon",
          "Rhythmic Gymnastics",
          "Rowing",
          "Sailing",
          "Shooting",
          "Softball",
          "Swimming",
          "Synchronized Swimming",
          "Table Tennis",
          "Taekwondo",
          "Tennis",
          "Trampolining",
          "Triathlon",
          "Volleyball",
          "Water Polo",
          "Weightlifting",
          "Wrestling",
          "Archery",
          "Athletics",
          "Badminton",
          "Baseball",
          "Basketball",
          "Beach Volleyball",
          "Boxing",
          "Canoeing",
          "Cycling",
          "Diving",
          "Equestrianism",
          "Fencing",
          "Football",
          "Gymnastics",
          "Handball",
          "Hockey",
          "Judo",
          "Modern Pentathlon",
          "Rhythmic Gymnastics",
          "Rowing",
          "Sailing",
          "Shooting",
          "Softball",
          "Swimming",
          "Synchronized Swimming",
          "Table Tennis",
          "Taekwondo",
          "Tennis",
          "Trampolining",
          "Triathlon",
          "Volleyball",
          "Water Polo",
          "Weightlifting",
          "Wrestling",
          "Archery",
          "Athletics",
          "Badminton",
          "Baseball",
          "Basketball",
          "Beach Volleyball",
          "Boxing",
          "Canoeing",
          "Cycling",
          "Diving",
          "Equestrianism",
          "Fencing",
          "Football",
          "Gymnastics",
          "Handball",
          "Hockey",
          "Judo",
          "Modern Pentathlon",
          "Rhythmic Gymnastics",
          "Rowing",
          "Sailing",
          "Shooting",
          "Softball",
          "Swimming",
          "Synchronized Swimming",
          "Table Tennis",
          "Taekwondo",
          "Tennis",
          "Trampolining",
          "Triathlon",
          "Volleyball",
          "Water Polo",
          "Weightlifting",
          "Wrestling",
          "Archery",
          "Athletics",
          "Badminton",
          "Basketball",
          "Beach Volleyball",
          "Boxing",
          "Canoeing",
          "Cycling",
          "Diving",
          "Equestrianism",
          "Fencing",
          "Football",
          "Gymnastics",
          "Handball",
          "Hockey",
          "Judo",
          "Modern Pentathlon",
          "Rhythmic Gymnastics",
          "Rowing",
          "Sailing",
          "Shooting",
          "Swimming",
          "Synchronized Swimming",
          "Table Tennis",
          "Taekwondo",
          "Tennis",
          "Trampolining",
          "Triathlon",
          "Volleyball",
          "Water Polo",
          "Weightlifting",
          "Wrestling",
          "Archery",
          "Athletics",
          "Badminton",
          "Basketball",
          "Beach Volleyball",
          "Boxing",
          "Canoeing",
          "Cycling",
          "Diving",
          "Equestrianism",
          "Fencing",
          "Football",
          "Golf",
          "Gymnastics",
          "Handball",
          "Hockey",
          "Judo",
          "Modern Pentathlon",
          "Rhythmic Gymnastics",
          "Rowing",
          "Rugby Sevens",
          "Sailing",
          "Shooting",
          "Swimming",
          "Synchronized Swimming",
          "Table Tennis",
          "Taekwondo",
          "Tennis",
          "Trampolining",
          "Triathlon",
          "Volleyball",
          "Water Polo",
          "Weightlifting",
          "Wrestling"
         ],
         "xaxis": "x",
         "y": [
          106,
          41,
          15,
          97,
          65,
          18,
          23,
          10,
          5,
          32,
          234,
          2,
          24,
          19,
          92,
          79,
          317,
          35,
          22,
          135,
          21,
          133,
          47,
          280,
          221,
          131,
          47,
          12,
          53,
          70,
          201,
          24,
          61,
          5,
          28,
          36,
          105,
          458,
          36,
          4,
          46,
          64,
          57,
          30,
          21,
          7,
          48,
          470,
          138,
          24,
          161,
          45,
          156,
          200,
          320,
          78,
          48,
          32,
          22,
          39,
          77,
          778,
          42,
          269,
          47,
          240,
          23,
          72,
          349,
          68,
          11,
          24,
          17,
          12,
          12,
          87,
          30,
          64,
          444,
          150,
          84,
          40,
          28,
          133,
          33,
          962,
          242,
          86,
          128,
          379,
          163,
          310,
          32,
          197,
          109,
          794,
          201,
          173,
          16,
          45,
          170,
          86,
          11,
          849,
          116,
          212,
          70,
          132,
          350,
          31,
          190,
          263,
          51,
          60,
          23,
          17,
          144,
          31,
          101,
          838,
          209,
          153,
          40,
          101,
          53,
          161,
          318,
          1003,
          181,
          249,
          90,
          194,
          424,
          279,
          638,
          38,
          24,
          196,
          54,
          69,
          508,
          263,
          253,
          101,
          107,
          244,
          808,
          992,
          144,
          227,
          74,
          232,
          430,
          219,
          664,
          137,
          37,
          247,
          128,
          278,
          112,
          94,
          169,
          2,
          1124,
          522,
          85,
          109,
          36,
          65,
          192,
          147,
          40,
          25,
          166,
          57,
          44,
          195,
          41,
          29,
          90,
          1,
          2,
          813,
          1007,
          199,
          179,
          143,
          301,
          88,
          256,
          556,
          201,
          947,
          105,
          167,
          42,
          21,
          348,
          172,
          162,
          364,
          142,
          80,
          210,
          471,
          1051,
          287,
          205,
          139,
          320,
          84,
          207,
          508,
          218,
          1060,
          187,
          45,
          318,
          186,
          216,
          398,
          156,
          120,
          229,
          1344,
          294,
          249,
          184,
          389,
          97,
          263,
          509,
          294,
          2391,
          157,
          99,
          406,
          227,
          289,
          483,
          191,
          142,
          262,
          1013,
          169,
          161,
          146,
          292,
          82,
          298,
          278,
          143,
          913,
          173,
          76,
          258,
          154,
          219,
          356,
          96,
          105,
          195,
          1312,
          192,
          281,
          211,
          423,
          96,
          276,
          601,
          235,
          1746,
          236,
          111,
          431,
          290,
          389,
          630,
          150,
          172,
          337,
          1335,
          189,
          269,
          167,
          451,
          102,
          224,
          481,
          214,
          1484,
          226,
          72,
          70,
          378,
          225,
          312,
          736,
          179,
          137,
          149,
          302,
          1345,
          191,
          307,
          203,
          483,
          109,
          233,
          490,
          273,
          1496,
          253,
          93,
          358,
          252,
          410,
          1231,
          206,
          162,
          160,
          333,
          95,
          1686,
          190,
          354,
          359,
          526,
          124,
          326,
          499,
          269,
          1584,
          243,
          263,
          166,
          116,
          442,
          323,
          472,
          1263,
          231,
          176,
          188,
          409,
          64,
          1297,
          213,
          266,
          340,
          392,
          105,
          246,
          485,
          202,
          1204,
          243,
          172,
          154,
          89,
          598,
          257,
          369,
          1076,
          216,
          131,
          173,
          349,
          67,
          1268,
          215,
          271,
          253,
          307,
          88,
          122,
          321,
          256,
          866,
          248,
          187,
          193,
          79,
          488,
          156,
          267,
          761,
          204,
          132,
          172,
          270,
          109,
          1674,
          213,
          354,
          299,
          475,
          101,
          281,
          424,
          246,
          930,
          259,
          286,
          212,
          103,
          33,
          465,
          300,
          539,
          1232,
          86,
          208,
          153,
          186,
          286,
          257,
          2062,
          236,
          432,
          388,
          518,
          108,
          324,
          506,
          270,
          1217,
          281,
          314,
          243,
          122,
          39,
          624,
          375,
          545,
          1614,
          76,
          206,
          202,
          239,
          156,
          226,
          457,
          247,
          2054,
          226,
          160,
          236,
          336,
          587,
          566,
          112,
          404,
          458,
          272,
          1255,
          292,
          314,
          433,
          117,
          42,
          661,
          441,
          564,
          1615,
          89,
          248,
          250,
          231,
          152,
          244,
          371,
          218,
          2386,
          263,
          160,
          284,
          84,
          355,
          575,
          584,
          139,
          343,
          388,
          388,
          1397,
          300,
          320,
          387,
          32,
          90,
          621,
          458,
          612,
          120,
          1635,
          72,
          251,
          246,
          275,
          153,
          243,
          401,
          206,
          2468,
          225,
          192,
          286,
          96,
          307,
          448,
          621,
          238,
          295,
          349,
          391,
          1144,
          323,
          350,
          398,
          48,
          84,
          561,
          402,
          599,
          120,
          1741,
          117,
          268,
          102,
          248,
          24,
          100,
          279,
          231,
          246,
          314,
          212,
          2175,
          200,
          191,
          287,
          96,
          280,
          434,
          623,
          196,
          371,
          323,
          425,
          1151,
          328,
          352,
          384,
          64,
          84,
          559,
          401,
          558,
          118,
          1618,
          117,
          260,
          124,
          252,
          32,
          99,
          283,
          255,
          249,
          342,
          194,
          2244,
          184,
          191,
          287,
          96,
          283,
          436,
          652,
          182,
          340,
          332,
          469,
          996,
          343,
          387,
          386,
          72,
          95,
          563,
          400,
          577,
          120,
          1749,
          117,
          250,
          126,
          254,
          32,
          110,
          283,
          256,
          253,
          343,
          200,
          2278,
          182,
          287,
          96,
          283,
          418,
          629,
          181,
          350,
          345,
          467,
          848,
          347,
          387,
          384,
          72,
          95,
          550,
          379,
          560,
          1538,
          117,
          236,
          128,
          286,
          32,
          110,
          287,
          257,
          252,
          339,
          200,
          2508,
          177,
          281,
          96,
          283,
          441,
          667,
          178,
          355,
          346,
          473,
          120,
          861,
          353,
          390,
          389,
          72,
          96,
          550,
          299,
          380,
          555,
          1568,
          118,
          236,
          126,
          286,
          32,
          110,
          283,
          258,
          255,
          346
         ],
         "yaxis": "y"
        },
        {
         "hovertemplate": "Season=Winter<br>Sport=%{x}<br>Athlets=%{y}<extra></extra>",
         "legendgroup": "Winter",
         "marker": {
          "color": "#EF553B",
          "symbol": "diamond"
         },
         "mode": "markers",
         "name": "Winter",
         "orientation": "v",
         "showlegend": true,
         "type": "scatter",
         "x": [
          "Alpinism",
          "Bobsleigh",
          "Cross Country Skiing",
          "Curling",
          "Figure Skating",
          "Ice Hockey",
          "Military Ski Patrol",
          "Nordic Combined",
          "Ski Jumping",
          "Speed Skating",
          "Bobsleigh",
          "Cross Country Skiing",
          "Figure Skating",
          "Ice Hockey",
          "Nordic Combined",
          "Skeleton",
          "Ski Jumping",
          "Speed Skating",
          "Bobsleigh",
          "Cross Country Skiing",
          "Figure Skating",
          "Ice Hockey",
          "Nordic Combined",
          "Ski Jumping",
          "Speed Skating",
          "Alpine Skiing",
          "Bobsleigh",
          "Cross Country Skiing",
          "Figure Skating",
          "Ice Hockey",
          "Nordic Combined",
          "Ski Jumping",
          "Speed Skating",
          "Alpine Skiing",
          "Bobsleigh",
          "Cross Country Skiing",
          "Figure Skating",
          "Ice Hockey",
          "Nordic Combined",
          "Skeleton",
          "Ski Jumping",
          "Speed Skating",
          "Alpine Skiing",
          "Bobsleigh",
          "Cross Country Skiing",
          "Figure Skating",
          "Ice Hockey",
          "Nordic Combined",
          "Ski Jumping",
          "Speed Skating",
          "Alpine Skiing",
          "Bobsleigh",
          "Cross Country Skiing",
          "Figure Skating",
          "Ice Hockey",
          "Nordic Combined",
          "Ski Jumping",
          "Speed Skating",
          "Alpine Skiing",
          "Biathlon",
          "Cross Country Skiing",
          "Figure Skating",
          "Ice Hockey",
          "Nordic Combined",
          "Ski Jumping",
          "Speed Skating",
          "Alpine Skiing",
          "Biathlon",
          "Bobsleigh",
          "Cross Country Skiing",
          "Figure Skating",
          "Ice Hockey",
          "Luge",
          "Nordic Combined",
          "Ski Jumping",
          "Speed Skating",
          "Alpine Skiing",
          "Biathlon",
          "Bobsleigh",
          "Cross Country Skiing",
          "Figure Skating",
          "Ice Hockey",
          "Luge",
          "Nordic Combined",
          "Ski Jumping",
          "Speed Skating",
          "Alpine Skiing",
          "Biathlon",
          "Bobsleigh",
          "Cross Country Skiing",
          "Figure Skating",
          "Ice Hockey",
          "Luge",
          "Nordic Combined",
          "Ski Jumping",
          "Speed Skating",
          "Alpine Skiing",
          "Biathlon",
          "Bobsleigh",
          "Cross Country Skiing",
          "Figure Skating",
          "Ice Hockey",
          "Luge",
          "Nordic Combined",
          "Ski Jumping",
          "Speed Skating",
          "Alpine Skiing",
          "Biathlon",
          "Bobsleigh",
          "Cross Country Skiing",
          "Figure Skating",
          "Ice Hockey",
          "Luge",
          "Nordic Combined",
          "Ski Jumping",
          "Speed Skating",
          "Alpine Skiing",
          "Biathlon",
          "Bobsleigh",
          "Cross Country Skiing",
          "Figure Skating",
          "Ice Hockey",
          "Luge",
          "Nordic Combined",
          "Ski Jumping",
          "Speed Skating",
          "Alpine Skiing",
          "Biathlon",
          "Bobsleigh",
          "Cross Country Skiing",
          "Figure Skating",
          "Ice Hockey",
          "Luge",
          "Nordic Combined",
          "Ski Jumping",
          "Speed Skating",
          "Alpine Skiing",
          "Biathlon",
          "Bobsleigh",
          "Cross Country Skiing",
          "Figure Skating",
          "Freestyle Skiing",
          "Ice Hockey",
          "Luge",
          "Nordic Combined",
          "Short Track Speed Skating",
          "Ski Jumping",
          "Speed Skating",
          "Alpine Skiing",
          "Biathlon",
          "Bobsleigh",
          "Cross Country Skiing",
          "Figure Skating",
          "Freestyle Skiing",
          "Ice Hockey",
          "Luge",
          "Nordic Combined",
          "Short Track Speed Skating",
          "Ski Jumping",
          "Speed Skating",
          "Alpine Skiing",
          "Biathlon",
          "Bobsleigh",
          "Cross Country Skiing",
          "Curling",
          "Figure Skating",
          "Freestyle Skiing",
          "Ice Hockey",
          "Luge",
          "Nordic Combined",
          "Short Track Speed Skating",
          "Ski Jumping",
          "Snowboarding",
          "Speed Skating",
          "Alpine Skiing",
          "Biathlon",
          "Bobsleigh",
          "Cross Country Skiing",
          "Curling",
          "Figure Skating",
          "Freestyle Skiing",
          "Ice Hockey",
          "Luge",
          "Nordic Combined",
          "Short Track Speed Skating",
          "Skeleton",
          "Ski Jumping",
          "Snowboarding",
          "Speed Skating",
          "Alpine Skiing",
          "Biathlon",
          "Bobsleigh",
          "Cross Country Skiing",
          "Curling",
          "Figure Skating",
          "Freestyle Skiing",
          "Ice Hockey",
          "Luge",
          "Nordic Combined",
          "Short Track Speed Skating",
          "Skeleton",
          "Ski Jumping",
          "Snowboarding",
          "Speed Skating",
          "Alpine Skiing",
          "Biathlon",
          "Bobsleigh",
          "Cross Country Skiing",
          "Curling",
          "Figure Skating",
          "Freestyle Skiing",
          "Ice Hockey",
          "Luge",
          "Nordic Combined",
          "Short Track Speed Skating",
          "Skeleton",
          "Ski Jumping",
          "Snowboarding",
          "Speed Skating",
          "Alpine Skiing",
          "Biathlon",
          "Bobsleigh",
          "Cross Country Skiing",
          "Curling",
          "Figure Skating",
          "Freestyle Skiing",
          "Ice Hockey",
          "Luge",
          "Nordic Combined",
          "Short Track Speed Skating",
          "Skeleton",
          "Ski Jumping",
          "Snowboarding",
          "Speed Skating"
         ],
         "xaxis": "x",
         "y": [
          21,
          39,
          74,
          16,
          37,
          82,
          24,
          30,
          27,
          110,
          116,
          90,
          63,
          124,
          35,
          10,
          38,
          106,
          52,
          74,
          41,
          48,
          33,
          34,
          70,
          103,
          118,
          175,
          87,
          173,
          51,
          48,
          140,
          360,
          92,
          156,
          71,
          139,
          39,
          15,
          49,
          154,
          378,
          96,
          188,
          65,
          147,
          25,
          44,
          145,
          403,
          135,
          275,
          59,
          169,
          36,
          51,
          179,
          320,
          30,
          216,
          71,
          152,
          33,
          45,
          249,
          411,
          51,
          117,
          332,
          88,
          270,
          85,
          32,
          105,
          287,
          422,
          116,
          120,
          344,
          96,
          250,
          106,
          41,
          116,
          280,
          325,
          106,
          114,
          335,
          68,
          208,
          107,
          40,
          108,
          244,
          390,
          112,
          133,
          395,
          105,
          217,
          119,
          34,
          109,
          247,
          327,
          159,
          108,
          309,
          85,
          239,
          94,
          31,
          98,
          296,
          401,
          195,
          152,
          477,
          114,
          239,
          89,
          28,
          111,
          328,
          668,
          207,
          186,
          528,
          129,
          265,
          98,
          75,
          157,
          326,
          750,
          457,
          216,
          717,
          133,
          71,
          267,
          98,
          78,
          124,
          171,
          354,
          544,
          416,
          207,
          639,
          130,
          99,
          268,
          98,
          89,
          188,
          164,
          318,
          477,
          413,
          204,
          733,
          80,
          145,
          110,
          426,
          97,
          92,
          190,
          176,
          127,
          335,
          559,
          564,
          240,
          774,
          96,
          143,
          105,
          468,
          117,
          125,
          251,
          39,
          178,
          118,
          332,
          619,
          658,
          191,
          812,
          91,
          147,
          116,
          442,
          108,
          138,
          239,
          42,
          202,
          198,
          379,
          685,
          683,
          199,
          725,
          93,
          146,
          172,
          420,
          107,
          131,
          273,
          47,
          170,
          185,
          366,
          687,
          726,
          223,
          765,
          87,
          221,
          264,
          443,
          156,
          128,
          269,
          46,
          200,
          308,
          368
         ],
         "yaxis": "y"
        }
       ],
       "layout": {
        "legend": {
         "title": {
          "text": "Season"
         },
         "tracegroupgap": 0
        },
        "margin": {
         "t": 60
        },
        "template": {
         "data": {
          "bar": [
           {
            "error_x": {
             "color": "#2a3f5f"
            },
            "error_y": {
             "color": "#2a3f5f"
            },
            "marker": {
             "line": {
              "color": "#E5ECF6",
              "width": 0.5
             },
             "pattern": {
              "fillmode": "overlay",
              "size": 10,
              "solidity": 0.2
             }
            },
            "type": "bar"
           }
          ],
          "barpolar": [
           {
            "marker": {
             "line": {
              "color": "#E5ECF6",
              "width": 0.5
             },
             "pattern": {
              "fillmode": "overlay",
              "size": 10,
              "solidity": 0.2
             }
            },
            "type": "barpolar"
           }
          ],
          "carpet": [
           {
            "aaxis": {
             "endlinecolor": "#2a3f5f",
             "gridcolor": "white",
             "linecolor": "white",
             "minorgridcolor": "white",
             "startlinecolor": "#2a3f5f"
            },
            "baxis": {
             "endlinecolor": "#2a3f5f",
             "gridcolor": "white",
             "linecolor": "white",
             "minorgridcolor": "white",
             "startlinecolor": "#2a3f5f"
            },
            "type": "carpet"
           }
          ],
          "choropleth": [
           {
            "colorbar": {
             "outlinewidth": 0,
             "ticks": ""
            },
            "type": "choropleth"
           }
          ],
          "contour": [
           {
            "colorbar": {
             "outlinewidth": 0,
             "ticks": ""
            },
            "colorscale": [
             [
              0.0,
              "#0d0887"
             ],
             [
              0.1111111111111111,
              "#46039f"
             ],
             [
              0.2222222222222222,
              "#7201a8"
             ],
             [
              0.3333333333333333,
              "#9c179e"
             ],
             [
              0.4444444444444444,
              "#bd3786"
             ],
             [
              0.5555555555555556,
              "#d8576b"
             ],
             [
              0.6666666666666666,
              "#ed7953"
             ],
             [
              0.7777777777777778,
              "#fb9f3a"
             ],
             [
              0.8888888888888888,
              "#fdca26"
             ],
             [
              1.0,
              "#f0f921"
             ]
            ],
            "type": "contour"
           }
          ],
          "contourcarpet": [
           {
            "colorbar": {
             "outlinewidth": 0,
             "ticks": ""
            },
            "type": "contourcarpet"
           }
          ],
          "heatmap": [
           {
            "colorbar": {
             "outlinewidth": 0,
             "ticks": ""
            },
            "colorscale": [
             [
              0.0,
              "#0d0887"
             ],
             [
              0.1111111111111111,
              "#46039f"
             ],
             [
              0.2222222222222222,
              "#7201a8"
             ],
             [
              0.3333333333333333,
              "#9c179e"
             ],
             [
              0.4444444444444444,
              "#bd3786"
             ],
             [
              0.5555555555555556,
              "#d8576b"
             ],
             [
              0.6666666666666666,
              "#ed7953"
             ],
             [
              0.7777777777777778,
              "#fb9f3a"
             ],
             [
              0.8888888888888888,
              "#fdca26"
             ],
             [
              1.0,
              "#f0f921"
             ]
            ],
            "type": "heatmap"
           }
          ],
          "heatmapgl": [
           {
            "colorbar": {
             "outlinewidth": 0,
             "ticks": ""
            },
            "colorscale": [
             [
              0.0,
              "#0d0887"
             ],
             [
              0.1111111111111111,
              "#46039f"
             ],
             [
              0.2222222222222222,
              "#7201a8"
             ],
             [
              0.3333333333333333,
              "#9c179e"
             ],
             [
              0.4444444444444444,
              "#bd3786"
             ],
             [
              0.5555555555555556,
              "#d8576b"
             ],
             [
              0.6666666666666666,
              "#ed7953"
             ],
             [
              0.7777777777777778,
              "#fb9f3a"
             ],
             [
              0.8888888888888888,
              "#fdca26"
             ],
             [
              1.0,
              "#f0f921"
             ]
            ],
            "type": "heatmapgl"
           }
          ],
          "histogram": [
           {
            "marker": {
             "pattern": {
              "fillmode": "overlay",
              "size": 10,
              "solidity": 0.2
             }
            },
            "type": "histogram"
           }
          ],
          "histogram2d": [
           {
            "colorbar": {
             "outlinewidth": 0,
             "ticks": ""
            },
            "colorscale": [
             [
              0.0,
              "#0d0887"
             ],
             [
              0.1111111111111111,
              "#46039f"
             ],
             [
              0.2222222222222222,
              "#7201a8"
             ],
             [
              0.3333333333333333,
              "#9c179e"
             ],
             [
              0.4444444444444444,
              "#bd3786"
             ],
             [
              0.5555555555555556,
              "#d8576b"
             ],
             [
              0.6666666666666666,
              "#ed7953"
             ],
             [
              0.7777777777777778,
              "#fb9f3a"
             ],
             [
              0.8888888888888888,
              "#fdca26"
             ],
             [
              1.0,
              "#f0f921"
             ]
            ],
            "type": "histogram2d"
           }
          ],
          "histogram2dcontour": [
           {
            "colorbar": {
             "outlinewidth": 0,
             "ticks": ""
            },
            "colorscale": [
             [
              0.0,
              "#0d0887"
             ],
             [
              0.1111111111111111,
              "#46039f"
             ],
             [
              0.2222222222222222,
              "#7201a8"
             ],
             [
              0.3333333333333333,
              "#9c179e"
             ],
             [
              0.4444444444444444,
              "#bd3786"
             ],
             [
              0.5555555555555556,
              "#d8576b"
             ],
             [
              0.6666666666666666,
              "#ed7953"
             ],
             [
              0.7777777777777778,
              "#fb9f3a"
             ],
             [
              0.8888888888888888,
              "#fdca26"
             ],
             [
              1.0,
              "#f0f921"
             ]
            ],
            "type": "histogram2dcontour"
           }
          ],
          "mesh3d": [
           {
            "colorbar": {
             "outlinewidth": 0,
             "ticks": ""
            },
            "type": "mesh3d"
           }
          ],
          "parcoords": [
           {
            "line": {
             "colorbar": {
              "outlinewidth": 0,
              "ticks": ""
             }
            },
            "type": "parcoords"
           }
          ],
          "pie": [
           {
            "automargin": true,
            "type": "pie"
           }
          ],
          "scatter": [
           {
            "fillpattern": {
             "fillmode": "overlay",
             "size": 10,
             "solidity": 0.2
            },
            "type": "scatter"
           }
          ],
          "scatter3d": [
           {
            "line": {
             "colorbar": {
              "outlinewidth": 0,
              "ticks": ""
             }
            },
            "marker": {
             "colorbar": {
              "outlinewidth": 0,
              "ticks": ""
             }
            },
            "type": "scatter3d"
           }
          ],
          "scattercarpet": [
           {
            "marker": {
             "colorbar": {
              "outlinewidth": 0,
              "ticks": ""
             }
            },
            "type": "scattercarpet"
           }
          ],
          "scattergeo": [
           {
            "marker": {
             "colorbar": {
              "outlinewidth": 0,
              "ticks": ""
             }
            },
            "type": "scattergeo"
           }
          ],
          "scattergl": [
           {
            "marker": {
             "colorbar": {
              "outlinewidth": 0,
              "ticks": ""
             }
            },
            "type": "scattergl"
           }
          ],
          "scattermapbox": [
           {
            "marker": {
             "colorbar": {
              "outlinewidth": 0,
              "ticks": ""
             }
            },
            "type": "scattermapbox"
           }
          ],
          "scatterpolar": [
           {
            "marker": {
             "colorbar": {
              "outlinewidth": 0,
              "ticks": ""
             }
            },
            "type": "scatterpolar"
           }
          ],
          "scatterpolargl": [
           {
            "marker": {
             "colorbar": {
              "outlinewidth": 0,
              "ticks": ""
             }
            },
            "type": "scatterpolargl"
           }
          ],
          "scatterternary": [
           {
            "marker": {
             "colorbar": {
              "outlinewidth": 0,
              "ticks": ""
             }
            },
            "type": "scatterternary"
           }
          ],
          "surface": [
           {
            "colorbar": {
             "outlinewidth": 0,
             "ticks": ""
            },
            "colorscale": [
             [
              0.0,
              "#0d0887"
             ],
             [
              0.1111111111111111,
              "#46039f"
             ],
             [
              0.2222222222222222,
              "#7201a8"
             ],
             [
              0.3333333333333333,
              "#9c179e"
             ],
             [
              0.4444444444444444,
              "#bd3786"
             ],
             [
              0.5555555555555556,
              "#d8576b"
             ],
             [
              0.6666666666666666,
              "#ed7953"
             ],
             [
              0.7777777777777778,
              "#fb9f3a"
             ],
             [
              0.8888888888888888,
              "#fdca26"
             ],
             [
              1.0,
              "#f0f921"
             ]
            ],
            "type": "surface"
           }
          ],
          "table": [
           {
            "cells": {
             "fill": {
              "color": "#EBF0F8"
             },
             "line": {
              "color": "white"
             }
            },
            "header": {
             "fill": {
              "color": "#C8D4E3"
             },
             "line": {
              "color": "white"
             }
            },
            "type": "table"
           }
          ]
         },
         "layout": {
          "annotationdefaults": {
           "arrowcolor": "#2a3f5f",
           "arrowhead": 0,
           "arrowwidth": 1
          },
          "autotypenumbers": "strict",
          "coloraxis": {
           "colorbar": {
            "outlinewidth": 0,
            "ticks": ""
           }
          },
          "colorscale": {
           "diverging": [
            [
             0,
             "#8e0152"
            ],
            [
             0.1,
             "#c51b7d"
            ],
            [
             0.2,
             "#de77ae"
            ],
            [
             0.3,
             "#f1b6da"
            ],
            [
             0.4,
             "#fde0ef"
            ],
            [
             0.5,
             "#f7f7f7"
            ],
            [
             0.6,
             "#e6f5d0"
            ],
            [
             0.7,
             "#b8e186"
            ],
            [
             0.8,
             "#7fbc41"
            ],
            [
             0.9,
             "#4d9221"
            ],
            [
             1,
             "#276419"
            ]
           ],
           "sequential": [
            [
             0.0,
             "#0d0887"
            ],
            [
             0.1111111111111111,
             "#46039f"
            ],
            [
             0.2222222222222222,
             "#7201a8"
            ],
            [
             0.3333333333333333,
             "#9c179e"
            ],
            [
             0.4444444444444444,
             "#bd3786"
            ],
            [
             0.5555555555555556,
             "#d8576b"
            ],
            [
             0.6666666666666666,
             "#ed7953"
            ],
            [
             0.7777777777777778,
             "#fb9f3a"
            ],
            [
             0.8888888888888888,
             "#fdca26"
            ],
            [
             1.0,
             "#f0f921"
            ]
           ],
           "sequentialminus": [
            [
             0.0,
             "#0d0887"
            ],
            [
             0.1111111111111111,
             "#46039f"
            ],
            [
             0.2222222222222222,
             "#7201a8"
            ],
            [
             0.3333333333333333,
             "#9c179e"
            ],
            [
             0.4444444444444444,
             "#bd3786"
            ],
            [
             0.5555555555555556,
             "#d8576b"
            ],
            [
             0.6666666666666666,
             "#ed7953"
            ],
            [
             0.7777777777777778,
             "#fb9f3a"
            ],
            [
             0.8888888888888888,
             "#fdca26"
            ],
            [
             1.0,
             "#f0f921"
            ]
           ]
          },
          "colorway": [
           "#636efa",
           "#EF553B",
           "#00cc96",
           "#ab63fa",
           "#FFA15A",
           "#19d3f3",
           "#FF6692",
           "#B6E880",
           "#FF97FF",
           "#FECB52"
          ],
          "font": {
           "color": "#2a3f5f"
          },
          "geo": {
           "bgcolor": "white",
           "lakecolor": "white",
           "landcolor": "#E5ECF6",
           "showlakes": true,
           "showland": true,
           "subunitcolor": "white"
          },
          "hoverlabel": {
           "align": "left"
          },
          "hovermode": "closest",
          "mapbox": {
           "style": "light"
          },
          "paper_bgcolor": "white",
          "plot_bgcolor": "#E5ECF6",
          "polar": {
           "angularaxis": {
            "gridcolor": "white",
            "linecolor": "white",
            "ticks": ""
           },
           "bgcolor": "#E5ECF6",
           "radialaxis": {
            "gridcolor": "white",
            "linecolor": "white",
            "ticks": ""
           }
          },
          "scene": {
           "xaxis": {
            "backgroundcolor": "#E5ECF6",
            "gridcolor": "white",
            "gridwidth": 2,
            "linecolor": "white",
            "showbackground": true,
            "ticks": "",
            "zerolinecolor": "white"
           },
           "yaxis": {
            "backgroundcolor": "#E5ECF6",
            "gridcolor": "white",
            "gridwidth": 2,
            "linecolor": "white",
            "showbackground": true,
            "ticks": "",
            "zerolinecolor": "white"
           },
           "zaxis": {
            "backgroundcolor": "#E5ECF6",
            "gridcolor": "white",
            "gridwidth": 2,
            "linecolor": "white",
            "showbackground": true,
            "ticks": "",
            "zerolinecolor": "white"
           }
          },
          "shapedefaults": {
           "line": {
            "color": "#2a3f5f"
           }
          },
          "ternary": {
           "aaxis": {
            "gridcolor": "white",
            "linecolor": "white",
            "ticks": ""
           },
           "baxis": {
            "gridcolor": "white",
            "linecolor": "white",
            "ticks": ""
           },
           "bgcolor": "#E5ECF6",
           "caxis": {
            "gridcolor": "white",
            "linecolor": "white",
            "ticks": ""
           }
          },
          "title": {
           "x": 0.05
          },
          "xaxis": {
           "automargin": true,
           "gridcolor": "white",
           "linecolor": "white",
           "ticks": "",
           "title": {
            "standoff": 15
           },
           "zerolinecolor": "white",
           "zerolinewidth": 2
          },
          "yaxis": {
           "automargin": true,
           "gridcolor": "white",
           "linecolor": "white",
           "ticks": "",
           "title": {
            "standoff": 15
           },
           "zerolinecolor": "white",
           "zerolinewidth": 2
          }
         }
        },
        "xaxis": {
         "anchor": "y",
         "domain": [
          0.0,
          1.0
         ],
         "title": {
          "text": "Sport"
         }
        },
        "yaxis": {
         "anchor": "x",
         "domain": [
          0.0,
          1.0
         ],
         "title": {
          "text": "Athlets"
         }
        }
       }
      },
      "text/html": [
       "<div>                            <div id=\"53d51c04-2ffd-440f-8606-58085e0db50e\" class=\"plotly-graph-div\" style=\"height:525px; width:100%;\"></div>            <script type=\"text/javascript\">                require([\"plotly\"], function(Plotly) {                    window.PLOTLYENV=window.PLOTLYENV || {};                                    if (document.getElementById(\"53d51c04-2ffd-440f-8606-58085e0db50e\")) {                    Plotly.newPlot(                        \"53d51c04-2ffd-440f-8606-58085e0db50e\",                        [{\"hovertemplate\":\"Season=Summer<br>Sport=%{x}<br>Athlets=%{y}<extra></extra>\",\"legendgroup\":\"Summer\",\"marker\":{\"color\":\"#636efa\",\"symbol\":\"circle\"},\"mode\":\"markers\",\"name\":\"Summer\",\"orientation\":\"v\",\"showlegend\":true,\"x\":[\"Athletics\",\"Cycling\",\"Fencing\",\"Gymnastics\",\"Shooting\",\"Swimming\",\"Tennis\",\"Weightlifting\",\"Wrestling\",\"Archery\",\"Athletics\",\"Basque Pelota\",\"Cricket\",\"Croquet\",\"Cycling\",\"Equestrianism\",\"Fencing\",\"Football\",\"Golf\",\"Gymnastics\",\"Polo\",\"Rowing\",\"Rugby\",\"Sailing\",\"Shooting\",\"Swimming\",\"Tennis\",\"Tug-Of-War\",\"Water Polo\",\"Archery\",\"Athletics\",\"Boxing\",\"Cycling\",\"Diving\",\"Fencing\",\"Football\",\"Golf\",\"Gymnastics\",\"Lacrosse\",\"Roque\",\"Rowing\",\"Swimming\",\"Tennis\",\"Tug-Of-War\",\"Water Polo\",\"Weightlifting\",\"Wrestling\",\"Athletics\",\"Cycling\",\"Diving\",\"Fencing\",\"Football\",\"Gymnastics\",\"Rowing\",\"Shooting\",\"Swimming\",\"Tennis\",\"Tug-Of-War\",\"Weightlifting\",\"Wrestling\",\"Archery\",\"Athletics\",\"Boxing\",\"Cycling\",\"Diving\",\"Fencing\",\"Figure Skating\",\"Football\",\"Gymnastics\",\"Hockey\",\"Jeu De Paume\",\"Lacrosse\",\"Motorboating\",\"Polo\",\"Racquets\",\"Rowing\",\"Rugby\",\"Sailing\",\"Shooting\",\"Swimming\",\"Tennis\",\"Tug-Of-War\",\"Water Polo\",\"Wrestling\",\"Art Competitions\",\"Athletics\",\"Cycling\",\"Diving\",\"Equestrianism\",\"Fencing\",\"Football\",\"Gymnastics\",\"Modern Pentathlon\",\"Rowing\",\"Sailing\",\"Shooting\",\"Swimming\",\"Tennis\",\"Tug-Of-War\",\"Water Polo\",\"Wrestling\",\"Archery\",\"Art Competitions\",\"Athletics\",\"Boxing\",\"Cycling\",\"Diving\",\"Equestrianism\",\"Fencing\",\"Figure Skating\",\"Football\",\"Gymnastics\",\"Hockey\",\"Ice Hockey\",\"Modern Pentathlon\",\"Polo\",\"Rowing\",\"Rugby\",\"Sailing\",\"Shooting\",\"Swimming\",\"Tennis\",\"Tug-Of-War\",\"Water Polo\",\"Weightlifting\",\"Wrestling\",\"Art Competitions\",\"Athletics\",\"Boxing\",\"Cycling\",\"Diving\",\"Equestrianism\",\"Fencing\",\"Football\",\"Gymnastics\",\"Modern Pentathlon\",\"Polo\",\"Rowing\",\"Rugby\",\"Sailing\",\"Shooting\",\"Swimming\",\"Tennis\",\"Water Polo\",\"Weightlifting\",\"Wrestling\",\"Art Competitions\",\"Athletics\",\"Boxing\",\"Cycling\",\"Diving\",\"Equestrianism\",\"Fencing\",\"Football\",\"Gymnastics\",\"Hockey\",\"Modern Pentathlon\",\"Rowing\",\"Sailing\",\"Swimming\",\"Water Polo\",\"Weightlifting\",\"Wrestling\",\"Alpinism\",\"Art Competitions\",\"Athletics\",\"Boxing\",\"Cycling\",\"Diving\",\"Equestrianism\",\"Fencing\",\"Gymnastics\",\"Hockey\",\"Modern Pentathlon\",\"Rowing\",\"Sailing\",\"Shooting\",\"Swimming\",\"Water Polo\",\"Weightlifting\",\"Wrestling\",\"Aeronautics\",\"Alpinism\",\"Art Competitions\",\"Athletics\",\"Basketball\",\"Boxing\",\"Canoeing\",\"Cycling\",\"Diving\",\"Equestrianism\",\"Fencing\",\"Football\",\"Gymnastics\",\"Handball\",\"Hockey\",\"Modern Pentathlon\",\"Polo\",\"Rowing\",\"Sailing\",\"Shooting\",\"Swimming\",\"Water Polo\",\"Weightlifting\",\"Wrestling\",\"Art Competitions\",\"Athletics\",\"Basketball\",\"Boxing\",\"Canoeing\",\"Cycling\",\"Diving\",\"Equestrianism\",\"Fencing\",\"Football\",\"Gymnastics\",\"Hockey\",\"Modern Pentathlon\",\"Rowing\",\"Sailing\",\"Shooting\",\"Swimming\",\"Water Polo\",\"Weightlifting\",\"Wrestling\",\"Athletics\",\"Basketball\",\"Boxing\",\"Canoeing\",\"Cycling\",\"Diving\",\"Equestrianism\",\"Fencing\",\"Football\",\"Gymnastics\",\"Hockey\",\"Modern Pentathlon\",\"Rowing\",\"Sailing\",\"Shooting\",\"Swimming\",\"Water Polo\",\"Weightlifting\",\"Wrestling\",\"Athletics\",\"Basketball\",\"Boxing\",\"Canoeing\",\"Cycling\",\"Diving\",\"Equestrianism\",\"Fencing\",\"Football\",\"Gymnastics\",\"Hockey\",\"Modern Pentathlon\",\"Rowing\",\"Sailing\",\"Shooting\",\"Swimming\",\"Water Polo\",\"Weightlifting\",\"Wrestling\",\"Athletics\",\"Basketball\",\"Boxing\",\"Canoeing\",\"Cycling\",\"Diving\",\"Equestrianism\",\"Fencing\",\"Football\",\"Gymnastics\",\"Hockey\",\"Modern Pentathlon\",\"Rowing\",\"Sailing\",\"Shooting\",\"Swimming\",\"Water Polo\",\"Weightlifting\",\"Wrestling\",\"Athletics\",\"Basketball\",\"Boxing\",\"Canoeing\",\"Cycling\",\"Diving\",\"Equestrianism\",\"Fencing\",\"Football\",\"Gymnastics\",\"Hockey\",\"Judo\",\"Modern Pentathlon\",\"Rowing\",\"Sailing\",\"Shooting\",\"Swimming\",\"Volleyball\",\"Water Polo\",\"Weightlifting\",\"Wrestling\",\"Athletics\",\"Basketball\",\"Boxing\",\"Canoeing\",\"Cycling\",\"Diving\",\"Equestrianism\",\"Fencing\",\"Football\",\"Gymnastics\",\"Hockey\",\"Modern Pentathlon\",\"Rowing\",\"Sailing\",\"Shooting\",\"Swimming\",\"Volleyball\",\"Water Polo\",\"Weightlifting\",\"Wrestling\",\"Archery\",\"Athletics\",\"Basketball\",\"Boxing\",\"Canoeing\",\"Cycling\",\"Diving\",\"Equestrianism\",\"Fencing\",\"Football\",\"Gymnastics\",\"Handball\",\"Hockey\",\"Judo\",\"Modern Pentathlon\",\"Rowing\",\"Sailing\",\"Shooting\",\"Swimming\",\"Volleyball\",\"Water Polo\",\"Weightlifting\",\"Wrestling\",\"Archery\",\"Athletics\",\"Basketball\",\"Boxing\",\"Canoeing\",\"Cycling\",\"Diving\",\"Equestrianism\",\"Fencing\",\"Football\",\"Gymnastics\",\"Handball\",\"Hockey\",\"Judo\",\"Modern Pentathlon\",\"Rowing\",\"Sailing\",\"Shooting\",\"Swimming\",\"Volleyball\",\"Water Polo\",\"Weightlifting\",\"Wrestling\",\"Archery\",\"Athletics\",\"Basketball\",\"Boxing\",\"Canoeing\",\"Cycling\",\"Diving\",\"Equestrianism\",\"Fencing\",\"Football\",\"Gymnastics\",\"Handball\",\"Hockey\",\"Judo\",\"Modern Pentathlon\",\"Rowing\",\"Sailing\",\"Shooting\",\"Swimming\",\"Volleyball\",\"Water Polo\",\"Weightlifting\",\"Wrestling\",\"Archery\",\"Athletics\",\"Basketball\",\"Boxing\",\"Canoeing\",\"Cycling\",\"Diving\",\"Equestrianism\",\"Fencing\",\"Football\",\"Gymnastics\",\"Handball\",\"Hockey\",\"Judo\",\"Modern Pentathlon\",\"Rhythmic Gymnastics\",\"Rowing\",\"Sailing\",\"Shooting\",\"Swimming\",\"Synchronized Swimming\",\"Volleyball\",\"Water Polo\",\"Weightlifting\",\"Wrestling\",\"Archery\",\"Athletics\",\"Basketball\",\"Boxing\",\"Canoeing\",\"Cycling\",\"Diving\",\"Equestrianism\",\"Fencing\",\"Football\",\"Gymnastics\",\"Handball\",\"Hockey\",\"Judo\",\"Modern Pentathlon\",\"Rhythmic Gymnastics\",\"Rowing\",\"Sailing\",\"Shooting\",\"Swimming\",\"Synchronized Swimming\",\"Table Tennis\",\"Tennis\",\"Volleyball\",\"Water Polo\",\"Weightlifting\",\"Wrestling\",\"Archery\",\"Athletics\",\"Badminton\",\"Baseball\",\"Basketball\",\"Boxing\",\"Canoeing\",\"Cycling\",\"Diving\",\"Equestrianism\",\"Fencing\",\"Football\",\"Gymnastics\",\"Handball\",\"Hockey\",\"Judo\",\"Modern Pentathlon\",\"Rhythmic Gymnastics\",\"Rowing\",\"Sailing\",\"Shooting\",\"Swimming\",\"Synchronized Swimming\",\"Table Tennis\",\"Tennis\",\"Volleyball\",\"Water Polo\",\"Weightlifting\",\"Wrestling\",\"Archery\",\"Athletics\",\"Badminton\",\"Baseball\",\"Basketball\",\"Beach Volleyball\",\"Boxing\",\"Canoeing\",\"Cycling\",\"Diving\",\"Equestrianism\",\"Fencing\",\"Football\",\"Gymnastics\",\"Handball\",\"Hockey\",\"Judo\",\"Modern Pentathlon\",\"Rhythmic Gymnastics\",\"Rowing\",\"Sailing\",\"Shooting\",\"Softball\",\"Swimming\",\"Synchronized Swimming\",\"Table Tennis\",\"Tennis\",\"Volleyball\",\"Water Polo\",\"Weightlifting\",\"Wrestling\",\"Archery\",\"Athletics\",\"Badminton\",\"Baseball\",\"Basketball\",\"Beach Volleyball\",\"Boxing\",\"Canoeing\",\"Cycling\",\"Diving\",\"Equestrianism\",\"Fencing\",\"Football\",\"Gymnastics\",\"Handball\",\"Hockey\",\"Judo\",\"Modern Pentathlon\",\"Rhythmic Gymnastics\",\"Rowing\",\"Sailing\",\"Shooting\",\"Softball\",\"Swimming\",\"Synchronized Swimming\",\"Table Tennis\",\"Taekwondo\",\"Tennis\",\"Trampolining\",\"Triathlon\",\"Volleyball\",\"Water Polo\",\"Weightlifting\",\"Wrestling\",\"Archery\",\"Athletics\",\"Badminton\",\"Baseball\",\"Basketball\",\"Beach Volleyball\",\"Boxing\",\"Canoeing\",\"Cycling\",\"Diving\",\"Equestrianism\",\"Fencing\",\"Football\",\"Gymnastics\",\"Handball\",\"Hockey\",\"Judo\",\"Modern Pentathlon\",\"Rhythmic Gymnastics\",\"Rowing\",\"Sailing\",\"Shooting\",\"Softball\",\"Swimming\",\"Synchronized Swimming\",\"Table Tennis\",\"Taekwondo\",\"Tennis\",\"Trampolining\",\"Triathlon\",\"Volleyball\",\"Water Polo\",\"Weightlifting\",\"Wrestling\",\"Archery\",\"Athletics\",\"Badminton\",\"Baseball\",\"Basketball\",\"Beach Volleyball\",\"Boxing\",\"Canoeing\",\"Cycling\",\"Diving\",\"Equestrianism\",\"Fencing\",\"Football\",\"Gymnastics\",\"Handball\",\"Hockey\",\"Judo\",\"Modern Pentathlon\",\"Rhythmic Gymnastics\",\"Rowing\",\"Sailing\",\"Shooting\",\"Softball\",\"Swimming\",\"Synchronized Swimming\",\"Table Tennis\",\"Taekwondo\",\"Tennis\",\"Trampolining\",\"Triathlon\",\"Volleyball\",\"Water Polo\",\"Weightlifting\",\"Wrestling\",\"Archery\",\"Athletics\",\"Badminton\",\"Basketball\",\"Beach Volleyball\",\"Boxing\",\"Canoeing\",\"Cycling\",\"Diving\",\"Equestrianism\",\"Fencing\",\"Football\",\"Gymnastics\",\"Handball\",\"Hockey\",\"Judo\",\"Modern Pentathlon\",\"Rhythmic Gymnastics\",\"Rowing\",\"Sailing\",\"Shooting\",\"Swimming\",\"Synchronized Swimming\",\"Table Tennis\",\"Taekwondo\",\"Tennis\",\"Trampolining\",\"Triathlon\",\"Volleyball\",\"Water Polo\",\"Weightlifting\",\"Wrestling\",\"Archery\",\"Athletics\",\"Badminton\",\"Basketball\",\"Beach Volleyball\",\"Boxing\",\"Canoeing\",\"Cycling\",\"Diving\",\"Equestrianism\",\"Fencing\",\"Football\",\"Golf\",\"Gymnastics\",\"Handball\",\"Hockey\",\"Judo\",\"Modern Pentathlon\",\"Rhythmic Gymnastics\",\"Rowing\",\"Rugby Sevens\",\"Sailing\",\"Shooting\",\"Swimming\",\"Synchronized Swimming\",\"Table Tennis\",\"Taekwondo\",\"Tennis\",\"Trampolining\",\"Triathlon\",\"Volleyball\",\"Water Polo\",\"Weightlifting\",\"Wrestling\"],\"xaxis\":\"x\",\"y\":[106,41,15,97,65,18,23,10,5,32,234,2,24,19,92,79,317,35,22,135,21,133,47,280,221,131,47,12,53,70,201,24,61,5,28,36,105,458,36,4,46,64,57,30,21,7,48,470,138,24,161,45,156,200,320,78,48,32,22,39,77,778,42,269,47,240,23,72,349,68,11,24,17,12,12,87,30,64,444,150,84,40,28,133,33,962,242,86,128,379,163,310,32,197,109,794,201,173,16,45,170,86,11,849,116,212,70,132,350,31,190,263,51,60,23,17,144,31,101,838,209,153,40,101,53,161,318,1003,181,249,90,194,424,279,638,38,24,196,54,69,508,263,253,101,107,244,808,992,144,227,74,232,430,219,664,137,37,247,128,278,112,94,169,2,1124,522,85,109,36,65,192,147,40,25,166,57,44,195,41,29,90,1,2,813,1007,199,179,143,301,88,256,556,201,947,105,167,42,21,348,172,162,364,142,80,210,471,1051,287,205,139,320,84,207,508,218,1060,187,45,318,186,216,398,156,120,229,1344,294,249,184,389,97,263,509,294,2391,157,99,406,227,289,483,191,142,262,1013,169,161,146,292,82,298,278,143,913,173,76,258,154,219,356,96,105,195,1312,192,281,211,423,96,276,601,235,1746,236,111,431,290,389,630,150,172,337,1335,189,269,167,451,102,224,481,214,1484,226,72,70,378,225,312,736,179,137,149,302,1345,191,307,203,483,109,233,490,273,1496,253,93,358,252,410,1231,206,162,160,333,95,1686,190,354,359,526,124,326,499,269,1584,243,263,166,116,442,323,472,1263,231,176,188,409,64,1297,213,266,340,392,105,246,485,202,1204,243,172,154,89,598,257,369,1076,216,131,173,349,67,1268,215,271,253,307,88,122,321,256,866,248,187,193,79,488,156,267,761,204,132,172,270,109,1674,213,354,299,475,101,281,424,246,930,259,286,212,103,33,465,300,539,1232,86,208,153,186,286,257,2062,236,432,388,518,108,324,506,270,1217,281,314,243,122,39,624,375,545,1614,76,206,202,239,156,226,457,247,2054,226,160,236,336,587,566,112,404,458,272,1255,292,314,433,117,42,661,441,564,1615,89,248,250,231,152,244,371,218,2386,263,160,284,84,355,575,584,139,343,388,388,1397,300,320,387,32,90,621,458,612,120,1635,72,251,246,275,153,243,401,206,2468,225,192,286,96,307,448,621,238,295,349,391,1144,323,350,398,48,84,561,402,599,120,1741,117,268,102,248,24,100,279,231,246,314,212,2175,200,191,287,96,280,434,623,196,371,323,425,1151,328,352,384,64,84,559,401,558,118,1618,117,260,124,252,32,99,283,255,249,342,194,2244,184,191,287,96,283,436,652,182,340,332,469,996,343,387,386,72,95,563,400,577,120,1749,117,250,126,254,32,110,283,256,253,343,200,2278,182,287,96,283,418,629,181,350,345,467,848,347,387,384,72,95,550,379,560,1538,117,236,128,286,32,110,287,257,252,339,200,2508,177,281,96,283,441,667,178,355,346,473,120,861,353,390,389,72,96,550,299,380,555,1568,118,236,126,286,32,110,283,258,255,346],\"yaxis\":\"y\",\"type\":\"scatter\"},{\"hovertemplate\":\"Season=Winter<br>Sport=%{x}<br>Athlets=%{y}<extra></extra>\",\"legendgroup\":\"Winter\",\"marker\":{\"color\":\"#EF553B\",\"symbol\":\"diamond\"},\"mode\":\"markers\",\"name\":\"Winter\",\"orientation\":\"v\",\"showlegend\":true,\"x\":[\"Alpinism\",\"Bobsleigh\",\"Cross Country Skiing\",\"Curling\",\"Figure Skating\",\"Ice Hockey\",\"Military Ski Patrol\",\"Nordic Combined\",\"Ski Jumping\",\"Speed Skating\",\"Bobsleigh\",\"Cross Country Skiing\",\"Figure Skating\",\"Ice Hockey\",\"Nordic Combined\",\"Skeleton\",\"Ski Jumping\",\"Speed Skating\",\"Bobsleigh\",\"Cross Country Skiing\",\"Figure Skating\",\"Ice Hockey\",\"Nordic Combined\",\"Ski Jumping\",\"Speed Skating\",\"Alpine Skiing\",\"Bobsleigh\",\"Cross Country Skiing\",\"Figure Skating\",\"Ice Hockey\",\"Nordic Combined\",\"Ski Jumping\",\"Speed Skating\",\"Alpine Skiing\",\"Bobsleigh\",\"Cross Country Skiing\",\"Figure Skating\",\"Ice Hockey\",\"Nordic Combined\",\"Skeleton\",\"Ski Jumping\",\"Speed Skating\",\"Alpine Skiing\",\"Bobsleigh\",\"Cross Country Skiing\",\"Figure Skating\",\"Ice Hockey\",\"Nordic Combined\",\"Ski Jumping\",\"Speed Skating\",\"Alpine Skiing\",\"Bobsleigh\",\"Cross Country Skiing\",\"Figure Skating\",\"Ice Hockey\",\"Nordic Combined\",\"Ski Jumping\",\"Speed Skating\",\"Alpine Skiing\",\"Biathlon\",\"Cross Country Skiing\",\"Figure Skating\",\"Ice Hockey\",\"Nordic Combined\",\"Ski Jumping\",\"Speed Skating\",\"Alpine Skiing\",\"Biathlon\",\"Bobsleigh\",\"Cross Country Skiing\",\"Figure Skating\",\"Ice Hockey\",\"Luge\",\"Nordic Combined\",\"Ski Jumping\",\"Speed Skating\",\"Alpine Skiing\",\"Biathlon\",\"Bobsleigh\",\"Cross Country Skiing\",\"Figure Skating\",\"Ice Hockey\",\"Luge\",\"Nordic Combined\",\"Ski Jumping\",\"Speed Skating\",\"Alpine Skiing\",\"Biathlon\",\"Bobsleigh\",\"Cross Country Skiing\",\"Figure Skating\",\"Ice Hockey\",\"Luge\",\"Nordic Combined\",\"Ski Jumping\",\"Speed Skating\",\"Alpine Skiing\",\"Biathlon\",\"Bobsleigh\",\"Cross Country Skiing\",\"Figure Skating\",\"Ice Hockey\",\"Luge\",\"Nordic Combined\",\"Ski Jumping\",\"Speed Skating\",\"Alpine Skiing\",\"Biathlon\",\"Bobsleigh\",\"Cross Country Skiing\",\"Figure Skating\",\"Ice Hockey\",\"Luge\",\"Nordic Combined\",\"Ski Jumping\",\"Speed Skating\",\"Alpine Skiing\",\"Biathlon\",\"Bobsleigh\",\"Cross Country Skiing\",\"Figure Skating\",\"Ice Hockey\",\"Luge\",\"Nordic Combined\",\"Ski Jumping\",\"Speed Skating\",\"Alpine Skiing\",\"Biathlon\",\"Bobsleigh\",\"Cross Country Skiing\",\"Figure Skating\",\"Ice Hockey\",\"Luge\",\"Nordic Combined\",\"Ski Jumping\",\"Speed Skating\",\"Alpine Skiing\",\"Biathlon\",\"Bobsleigh\",\"Cross Country Skiing\",\"Figure Skating\",\"Freestyle Skiing\",\"Ice Hockey\",\"Luge\",\"Nordic Combined\",\"Short Track Speed Skating\",\"Ski Jumping\",\"Speed Skating\",\"Alpine Skiing\",\"Biathlon\",\"Bobsleigh\",\"Cross Country Skiing\",\"Figure Skating\",\"Freestyle Skiing\",\"Ice Hockey\",\"Luge\",\"Nordic Combined\",\"Short Track Speed Skating\",\"Ski Jumping\",\"Speed Skating\",\"Alpine Skiing\",\"Biathlon\",\"Bobsleigh\",\"Cross Country Skiing\",\"Curling\",\"Figure Skating\",\"Freestyle Skiing\",\"Ice Hockey\",\"Luge\",\"Nordic Combined\",\"Short Track Speed Skating\",\"Ski Jumping\",\"Snowboarding\",\"Speed Skating\",\"Alpine Skiing\",\"Biathlon\",\"Bobsleigh\",\"Cross Country Skiing\",\"Curling\",\"Figure Skating\",\"Freestyle Skiing\",\"Ice Hockey\",\"Luge\",\"Nordic Combined\",\"Short Track Speed Skating\",\"Skeleton\",\"Ski Jumping\",\"Snowboarding\",\"Speed Skating\",\"Alpine Skiing\",\"Biathlon\",\"Bobsleigh\",\"Cross Country Skiing\",\"Curling\",\"Figure Skating\",\"Freestyle Skiing\",\"Ice Hockey\",\"Luge\",\"Nordic Combined\",\"Short Track Speed Skating\",\"Skeleton\",\"Ski Jumping\",\"Snowboarding\",\"Speed Skating\",\"Alpine Skiing\",\"Biathlon\",\"Bobsleigh\",\"Cross Country Skiing\",\"Curling\",\"Figure Skating\",\"Freestyle Skiing\",\"Ice Hockey\",\"Luge\",\"Nordic Combined\",\"Short Track Speed Skating\",\"Skeleton\",\"Ski Jumping\",\"Snowboarding\",\"Speed Skating\",\"Alpine Skiing\",\"Biathlon\",\"Bobsleigh\",\"Cross Country Skiing\",\"Curling\",\"Figure Skating\",\"Freestyle Skiing\",\"Ice Hockey\",\"Luge\",\"Nordic Combined\",\"Short Track Speed Skating\",\"Skeleton\",\"Ski Jumping\",\"Snowboarding\",\"Speed Skating\"],\"xaxis\":\"x\",\"y\":[21,39,74,16,37,82,24,30,27,110,116,90,63,124,35,10,38,106,52,74,41,48,33,34,70,103,118,175,87,173,51,48,140,360,92,156,71,139,39,15,49,154,378,96,188,65,147,25,44,145,403,135,275,59,169,36,51,179,320,30,216,71,152,33,45,249,411,51,117,332,88,270,85,32,105,287,422,116,120,344,96,250,106,41,116,280,325,106,114,335,68,208,107,40,108,244,390,112,133,395,105,217,119,34,109,247,327,159,108,309,85,239,94,31,98,296,401,195,152,477,114,239,89,28,111,328,668,207,186,528,129,265,98,75,157,326,750,457,216,717,133,71,267,98,78,124,171,354,544,416,207,639,130,99,268,98,89,188,164,318,477,413,204,733,80,145,110,426,97,92,190,176,127,335,559,564,240,774,96,143,105,468,117,125,251,39,178,118,332,619,658,191,812,91,147,116,442,108,138,239,42,202,198,379,685,683,199,725,93,146,172,420,107,131,273,47,170,185,366,687,726,223,765,87,221,264,443,156,128,269,46,200,308,368],\"yaxis\":\"y\",\"type\":\"scatter\"}],                        {\"template\":{\"data\":{\"histogram2dcontour\":[{\"type\":\"histogram2dcontour\",\"colorbar\":{\"outlinewidth\":0,\"ticks\":\"\"},\"colorscale\":[[0.0,\"#0d0887\"],[0.1111111111111111,\"#46039f\"],[0.2222222222222222,\"#7201a8\"],[0.3333333333333333,\"#9c179e\"],[0.4444444444444444,\"#bd3786\"],[0.5555555555555556,\"#d8576b\"],[0.6666666666666666,\"#ed7953\"],[0.7777777777777778,\"#fb9f3a\"],[0.8888888888888888,\"#fdca26\"],[1.0,\"#f0f921\"]]}],\"choropleth\":[{\"type\":\"choropleth\",\"colorbar\":{\"outlinewidth\":0,\"ticks\":\"\"}}],\"histogram2d\":[{\"type\":\"histogram2d\",\"colorbar\":{\"outlinewidth\":0,\"ticks\":\"\"},\"colorscale\":[[0.0,\"#0d0887\"],[0.1111111111111111,\"#46039f\"],[0.2222222222222222,\"#7201a8\"],[0.3333333333333333,\"#9c179e\"],[0.4444444444444444,\"#bd3786\"],[0.5555555555555556,\"#d8576b\"],[0.6666666666666666,\"#ed7953\"],[0.7777777777777778,\"#fb9f3a\"],[0.8888888888888888,\"#fdca26\"],[1.0,\"#f0f921\"]]}],\"heatmap\":[{\"type\":\"heatmap\",\"colorbar\":{\"outlinewidth\":0,\"ticks\":\"\"},\"colorscale\":[[0.0,\"#0d0887\"],[0.1111111111111111,\"#46039f\"],[0.2222222222222222,\"#7201a8\"],[0.3333333333333333,\"#9c179e\"],[0.4444444444444444,\"#bd3786\"],[0.5555555555555556,\"#d8576b\"],[0.6666666666666666,\"#ed7953\"],[0.7777777777777778,\"#fb9f3a\"],[0.8888888888888888,\"#fdca26\"],[1.0,\"#f0f921\"]]}],\"heatmapgl\":[{\"type\":\"heatmapgl\",\"colorbar\":{\"outlinewidth\":0,\"ticks\":\"\"},\"colorscale\":[[0.0,\"#0d0887\"],[0.1111111111111111,\"#46039f\"],[0.2222222222222222,\"#7201a8\"],[0.3333333333333333,\"#9c179e\"],[0.4444444444444444,\"#bd3786\"],[0.5555555555555556,\"#d8576b\"],[0.6666666666666666,\"#ed7953\"],[0.7777777777777778,\"#fb9f3a\"],[0.8888888888888888,\"#fdca26\"],[1.0,\"#f0f921\"]]}],\"contourcarpet\":[{\"type\":\"contourcarpet\",\"colorbar\":{\"outlinewidth\":0,\"ticks\":\"\"}}],\"contour\":[{\"type\":\"contour\",\"colorbar\":{\"outlinewidth\":0,\"ticks\":\"\"},\"colorscale\":[[0.0,\"#0d0887\"],[0.1111111111111111,\"#46039f\"],[0.2222222222222222,\"#7201a8\"],[0.3333333333333333,\"#9c179e\"],[0.4444444444444444,\"#bd3786\"],[0.5555555555555556,\"#d8576b\"],[0.6666666666666666,\"#ed7953\"],[0.7777777777777778,\"#fb9f3a\"],[0.8888888888888888,\"#fdca26\"],[1.0,\"#f0f921\"]]}],\"surface\":[{\"type\":\"surface\",\"colorbar\":{\"outlinewidth\":0,\"ticks\":\"\"},\"colorscale\":[[0.0,\"#0d0887\"],[0.1111111111111111,\"#46039f\"],[0.2222222222222222,\"#7201a8\"],[0.3333333333333333,\"#9c179e\"],[0.4444444444444444,\"#bd3786\"],[0.5555555555555556,\"#d8576b\"],[0.6666666666666666,\"#ed7953\"],[0.7777777777777778,\"#fb9f3a\"],[0.8888888888888888,\"#fdca26\"],[1.0,\"#f0f921\"]]}],\"mesh3d\":[{\"type\":\"mesh3d\",\"colorbar\":{\"outlinewidth\":0,\"ticks\":\"\"}}],\"scatter\":[{\"fillpattern\":{\"fillmode\":\"overlay\",\"size\":10,\"solidity\":0.2},\"type\":\"scatter\"}],\"parcoords\":[{\"type\":\"parcoords\",\"line\":{\"colorbar\":{\"outlinewidth\":0,\"ticks\":\"\"}}}],\"scatterpolargl\":[{\"type\":\"scatterpolargl\",\"marker\":{\"colorbar\":{\"outlinewidth\":0,\"ticks\":\"\"}}}],\"bar\":[{\"error_x\":{\"color\":\"#2a3f5f\"},\"error_y\":{\"color\":\"#2a3f5f\"},\"marker\":{\"line\":{\"color\":\"#E5ECF6\",\"width\":0.5},\"pattern\":{\"fillmode\":\"overlay\",\"size\":10,\"solidity\":0.2}},\"type\":\"bar\"}],\"scattergeo\":[{\"type\":\"scattergeo\",\"marker\":{\"colorbar\":{\"outlinewidth\":0,\"ticks\":\"\"}}}],\"scatterpolar\":[{\"type\":\"scatterpolar\",\"marker\":{\"colorbar\":{\"outlinewidth\":0,\"ticks\":\"\"}}}],\"histogram\":[{\"marker\":{\"pattern\":{\"fillmode\":\"overlay\",\"size\":10,\"solidity\":0.2}},\"type\":\"histogram\"}],\"scattergl\":[{\"type\":\"scattergl\",\"marker\":{\"colorbar\":{\"outlinewidth\":0,\"ticks\":\"\"}}}],\"scatter3d\":[{\"type\":\"scatter3d\",\"line\":{\"colorbar\":{\"outlinewidth\":0,\"ticks\":\"\"}},\"marker\":{\"colorbar\":{\"outlinewidth\":0,\"ticks\":\"\"}}}],\"scattermapbox\":[{\"type\":\"scattermapbox\",\"marker\":{\"colorbar\":{\"outlinewidth\":0,\"ticks\":\"\"}}}],\"scatterternary\":[{\"type\":\"scatterternary\",\"marker\":{\"colorbar\":{\"outlinewidth\":0,\"ticks\":\"\"}}}],\"scattercarpet\":[{\"type\":\"scattercarpet\",\"marker\":{\"colorbar\":{\"outlinewidth\":0,\"ticks\":\"\"}}}],\"carpet\":[{\"aaxis\":{\"endlinecolor\":\"#2a3f5f\",\"gridcolor\":\"white\",\"linecolor\":\"white\",\"minorgridcolor\":\"white\",\"startlinecolor\":\"#2a3f5f\"},\"baxis\":{\"endlinecolor\":\"#2a3f5f\",\"gridcolor\":\"white\",\"linecolor\":\"white\",\"minorgridcolor\":\"white\",\"startlinecolor\":\"#2a3f5f\"},\"type\":\"carpet\"}],\"table\":[{\"cells\":{\"fill\":{\"color\":\"#EBF0F8\"},\"line\":{\"color\":\"white\"}},\"header\":{\"fill\":{\"color\":\"#C8D4E3\"},\"line\":{\"color\":\"white\"}},\"type\":\"table\"}],\"barpolar\":[{\"marker\":{\"line\":{\"color\":\"#E5ECF6\",\"width\":0.5},\"pattern\":{\"fillmode\":\"overlay\",\"size\":10,\"solidity\":0.2}},\"type\":\"barpolar\"}],\"pie\":[{\"automargin\":true,\"type\":\"pie\"}]},\"layout\":{\"autotypenumbers\":\"strict\",\"colorway\":[\"#636efa\",\"#EF553B\",\"#00cc96\",\"#ab63fa\",\"#FFA15A\",\"#19d3f3\",\"#FF6692\",\"#B6E880\",\"#FF97FF\",\"#FECB52\"],\"font\":{\"color\":\"#2a3f5f\"},\"hovermode\":\"closest\",\"hoverlabel\":{\"align\":\"left\"},\"paper_bgcolor\":\"white\",\"plot_bgcolor\":\"#E5ECF6\",\"polar\":{\"bgcolor\":\"#E5ECF6\",\"angularaxis\":{\"gridcolor\":\"white\",\"linecolor\":\"white\",\"ticks\":\"\"},\"radialaxis\":{\"gridcolor\":\"white\",\"linecolor\":\"white\",\"ticks\":\"\"}},\"ternary\":{\"bgcolor\":\"#E5ECF6\",\"aaxis\":{\"gridcolor\":\"white\",\"linecolor\":\"white\",\"ticks\":\"\"},\"baxis\":{\"gridcolor\":\"white\",\"linecolor\":\"white\",\"ticks\":\"\"},\"caxis\":{\"gridcolor\":\"white\",\"linecolor\":\"white\",\"ticks\":\"\"}},\"coloraxis\":{\"colorbar\":{\"outlinewidth\":0,\"ticks\":\"\"}},\"colorscale\":{\"sequential\":[[0.0,\"#0d0887\"],[0.1111111111111111,\"#46039f\"],[0.2222222222222222,\"#7201a8\"],[0.3333333333333333,\"#9c179e\"],[0.4444444444444444,\"#bd3786\"],[0.5555555555555556,\"#d8576b\"],[0.6666666666666666,\"#ed7953\"],[0.7777777777777778,\"#fb9f3a\"],[0.8888888888888888,\"#fdca26\"],[1.0,\"#f0f921\"]],\"sequentialminus\":[[0.0,\"#0d0887\"],[0.1111111111111111,\"#46039f\"],[0.2222222222222222,\"#7201a8\"],[0.3333333333333333,\"#9c179e\"],[0.4444444444444444,\"#bd3786\"],[0.5555555555555556,\"#d8576b\"],[0.6666666666666666,\"#ed7953\"],[0.7777777777777778,\"#fb9f3a\"],[0.8888888888888888,\"#fdca26\"],[1.0,\"#f0f921\"]],\"diverging\":[[0,\"#8e0152\"],[0.1,\"#c51b7d\"],[0.2,\"#de77ae\"],[0.3,\"#f1b6da\"],[0.4,\"#fde0ef\"],[0.5,\"#f7f7f7\"],[0.6,\"#e6f5d0\"],[0.7,\"#b8e186\"],[0.8,\"#7fbc41\"],[0.9,\"#4d9221\"],[1,\"#276419\"]]},\"xaxis\":{\"gridcolor\":\"white\",\"linecolor\":\"white\",\"ticks\":\"\",\"title\":{\"standoff\":15},\"zerolinecolor\":\"white\",\"automargin\":true,\"zerolinewidth\":2},\"yaxis\":{\"gridcolor\":\"white\",\"linecolor\":\"white\",\"ticks\":\"\",\"title\":{\"standoff\":15},\"zerolinecolor\":\"white\",\"automargin\":true,\"zerolinewidth\":2},\"scene\":{\"xaxis\":{\"backgroundcolor\":\"#E5ECF6\",\"gridcolor\":\"white\",\"linecolor\":\"white\",\"showbackground\":true,\"ticks\":\"\",\"zerolinecolor\":\"white\",\"gridwidth\":2},\"yaxis\":{\"backgroundcolor\":\"#E5ECF6\",\"gridcolor\":\"white\",\"linecolor\":\"white\",\"showbackground\":true,\"ticks\":\"\",\"zerolinecolor\":\"white\",\"gridwidth\":2},\"zaxis\":{\"backgroundcolor\":\"#E5ECF6\",\"gridcolor\":\"white\",\"linecolor\":\"white\",\"showbackground\":true,\"ticks\":\"\",\"zerolinecolor\":\"white\",\"gridwidth\":2}},\"shapedefaults\":{\"line\":{\"color\":\"#2a3f5f\"}},\"annotationdefaults\":{\"arrowcolor\":\"#2a3f5f\",\"arrowhead\":0,\"arrowwidth\":1},\"geo\":{\"bgcolor\":\"white\",\"landcolor\":\"#E5ECF6\",\"subunitcolor\":\"white\",\"showland\":true,\"showlakes\":true,\"lakecolor\":\"white\"},\"title\":{\"x\":0.05},\"mapbox\":{\"style\":\"light\"}}},\"xaxis\":{\"anchor\":\"y\",\"domain\":[0.0,1.0],\"title\":{\"text\":\"Sport\"}},\"yaxis\":{\"anchor\":\"x\",\"domain\":[0.0,1.0],\"title\":{\"text\":\"Athlets\"}},\"legend\":{\"title\":{\"text\":\"Season\"},\"tracegroupgap\":0},\"margin\":{\"t\":60}},                        {\"responsive\": true}                    ).then(function(){\n",
       "                            \n",
       "var gd = document.getElementById('53d51c04-2ffd-440f-8606-58085e0db50e');\n",
       "var x = new MutationObserver(function (mutations, observer) {{\n",
       "        var display = window.getComputedStyle(gd).display;\n",
       "        if (!display || display === 'none') {{\n",
       "            console.log([gd, 'removed!']);\n",
       "            Plotly.purge(gd);\n",
       "            observer.disconnect();\n",
       "        }}\n",
       "}});\n",
       "\n",
       "// Listen for the removal of the full notebook cells\n",
       "var notebookContainer = gd.closest('#notebook-container');\n",
       "if (notebookContainer) {{\n",
       "    x.observe(notebookContainer, {childList: true});\n",
       "}}\n",
       "\n",
       "// Listen for the clearing of the current output cell\n",
       "var outputEl = gd.closest('.output');\n",
       "if (outputEl) {{\n",
       "    x.observe(outputEl, {childList: true});\n",
       "}}\n",
       "\n",
       "                        })                };                });            </script>        </div>"
      ]
     },
     "metadata": {},
     "output_type": "display_data"
    }
   ],
   "source": [
    "import plotly.express as px\n",
    "\n",
    "fig = px.scatter(participants, x=\"Sport\", y=\"Athlets\", color=\"Season\", symbol=\"Season\")\n",
    "fig.show()"
   ]
  },
  {
   "cell_type": "code",
   "execution_count": 31,
   "id": "ccca2056",
   "metadata": {
    "execution": {
     "iopub.execute_input": "2022-07-26T22:53:56.849050Z",
     "iopub.status.busy": "2022-07-26T22:53:56.848648Z",
     "iopub.status.idle": "2022-07-26T22:53:56.920688Z",
     "shell.execute_reply": "2022-07-26T22:53:56.919535Z"
    },
    "papermill": {
     "duration": 0.158105,
     "end_time": "2022-07-26T22:53:56.922774",
     "exception": false,
     "start_time": "2022-07-26T22:53:56.764669",
     "status": "completed"
    },
    "tags": []
   },
   "outputs": [
    {
     "data": {
      "text/html": [
       "<div>\n",
       "<style scoped>\n",
       "    .dataframe tbody tr th:only-of-type {\n",
       "        vertical-align: middle;\n",
       "    }\n",
       "\n",
       "    .dataframe tbody tr th {\n",
       "        vertical-align: top;\n",
       "    }\n",
       "\n",
       "    .dataframe thead th {\n",
       "        text-align: right;\n",
       "    }\n",
       "</style>\n",
       "<table border=\"1\" class=\"dataframe\">\n",
       "  <thead>\n",
       "    <tr style=\"text-align: right;\">\n",
       "      <th></th>\n",
       "      <th>Games</th>\n",
       "      <th>Athlets</th>\n",
       "    </tr>\n",
       "  </thead>\n",
       "  <tbody>\n",
       "    <tr>\n",
       "      <th>0</th>\n",
       "      <td>1896 Summer</td>\n",
       "      <td>380</td>\n",
       "    </tr>\n",
       "    <tr>\n",
       "      <th>1</th>\n",
       "      <td>1900 Summer</td>\n",
       "      <td>1936</td>\n",
       "    </tr>\n",
       "    <tr>\n",
       "      <th>2</th>\n",
       "      <td>1904 Summer</td>\n",
       "      <td>1301</td>\n",
       "    </tr>\n",
       "    <tr>\n",
       "      <th>3</th>\n",
       "      <td>1906 Summer</td>\n",
       "      <td>1733</td>\n",
       "    </tr>\n",
       "    <tr>\n",
       "      <th>4</th>\n",
       "      <td>1908 Summer</td>\n",
       "      <td>3101</td>\n",
       "    </tr>\n",
       "    <tr>\n",
       "      <th>5</th>\n",
       "      <td>1912 Summer</td>\n",
       "      <td>4040</td>\n",
       "    </tr>\n",
       "    <tr>\n",
       "      <th>6</th>\n",
       "      <td>1920 Summer</td>\n",
       "      <td>4292</td>\n",
       "    </tr>\n",
       "    <tr>\n",
       "      <th>7</th>\n",
       "      <td>1924 Summer</td>\n",
       "      <td>5233</td>\n",
       "    </tr>\n",
       "    <tr>\n",
       "      <th>8</th>\n",
       "      <td>1924 Winter</td>\n",
       "      <td>460</td>\n",
       "    </tr>\n",
       "    <tr>\n",
       "      <th>9</th>\n",
       "      <td>1928 Summer</td>\n",
       "      <td>4992</td>\n",
       "    </tr>\n",
       "    <tr>\n",
       "      <th>10</th>\n",
       "      <td>1928 Winter</td>\n",
       "      <td>582</td>\n",
       "    </tr>\n",
       "    <tr>\n",
       "      <th>11</th>\n",
       "      <td>1932 Summer</td>\n",
       "      <td>2969</td>\n",
       "    </tr>\n",
       "    <tr>\n",
       "      <th>12</th>\n",
       "      <td>1932 Winter</td>\n",
       "      <td>352</td>\n",
       "    </tr>\n",
       "    <tr>\n",
       "      <th>13</th>\n",
       "      <td>1936 Summer</td>\n",
       "      <td>6506</td>\n",
       "    </tr>\n",
       "    <tr>\n",
       "      <th>14</th>\n",
       "      <td>1936 Winter</td>\n",
       "      <td>895</td>\n",
       "    </tr>\n",
       "    <tr>\n",
       "      <th>15</th>\n",
       "      <td>1948 Summer</td>\n",
       "      <td>6405</td>\n",
       "    </tr>\n",
       "    <tr>\n",
       "      <th>16</th>\n",
       "      <td>1948 Winter</td>\n",
       "      <td>1075</td>\n",
       "    </tr>\n",
       "    <tr>\n",
       "      <th>17</th>\n",
       "      <td>1952 Summer</td>\n",
       "      <td>8270</td>\n",
       "    </tr>\n",
       "    <tr>\n",
       "      <th>18</th>\n",
       "      <td>1952 Winter</td>\n",
       "      <td>1088</td>\n",
       "    </tr>\n",
       "    <tr>\n",
       "      <th>19</th>\n",
       "      <td>1956 Summer</td>\n",
       "      <td>5127</td>\n",
       "    </tr>\n",
       "    <tr>\n",
       "      <th>20</th>\n",
       "      <td>1956 Winter</td>\n",
       "      <td>1307</td>\n",
       "    </tr>\n",
       "    <tr>\n",
       "      <th>21</th>\n",
       "      <td>1960 Summer</td>\n",
       "      <td>8119</td>\n",
       "    </tr>\n",
       "    <tr>\n",
       "      <th>22</th>\n",
       "      <td>1960 Winter</td>\n",
       "      <td>1116</td>\n",
       "    </tr>\n",
       "    <tr>\n",
       "      <th>23</th>\n",
       "      <td>1964 Summer</td>\n",
       "      <td>7702</td>\n",
       "    </tr>\n",
       "    <tr>\n",
       "      <th>24</th>\n",
       "      <td>1964 Winter</td>\n",
       "      <td>1778</td>\n",
       "    </tr>\n",
       "    <tr>\n",
       "      <th>25</th>\n",
       "      <td>1968 Summer</td>\n",
       "      <td>8588</td>\n",
       "    </tr>\n",
       "    <tr>\n",
       "      <th>26</th>\n",
       "      <td>1968 Winter</td>\n",
       "      <td>1891</td>\n",
       "    </tr>\n",
       "    <tr>\n",
       "      <th>27</th>\n",
       "      <td>1972 Summer</td>\n",
       "      <td>10304</td>\n",
       "    </tr>\n",
       "    <tr>\n",
       "      <th>28</th>\n",
       "      <td>1972 Winter</td>\n",
       "      <td>1655</td>\n",
       "    </tr>\n",
       "    <tr>\n",
       "      <th>29</th>\n",
       "      <td>1976 Summer</td>\n",
       "      <td>8641</td>\n",
       "    </tr>\n",
       "    <tr>\n",
       "      <th>30</th>\n",
       "      <td>1976 Winter</td>\n",
       "      <td>1861</td>\n",
       "    </tr>\n",
       "    <tr>\n",
       "      <th>31</th>\n",
       "      <td>1980 Summer</td>\n",
       "      <td>7191</td>\n",
       "    </tr>\n",
       "    <tr>\n",
       "      <th>32</th>\n",
       "      <td>1980 Winter</td>\n",
       "      <td>1746</td>\n",
       "    </tr>\n",
       "    <tr>\n",
       "      <th>33</th>\n",
       "      <td>1984 Summer</td>\n",
       "      <td>9454</td>\n",
       "    </tr>\n",
       "    <tr>\n",
       "      <th>34</th>\n",
       "      <td>1984 Winter</td>\n",
       "      <td>2134</td>\n",
       "    </tr>\n",
       "    <tr>\n",
       "      <th>35</th>\n",
       "      <td>1988 Summer</td>\n",
       "      <td>12037</td>\n",
       "    </tr>\n",
       "    <tr>\n",
       "      <th>36</th>\n",
       "      <td>1988 Winter</td>\n",
       "      <td>2639</td>\n",
       "    </tr>\n",
       "    <tr>\n",
       "      <th>37</th>\n",
       "      <td>1992 Summer</td>\n",
       "      <td>12977</td>\n",
       "    </tr>\n",
       "    <tr>\n",
       "      <th>38</th>\n",
       "      <td>1992 Winter</td>\n",
       "      <td>3436</td>\n",
       "    </tr>\n",
       "    <tr>\n",
       "      <th>39</th>\n",
       "      <td>1994 Winter</td>\n",
       "      <td>3160</td>\n",
       "    </tr>\n",
       "    <tr>\n",
       "      <th>40</th>\n",
       "      <td>1996 Summer</td>\n",
       "      <td>13780</td>\n",
       "    </tr>\n",
       "    <tr>\n",
       "      <th>41</th>\n",
       "      <td>1998 Winter</td>\n",
       "      <td>3605</td>\n",
       "    </tr>\n",
       "    <tr>\n",
       "      <th>42</th>\n",
       "      <td>2000 Summer</td>\n",
       "      <td>13821</td>\n",
       "    </tr>\n",
       "    <tr>\n",
       "      <th>43</th>\n",
       "      <td>2002 Winter</td>\n",
       "      <td>4109</td>\n",
       "    </tr>\n",
       "    <tr>\n",
       "      <th>44</th>\n",
       "      <td>2004 Summer</td>\n",
       "      <td>13443</td>\n",
       "    </tr>\n",
       "    <tr>\n",
       "      <th>45</th>\n",
       "      <td>2006 Winter</td>\n",
       "      <td>4382</td>\n",
       "    </tr>\n",
       "    <tr>\n",
       "      <th>46</th>\n",
       "      <td>2008 Summer</td>\n",
       "      <td>13602</td>\n",
       "    </tr>\n",
       "    <tr>\n",
       "      <th>47</th>\n",
       "      <td>2010 Winter</td>\n",
       "      <td>4402</td>\n",
       "    </tr>\n",
       "    <tr>\n",
       "      <th>48</th>\n",
       "      <td>2012 Summer</td>\n",
       "      <td>12920</td>\n",
       "    </tr>\n",
       "    <tr>\n",
       "      <th>49</th>\n",
       "      <td>2014 Winter</td>\n",
       "      <td>4891</td>\n",
       "    </tr>\n",
       "    <tr>\n",
       "      <th>50</th>\n",
       "      <td>2016 Summer</td>\n",
       "      <td>13688</td>\n",
       "    </tr>\n",
       "  </tbody>\n",
       "</table>\n",
       "</div>"
      ],
      "text/plain": [
       "          Games  Athlets\n",
       "0   1896 Summer      380\n",
       "1   1900 Summer     1936\n",
       "2   1904 Summer     1301\n",
       "3   1906 Summer     1733\n",
       "4   1908 Summer     3101\n",
       "5   1912 Summer     4040\n",
       "6   1920 Summer     4292\n",
       "7   1924 Summer     5233\n",
       "8   1924 Winter      460\n",
       "9   1928 Summer     4992\n",
       "10  1928 Winter      582\n",
       "11  1932 Summer     2969\n",
       "12  1932 Winter      352\n",
       "13  1936 Summer     6506\n",
       "14  1936 Winter      895\n",
       "15  1948 Summer     6405\n",
       "16  1948 Winter     1075\n",
       "17  1952 Summer     8270\n",
       "18  1952 Winter     1088\n",
       "19  1956 Summer     5127\n",
       "20  1956 Winter     1307\n",
       "21  1960 Summer     8119\n",
       "22  1960 Winter     1116\n",
       "23  1964 Summer     7702\n",
       "24  1964 Winter     1778\n",
       "25  1968 Summer     8588\n",
       "26  1968 Winter     1891\n",
       "27  1972 Summer    10304\n",
       "28  1972 Winter     1655\n",
       "29  1976 Summer     8641\n",
       "30  1976 Winter     1861\n",
       "31  1980 Summer     7191\n",
       "32  1980 Winter     1746\n",
       "33  1984 Summer     9454\n",
       "34  1984 Winter     2134\n",
       "35  1988 Summer    12037\n",
       "36  1988 Winter     2639\n",
       "37  1992 Summer    12977\n",
       "38  1992 Winter     3436\n",
       "39  1994 Winter     3160\n",
       "40  1996 Summer    13780\n",
       "41  1998 Winter     3605\n",
       "42  2000 Summer    13821\n",
       "43  2002 Winter     4109\n",
       "44  2004 Summer    13443\n",
       "45  2006 Winter     4382\n",
       "46  2008 Summer    13602\n",
       "47  2010 Winter     4402\n",
       "48  2012 Summer    12920\n",
       "49  2014 Winter     4891\n",
       "50  2016 Summer    13688"
      ]
     },
     "execution_count": 31,
     "metadata": {},
     "output_type": "execute_result"
    }
   ],
   "source": [
    "#9.\n",
    "participants=df.groupby(['Games'])['Name'].count().reset_index()\n",
    "participants.rename(columns={'Name':'Athlets'},inplace=True)\n",
    "participants"
   ]
  },
  {
   "cell_type": "code",
   "execution_count": 32,
   "id": "848a2a51",
   "metadata": {
    "execution": {
     "iopub.execute_input": "2022-07-26T22:53:57.067770Z",
     "iopub.status.busy": "2022-07-26T22:53:57.067371Z",
     "iopub.status.idle": "2022-07-26T22:53:57.136106Z",
     "shell.execute_reply": "2022-07-26T22:53:57.135030Z"
    },
    "papermill": {
     "duration": 0.144172,
     "end_time": "2022-07-26T22:53:57.138672",
     "exception": false,
     "start_time": "2022-07-26T22:53:56.994500",
     "status": "completed"
    },
    "tags": []
   },
   "outputs": [
    {
     "data": {
      "text/html": [
       "<div>\n",
       "<style scoped>\n",
       "    .dataframe tbody tr th:only-of-type {\n",
       "        vertical-align: middle;\n",
       "    }\n",
       "\n",
       "    .dataframe tbody tr th {\n",
       "        vertical-align: top;\n",
       "    }\n",
       "\n",
       "    .dataframe thead th {\n",
       "        text-align: right;\n",
       "    }\n",
       "</style>\n",
       "<table border=\"1\" class=\"dataframe\">\n",
       "  <thead>\n",
       "    <tr style=\"text-align: right;\">\n",
       "      <th></th>\n",
       "      <th>Sport</th>\n",
       "      <th>Athlets</th>\n",
       "    </tr>\n",
       "  </thead>\n",
       "  <tbody>\n",
       "    <tr>\n",
       "      <th>0</th>\n",
       "      <td>Aeronautics</td>\n",
       "      <td>1</td>\n",
       "    </tr>\n",
       "    <tr>\n",
       "      <th>1</th>\n",
       "      <td>Alpine Skiing</td>\n",
       "      <td>8829</td>\n",
       "    </tr>\n",
       "    <tr>\n",
       "      <th>2</th>\n",
       "      <td>Alpinism</td>\n",
       "      <td>25</td>\n",
       "    </tr>\n",
       "    <tr>\n",
       "      <th>3</th>\n",
       "      <td>Archery</td>\n",
       "      <td>2334</td>\n",
       "    </tr>\n",
       "    <tr>\n",
       "      <th>4</th>\n",
       "      <td>Art Competitions</td>\n",
       "      <td>3578</td>\n",
       "    </tr>\n",
       "    <tr>\n",
       "      <th>...</th>\n",
       "      <td>...</td>\n",
       "      <td>...</td>\n",
       "    </tr>\n",
       "    <tr>\n",
       "      <th>61</th>\n",
       "      <td>Tug-Of-War</td>\n",
       "      <td>170</td>\n",
       "    </tr>\n",
       "    <tr>\n",
       "      <th>62</th>\n",
       "      <td>Volleyball</td>\n",
       "      <td>3404</td>\n",
       "    </tr>\n",
       "    <tr>\n",
       "      <th>63</th>\n",
       "      <td>Water Polo</td>\n",
       "      <td>3846</td>\n",
       "    </tr>\n",
       "    <tr>\n",
       "      <th>64</th>\n",
       "      <td>Weightlifting</td>\n",
       "      <td>3937</td>\n",
       "    </tr>\n",
       "    <tr>\n",
       "      <th>65</th>\n",
       "      <td>Wrestling</td>\n",
       "      <td>7154</td>\n",
       "    </tr>\n",
       "  </tbody>\n",
       "</table>\n",
       "<p>66 rows × 2 columns</p>\n",
       "</div>"
      ],
      "text/plain": [
       "               Sport  Athlets\n",
       "0        Aeronautics        1\n",
       "1      Alpine Skiing     8829\n",
       "2           Alpinism       25\n",
       "3            Archery     2334\n",
       "4   Art Competitions     3578\n",
       "..               ...      ...\n",
       "61        Tug-Of-War      170\n",
       "62        Volleyball     3404\n",
       "63        Water Polo     3846\n",
       "64     Weightlifting     3937\n",
       "65         Wrestling     7154\n",
       "\n",
       "[66 rows x 2 columns]"
      ]
     },
     "execution_count": 32,
     "metadata": {},
     "output_type": "execute_result"
    }
   ],
   "source": [
    "participants1=df.groupby(['Sport'])['Name'].count().reset_index()\n",
    "participants1.rename(columns={'Name':'Athlets'},inplace=True)\n",
    "participants1"
   ]
  },
  {
   "cell_type": "code",
   "execution_count": 33,
   "id": "5c1751ab",
   "metadata": {
    "execution": {
     "iopub.execute_input": "2022-07-26T22:53:57.284539Z",
     "iopub.status.busy": "2022-07-26T22:53:57.284115Z",
     "iopub.status.idle": "2022-07-26T22:53:57.299271Z",
     "shell.execute_reply": "2022-07-26T22:53:57.298213Z"
    },
    "papermill": {
     "duration": 0.091324,
     "end_time": "2022-07-26T22:53:57.301390",
     "exception": false,
     "start_time": "2022-07-26T22:53:57.210066",
     "status": "completed"
    },
    "tags": []
   },
   "outputs": [
    {
     "data": {
      "text/html": [
       "<div>\n",
       "<style scoped>\n",
       "    .dataframe tbody tr th:only-of-type {\n",
       "        vertical-align: middle;\n",
       "    }\n",
       "\n",
       "    .dataframe tbody tr th {\n",
       "        vertical-align: top;\n",
       "    }\n",
       "\n",
       "    .dataframe thead th {\n",
       "        text-align: right;\n",
       "    }\n",
       "</style>\n",
       "<table border=\"1\" class=\"dataframe\">\n",
       "  <thead>\n",
       "    <tr style=\"text-align: right;\">\n",
       "      <th></th>\n",
       "      <th>Games</th>\n",
       "      <th>Athlets</th>\n",
       "      <th>Sport</th>\n",
       "    </tr>\n",
       "  </thead>\n",
       "  <tbody>\n",
       "    <tr>\n",
       "      <th>0</th>\n",
       "      <td>1896 Summer</td>\n",
       "      <td>380</td>\n",
       "      <td>NaN</td>\n",
       "    </tr>\n",
       "    <tr>\n",
       "      <th>1</th>\n",
       "      <td>1900 Summer</td>\n",
       "      <td>1936</td>\n",
       "      <td>NaN</td>\n",
       "    </tr>\n",
       "    <tr>\n",
       "      <th>2</th>\n",
       "      <td>1904 Summer</td>\n",
       "      <td>1301</td>\n",
       "      <td>NaN</td>\n",
       "    </tr>\n",
       "    <tr>\n",
       "      <th>3</th>\n",
       "      <td>1906 Summer</td>\n",
       "      <td>1733</td>\n",
       "      <td>NaN</td>\n",
       "    </tr>\n",
       "    <tr>\n",
       "      <th>4</th>\n",
       "      <td>1908 Summer</td>\n",
       "      <td>3101</td>\n",
       "      <td>NaN</td>\n",
       "    </tr>\n",
       "    <tr>\n",
       "      <th>...</th>\n",
       "      <td>...</td>\n",
       "      <td>...</td>\n",
       "      <td>...</td>\n",
       "    </tr>\n",
       "    <tr>\n",
       "      <th>61</th>\n",
       "      <td>NaN</td>\n",
       "      <td>170</td>\n",
       "      <td>Tug-Of-War</td>\n",
       "    </tr>\n",
       "    <tr>\n",
       "      <th>62</th>\n",
       "      <td>NaN</td>\n",
       "      <td>3404</td>\n",
       "      <td>Volleyball</td>\n",
       "    </tr>\n",
       "    <tr>\n",
       "      <th>63</th>\n",
       "      <td>NaN</td>\n",
       "      <td>3846</td>\n",
       "      <td>Water Polo</td>\n",
       "    </tr>\n",
       "    <tr>\n",
       "      <th>64</th>\n",
       "      <td>NaN</td>\n",
       "      <td>3937</td>\n",
       "      <td>Weightlifting</td>\n",
       "    </tr>\n",
       "    <tr>\n",
       "      <th>65</th>\n",
       "      <td>NaN</td>\n",
       "      <td>7154</td>\n",
       "      <td>Wrestling</td>\n",
       "    </tr>\n",
       "  </tbody>\n",
       "</table>\n",
       "<p>117 rows × 3 columns</p>\n",
       "</div>"
      ],
      "text/plain": [
       "          Games  Athlets          Sport\n",
       "0   1896 Summer      380            NaN\n",
       "1   1900 Summer     1936            NaN\n",
       "2   1904 Summer     1301            NaN\n",
       "3   1906 Summer     1733            NaN\n",
       "4   1908 Summer     3101            NaN\n",
       "..          ...      ...            ...\n",
       "61          NaN      170     Tug-Of-War\n",
       "62          NaN     3404     Volleyball\n",
       "63          NaN     3846     Water Polo\n",
       "64          NaN     3937  Weightlifting\n",
       "65          NaN     7154      Wrestling\n",
       "\n",
       "[117 rows x 3 columns]"
      ]
     },
     "execution_count": 33,
     "metadata": {},
     "output_type": "execute_result"
    }
   ],
   "source": [
    "result=pd.concat([participants,participants1])\n",
    "result"
   ]
  },
  {
   "cell_type": "code",
   "execution_count": 34,
   "id": "cc3d4c6f",
   "metadata": {
    "execution": {
     "iopub.execute_input": "2022-07-26T22:53:57.447171Z",
     "iopub.status.busy": "2022-07-26T22:53:57.446376Z",
     "iopub.status.idle": "2022-07-26T22:53:57.519601Z",
     "shell.execute_reply": "2022-07-26T22:53:57.518582Z"
    },
    "papermill": {
     "duration": 0.150339,
     "end_time": "2022-07-26T22:53:57.523248",
     "exception": false,
     "start_time": "2022-07-26T22:53:57.372909",
     "status": "completed"
    },
    "tags": []
   },
   "outputs": [
    {
     "data": {
      "application/vnd.plotly.v1+json": {
       "config": {
        "plotlyServerURL": "https://plot.ly"
       },
       "data": [
        {
         "coloraxis": "coloraxis",
         "hovertemplate": "x: %{x}<br>y: %{y}<br>color: %{z}<extra></extra>",
         "name": "0",
         "texttemplate": "%{z}",
         "type": "heatmap",
         "x": [
          "Games",
          "Athlets",
          "Sport"
         ],
         "xaxis": "x",
         "y": [
          0,
          1,
          2,
          3,
          4,
          5,
          6,
          7,
          8,
          9,
          10,
          11,
          12,
          13,
          14,
          15,
          16,
          17,
          18,
          19,
          20,
          21,
          22,
          23,
          24,
          25,
          26,
          27,
          28,
          29,
          30,
          31,
          32,
          33,
          34,
          35,
          36,
          37,
          38,
          39,
          40,
          41,
          42,
          43,
          44,
          45,
          46,
          47,
          48,
          49,
          50,
          0,
          1,
          2,
          3,
          4,
          5,
          6,
          7,
          8,
          9,
          10,
          11,
          12,
          13,
          14,
          15,
          16,
          17,
          18,
          19,
          20,
          21,
          22,
          23,
          24,
          25,
          26,
          27,
          28,
          29,
          30,
          31,
          32,
          33,
          34,
          35,
          36,
          37,
          38,
          39,
          40,
          41,
          42,
          43,
          44,
          45,
          46,
          47,
          48,
          49,
          50,
          51,
          52,
          53,
          54,
          55,
          56,
          57,
          58,
          59,
          60,
          61,
          62,
          63,
          64,
          65
         ],
         "yaxis": "y",
         "z": [
          [
           "1896 Summer",
           380,
           null
          ],
          [
           "1900 Summer",
           1936,
           null
          ],
          [
           "1904 Summer",
           1301,
           null
          ],
          [
           "1906 Summer",
           1733,
           null
          ],
          [
           "1908 Summer",
           3101,
           null
          ],
          [
           "1912 Summer",
           4040,
           null
          ],
          [
           "1920 Summer",
           4292,
           null
          ],
          [
           "1924 Summer",
           5233,
           null
          ],
          [
           "1924 Winter",
           460,
           null
          ],
          [
           "1928 Summer",
           4992,
           null
          ],
          [
           "1928 Winter",
           582,
           null
          ],
          [
           "1932 Summer",
           2969,
           null
          ],
          [
           "1932 Winter",
           352,
           null
          ],
          [
           "1936 Summer",
           6506,
           null
          ],
          [
           "1936 Winter",
           895,
           null
          ],
          [
           "1948 Summer",
           6405,
           null
          ],
          [
           "1948 Winter",
           1075,
           null
          ],
          [
           "1952 Summer",
           8270,
           null
          ],
          [
           "1952 Winter",
           1088,
           null
          ],
          [
           "1956 Summer",
           5127,
           null
          ],
          [
           "1956 Winter",
           1307,
           null
          ],
          [
           "1960 Summer",
           8119,
           null
          ],
          [
           "1960 Winter",
           1116,
           null
          ],
          [
           "1964 Summer",
           7702,
           null
          ],
          [
           "1964 Winter",
           1778,
           null
          ],
          [
           "1968 Summer",
           8588,
           null
          ],
          [
           "1968 Winter",
           1891,
           null
          ],
          [
           "1972 Summer",
           10304,
           null
          ],
          [
           "1972 Winter",
           1655,
           null
          ],
          [
           "1976 Summer",
           8641,
           null
          ],
          [
           "1976 Winter",
           1861,
           null
          ],
          [
           "1980 Summer",
           7191,
           null
          ],
          [
           "1980 Winter",
           1746,
           null
          ],
          [
           "1984 Summer",
           9454,
           null
          ],
          [
           "1984 Winter",
           2134,
           null
          ],
          [
           "1988 Summer",
           12037,
           null
          ],
          [
           "1988 Winter",
           2639,
           null
          ],
          [
           "1992 Summer",
           12977,
           null
          ],
          [
           "1992 Winter",
           3436,
           null
          ],
          [
           "1994 Winter",
           3160,
           null
          ],
          [
           "1996 Summer",
           13780,
           null
          ],
          [
           "1998 Winter",
           3605,
           null
          ],
          [
           "2000 Summer",
           13821,
           null
          ],
          [
           "2002 Winter",
           4109,
           null
          ],
          [
           "2004 Summer",
           13443,
           null
          ],
          [
           "2006 Winter",
           4382,
           null
          ],
          [
           "2008 Summer",
           13602,
           null
          ],
          [
           "2010 Winter",
           4402,
           null
          ],
          [
           "2012 Summer",
           12920,
           null
          ],
          [
           "2014 Winter",
           4891,
           null
          ],
          [
           "2016 Summer",
           13688,
           null
          ],
          [
           null,
           1,
           "Aeronautics"
          ],
          [
           null,
           8829,
           "Alpine Skiing"
          ],
          [
           null,
           25,
           "Alpinism"
          ],
          [
           null,
           2334,
           "Archery"
          ],
          [
           null,
           3578,
           "Art Competitions"
          ],
          [
           null,
           38624,
           "Athletics"
          ],
          [
           null,
           1457,
           "Badminton"
          ],
          [
           null,
           894,
           "Baseball"
          ],
          [
           null,
           4536,
           "Basketball"
          ],
          [
           null,
           2,
           "Basque Pelota"
          ],
          [
           null,
           564,
           "Beach Volleyball"
          ],
          [
           null,
           4893,
           "Biathlon"
          ],
          [
           null,
           3058,
           "Bobsleigh"
          ],
          [
           null,
           6047,
           "Boxing"
          ],
          [
           null,
           6171,
           "Canoeing"
          ],
          [
           null,
           24,
           "Cricket"
          ],
          [
           null,
           19,
           "Croquet"
          ],
          [
           null,
           9133,
           "Cross Country Skiing"
          ],
          [
           null,
           463,
           "Curling"
          ],
          [
           null,
           10859,
           "Cycling"
          ],
          [
           null,
           2842,
           "Diving"
          ],
          [
           null,
           6344,
           "Equestrianism"
          ],
          [
           null,
           10735,
           "Fencing"
          ],
          [
           null,
           2298,
           "Figure Skating"
          ],
          [
           null,
           6745,
           "Football"
          ],
          [
           null,
           937,
           "Freestyle Skiing"
          ],
          [
           null,
           247,
           "Golf"
          ],
          [
           null,
           26707,
           "Gymnastics"
          ],
          [
           null,
           3665,
           "Handball"
          ],
          [
           null,
           5417,
           "Hockey"
          ],
          [
           null,
           5516,
           "Ice Hockey"
          ],
          [
           null,
           11,
           "Jeu De Paume"
          ],
          [
           null,
           3801,
           "Judo"
          ],
          [
           null,
           60,
           "Lacrosse"
          ],
          [
           null,
           1479,
           "Luge"
          ],
          [
           null,
           24,
           "Military Ski Patrol"
          ],
          [
           null,
           1677,
           "Modern Pentathlon"
          ],
          [
           null,
           17,
           "Motorboating"
          ],
          [
           null,
           1344,
           "Nordic Combined"
          ],
          [
           null,
           95,
           "Polo"
          ],
          [
           null,
           12,
           "Racquets"
          ],
          [
           null,
           658,
           "Rhythmic Gymnastics"
          ],
          [
           null,
           4,
           "Roque"
          ],
          [
           null,
           10595,
           "Rowing"
          ],
          [
           null,
           162,
           "Rugby"
          ],
          [
           null,
           299,
           "Rugby Sevens"
          ],
          [
           null,
           6586,
           "Sailing"
          ],
          [
           null,
           11448,
           "Shooting"
          ],
          [
           null,
           1534,
           "Short Track Speed Skating"
          ],
          [
           null,
           199,
           "Skeleton"
          ],
          [
           null,
           2401,
           "Ski Jumping"
          ],
          [
           null,
           936,
           "Snowboarding"
          ],
          [
           null,
           478,
           "Softball"
          ],
          [
           null,
           5613,
           "Speed Skating"
          ],
          [
           null,
           23195,
           "Swimming"
          ],
          [
           null,
           909,
           "Synchronized Swimming"
          ],
          [
           null,
           1955,
           "Table Tennis"
          ],
          [
           null,
           606,
           "Taekwondo"
          ],
          [
           null,
           2862,
           "Tennis"
          ],
          [
           null,
           152,
           "Trampolining"
          ],
          [
           null,
           529,
           "Triathlon"
          ],
          [
           null,
           170,
           "Tug-Of-War"
          ],
          [
           null,
           3404,
           "Volleyball"
          ],
          [
           null,
           3846,
           "Water Polo"
          ],
          [
           null,
           3937,
           "Weightlifting"
          ],
          [
           null,
           7154,
           "Wrestling"
          ]
         ]
        }
       ],
       "layout": {
        "coloraxis": {
         "colorscale": [
          [
           0.0,
           "#0d0887"
          ],
          [
           0.1111111111111111,
           "#46039f"
          ],
          [
           0.2222222222222222,
           "#7201a8"
          ],
          [
           0.3333333333333333,
           "#9c179e"
          ],
          [
           0.4444444444444444,
           "#bd3786"
          ],
          [
           0.5555555555555556,
           "#d8576b"
          ],
          [
           0.6666666666666666,
           "#ed7953"
          ],
          [
           0.7777777777777778,
           "#fb9f3a"
          ],
          [
           0.8888888888888888,
           "#fdca26"
          ],
          [
           1.0,
           "#f0f921"
          ]
         ]
        },
        "margin": {
         "t": 60
        },
        "template": {
         "data": {
          "bar": [
           {
            "error_x": {
             "color": "#2a3f5f"
            },
            "error_y": {
             "color": "#2a3f5f"
            },
            "marker": {
             "line": {
              "color": "#E5ECF6",
              "width": 0.5
             },
             "pattern": {
              "fillmode": "overlay",
              "size": 10,
              "solidity": 0.2
             }
            },
            "type": "bar"
           }
          ],
          "barpolar": [
           {
            "marker": {
             "line": {
              "color": "#E5ECF6",
              "width": 0.5
             },
             "pattern": {
              "fillmode": "overlay",
              "size": 10,
              "solidity": 0.2
             }
            },
            "type": "barpolar"
           }
          ],
          "carpet": [
           {
            "aaxis": {
             "endlinecolor": "#2a3f5f",
             "gridcolor": "white",
             "linecolor": "white",
             "minorgridcolor": "white",
             "startlinecolor": "#2a3f5f"
            },
            "baxis": {
             "endlinecolor": "#2a3f5f",
             "gridcolor": "white",
             "linecolor": "white",
             "minorgridcolor": "white",
             "startlinecolor": "#2a3f5f"
            },
            "type": "carpet"
           }
          ],
          "choropleth": [
           {
            "colorbar": {
             "outlinewidth": 0,
             "ticks": ""
            },
            "type": "choropleth"
           }
          ],
          "contour": [
           {
            "colorbar": {
             "outlinewidth": 0,
             "ticks": ""
            },
            "colorscale": [
             [
              0.0,
              "#0d0887"
             ],
             [
              0.1111111111111111,
              "#46039f"
             ],
             [
              0.2222222222222222,
              "#7201a8"
             ],
             [
              0.3333333333333333,
              "#9c179e"
             ],
             [
              0.4444444444444444,
              "#bd3786"
             ],
             [
              0.5555555555555556,
              "#d8576b"
             ],
             [
              0.6666666666666666,
              "#ed7953"
             ],
             [
              0.7777777777777778,
              "#fb9f3a"
             ],
             [
              0.8888888888888888,
              "#fdca26"
             ],
             [
              1.0,
              "#f0f921"
             ]
            ],
            "type": "contour"
           }
          ],
          "contourcarpet": [
           {
            "colorbar": {
             "outlinewidth": 0,
             "ticks": ""
            },
            "type": "contourcarpet"
           }
          ],
          "heatmap": [
           {
            "colorbar": {
             "outlinewidth": 0,
             "ticks": ""
            },
            "colorscale": [
             [
              0.0,
              "#0d0887"
             ],
             [
              0.1111111111111111,
              "#46039f"
             ],
             [
              0.2222222222222222,
              "#7201a8"
             ],
             [
              0.3333333333333333,
              "#9c179e"
             ],
             [
              0.4444444444444444,
              "#bd3786"
             ],
             [
              0.5555555555555556,
              "#d8576b"
             ],
             [
              0.6666666666666666,
              "#ed7953"
             ],
             [
              0.7777777777777778,
              "#fb9f3a"
             ],
             [
              0.8888888888888888,
              "#fdca26"
             ],
             [
              1.0,
              "#f0f921"
             ]
            ],
            "type": "heatmap"
           }
          ],
          "heatmapgl": [
           {
            "colorbar": {
             "outlinewidth": 0,
             "ticks": ""
            },
            "colorscale": [
             [
              0.0,
              "#0d0887"
             ],
             [
              0.1111111111111111,
              "#46039f"
             ],
             [
              0.2222222222222222,
              "#7201a8"
             ],
             [
              0.3333333333333333,
              "#9c179e"
             ],
             [
              0.4444444444444444,
              "#bd3786"
             ],
             [
              0.5555555555555556,
              "#d8576b"
             ],
             [
              0.6666666666666666,
              "#ed7953"
             ],
             [
              0.7777777777777778,
              "#fb9f3a"
             ],
             [
              0.8888888888888888,
              "#fdca26"
             ],
             [
              1.0,
              "#f0f921"
             ]
            ],
            "type": "heatmapgl"
           }
          ],
          "histogram": [
           {
            "marker": {
             "pattern": {
              "fillmode": "overlay",
              "size": 10,
              "solidity": 0.2
             }
            },
            "type": "histogram"
           }
          ],
          "histogram2d": [
           {
            "colorbar": {
             "outlinewidth": 0,
             "ticks": ""
            },
            "colorscale": [
             [
              0.0,
              "#0d0887"
             ],
             [
              0.1111111111111111,
              "#46039f"
             ],
             [
              0.2222222222222222,
              "#7201a8"
             ],
             [
              0.3333333333333333,
              "#9c179e"
             ],
             [
              0.4444444444444444,
              "#bd3786"
             ],
             [
              0.5555555555555556,
              "#d8576b"
             ],
             [
              0.6666666666666666,
              "#ed7953"
             ],
             [
              0.7777777777777778,
              "#fb9f3a"
             ],
             [
              0.8888888888888888,
              "#fdca26"
             ],
             [
              1.0,
              "#f0f921"
             ]
            ],
            "type": "histogram2d"
           }
          ],
          "histogram2dcontour": [
           {
            "colorbar": {
             "outlinewidth": 0,
             "ticks": ""
            },
            "colorscale": [
             [
              0.0,
              "#0d0887"
             ],
             [
              0.1111111111111111,
              "#46039f"
             ],
             [
              0.2222222222222222,
              "#7201a8"
             ],
             [
              0.3333333333333333,
              "#9c179e"
             ],
             [
              0.4444444444444444,
              "#bd3786"
             ],
             [
              0.5555555555555556,
              "#d8576b"
             ],
             [
              0.6666666666666666,
              "#ed7953"
             ],
             [
              0.7777777777777778,
              "#fb9f3a"
             ],
             [
              0.8888888888888888,
              "#fdca26"
             ],
             [
              1.0,
              "#f0f921"
             ]
            ],
            "type": "histogram2dcontour"
           }
          ],
          "mesh3d": [
           {
            "colorbar": {
             "outlinewidth": 0,
             "ticks": ""
            },
            "type": "mesh3d"
           }
          ],
          "parcoords": [
           {
            "line": {
             "colorbar": {
              "outlinewidth": 0,
              "ticks": ""
             }
            },
            "type": "parcoords"
           }
          ],
          "pie": [
           {
            "automargin": true,
            "type": "pie"
           }
          ],
          "scatter": [
           {
            "fillpattern": {
             "fillmode": "overlay",
             "size": 10,
             "solidity": 0.2
            },
            "type": "scatter"
           }
          ],
          "scatter3d": [
           {
            "line": {
             "colorbar": {
              "outlinewidth": 0,
              "ticks": ""
             }
            },
            "marker": {
             "colorbar": {
              "outlinewidth": 0,
              "ticks": ""
             }
            },
            "type": "scatter3d"
           }
          ],
          "scattercarpet": [
           {
            "marker": {
             "colorbar": {
              "outlinewidth": 0,
              "ticks": ""
             }
            },
            "type": "scattercarpet"
           }
          ],
          "scattergeo": [
           {
            "marker": {
             "colorbar": {
              "outlinewidth": 0,
              "ticks": ""
             }
            },
            "type": "scattergeo"
           }
          ],
          "scattergl": [
           {
            "marker": {
             "colorbar": {
              "outlinewidth": 0,
              "ticks": ""
             }
            },
            "type": "scattergl"
           }
          ],
          "scattermapbox": [
           {
            "marker": {
             "colorbar": {
              "outlinewidth": 0,
              "ticks": ""
             }
            },
            "type": "scattermapbox"
           }
          ],
          "scatterpolar": [
           {
            "marker": {
             "colorbar": {
              "outlinewidth": 0,
              "ticks": ""
             }
            },
            "type": "scatterpolar"
           }
          ],
          "scatterpolargl": [
           {
            "marker": {
             "colorbar": {
              "outlinewidth": 0,
              "ticks": ""
             }
            },
            "type": "scatterpolargl"
           }
          ],
          "scatterternary": [
           {
            "marker": {
             "colorbar": {
              "outlinewidth": 0,
              "ticks": ""
             }
            },
            "type": "scatterternary"
           }
          ],
          "surface": [
           {
            "colorbar": {
             "outlinewidth": 0,
             "ticks": ""
            },
            "colorscale": [
             [
              0.0,
              "#0d0887"
             ],
             [
              0.1111111111111111,
              "#46039f"
             ],
             [
              0.2222222222222222,
              "#7201a8"
             ],
             [
              0.3333333333333333,
              "#9c179e"
             ],
             [
              0.4444444444444444,
              "#bd3786"
             ],
             [
              0.5555555555555556,
              "#d8576b"
             ],
             [
              0.6666666666666666,
              "#ed7953"
             ],
             [
              0.7777777777777778,
              "#fb9f3a"
             ],
             [
              0.8888888888888888,
              "#fdca26"
             ],
             [
              1.0,
              "#f0f921"
             ]
            ],
            "type": "surface"
           }
          ],
          "table": [
           {
            "cells": {
             "fill": {
              "color": "#EBF0F8"
             },
             "line": {
              "color": "white"
             }
            },
            "header": {
             "fill": {
              "color": "#C8D4E3"
             },
             "line": {
              "color": "white"
             }
            },
            "type": "table"
           }
          ]
         },
         "layout": {
          "annotationdefaults": {
           "arrowcolor": "#2a3f5f",
           "arrowhead": 0,
           "arrowwidth": 1
          },
          "autotypenumbers": "strict",
          "coloraxis": {
           "colorbar": {
            "outlinewidth": 0,
            "ticks": ""
           }
          },
          "colorscale": {
           "diverging": [
            [
             0,
             "#8e0152"
            ],
            [
             0.1,
             "#c51b7d"
            ],
            [
             0.2,
             "#de77ae"
            ],
            [
             0.3,
             "#f1b6da"
            ],
            [
             0.4,
             "#fde0ef"
            ],
            [
             0.5,
             "#f7f7f7"
            ],
            [
             0.6,
             "#e6f5d0"
            ],
            [
             0.7,
             "#b8e186"
            ],
            [
             0.8,
             "#7fbc41"
            ],
            [
             0.9,
             "#4d9221"
            ],
            [
             1,
             "#276419"
            ]
           ],
           "sequential": [
            [
             0.0,
             "#0d0887"
            ],
            [
             0.1111111111111111,
             "#46039f"
            ],
            [
             0.2222222222222222,
             "#7201a8"
            ],
            [
             0.3333333333333333,
             "#9c179e"
            ],
            [
             0.4444444444444444,
             "#bd3786"
            ],
            [
             0.5555555555555556,
             "#d8576b"
            ],
            [
             0.6666666666666666,
             "#ed7953"
            ],
            [
             0.7777777777777778,
             "#fb9f3a"
            ],
            [
             0.8888888888888888,
             "#fdca26"
            ],
            [
             1.0,
             "#f0f921"
            ]
           ],
           "sequentialminus": [
            [
             0.0,
             "#0d0887"
            ],
            [
             0.1111111111111111,
             "#46039f"
            ],
            [
             0.2222222222222222,
             "#7201a8"
            ],
            [
             0.3333333333333333,
             "#9c179e"
            ],
            [
             0.4444444444444444,
             "#bd3786"
            ],
            [
             0.5555555555555556,
             "#d8576b"
            ],
            [
             0.6666666666666666,
             "#ed7953"
            ],
            [
             0.7777777777777778,
             "#fb9f3a"
            ],
            [
             0.8888888888888888,
             "#fdca26"
            ],
            [
             1.0,
             "#f0f921"
            ]
           ]
          },
          "colorway": [
           "#636efa",
           "#EF553B",
           "#00cc96",
           "#ab63fa",
           "#FFA15A",
           "#19d3f3",
           "#FF6692",
           "#B6E880",
           "#FF97FF",
           "#FECB52"
          ],
          "font": {
           "color": "#2a3f5f"
          },
          "geo": {
           "bgcolor": "white",
           "lakecolor": "white",
           "landcolor": "#E5ECF6",
           "showlakes": true,
           "showland": true,
           "subunitcolor": "white"
          },
          "hoverlabel": {
           "align": "left"
          },
          "hovermode": "closest",
          "mapbox": {
           "style": "light"
          },
          "paper_bgcolor": "white",
          "plot_bgcolor": "#E5ECF6",
          "polar": {
           "angularaxis": {
            "gridcolor": "white",
            "linecolor": "white",
            "ticks": ""
           },
           "bgcolor": "#E5ECF6",
           "radialaxis": {
            "gridcolor": "white",
            "linecolor": "white",
            "ticks": ""
           }
          },
          "scene": {
           "xaxis": {
            "backgroundcolor": "#E5ECF6",
            "gridcolor": "white",
            "gridwidth": 2,
            "linecolor": "white",
            "showbackground": true,
            "ticks": "",
            "zerolinecolor": "white"
           },
           "yaxis": {
            "backgroundcolor": "#E5ECF6",
            "gridcolor": "white",
            "gridwidth": 2,
            "linecolor": "white",
            "showbackground": true,
            "ticks": "",
            "zerolinecolor": "white"
           },
           "zaxis": {
            "backgroundcolor": "#E5ECF6",
            "gridcolor": "white",
            "gridwidth": 2,
            "linecolor": "white",
            "showbackground": true,
            "ticks": "",
            "zerolinecolor": "white"
           }
          },
          "shapedefaults": {
           "line": {
            "color": "#2a3f5f"
           }
          },
          "ternary": {
           "aaxis": {
            "gridcolor": "white",
            "linecolor": "white",
            "ticks": ""
           },
           "baxis": {
            "gridcolor": "white",
            "linecolor": "white",
            "ticks": ""
           },
           "bgcolor": "#E5ECF6",
           "caxis": {
            "gridcolor": "white",
            "linecolor": "white",
            "ticks": ""
           }
          },
          "title": {
           "x": 0.05
          },
          "xaxis": {
           "automargin": true,
           "gridcolor": "white",
           "linecolor": "white",
           "ticks": "",
           "title": {
            "standoff": 15
           },
           "zerolinecolor": "white",
           "zerolinewidth": 2
          },
          "yaxis": {
           "automargin": true,
           "gridcolor": "white",
           "linecolor": "white",
           "ticks": "",
           "title": {
            "standoff": 15
           },
           "zerolinecolor": "white",
           "zerolinewidth": 2
          }
         }
        },
        "xaxis": {
         "anchor": "y",
         "constrain": "domain",
         "domain": [
          0.0,
          1.0
         ],
         "scaleanchor": "y"
        },
        "yaxis": {
         "anchor": "x",
         "autorange": "reversed",
         "constrain": "domain",
         "domain": [
          0.0,
          1.0
         ]
        }
       }
      },
      "text/html": [
       "<div>                            <div id=\"2daa6deb-4604-4e46-814e-00a829ffb01f\" class=\"plotly-graph-div\" style=\"height:525px; width:100%;\"></div>            <script type=\"text/javascript\">                require([\"plotly\"], function(Plotly) {                    window.PLOTLYENV=window.PLOTLYENV || {};                                    if (document.getElementById(\"2daa6deb-4604-4e46-814e-00a829ffb01f\")) {                    Plotly.newPlot(                        \"2daa6deb-4604-4e46-814e-00a829ffb01f\",                        [{\"coloraxis\":\"coloraxis\",\"name\":\"0\",\"texttemplate\":\"%{z}\",\"x\":[\"Games\",\"Athlets\",\"Sport\"],\"y\":[0,1,2,3,4,5,6,7,8,9,10,11,12,13,14,15,16,17,18,19,20,21,22,23,24,25,26,27,28,29,30,31,32,33,34,35,36,37,38,39,40,41,42,43,44,45,46,47,48,49,50,0,1,2,3,4,5,6,7,8,9,10,11,12,13,14,15,16,17,18,19,20,21,22,23,24,25,26,27,28,29,30,31,32,33,34,35,36,37,38,39,40,41,42,43,44,45,46,47,48,49,50,51,52,53,54,55,56,57,58,59,60,61,62,63,64,65],\"z\":[[\"1896 Summer\",380,null],[\"1900 Summer\",1936,null],[\"1904 Summer\",1301,null],[\"1906 Summer\",1733,null],[\"1908 Summer\",3101,null],[\"1912 Summer\",4040,null],[\"1920 Summer\",4292,null],[\"1924 Summer\",5233,null],[\"1924 Winter\",460,null],[\"1928 Summer\",4992,null],[\"1928 Winter\",582,null],[\"1932 Summer\",2969,null],[\"1932 Winter\",352,null],[\"1936 Summer\",6506,null],[\"1936 Winter\",895,null],[\"1948 Summer\",6405,null],[\"1948 Winter\",1075,null],[\"1952 Summer\",8270,null],[\"1952 Winter\",1088,null],[\"1956 Summer\",5127,null],[\"1956 Winter\",1307,null],[\"1960 Summer\",8119,null],[\"1960 Winter\",1116,null],[\"1964 Summer\",7702,null],[\"1964 Winter\",1778,null],[\"1968 Summer\",8588,null],[\"1968 Winter\",1891,null],[\"1972 Summer\",10304,null],[\"1972 Winter\",1655,null],[\"1976 Summer\",8641,null],[\"1976 Winter\",1861,null],[\"1980 Summer\",7191,null],[\"1980 Winter\",1746,null],[\"1984 Summer\",9454,null],[\"1984 Winter\",2134,null],[\"1988 Summer\",12037,null],[\"1988 Winter\",2639,null],[\"1992 Summer\",12977,null],[\"1992 Winter\",3436,null],[\"1994 Winter\",3160,null],[\"1996 Summer\",13780,null],[\"1998 Winter\",3605,null],[\"2000 Summer\",13821,null],[\"2002 Winter\",4109,null],[\"2004 Summer\",13443,null],[\"2006 Winter\",4382,null],[\"2008 Summer\",13602,null],[\"2010 Winter\",4402,null],[\"2012 Summer\",12920,null],[\"2014 Winter\",4891,null],[\"2016 Summer\",13688,null],[null,1,\"Aeronautics\"],[null,8829,\"Alpine Skiing\"],[null,25,\"Alpinism\"],[null,2334,\"Archery\"],[null,3578,\"Art Competitions\"],[null,38624,\"Athletics\"],[null,1457,\"Badminton\"],[null,894,\"Baseball\"],[null,4536,\"Basketball\"],[null,2,\"Basque Pelota\"],[null,564,\"Beach Volleyball\"],[null,4893,\"Biathlon\"],[null,3058,\"Bobsleigh\"],[null,6047,\"Boxing\"],[null,6171,\"Canoeing\"],[null,24,\"Cricket\"],[null,19,\"Croquet\"],[null,9133,\"Cross Country Skiing\"],[null,463,\"Curling\"],[null,10859,\"Cycling\"],[null,2842,\"Diving\"],[null,6344,\"Equestrianism\"],[null,10735,\"Fencing\"],[null,2298,\"Figure Skating\"],[null,6745,\"Football\"],[null,937,\"Freestyle Skiing\"],[null,247,\"Golf\"],[null,26707,\"Gymnastics\"],[null,3665,\"Handball\"],[null,5417,\"Hockey\"],[null,5516,\"Ice Hockey\"],[null,11,\"Jeu De Paume\"],[null,3801,\"Judo\"],[null,60,\"Lacrosse\"],[null,1479,\"Luge\"],[null,24,\"Military Ski Patrol\"],[null,1677,\"Modern Pentathlon\"],[null,17,\"Motorboating\"],[null,1344,\"Nordic Combined\"],[null,95,\"Polo\"],[null,12,\"Racquets\"],[null,658,\"Rhythmic Gymnastics\"],[null,4,\"Roque\"],[null,10595,\"Rowing\"],[null,162,\"Rugby\"],[null,299,\"Rugby Sevens\"],[null,6586,\"Sailing\"],[null,11448,\"Shooting\"],[null,1534,\"Short Track Speed Skating\"],[null,199,\"Skeleton\"],[null,2401,\"Ski Jumping\"],[null,936,\"Snowboarding\"],[null,478,\"Softball\"],[null,5613,\"Speed Skating\"],[null,23195,\"Swimming\"],[null,909,\"Synchronized Swimming\"],[null,1955,\"Table Tennis\"],[null,606,\"Taekwondo\"],[null,2862,\"Tennis\"],[null,152,\"Trampolining\"],[null,529,\"Triathlon\"],[null,170,\"Tug-Of-War\"],[null,3404,\"Volleyball\"],[null,3846,\"Water Polo\"],[null,3937,\"Weightlifting\"],[null,7154,\"Wrestling\"]],\"type\":\"heatmap\",\"xaxis\":\"x\",\"yaxis\":\"y\",\"hovertemplate\":\"x: %{x}<br>y: %{y}<br>color: %{z}<extra></extra>\"}],                        {\"template\":{\"data\":{\"histogram2dcontour\":[{\"type\":\"histogram2dcontour\",\"colorbar\":{\"outlinewidth\":0,\"ticks\":\"\"},\"colorscale\":[[0.0,\"#0d0887\"],[0.1111111111111111,\"#46039f\"],[0.2222222222222222,\"#7201a8\"],[0.3333333333333333,\"#9c179e\"],[0.4444444444444444,\"#bd3786\"],[0.5555555555555556,\"#d8576b\"],[0.6666666666666666,\"#ed7953\"],[0.7777777777777778,\"#fb9f3a\"],[0.8888888888888888,\"#fdca26\"],[1.0,\"#f0f921\"]]}],\"choropleth\":[{\"type\":\"choropleth\",\"colorbar\":{\"outlinewidth\":0,\"ticks\":\"\"}}],\"histogram2d\":[{\"type\":\"histogram2d\",\"colorbar\":{\"outlinewidth\":0,\"ticks\":\"\"},\"colorscale\":[[0.0,\"#0d0887\"],[0.1111111111111111,\"#46039f\"],[0.2222222222222222,\"#7201a8\"],[0.3333333333333333,\"#9c179e\"],[0.4444444444444444,\"#bd3786\"],[0.5555555555555556,\"#d8576b\"],[0.6666666666666666,\"#ed7953\"],[0.7777777777777778,\"#fb9f3a\"],[0.8888888888888888,\"#fdca26\"],[1.0,\"#f0f921\"]]}],\"heatmap\":[{\"type\":\"heatmap\",\"colorbar\":{\"outlinewidth\":0,\"ticks\":\"\"},\"colorscale\":[[0.0,\"#0d0887\"],[0.1111111111111111,\"#46039f\"],[0.2222222222222222,\"#7201a8\"],[0.3333333333333333,\"#9c179e\"],[0.4444444444444444,\"#bd3786\"],[0.5555555555555556,\"#d8576b\"],[0.6666666666666666,\"#ed7953\"],[0.7777777777777778,\"#fb9f3a\"],[0.8888888888888888,\"#fdca26\"],[1.0,\"#f0f921\"]]}],\"heatmapgl\":[{\"type\":\"heatmapgl\",\"colorbar\":{\"outlinewidth\":0,\"ticks\":\"\"},\"colorscale\":[[0.0,\"#0d0887\"],[0.1111111111111111,\"#46039f\"],[0.2222222222222222,\"#7201a8\"],[0.3333333333333333,\"#9c179e\"],[0.4444444444444444,\"#bd3786\"],[0.5555555555555556,\"#d8576b\"],[0.6666666666666666,\"#ed7953\"],[0.7777777777777778,\"#fb9f3a\"],[0.8888888888888888,\"#fdca26\"],[1.0,\"#f0f921\"]]}],\"contourcarpet\":[{\"type\":\"contourcarpet\",\"colorbar\":{\"outlinewidth\":0,\"ticks\":\"\"}}],\"contour\":[{\"type\":\"contour\",\"colorbar\":{\"outlinewidth\":0,\"ticks\":\"\"},\"colorscale\":[[0.0,\"#0d0887\"],[0.1111111111111111,\"#46039f\"],[0.2222222222222222,\"#7201a8\"],[0.3333333333333333,\"#9c179e\"],[0.4444444444444444,\"#bd3786\"],[0.5555555555555556,\"#d8576b\"],[0.6666666666666666,\"#ed7953\"],[0.7777777777777778,\"#fb9f3a\"],[0.8888888888888888,\"#fdca26\"],[1.0,\"#f0f921\"]]}],\"surface\":[{\"type\":\"surface\",\"colorbar\":{\"outlinewidth\":0,\"ticks\":\"\"},\"colorscale\":[[0.0,\"#0d0887\"],[0.1111111111111111,\"#46039f\"],[0.2222222222222222,\"#7201a8\"],[0.3333333333333333,\"#9c179e\"],[0.4444444444444444,\"#bd3786\"],[0.5555555555555556,\"#d8576b\"],[0.6666666666666666,\"#ed7953\"],[0.7777777777777778,\"#fb9f3a\"],[0.8888888888888888,\"#fdca26\"],[1.0,\"#f0f921\"]]}],\"mesh3d\":[{\"type\":\"mesh3d\",\"colorbar\":{\"outlinewidth\":0,\"ticks\":\"\"}}],\"scatter\":[{\"fillpattern\":{\"fillmode\":\"overlay\",\"size\":10,\"solidity\":0.2},\"type\":\"scatter\"}],\"parcoords\":[{\"type\":\"parcoords\",\"line\":{\"colorbar\":{\"outlinewidth\":0,\"ticks\":\"\"}}}],\"scatterpolargl\":[{\"type\":\"scatterpolargl\",\"marker\":{\"colorbar\":{\"outlinewidth\":0,\"ticks\":\"\"}}}],\"bar\":[{\"error_x\":{\"color\":\"#2a3f5f\"},\"error_y\":{\"color\":\"#2a3f5f\"},\"marker\":{\"line\":{\"color\":\"#E5ECF6\",\"width\":0.5},\"pattern\":{\"fillmode\":\"overlay\",\"size\":10,\"solidity\":0.2}},\"type\":\"bar\"}],\"scattergeo\":[{\"type\":\"scattergeo\",\"marker\":{\"colorbar\":{\"outlinewidth\":0,\"ticks\":\"\"}}}],\"scatterpolar\":[{\"type\":\"scatterpolar\",\"marker\":{\"colorbar\":{\"outlinewidth\":0,\"ticks\":\"\"}}}],\"histogram\":[{\"marker\":{\"pattern\":{\"fillmode\":\"overlay\",\"size\":10,\"solidity\":0.2}},\"type\":\"histogram\"}],\"scattergl\":[{\"type\":\"scattergl\",\"marker\":{\"colorbar\":{\"outlinewidth\":0,\"ticks\":\"\"}}}],\"scatter3d\":[{\"type\":\"scatter3d\",\"line\":{\"colorbar\":{\"outlinewidth\":0,\"ticks\":\"\"}},\"marker\":{\"colorbar\":{\"outlinewidth\":0,\"ticks\":\"\"}}}],\"scattermapbox\":[{\"type\":\"scattermapbox\",\"marker\":{\"colorbar\":{\"outlinewidth\":0,\"ticks\":\"\"}}}],\"scatterternary\":[{\"type\":\"scatterternary\",\"marker\":{\"colorbar\":{\"outlinewidth\":0,\"ticks\":\"\"}}}],\"scattercarpet\":[{\"type\":\"scattercarpet\",\"marker\":{\"colorbar\":{\"outlinewidth\":0,\"ticks\":\"\"}}}],\"carpet\":[{\"aaxis\":{\"endlinecolor\":\"#2a3f5f\",\"gridcolor\":\"white\",\"linecolor\":\"white\",\"minorgridcolor\":\"white\",\"startlinecolor\":\"#2a3f5f\"},\"baxis\":{\"endlinecolor\":\"#2a3f5f\",\"gridcolor\":\"white\",\"linecolor\":\"white\",\"minorgridcolor\":\"white\",\"startlinecolor\":\"#2a3f5f\"},\"type\":\"carpet\"}],\"table\":[{\"cells\":{\"fill\":{\"color\":\"#EBF0F8\"},\"line\":{\"color\":\"white\"}},\"header\":{\"fill\":{\"color\":\"#C8D4E3\"},\"line\":{\"color\":\"white\"}},\"type\":\"table\"}],\"barpolar\":[{\"marker\":{\"line\":{\"color\":\"#E5ECF6\",\"width\":0.5},\"pattern\":{\"fillmode\":\"overlay\",\"size\":10,\"solidity\":0.2}},\"type\":\"barpolar\"}],\"pie\":[{\"automargin\":true,\"type\":\"pie\"}]},\"layout\":{\"autotypenumbers\":\"strict\",\"colorway\":[\"#636efa\",\"#EF553B\",\"#00cc96\",\"#ab63fa\",\"#FFA15A\",\"#19d3f3\",\"#FF6692\",\"#B6E880\",\"#FF97FF\",\"#FECB52\"],\"font\":{\"color\":\"#2a3f5f\"},\"hovermode\":\"closest\",\"hoverlabel\":{\"align\":\"left\"},\"paper_bgcolor\":\"white\",\"plot_bgcolor\":\"#E5ECF6\",\"polar\":{\"bgcolor\":\"#E5ECF6\",\"angularaxis\":{\"gridcolor\":\"white\",\"linecolor\":\"white\",\"ticks\":\"\"},\"radialaxis\":{\"gridcolor\":\"white\",\"linecolor\":\"white\",\"ticks\":\"\"}},\"ternary\":{\"bgcolor\":\"#E5ECF6\",\"aaxis\":{\"gridcolor\":\"white\",\"linecolor\":\"white\",\"ticks\":\"\"},\"baxis\":{\"gridcolor\":\"white\",\"linecolor\":\"white\",\"ticks\":\"\"},\"caxis\":{\"gridcolor\":\"white\",\"linecolor\":\"white\",\"ticks\":\"\"}},\"coloraxis\":{\"colorbar\":{\"outlinewidth\":0,\"ticks\":\"\"}},\"colorscale\":{\"sequential\":[[0.0,\"#0d0887\"],[0.1111111111111111,\"#46039f\"],[0.2222222222222222,\"#7201a8\"],[0.3333333333333333,\"#9c179e\"],[0.4444444444444444,\"#bd3786\"],[0.5555555555555556,\"#d8576b\"],[0.6666666666666666,\"#ed7953\"],[0.7777777777777778,\"#fb9f3a\"],[0.8888888888888888,\"#fdca26\"],[1.0,\"#f0f921\"]],\"sequentialminus\":[[0.0,\"#0d0887\"],[0.1111111111111111,\"#46039f\"],[0.2222222222222222,\"#7201a8\"],[0.3333333333333333,\"#9c179e\"],[0.4444444444444444,\"#bd3786\"],[0.5555555555555556,\"#d8576b\"],[0.6666666666666666,\"#ed7953\"],[0.7777777777777778,\"#fb9f3a\"],[0.8888888888888888,\"#fdca26\"],[1.0,\"#f0f921\"]],\"diverging\":[[0,\"#8e0152\"],[0.1,\"#c51b7d\"],[0.2,\"#de77ae\"],[0.3,\"#f1b6da\"],[0.4,\"#fde0ef\"],[0.5,\"#f7f7f7\"],[0.6,\"#e6f5d0\"],[0.7,\"#b8e186\"],[0.8,\"#7fbc41\"],[0.9,\"#4d9221\"],[1,\"#276419\"]]},\"xaxis\":{\"gridcolor\":\"white\",\"linecolor\":\"white\",\"ticks\":\"\",\"title\":{\"standoff\":15},\"zerolinecolor\":\"white\",\"automargin\":true,\"zerolinewidth\":2},\"yaxis\":{\"gridcolor\":\"white\",\"linecolor\":\"white\",\"ticks\":\"\",\"title\":{\"standoff\":15},\"zerolinecolor\":\"white\",\"automargin\":true,\"zerolinewidth\":2},\"scene\":{\"xaxis\":{\"backgroundcolor\":\"#E5ECF6\",\"gridcolor\":\"white\",\"linecolor\":\"white\",\"showbackground\":true,\"ticks\":\"\",\"zerolinecolor\":\"white\",\"gridwidth\":2},\"yaxis\":{\"backgroundcolor\":\"#E5ECF6\",\"gridcolor\":\"white\",\"linecolor\":\"white\",\"showbackground\":true,\"ticks\":\"\",\"zerolinecolor\":\"white\",\"gridwidth\":2},\"zaxis\":{\"backgroundcolor\":\"#E5ECF6\",\"gridcolor\":\"white\",\"linecolor\":\"white\",\"showbackground\":true,\"ticks\":\"\",\"zerolinecolor\":\"white\",\"gridwidth\":2}},\"shapedefaults\":{\"line\":{\"color\":\"#2a3f5f\"}},\"annotationdefaults\":{\"arrowcolor\":\"#2a3f5f\",\"arrowhead\":0,\"arrowwidth\":1},\"geo\":{\"bgcolor\":\"white\",\"landcolor\":\"#E5ECF6\",\"subunitcolor\":\"white\",\"showland\":true,\"showlakes\":true,\"lakecolor\":\"white\"},\"title\":{\"x\":0.05},\"mapbox\":{\"style\":\"light\"}}},\"xaxis\":{\"anchor\":\"y\",\"domain\":[0.0,1.0],\"scaleanchor\":\"y\",\"constrain\":\"domain\"},\"yaxis\":{\"anchor\":\"x\",\"domain\":[0.0,1.0],\"autorange\":\"reversed\",\"constrain\":\"domain\"},\"coloraxis\":{\"colorscale\":[[0.0,\"#0d0887\"],[0.1111111111111111,\"#46039f\"],[0.2222222222222222,\"#7201a8\"],[0.3333333333333333,\"#9c179e\"],[0.4444444444444444,\"#bd3786\"],[0.5555555555555556,\"#d8576b\"],[0.6666666666666666,\"#ed7953\"],[0.7777777777777778,\"#fb9f3a\"],[0.8888888888888888,\"#fdca26\"],[1.0,\"#f0f921\"]]},\"margin\":{\"t\":60}},                        {\"responsive\": true}                    ).then(function(){\n",
       "                            \n",
       "var gd = document.getElementById('2daa6deb-4604-4e46-814e-00a829ffb01f');\n",
       "var x = new MutationObserver(function (mutations, observer) {{\n",
       "        var display = window.getComputedStyle(gd).display;\n",
       "        if (!display || display === 'none') {{\n",
       "            console.log([gd, 'removed!']);\n",
       "            Plotly.purge(gd);\n",
       "            observer.disconnect();\n",
       "        }}\n",
       "}});\n",
       "\n",
       "// Listen for the removal of the full notebook cells\n",
       "var notebookContainer = gd.closest('#notebook-container');\n",
       "if (notebookContainer) {{\n",
       "    x.observe(notebookContainer, {childList: true});\n",
       "}}\n",
       "\n",
       "// Listen for the clearing of the current output cell\n",
       "var outputEl = gd.closest('.output');\n",
       "if (outputEl) {{\n",
       "    x.observe(outputEl, {childList: true});\n",
       "}}\n",
       "\n",
       "                        })                };                });            </script>        </div>"
      ]
     },
     "metadata": {},
     "output_type": "display_data"
    }
   ],
   "source": [
    "import plotly.express as px\n",
    "fig = px.imshow(result, text_auto=True)\n",
    "fig.show()"
   ]
  },
  {
   "cell_type": "code",
   "execution_count": 35,
   "id": "e5d8d7a1",
   "metadata": {
    "execution": {
     "iopub.execute_input": "2022-07-26T22:53:57.685996Z",
     "iopub.status.busy": "2022-07-26T22:53:57.685225Z",
     "iopub.status.idle": "2022-07-26T22:53:57.925044Z",
     "shell.execute_reply": "2022-07-26T22:53:57.923919Z"
    },
    "papermill": {
     "duration": 0.324843,
     "end_time": "2022-07-26T22:53:57.927519",
     "exception": false,
     "start_time": "2022-07-26T22:53:57.602676",
     "status": "completed"
    },
    "tags": []
   },
   "outputs": [
    {
     "data": {
      "text/plain": [
       "Text(0.5, 1.0, 'Correlation Headmap')"
      ]
     },
     "execution_count": 35,
     "metadata": {},
     "output_type": "execute_result"
    },
    {
     "data": {
      "image/png": "[encoded data removed]",
      "text/plain": [
       "<Figure size 720x720 with 2 Axes>"
      ]
     },
     "metadata": {
      "needs_background": "light"
     },
     "output_type": "display_data"
    }
   ],
   "source": [
    "fig, ax = plt.subplots(figsize=(10,10))\n",
    "sns.heatmap(result.select_dtypes(include=np.number).corr(),annot=True)\n",
    "plt.title(\"Correlation Headmap\")"
   ]
  },
  {
   "cell_type": "code",
   "execution_count": 36,
   "id": "6d2cded6",
   "metadata": {
    "execution": {
     "iopub.execute_input": "2022-07-26T22:53:58.090683Z",
     "iopub.status.busy": "2022-07-26T22:53:58.089903Z",
     "iopub.status.idle": "2022-07-26T22:53:58.213358Z",
     "shell.execute_reply": "2022-07-26T22:53:58.212100Z"
    },
    "papermill": {
     "duration": 0.207798,
     "end_time": "2022-07-26T22:53:58.215747",
     "exception": false,
     "start_time": "2022-07-26T22:53:58.007949",
     "status": "completed"
    },
    "tags": []
   },
   "outputs": [
    {
     "data": {
      "text/html": [
       "<div>\n",
       "<style scoped>\n",
       "    .dataframe tbody tr th:only-of-type {\n",
       "        vertical-align: middle;\n",
       "    }\n",
       "\n",
       "    .dataframe tbody tr th {\n",
       "        vertical-align: top;\n",
       "    }\n",
       "\n",
       "    .dataframe thead th {\n",
       "        text-align: right;\n",
       "    }\n",
       "</style>\n",
       "<table border=\"1\" class=\"dataframe\">\n",
       "  <thead>\n",
       "    <tr style=\"text-align: right;\">\n",
       "      <th></th>\n",
       "      <th>Games</th>\n",
       "      <th>Sport</th>\n",
       "      <th>Season</th>\n",
       "      <th>Athlets</th>\n",
       "    </tr>\n",
       "  </thead>\n",
       "  <tbody>\n",
       "    <tr>\n",
       "      <th>0</th>\n",
       "      <td>1896 Summer</td>\n",
       "      <td>Athletics</td>\n",
       "      <td>Summer</td>\n",
       "      <td>106</td>\n",
       "    </tr>\n",
       "    <tr>\n",
       "      <th>1</th>\n",
       "      <td>1896 Summer</td>\n",
       "      <td>Cycling</td>\n",
       "      <td>Summer</td>\n",
       "      <td>41</td>\n",
       "    </tr>\n",
       "    <tr>\n",
       "      <th>2</th>\n",
       "      <td>1896 Summer</td>\n",
       "      <td>Fencing</td>\n",
       "      <td>Summer</td>\n",
       "      <td>15</td>\n",
       "    </tr>\n",
       "    <tr>\n",
       "      <th>3</th>\n",
       "      <td>1896 Summer</td>\n",
       "      <td>Gymnastics</td>\n",
       "      <td>Summer</td>\n",
       "      <td>97</td>\n",
       "    </tr>\n",
       "    <tr>\n",
       "      <th>4</th>\n",
       "      <td>1896 Summer</td>\n",
       "      <td>Shooting</td>\n",
       "      <td>Summer</td>\n",
       "      <td>65</td>\n",
       "    </tr>\n",
       "    <tr>\n",
       "      <th>...</th>\n",
       "      <td>...</td>\n",
       "      <td>...</td>\n",
       "      <td>...</td>\n",
       "      <td>...</td>\n",
       "    </tr>\n",
       "    <tr>\n",
       "      <th>901</th>\n",
       "      <td>2016 Summer</td>\n",
       "      <td>Triathlon</td>\n",
       "      <td>Summer</td>\n",
       "      <td>110</td>\n",
       "    </tr>\n",
       "    <tr>\n",
       "      <th>902</th>\n",
       "      <td>2016 Summer</td>\n",
       "      <td>Volleyball</td>\n",
       "      <td>Summer</td>\n",
       "      <td>283</td>\n",
       "    </tr>\n",
       "    <tr>\n",
       "      <th>903</th>\n",
       "      <td>2016 Summer</td>\n",
       "      <td>Water Polo</td>\n",
       "      <td>Summer</td>\n",
       "      <td>258</td>\n",
       "    </tr>\n",
       "    <tr>\n",
       "      <th>904</th>\n",
       "      <td>2016 Summer</td>\n",
       "      <td>Weightlifting</td>\n",
       "      <td>Summer</td>\n",
       "      <td>255</td>\n",
       "    </tr>\n",
       "    <tr>\n",
       "      <th>905</th>\n",
       "      <td>2016 Summer</td>\n",
       "      <td>Wrestling</td>\n",
       "      <td>Summer</td>\n",
       "      <td>346</td>\n",
       "    </tr>\n",
       "  </tbody>\n",
       "</table>\n",
       "<p>906 rows × 4 columns</p>\n",
       "</div>"
      ],
      "text/plain": [
       "           Games          Sport  Season  Athlets\n",
       "0    1896 Summer      Athletics  Summer      106\n",
       "1    1896 Summer        Cycling  Summer       41\n",
       "2    1896 Summer        Fencing  Summer       15\n",
       "3    1896 Summer     Gymnastics  Summer       97\n",
       "4    1896 Summer       Shooting  Summer       65\n",
       "..           ...            ...     ...      ...\n",
       "901  2016 Summer      Triathlon  Summer      110\n",
       "902  2016 Summer     Volleyball  Summer      283\n",
       "903  2016 Summer     Water Polo  Summer      258\n",
       "904  2016 Summer  Weightlifting  Summer      255\n",
       "905  2016 Summer      Wrestling  Summer      346\n",
       "\n",
       "[906 rows x 4 columns]"
      ]
     },
     "execution_count": 36,
     "metadata": {},
     "output_type": "execute_result"
    }
   ],
   "source": [
    "#10.\n",
    "\n",
    "participants=df.groupby(['Games','Sport','Season'])['Name'].count().reset_index()\n",
    "participants.rename(columns={'Name':'Athlets'},inplace=True)\n",
    "participants\n"
   ]
  },
  {
   "cell_type": "code",
   "execution_count": 37,
   "id": "b63ae2f6",
   "metadata": {
    "execution": {
     "iopub.execute_input": "2022-07-26T22:53:58.380493Z",
     "iopub.status.busy": "2022-07-26T22:53:58.380064Z",
     "iopub.status.idle": "2022-07-26T22:53:58.387466Z",
     "shell.execute_reply": "2022-07-26T22:53:58.386407Z"
    },
    "papermill": {
     "duration": 0.092975,
     "end_time": "2022-07-26T22:53:58.389470",
     "exception": false,
     "start_time": "2022-07-26T22:53:58.296495",
     "status": "completed"
    },
    "tags": []
   },
   "outputs": [],
   "source": [
    "df2016 = participants\n",
    "pie1 = df2016.Athlets\n",
    "#pie1_list = [float(each.replace(',', '.')) for each in df2016.Athlets]  # str(2,4) => str(2.4) = > float(2.4) = 2.4\n",
    "pie1_list=df2016.Athlets\n",
    "labels = df2016.Sport.where( participants[\"Season\"]=='Summer')\n"
   ]
  },
  {
   "cell_type": "code",
   "execution_count": 38,
   "id": "cf89c80c",
   "metadata": {
    "execution": {
     "iopub.execute_input": "2022-07-26T22:53:58.551850Z",
     "iopub.status.busy": "2022-07-26T22:53:58.551483Z",
     "iopub.status.idle": "2022-07-26T22:53:58.558190Z",
     "shell.execute_reply": "2022-07-26T22:53:58.557177Z"
    },
    "papermill": {
     "duration": 0.090647,
     "end_time": "2022-07-26T22:53:58.560290",
     "exception": false,
     "start_time": "2022-07-26T22:53:58.469643",
     "status": "completed"
    },
    "tags": []
   },
   "outputs": [],
   "source": [
    "df2016 = participants\n",
    "pie1 = df2016.Athlets\n",
    "#pie1_list = [float(each.replace(',', '.')) for each in df2016.Athlets]  # str(2,4) => str(2.4) = > float(2.4) = 2.4\n",
    "pie1_list=df2016.Athlets\n",
    "labels = df2016.Games.where( participants[\"Season\"]=='Summer')"
   ]
  },
  {
   "cell_type": "code",
   "execution_count": 39,
   "id": "52c24b70",
   "metadata": {
    "execution": {
     "iopub.execute_input": "2022-07-26T22:53:58.722773Z",
     "iopub.status.busy": "2022-07-26T22:53:58.722375Z",
     "iopub.status.idle": "2022-07-26T22:53:58.789954Z",
     "shell.execute_reply": "2022-07-26T22:53:58.788682Z"
    },
    "papermill": {
     "duration": 0.153087,
     "end_time": "2022-07-26T22:53:58.793232",
     "exception": false,
     "start_time": "2022-07-26T22:53:58.640145",
     "status": "completed"
    },
    "tags": []
   },
   "outputs": [
    {
     "data": {
      "application/vnd.plotly.v1+json": {
       "config": {
        "linkText": "Export to plot.ly",
        "plotlyServerURL": "https://plot.ly",
        "showLink": false
       },
       "data": [
        {
         "domain": {
          "x": [
           0,
           0.5
          ]
         },
         "hole": 0.3,
         "hoverinfo": "label+percent+name",
         "labels": [
          "1896 Summer",
          "1896 Summer",
          "1896 Summer",
          "1896 Summer",
          "1896 Summer",
          "1896 Summer",
          "1896 Summer",
          "1896 Summer",
          "1896 Summer",
          "1900 Summer",
          "1900 Summer",
          "1900 Summer",
          "1900 Summer",
          "1900 Summer",
          "1900 Summer",
          "1900 Summer",
          "1900 Summer",
          "1900 Summer",
          "1900 Summer",
          "1900 Summer",
          "1900 Summer",
          "1900 Summer",
          "1900 Summer",
          "1900 Summer",
          "1900 Summer",
          "1900 Summer",
          "1900 Summer",
          "1900 Summer",
          "1900 Summer",
          "1904 Summer",
          "1904 Summer",
          "1904 Summer",
          "1904 Summer",
          "1904 Summer",
          "1904 Summer",
          "1904 Summer",
          "1904 Summer",
          "1904 Summer",
          "1904 Summer",
          "1904 Summer",
          "1904 Summer",
          "1904 Summer",
          "1904 Summer",
          "1904 Summer",
          "1904 Summer",
          "1904 Summer",
          "1904 Summer",
          "1906 Summer",
          "1906 Summer",
          "1906 Summer",
          "1906 Summer",
          "1906 Summer",
          "1906 Summer",
          "1906 Summer",
          "1906 Summer",
          "1906 Summer",
          "1906 Summer",
          "1906 Summer",
          "1906 Summer",
          "1906 Summer",
          "1908 Summer",
          "1908 Summer",
          "1908 Summer",
          "1908 Summer",
          "1908 Summer",
          "1908 Summer",
          "1908 Summer",
          "1908 Summer",
          "1908 Summer",
          "1908 Summer",
          "1908 Summer",
          "1908 Summer",
          "1908 Summer",
          "1908 Summer",
          "1908 Summer",
          "1908 Summer",
          "1908 Summer",
          "1908 Summer",
          "1908 Summer",
          "1908 Summer",
          "1908 Summer",
          "1908 Summer",
          "1908 Summer",
          "1908 Summer",
          "1912 Summer",
          "1912 Summer",
          "1912 Summer",
          "1912 Summer",
          "1912 Summer",
          "1912 Summer",
          "1912 Summer",
          "1912 Summer",
          "1912 Summer",
          "1912 Summer",
          "1912 Summer",
          "1912 Summer",
          "1912 Summer",
          "1912 Summer",
          "1912 Summer",
          "1912 Summer",
          "1912 Summer",
          "1920 Summer",
          "1920 Summer",
          "1920 Summer",
          "1920 Summer",
          "1920 Summer",
          "1920 Summer",
          "1920 Summer",
          "1920 Summer",
          "1920 Summer",
          "1920 Summer",
          "1920 Summer",
          "1920 Summer",
          "1920 Summer",
          "1920 Summer",
          "1920 Summer",
          "1920 Summer",
          "1920 Summer",
          "1920 Summer",
          "1920 Summer",
          "1920 Summer",
          "1920 Summer",
          "1920 Summer",
          "1920 Summer",
          "1920 Summer",
          "1920 Summer",
          "1924 Summer",
          "1924 Summer",
          "1924 Summer",
          "1924 Summer",
          "1924 Summer",
          "1924 Summer",
          "1924 Summer",
          "1924 Summer",
          "1924 Summer",
          "1924 Summer",
          "1924 Summer",
          "1924 Summer",
          "1924 Summer",
          "1924 Summer",
          "1924 Summer",
          "1924 Summer",
          "1924 Summer",
          "1924 Summer",
          "1924 Summer",
          "1924 Summer",
          null,
          null,
          null,
          null,
          null,
          null,
          null,
          null,
          null,
          null,
          "1928 Summer",
          "1928 Summer",
          "1928 Summer",
          "1928 Summer",
          "1928 Summer",
          "1928 Summer",
          "1928 Summer",
          "1928 Summer",
          "1928 Summer",
          "1928 Summer",
          "1928 Summer",
          "1928 Summer",
          "1928 Summer",
          "1928 Summer",
          "1928 Summer",
          "1928 Summer",
          "1928 Summer",
          null,
          null,
          null,
          null,
          null,
          null,
          null,
          null,
          "1932 Summer",
          "1932 Summer",
          "1932 Summer",
          "1932 Summer",
          "1932 Summer",
          "1932 Summer",
          "1932 Summer",
          "1932 Summer",
          "1932 Summer",
          "1932 Summer",
          "1932 Summer",
          "1932 Summer",
          "1932 Summer",
          "1932 Summer",
          "1932 Summer",
          "1932 Summer",
          "1932 Summer",
          "1932 Summer",
          null,
          null,
          null,
          null,
          null,
          null,
          null,
          "1936 Summer",
          "1936 Summer",
          "1936 Summer",
          "1936 Summer",
          "1936 Summer",
          "1936 Summer",
          "1936 Summer",
          "1936 Summer",
          "1936 Summer",
          "1936 Summer",
          "1936 Summer",
          "1936 Summer",
          "1936 Summer",
          "1936 Summer",
          "1936 Summer",
          "1936 Summer",
          "1936 Summer",
          "1936 Summer",
          "1936 Summer",
          "1936 Summer",
          "1936 Summer",
          "1936 Summer",
          "1936 Summer",
          "1936 Summer",
          null,
          null,
          null,
          null,
          null,
          null,
          null,
          null,
          "1948 Summer",
          "1948 Summer",
          "1948 Summer",
          "1948 Summer",
          "1948 Summer",
          "1948 Summer",
          "1948 Summer",
          "1948 Summer",
          "1948 Summer",
          "1948 Summer",
          "1948 Summer",
          "1948 Summer",
          "1948 Summer",
          "1948 Summer",
          "1948 Summer",
          "1948 Summer",
          "1948 Summer",
          "1948 Summer",
          "1948 Summer",
          "1948 Summer",
          null,
          null,
          null,
          null,
          null,
          null,
          null,
          null,
          null,
          "1952 Summer",
          "1952 Summer",
          "1952 Summer",
          "1952 Summer",
          "1952 Summer",
          "1952 Summer",
          "1952 Summer",
          "1952 Summer",
          "1952 Summer",
          "1952 Summer",
          "1952 Summer",
          "1952 Summer",
          "1952 Summer",
          "1952 Summer",
          "1952 Summer",
          "1952 Summer",
          "1952 Summer",
          "1952 Summer",
          "1952 Summer",
          null,
          null,
          null,
          null,
          null,
          null,
          null,
          null,
          "1956 Summer",
          "1956 Summer",
          "1956 Summer",
          "1956 Summer",
          "1956 Summer",
          "1956 Summer",
          "1956 Summer",
          "1956 Summer",
          "1956 Summer",
          "1956 Summer",
          "1956 Summer",
          "1956 Summer",
          "1956 Summer",
          "1956 Summer",
          "1956 Summer",
          "1956 Summer",
          "1956 Summer",
          "1956 Summer",
          "1956 Summer",
          null,
          null,
          null,
          null,
          null,
          null,
          null,
          null,
          "1960 Summer",
          "1960 Summer",
          "1960 Summer",
          "1960 Summer",
          "1960 Summer",
          "1960 Summer",
          "1960 Summer",
          "1960 Summer",
          "1960 Summer",
          "1960 Summer",
          "1960 Summer",
          "1960 Summer",
          "1960 Summer",
          "1960 Summer",
          "1960 Summer",
          "1960 Summer",
          "1960 Summer",
          "1960 Summer",
          "1960 Summer",
          null,
          null,
          null,
          null,
          null,
          null,
          null,
          null,
          "1964 Summer",
          "1964 Summer",
          "1964 Summer",
          "1964 Summer",
          "1964 Summer",
          "1964 Summer",
          "1964 Summer",
          "1964 Summer",
          "1964 Summer",
          "1964 Summer",
          "1964 Summer",
          "1964 Summer",
          "1964 Summer",
          "1964 Summer",
          "1964 Summer",
          "1964 Summer",
          "1964 Summer",
          "1964 Summer",
          "1964 Summer",
          "1964 Summer",
          "1964 Summer",
          null,
          null,
          null,
          null,
          null,
          null,
          null,
          null,
          null,
          null,
          "1968 Summer",
          "1968 Summer",
          "1968 Summer",
          "1968 Summer",
          "1968 Summer",
          "1968 Summer",
          "1968 Summer",
          "1968 Summer",
          "1968 Summer",
          "1968 Summer",
          "1968 Summer",
          "1968 Summer",
          "1968 Summer",
          "1968 Summer",
          "1968 Summer",
          "1968 Summer",
          "1968 Summer",
          "1968 Summer",
          "1968 Summer",
          "1968 Summer",
          null,
          null,
          null,
          null,
          null,
          null,
          null,
          null,
          null,
          null,
          "1972 Summer",
          "1972 Summer",
          "1972 Summer",
          "1972 Summer",
          "1972 Summer",
          "1972 Summer",
          "1972 Summer",
          "1972 Summer",
          "1972 Summer",
          "1972 Summer",
          "1972 Summer",
          "1972 Summer",
          "1972 Summer",
          "1972 Summer",
          "1972 Summer",
          "1972 Summer",
          "1972 Summer",
          "1972 Summer",
          "1972 Summer",
          "1972 Summer",
          "1972 Summer",
          "1972 Summer",
          "1972 Summer",
          null,
          null,
          null,
          null,
          null,
          null,
          null,
          null,
          null,
          null,
          "1976 Summer",
          "1976 Summer",
          "1976 Summer",
          "1976 Summer",
          "1976 Summer",
          "1976 Summer",
          "1976 Summer",
          "1976 Summer",
          "1976 Summer",
          "1976 Summer",
          "1976 Summer",
          "1976 Summer",
          "1976 Summer",
          "1976 Summer",
          "1976 Summer",
          "1976 Summer",
          "1976 Summer",
          "1976 Summer",
          "1976 Summer",
          "1976 Summer",
          "1976 Summer",
          "1976 Summer",
          "1976 Summer",
          null,
          null,
          null,
          null,
          null,
          null,
          null,
          null,
          null,
          null,
          "1980 Summer",
          "1980 Summer",
          "1980 Summer",
          "1980 Summer",
          "1980 Summer",
          "1980 Summer",
          "1980 Summer",
          "1980 Summer",
          "1980 Summer",
          "1980 Summer",
          "1980 Summer",
          "1980 Summer",
          "1980 Summer",
          "1980 Summer",
          "1980 Summer",
          "1980 Summer",
          "1980 Summer",
          "1980 Summer",
          "1980 Summer",
          "1980 Summer",
          "1980 Summer",
          "1980 Summer",
          "1980 Summer",
          null,
          null,
          null,
          null,
          null,
          null,
          null,
          null,
          null,
          null,
          "1984 Summer",
          "1984 Summer",
          "1984 Summer",
          "1984 Summer",
          "1984 Summer",
          "1984 Summer",
          "1984 Summer",
          "1984 Summer",
          "1984 Summer",
          "1984 Summer",
          "1984 Summer",
          "1984 Summer",
          "1984 Summer",
          "1984 Summer",
          "1984 Summer",
          "1984 Summer",
          "1984 Summer",
          "1984 Summer",
          "1984 Summer",
          "1984 Summer",
          "1984 Summer",
          "1984 Summer",
          "1984 Summer",
          "1984 Summer",
          "1984 Summer",
          null,
          null,
          null,
          null,
          null,
          null,
          null,
          null,
          null,
          null,
          "1988 Summer",
          "1988 Summer",
          "1988 Summer",
          "1988 Summer",
          "1988 Summer",
          "1988 Summer",
          "1988 Summer",
          "1988 Summer",
          "1988 Summer",
          "1988 Summer",
          "1988 Summer",
          "1988 Summer",
          "1988 Summer",
          "1988 Summer",
          "1988 Summer",
          "1988 Summer",
          "1988 Summer",
          "1988 Summer",
          "1988 Summer",
          "1988 Summer",
          "1988 Summer",
          "1988 Summer",
          "1988 Summer",
          "1988 Summer",
          "1988 Summer",
          "1988 Summer",
          "1988 Summer",
          null,
          null,
          null,
          null,
          null,
          null,
          null,
          null,
          null,
          null,
          "1992 Summer",
          "1992 Summer",
          "1992 Summer",
          "1992 Summer",
          "1992 Summer",
          "1992 Summer",
          "1992 Summer",
          "1992 Summer",
          "1992 Summer",
          "1992 Summer",
          "1992 Summer",
          "1992 Summer",
          "1992 Summer",
          "1992 Summer",
          "1992 Summer",
          "1992 Summer",
          "1992 Summer",
          "1992 Summer",
          "1992 Summer",
          "1992 Summer",
          "1992 Summer",
          "1992 Summer",
          "1992 Summer",
          "1992 Summer",
          "1992 Summer",
          "1992 Summer",
          "1992 Summer",
          "1992 Summer",
          "1992 Summer",
          null,
          null,
          null,
          null,
          null,
          null,
          null,
          null,
          null,
          null,
          null,
          null,
          null,
          null,
          null,
          null,
          null,
          null,
          null,
          null,
          null,
          null,
          null,
          null,
          "1996 Summer",
          "1996 Summer",
          "1996 Summer",
          "1996 Summer",
          "1996 Summer",
          "1996 Summer",
          "1996 Summer",
          "1996 Summer",
          "1996 Summer",
          "1996 Summer",
          "1996 Summer",
          "1996 Summer",
          "1996 Summer",
          "1996 Summer",
          "1996 Summer",
          "1996 Summer",
          "1996 Summer",
          "1996 Summer",
          "1996 Summer",
          "1996 Summer",
          "1996 Summer",
          "1996 Summer",
          "1996 Summer",
          "1996 Summer",
          "1996 Summer",
          "1996 Summer",
          "1996 Summer",
          "1996 Summer",
          "1996 Summer",
          "1996 Summer",
          "1996 Summer",
          null,
          null,
          null,
          null,
          null,
          null,
          null,
          null,
          null,
          null,
          null,
          null,
          null,
          null,
          "2000 Summer",
          "2000 Summer",
          "2000 Summer",
          "2000 Summer",
          "2000 Summer",
          "2000 Summer",
          "2000 Summer",
          "2000 Summer",
          "2000 Summer",
          "2000 Summer",
          "2000 Summer",
          "2000 Summer",
          "2000 Summer",
          "2000 Summer",
          "2000 Summer",
          "2000 Summer",
          "2000 Summer",
          "2000 Summer",
          "2000 Summer",
          "2000 Summer",
          "2000 Summer",
          "2000 Summer",
          "2000 Summer",
          "2000 Summer",
          "2000 Summer",
          "2000 Summer",
          "2000 Summer",
          "2000 Summer",
          "2000 Summer",
          "2000 Summer",
          "2000 Summer",
          "2000 Summer",
          "2000 Summer",
          "2000 Summer",
          null,
          null,
          null,
          null,
          null,
          null,
          null,
          null,
          null,
          null,
          null,
          null,
          null,
          null,
          null,
          "2004 Summer",
          "2004 Summer",
          "2004 Summer",
          "2004 Summer",
          "2004 Summer",
          "2004 Summer",
          "2004 Summer",
          "2004 Summer",
          "2004 Summer",
          "2004 Summer",
          "2004 Summer",
          "2004 Summer",
          "2004 Summer",
          "2004 Summer",
          "2004 Summer",
          "2004 Summer",
          "2004 Summer",
          "2004 Summer",
          "2004 Summer",
          "2004 Summer",
          "2004 Summer",
          "2004 Summer",
          "2004 Summer",
          "2004 Summer",
          "2004 Summer",
          "2004 Summer",
          "2004 Summer",
          "2004 Summer",
          "2004 Summer",
          "2004 Summer",
          "2004 Summer",
          "2004 Summer",
          "2004 Summer",
          "2004 Summer",
          null,
          null,
          null,
          null,
          null,
          null,
          null,
          null,
          null,
          null,
          null,
          null,
          null,
          null,
          null,
          "2008 Summer",
          "2008 Summer",
          "2008 Summer",
          "2008 Summer",
          "2008 Summer",
          "2008 Summer",
          "2008 Summer",
          "2008 Summer",
          "2008 Summer",
          "2008 Summer",
          "2008 Summer",
          "2008 Summer",
          "2008 Summer",
          "2008 Summer",
          "2008 Summer",
          "2008 Summer",
          "2008 Summer",
          "2008 Summer",
          "2008 Summer",
          "2008 Summer",
          "2008 Summer",
          "2008 Summer",
          "2008 Summer",
          "2008 Summer",
          "2008 Summer",
          "2008 Summer",
          "2008 Summer",
          "2008 Summer",
          "2008 Summer",
          "2008 Summer",
          "2008 Summer",
          "2008 Summer",
          "2008 Summer",
          "2008 Summer",
          null,
          null,
          null,
          null,
          null,
          null,
          null,
          null,
          null,
          null,
          null,
          null,
          null,
          null,
          null,
          "2012 Summer",
          "2012 Summer",
          "2012 Summer",
          "2012 Summer",
          "2012 Summer",
          "2012 Summer",
          "2012 Summer",
          "2012 Summer",
          "2012 Summer",
          "2012 Summer",
          "2012 Summer",
          "2012 Summer",
          "2012 Summer",
          "2012 Summer",
          "2012 Summer",
          "2012 Summer",
          "2012 Summer",
          "2012 Summer",
          "2012 Summer",
          "2012 Summer",
          "2012 Summer",
          "2012 Summer",
          "2012 Summer",
          "2012 Summer",
          "2012 Summer",
          "2012 Summer",
          "2012 Summer",
          "2012 Summer",
          "2012 Summer",
          "2012 Summer",
          "2012 Summer",
          "2012 Summer",
          null,
          null,
          null,
          null,
          null,
          null,
          null,
          null,
          null,
          null,
          null,
          null,
          null,
          null,
          null,
          "2016 Summer",
          "2016 Summer",
          "2016 Summer",
          "2016 Summer",
          "2016 Summer",
          "2016 Summer",
          "2016 Summer",
          "2016 Summer",
          "2016 Summer",
          "2016 Summer",
          "2016 Summer",
          "2016 Summer",
          "2016 Summer",
          "2016 Summer",
          "2016 Summer",
          "2016 Summer",
          "2016 Summer",
          "2016 Summer",
          "2016 Summer",
          "2016 Summer",
          "2016 Summer",
          "2016 Summer",
          "2016 Summer",
          "2016 Summer",
          "2016 Summer",
          "2016 Summer",
          "2016 Summer",
          "2016 Summer",
          "2016 Summer",
          "2016 Summer",
          "2016 Summer",
          "2016 Summer",
          "2016 Summer",
          "2016 Summer"
         ],
         "name": "Number Of Students Rates",
         "type": "pie",
         "values": [
          106,
          41,
          15,
          97,
          65,
          18,
          23,
          10,
          5,
          32,
          234,
          2,
          24,
          19,
          92,
          79,
          317,
          35,
          22,
          135,
          21,
          133,
          47,
          280,
          221,
          131,
          47,
          12,
          53,
          70,
          201,
          24,
          61,
          5,
          28,
          36,
          105,
          458,
          36,
          4,
          46,
          64,
          57,
          30,
          21,
          7,
          48,
          470,
          138,
          24,
          161,
          45,
          156,
          200,
          320,
          78,
          48,
          32,
          22,
          39,
          77,
          778,
          42,
          269,
          47,
          240,
          23,
          72,
          349,
          68,
          11,
          24,
          17,
          12,
          12,
          87,
          30,
          64,
          444,
          150,
          84,
          40,
          28,
          133,
          33,
          962,
          242,
          86,
          128,
          379,
          163,
          310,
          32,
          197,
          109,
          794,
          201,
          173,
          16,
          45,
          170,
          86,
          11,
          849,
          116,
          212,
          70,
          132,
          350,
          31,
          190,
          263,
          51,
          60,
          23,
          17,
          144,
          31,
          101,
          838,
          209,
          153,
          40,
          101,
          53,
          161,
          318,
          1003,
          181,
          249,
          90,
          194,
          424,
          279,
          638,
          38,
          24,
          196,
          54,
          69,
          508,
          263,
          253,
          101,
          107,
          244,
          21,
          39,
          74,
          16,
          37,
          82,
          24,
          30,
          27,
          110,
          808,
          992,
          144,
          227,
          74,
          232,
          430,
          219,
          664,
          137,
          37,
          247,
          128,
          278,
          112,
          94,
          169,
          116,
          90,
          63,
          124,
          35,
          10,
          38,
          106,
          2,
          1124,
          522,
          85,
          109,
          36,
          65,
          192,
          147,
          40,
          25,
          166,
          57,
          44,
          195,
          41,
          29,
          90,
          52,
          74,
          41,
          48,
          33,
          34,
          70,
          1,
          2,
          813,
          1007,
          199,
          179,
          143,
          301,
          88,
          256,
          556,
          201,
          947,
          105,
          167,
          42,
          21,
          348,
          172,
          162,
          364,
          142,
          80,
          210,
          103,
          118,
          175,
          87,
          173,
          51,
          48,
          140,
          471,
          1051,
          287,
          205,
          139,
          320,
          84,
          207,
          508,
          218,
          1060,
          187,
          45,
          318,
          186,
          216,
          398,
          156,
          120,
          229,
          360,
          92,
          156,
          71,
          139,
          39,
          15,
          49,
          154,
          1344,
          294,
          249,
          184,
          389,
          97,
          263,
          509,
          294,
          2391,
          157,
          99,
          406,
          227,
          289,
          483,
          191,
          142,
          262,
          378,
          96,
          188,
          65,
          147,
          25,
          44,
          145,
          1013,
          169,
          161,
          146,
          292,
          82,
          298,
          278,
          143,
          913,
          173,
          76,
          258,
          154,
          219,
          356,
          96,
          105,
          195,
          403,
          135,
          275,
          59,
          169,
          36,
          51,
          179,
          1312,
          192,
          281,
          211,
          423,
          96,
          276,
          601,
          235,
          1746,
          236,
          111,
          431,
          290,
          389,
          630,
          150,
          172,
          337,
          320,
          30,
          216,
          71,
          152,
          33,
          45,
          249,
          1335,
          189,
          269,
          167,
          451,
          102,
          224,
          481,
          214,
          1484,
          226,
          72,
          70,
          378,
          225,
          312,
          736,
          179,
          137,
          149,
          302,
          411,
          51,
          117,
          332,
          88,
          270,
          85,
          32,
          105,
          287,
          1345,
          191,
          307,
          203,
          483,
          109,
          233,
          490,
          273,
          1496,
          253,
          93,
          358,
          252,
          410,
          1231,
          206,
          162,
          160,
          333,
          422,
          116,
          120,
          344,
          96,
          250,
          106,
          41,
          116,
          280,
          95,
          1686,
          190,
          354,
          359,
          526,
          124,
          326,
          499,
          269,
          1584,
          243,
          263,
          166,
          116,
          442,
          323,
          472,
          1263,
          231,
          176,
          188,
          409,
          325,
          106,
          114,
          335,
          68,
          208,
          107,
          40,
          108,
          244,
          64,
          1297,
          213,
          266,
          340,
          392,
          105,
          246,
          485,
          202,
          1204,
          243,
          172,
          154,
          89,
          598,
          257,
          369,
          1076,
          216,
          131,
          173,
          349,
          390,
          112,
          133,
          395,
          105,
          217,
          119,
          34,
          109,
          247,
          67,
          1268,
          215,
          271,
          253,
          307,
          88,
          122,
          321,
          256,
          866,
          248,
          187,
          193,
          79,
          488,
          156,
          267,
          761,
          204,
          132,
          172,
          270,
          327,
          159,
          108,
          309,
          85,
          239,
          94,
          31,
          98,
          296,
          109,
          1674,
          213,
          354,
          299,
          475,
          101,
          281,
          424,
          246,
          930,
          259,
          286,
          212,
          103,
          33,
          465,
          300,
          539,
          1232,
          86,
          208,
          153,
          186,
          286,
          401,
          195,
          152,
          477,
          114,
          239,
          89,
          28,
          111,
          328,
          257,
          2062,
          236,
          432,
          388,
          518,
          108,
          324,
          506,
          270,
          1217,
          281,
          314,
          243,
          122,
          39,
          624,
          375,
          545,
          1614,
          76,
          206,
          202,
          239,
          156,
          226,
          457,
          668,
          207,
          186,
          528,
          129,
          265,
          98,
          75,
          157,
          326,
          247,
          2054,
          226,
          160,
          236,
          336,
          587,
          566,
          112,
          404,
          458,
          272,
          1255,
          292,
          314,
          433,
          117,
          42,
          661,
          441,
          564,
          1615,
          89,
          248,
          250,
          231,
          152,
          244,
          371,
          750,
          457,
          216,
          717,
          133,
          71,
          267,
          98,
          78,
          124,
          171,
          354,
          544,
          416,
          207,
          639,
          130,
          99,
          268,
          98,
          89,
          188,
          164,
          318,
          218,
          2386,
          263,
          160,
          284,
          84,
          355,
          575,
          584,
          139,
          343,
          388,
          388,
          1397,
          300,
          320,
          387,
          32,
          90,
          621,
          458,
          612,
          120,
          1635,
          72,
          251,
          246,
          275,
          153,
          243,
          401,
          477,
          413,
          204,
          733,
          80,
          145,
          110,
          426,
          97,
          92,
          190,
          176,
          127,
          335,
          206,
          2468,
          225,
          192,
          286,
          96,
          307,
          448,
          621,
          238,
          295,
          349,
          391,
          1144,
          323,
          350,
          398,
          48,
          84,
          561,
          402,
          599,
          120,
          1741,
          117,
          268,
          102,
          248,
          24,
          100,
          279,
          231,
          246,
          314,
          559,
          564,
          240,
          774,
          96,
          143,
          105,
          468,
          117,
          125,
          251,
          39,
          178,
          118,
          332,
          212,
          2175,
          200,
          191,
          287,
          96,
          280,
          434,
          623,
          196,
          371,
          323,
          425,
          1151,
          328,
          352,
          384,
          64,
          84,
          559,
          401,
          558,
          118,
          1618,
          117,
          260,
          124,
          252,
          32,
          99,
          283,
          255,
          249,
          342,
          619,
          658,
          191,
          812,
          91,
          147,
          116,
          442,
          108,
          138,
          239,
          42,
          202,
          198,
          379,
          194,
          2244,
          184,
          191,
          287,
          96,
          283,
          436,
          652,
          182,
          340,
          332,
          469,
          996,
          343,
          387,
          386,
          72,
          95,
          563,
          400,
          577,
          120,
          1749,
          117,
          250,
          126,
          254,
          32,
          110,
          283,
          256,
          253,
          343,
          685,
          683,
          199,
          725,
          93,
          146,
          172,
          420,
          107,
          131,
          273,
          47,
          170,
          185,
          366,
          200,
          2278,
          182,
          287,
          96,
          283,
          418,
          629,
          181,
          350,
          345,
          467,
          848,
          347,
          387,
          384,
          72,
          95,
          550,
          379,
          560,
          1538,
          117,
          236,
          128,
          286,
          32,
          110,
          287,
          257,
          252,
          339,
          687,
          726,
          223,
          765,
          87,
          221,
          264,
          443,
          156,
          128,
          269,
          46,
          200,
          308,
          368,
          200,
          2508,
          177,
          281,
          96,
          283,
          441,
          667,
          178,
          355,
          346,
          473,
          120,
          861,
          353,
          390,
          389,
          72,
          96,
          550,
          299,
          380,
          555,
          1568,
          118,
          236,
          126,
          286,
          32,
          110,
          283,
          258,
          255,
          346
         ]
        }
       ],
       "layout": {
        "annotations": [
         {
          "font": {
           "size": 20
          },
          "showarrow": false,
          "text": "Number of Students",
          "x": 0.2,
          "y": 1
         }
        ],
        "template": {
         "data": {
          "bar": [
           {
            "error_x": {
             "color": "#2a3f5f"
            },
            "error_y": {
             "color": "#2a3f5f"
            },
            "marker": {
             "line": {
              "color": "#E5ECF6",
              "width": 0.5
             },
             "pattern": {
              "fillmode": "overlay",
              "size": 10,
              "solidity": 0.2
             }
            },
            "type": "bar"
           }
          ],
          "barpolar": [
           {
            "marker": {
             "line": {
              "color": "#E5ECF6",
              "width": 0.5
             },
             "pattern": {
              "fillmode": "overlay",
              "size": 10,
              "solidity": 0.2
             }
            },
            "type": "barpolar"
           }
          ],
          "carpet": [
           {
            "aaxis": {
             "endlinecolor": "#2a3f5f",
             "gridcolor": "white",
             "linecolor": "white",
             "minorgridcolor": "white",
             "startlinecolor": "#2a3f5f"
            },
            "baxis": {
             "endlinecolor": "#2a3f5f",
             "gridcolor": "white",
             "linecolor": "white",
             "minorgridcolor": "white",
             "startlinecolor": "#2a3f5f"
            },
            "type": "carpet"
           }
          ],
          "choropleth": [
           {
            "colorbar": {
             "outlinewidth": 0,
             "ticks": ""
            },
            "type": "choropleth"
           }
          ],
          "contour": [
           {
            "colorbar": {
             "outlinewidth": 0,
             "ticks": ""
            },
            "colorscale": [
             [
              0.0,
              "#0d0887"
             ],
             [
              0.1111111111111111,
              "#46039f"
             ],
             [
              0.2222222222222222,
              "#7201a8"
             ],
             [
              0.3333333333333333,
              "#9c179e"
             ],
             [
              0.4444444444444444,
              "#bd3786"
             ],
             [
              0.5555555555555556,
              "#d8576b"
             ],
             [
              0.6666666666666666,
              "#ed7953"
             ],
             [
              0.7777777777777778,
              "#fb9f3a"
             ],
             [
              0.8888888888888888,
              "#fdca26"
             ],
             [
              1.0,
              "#f0f921"
             ]
            ],
            "type": "contour"
           }
          ],
          "contourcarpet": [
           {
            "colorbar": {
             "outlinewidth": 0,
             "ticks": ""
            },
            "type": "contourcarpet"
           }
          ],
          "heatmap": [
           {
            "colorbar": {
             "outlinewidth": 0,
             "ticks": ""
            },
            "colorscale": [
             [
              0.0,
              "#0d0887"
             ],
             [
              0.1111111111111111,
              "#46039f"
             ],
             [
              0.2222222222222222,
              "#7201a8"
             ],
             [
              0.3333333333333333,
              "#9c179e"
             ],
             [
              0.4444444444444444,
              "#bd3786"
             ],
             [
              0.5555555555555556,
              "#d8576b"
             ],
             [
              0.6666666666666666,
              "#ed7953"
             ],
             [
              0.7777777777777778,
              "#fb9f3a"
             ],
             [
              0.8888888888888888,
              "#fdca26"
             ],
             [
              1.0,
              "#f0f921"
             ]
            ],
            "type": "heatmap"
           }
          ],
          "heatmapgl": [
           {
            "colorbar": {
             "outlinewidth": 0,
             "ticks": ""
            },
            "colorscale": [
             [
              0.0,
              "#0d0887"
             ],
             [
              0.1111111111111111,
              "#46039f"
             ],
             [
              0.2222222222222222,
              "#7201a8"
             ],
             [
              0.3333333333333333,
              "#9c179e"
             ],
             [
              0.4444444444444444,
              "#bd3786"
             ],
             [
              0.5555555555555556,
              "#d8576b"
             ],
             [
              0.6666666666666666,
              "#ed7953"
             ],
             [
              0.7777777777777778,
              "#fb9f3a"
             ],
             [
              0.8888888888888888,
              "#fdca26"
             ],
             [
              1.0,
              "#f0f921"
             ]
            ],
            "type": "heatmapgl"
           }
          ],
          "histogram": [
           {
            "marker": {
             "pattern": {
              "fillmode": "overlay",
              "size": 10,
              "solidity": 0.2
             }
            },
            "type": "histogram"
           }
          ],
          "histogram2d": [
           {
            "colorbar": {
             "outlinewidth": 0,
             "ticks": ""
            },
            "colorscale": [
             [
              0.0,
              "#0d0887"
             ],
             [
              0.1111111111111111,
              "#46039f"
             ],
             [
              0.2222222222222222,
              "#7201a8"
             ],
             [
              0.3333333333333333,
              "#9c179e"
             ],
             [
              0.4444444444444444,
              "#bd3786"
             ],
             [
              0.5555555555555556,
              "#d8576b"
             ],
             [
              0.6666666666666666,
              "#ed7953"
             ],
             [
              0.7777777777777778,
              "#fb9f3a"
             ],
             [
              0.8888888888888888,
              "#fdca26"
             ],
             [
              1.0,
              "#f0f921"
             ]
            ],
            "type": "histogram2d"
           }
          ],
          "histogram2dcontour": [
           {
            "colorbar": {
             "outlinewidth": 0,
             "ticks": ""
            },
            "colorscale": [
             [
              0.0,
              "#0d0887"
             ],
             [
              0.1111111111111111,
              "#46039f"
             ],
             [
              0.2222222222222222,
              "#7201a8"
             ],
             [
              0.3333333333333333,
              "#9c179e"
             ],
             [
              0.4444444444444444,
              "#bd3786"
             ],
             [
              0.5555555555555556,
              "#d8576b"
             ],
             [
              0.6666666666666666,
              "#ed7953"
             ],
             [
              0.7777777777777778,
              "#fb9f3a"
             ],
             [
              0.8888888888888888,
              "#fdca26"
             ],
             [
              1.0,
              "#f0f921"
             ]
            ],
            "type": "histogram2dcontour"
           }
          ],
          "mesh3d": [
           {
            "colorbar": {
             "outlinewidth": 0,
             "ticks": ""
            },
            "type": "mesh3d"
           }
          ],
          "parcoords": [
           {
            "line": {
             "colorbar": {
              "outlinewidth": 0,
              "ticks": ""
             }
            },
            "type": "parcoords"
           }
          ],
          "pie": [
           {
            "automargin": true,
            "type": "pie"
           }
          ],
          "scatter": [
           {
            "fillpattern": {
             "fillmode": "overlay",
             "size": 10,
             "solidity": 0.2
            },
            "type": "scatter"
           }
          ],
          "scatter3d": [
           {
            "line": {
             "colorbar": {
              "outlinewidth": 0,
              "ticks": ""
             }
            },
            "marker": {
             "colorbar": {
              "outlinewidth": 0,
              "ticks": ""
             }
            },
            "type": "scatter3d"
           }
          ],
          "scattercarpet": [
           {
            "marker": {
             "colorbar": {
              "outlinewidth": 0,
              "ticks": ""
             }
            },
            "type": "scattercarpet"
           }
          ],
          "scattergeo": [
           {
            "marker": {
             "colorbar": {
              "outlinewidth": 0,
              "ticks": ""
             }
            },
            "type": "scattergeo"
           }
          ],
          "scattergl": [
           {
            "marker": {
             "colorbar": {
              "outlinewidth": 0,
              "ticks": ""
             }
            },
            "type": "scattergl"
           }
          ],
          "scattermapbox": [
           {
            "marker": {
             "colorbar": {
              "outlinewidth": 0,
              "ticks": ""
             }
            },
            "type": "scattermapbox"
           }
          ],
          "scatterpolar": [
           {
            "marker": {
             "colorbar": {
              "outlinewidth": 0,
              "ticks": ""
             }
            },
            "type": "scatterpolar"
           }
          ],
          "scatterpolargl": [
           {
            "marker": {
             "colorbar": {
              "outlinewidth": 0,
              "ticks": ""
             }
            },
            "type": "scatterpolargl"
           }
          ],
          "scatterternary": [
           {
            "marker": {
             "colorbar": {
              "outlinewidth": 0,
              "ticks": ""
             }
            },
            "type": "scatterternary"
           }
          ],
          "surface": [
           {
            "colorbar": {
             "outlinewidth": 0,
             "ticks": ""
            },
            "colorscale": [
             [
              0.0,
              "#0d0887"
             ],
             [
              0.1111111111111111,
              "#46039f"
             ],
             [
              0.2222222222222222,
              "#7201a8"
             ],
             [
              0.3333333333333333,
              "#9c179e"
             ],
             [
              0.4444444444444444,
              "#bd3786"
             ],
             [
              0.5555555555555556,
              "#d8576b"
             ],
             [
              0.6666666666666666,
              "#ed7953"
             ],
             [
              0.7777777777777778,
              "#fb9f3a"
             ],
             [
              0.8888888888888888,
              "#fdca26"
             ],
             [
              1.0,
              "#f0f921"
             ]
            ],
            "type": "surface"
           }
          ],
          "table": [
           {
            "cells": {
             "fill": {
              "color": "#EBF0F8"
             },
             "line": {
              "color": "white"
             }
            },
            "header": {
             "fill": {
              "color": "#C8D4E3"
             },
             "line": {
              "color": "white"
             }
            },
            "type": "table"
           }
          ]
         },
         "layout": {
          "annotationdefaults": {
           "arrowcolor": "#2a3f5f",
           "arrowhead": 0,
           "arrowwidth": 1
          },
          "autotypenumbers": "strict",
          "coloraxis": {
           "colorbar": {
            "outlinewidth": 0,
            "ticks": ""
           }
          },
          "colorscale": {
           "diverging": [
            [
             0,
             "#8e0152"
            ],
            [
             0.1,
             "#c51b7d"
            ],
            [
             0.2,
             "#de77ae"
            ],
            [
             0.3,
             "#f1b6da"
            ],
            [
             0.4,
             "#fde0ef"
            ],
            [
             0.5,
             "#f7f7f7"
            ],
            [
             0.6,
             "#e6f5d0"
            ],
            [
             0.7,
             "#b8e186"
            ],
            [
             0.8,
             "#7fbc41"
            ],
            [
             0.9,
             "#4d9221"
            ],
            [
             1,
             "#276419"
            ]
           ],
           "sequential": [
            [
             0.0,
             "#0d0887"
            ],
            [
             0.1111111111111111,
             "#46039f"
            ],
            [
             0.2222222222222222,
             "#7201a8"
            ],
            [
             0.3333333333333333,
             "#9c179e"
            ],
            [
             0.4444444444444444,
             "#bd3786"
            ],
            [
             0.5555555555555556,
             "#d8576b"
            ],
            [
             0.6666666666666666,
             "#ed7953"
            ],
            [
             0.7777777777777778,
             "#fb9f3a"
            ],
            [
             0.8888888888888888,
             "#fdca26"
            ],
            [
             1.0,
             "#f0f921"
            ]
           ],
           "sequentialminus": [
            [
             0.0,
             "#0d0887"
            ],
            [
             0.1111111111111111,
             "#46039f"
            ],
            [
             0.2222222222222222,
             "#7201a8"
            ],
            [
             0.3333333333333333,
             "#9c179e"
            ],
            [
             0.4444444444444444,
             "#bd3786"
            ],
            [
             0.5555555555555556,
             "#d8576b"
            ],
            [
             0.6666666666666666,
             "#ed7953"
            ],
            [
             0.7777777777777778,
             "#fb9f3a"
            ],
            [
             0.8888888888888888,
             "#fdca26"
            ],
            [
             1.0,
             "#f0f921"
            ]
           ]
          },
          "colorway": [
           "#636efa",
           "#EF553B",
           "#00cc96",
           "#ab63fa",
           "#FFA15A",
           "#19d3f3",
           "#FF6692",
           "#B6E880",
           "#FF97FF",
           "#FECB52"
          ],
          "font": {
           "color": "#2a3f5f"
          },
          "geo": {
           "bgcolor": "white",
           "lakecolor": "white",
           "landcolor": "#E5ECF6",
           "showlakes": true,
           "showland": true,
           "subunitcolor": "white"
          },
          "hoverlabel": {
           "align": "left"
          },
          "hovermode": "closest",
          "mapbox": {
           "style": "light"
          },
          "paper_bgcolor": "white",
          "plot_bgcolor": "#E5ECF6",
          "polar": {
           "angularaxis": {
            "gridcolor": "white",
            "linecolor": "white",
            "ticks": ""
           },
           "bgcolor": "#E5ECF6",
           "radialaxis": {
            "gridcolor": "white",
            "linecolor": "white",
            "ticks": ""
           }
          },
          "scene": {
           "xaxis": {
            "backgroundcolor": "#E5ECF6",
            "gridcolor": "white",
            "gridwidth": 2,
            "linecolor": "white",
            "showbackground": true,
            "ticks": "",
            "zerolinecolor": "white"
           },
           "yaxis": {
            "backgroundcolor": "#E5ECF6",
            "gridcolor": "white",
            "gridwidth": 2,
            "linecolor": "white",
            "showbackground": true,
            "ticks": "",
            "zerolinecolor": "white"
           },
           "zaxis": {
            "backgroundcolor": "#E5ECF6",
            "gridcolor": "white",
            "gridwidth": 2,
            "linecolor": "white",
            "showbackground": true,
            "ticks": "",
            "zerolinecolor": "white"
           }
          },
          "shapedefaults": {
           "line": {
            "color": "#2a3f5f"
           }
          },
          "ternary": {
           "aaxis": {
            "gridcolor": "white",
            "linecolor": "white",
            "ticks": ""
           },
           "baxis": {
            "gridcolor": "white",
            "linecolor": "white",
            "ticks": ""
           },
           "bgcolor": "#E5ECF6",
           "caxis": {
            "gridcolor": "white",
            "linecolor": "white",
            "ticks": ""
           }
          },
          "title": {
           "x": 0.05
          },
          "xaxis": {
           "automargin": true,
           "gridcolor": "white",
           "linecolor": "white",
           "ticks": "",
           "title": {
            "standoff": 15
           },
           "zerolinecolor": "white",
           "zerolinewidth": 2
          },
          "yaxis": {
           "automargin": true,
           "gridcolor": "white",
           "linecolor": "white",
           "ticks": "",
           "title": {
            "standoff": 15
           },
           "zerolinecolor": "white",
           "zerolinewidth": 2
          }
         }
        },
        "title": {
         "text": "Number of Athlets per Game"
        }
       }
      },
      "text/html": [
       "<div>                            <div id=\"3bc5e673-9d98-4ee5-9e3a-d694dc681de1\" class=\"plotly-graph-div\" style=\"height:525px; width:100%;\"></div>            <script type=\"text/javascript\">                require([\"plotly\"], function(Plotly) {                    window.PLOTLYENV=window.PLOTLYENV || {};                                    if (document.getElementById(\"3bc5e673-9d98-4ee5-9e3a-d694dc681de1\")) {                    Plotly.newPlot(                        \"3bc5e673-9d98-4ee5-9e3a-d694dc681de1\",                        [{\"domain\":{\"x\":[0,0.5]},\"hole\":0.3,\"hoverinfo\":\"label+percent+name\",\"labels\":[\"1896 Summer\",\"1896 Summer\",\"1896 Summer\",\"1896 Summer\",\"1896 Summer\",\"1896 Summer\",\"1896 Summer\",\"1896 Summer\",\"1896 Summer\",\"1900 Summer\",\"1900 Summer\",\"1900 Summer\",\"1900 Summer\",\"1900 Summer\",\"1900 Summer\",\"1900 Summer\",\"1900 Summer\",\"1900 Summer\",\"1900 Summer\",\"1900 Summer\",\"1900 Summer\",\"1900 Summer\",\"1900 Summer\",\"1900 Summer\",\"1900 Summer\",\"1900 Summer\",\"1900 Summer\",\"1900 Summer\",\"1900 Summer\",\"1904 Summer\",\"1904 Summer\",\"1904 Summer\",\"1904 Summer\",\"1904 Summer\",\"1904 Summer\",\"1904 Summer\",\"1904 Summer\",\"1904 Summer\",\"1904 Summer\",\"1904 Summer\",\"1904 Summer\",\"1904 Summer\",\"1904 Summer\",\"1904 Summer\",\"1904 Summer\",\"1904 Summer\",\"1904 Summer\",\"1906 Summer\",\"1906 Summer\",\"1906 Summer\",\"1906 Summer\",\"1906 Summer\",\"1906 Summer\",\"1906 Summer\",\"1906 Summer\",\"1906 Summer\",\"1906 Summer\",\"1906 Summer\",\"1906 Summer\",\"1906 Summer\",\"1908 Summer\",\"1908 Summer\",\"1908 Summer\",\"1908 Summer\",\"1908 Summer\",\"1908 Summer\",\"1908 Summer\",\"1908 Summer\",\"1908 Summer\",\"1908 Summer\",\"1908 Summer\",\"1908 Summer\",\"1908 Summer\",\"1908 Summer\",\"1908 Summer\",\"1908 Summer\",\"1908 Summer\",\"1908 Summer\",\"1908 Summer\",\"1908 Summer\",\"1908 Summer\",\"1908 Summer\",\"1908 Summer\",\"1908 Summer\",\"1912 Summer\",\"1912 Summer\",\"1912 Summer\",\"1912 Summer\",\"1912 Summer\",\"1912 Summer\",\"1912 Summer\",\"1912 Summer\",\"1912 Summer\",\"1912 Summer\",\"1912 Summer\",\"1912 Summer\",\"1912 Summer\",\"1912 Summer\",\"1912 Summer\",\"1912 Summer\",\"1912 Summer\",\"1920 Summer\",\"1920 Summer\",\"1920 Summer\",\"1920 Summer\",\"1920 Summer\",\"1920 Summer\",\"1920 Summer\",\"1920 Summer\",\"1920 Summer\",\"1920 Summer\",\"1920 Summer\",\"1920 Summer\",\"1920 Summer\",\"1920 Summer\",\"1920 Summer\",\"1920 Summer\",\"1920 Summer\",\"1920 Summer\",\"1920 Summer\",\"1920 Summer\",\"1920 Summer\",\"1920 Summer\",\"1920 Summer\",\"1920 Summer\",\"1920 Summer\",\"1924 Summer\",\"1924 Summer\",\"1924 Summer\",\"1924 Summer\",\"1924 Summer\",\"1924 Summer\",\"1924 Summer\",\"1924 Summer\",\"1924 Summer\",\"1924 Summer\",\"1924 Summer\",\"1924 Summer\",\"1924 Summer\",\"1924 Summer\",\"1924 Summer\",\"1924 Summer\",\"1924 Summer\",\"1924 Summer\",\"1924 Summer\",\"1924 Summer\",null,null,null,null,null,null,null,null,null,null,\"1928 Summer\",\"1928 Summer\",\"1928 Summer\",\"1928 Summer\",\"1928 Summer\",\"1928 Summer\",\"1928 Summer\",\"1928 Summer\",\"1928 Summer\",\"1928 Summer\",\"1928 Summer\",\"1928 Summer\",\"1928 Summer\",\"1928 Summer\",\"1928 Summer\",\"1928 Summer\",\"1928 Summer\",null,null,null,null,null,null,null,null,\"1932 Summer\",\"1932 Summer\",\"1932 Summer\",\"1932 Summer\",\"1932 Summer\",\"1932 Summer\",\"1932 Summer\",\"1932 Summer\",\"1932 Summer\",\"1932 Summer\",\"1932 Summer\",\"1932 Summer\",\"1932 Summer\",\"1932 Summer\",\"1932 Summer\",\"1932 Summer\",\"1932 Summer\",\"1932 Summer\",null,null,null,null,null,null,null,\"1936 Summer\",\"1936 Summer\",\"1936 Summer\",\"1936 Summer\",\"1936 Summer\",\"1936 Summer\",\"1936 Summer\",\"1936 Summer\",\"1936 Summer\",\"1936 Summer\",\"1936 Summer\",\"1936 Summer\",\"1936 Summer\",\"1936 Summer\",\"1936 Summer\",\"1936 Summer\",\"1936 Summer\",\"1936 Summer\",\"1936 Summer\",\"1936 Summer\",\"1936 Summer\",\"1936 Summer\",\"1936 Summer\",\"1936 Summer\",null,null,null,null,null,null,null,null,\"1948 Summer\",\"1948 Summer\",\"1948 Summer\",\"1948 Summer\",\"1948 Summer\",\"1948 Summer\",\"1948 Summer\",\"1948 Summer\",\"1948 Summer\",\"1948 Summer\",\"1948 Summer\",\"1948 Summer\",\"1948 Summer\",\"1948 Summer\",\"1948 Summer\",\"1948 Summer\",\"1948 Summer\",\"1948 Summer\",\"1948 Summer\",\"1948 Summer\",null,null,null,null,null,null,null,null,null,\"1952 Summer\",\"1952 Summer\",\"1952 Summer\",\"1952 Summer\",\"1952 Summer\",\"1952 Summer\",\"1952 Summer\",\"1952 Summer\",\"1952 Summer\",\"1952 Summer\",\"1952 Summer\",\"1952 Summer\",\"1952 Summer\",\"1952 Summer\",\"1952 Summer\",\"1952 Summer\",\"1952 Summer\",\"1952 Summer\",\"1952 Summer\",null,null,null,null,null,null,null,null,\"1956 Summer\",\"1956 Summer\",\"1956 Summer\",\"1956 Summer\",\"1956 Summer\",\"1956 Summer\",\"1956 Summer\",\"1956 Summer\",\"1956 Summer\",\"1956 Summer\",\"1956 Summer\",\"1956 Summer\",\"1956 Summer\",\"1956 Summer\",\"1956 Summer\",\"1956 Summer\",\"1956 Summer\",\"1956 Summer\",\"1956 Summer\",null,null,null,null,null,null,null,null,\"1960 Summer\",\"1960 Summer\",\"1960 Summer\",\"1960 Summer\",\"1960 Summer\",\"1960 Summer\",\"1960 Summer\",\"1960 Summer\",\"1960 Summer\",\"1960 Summer\",\"1960 Summer\",\"1960 Summer\",\"1960 Summer\",\"1960 Summer\",\"1960 Summer\",\"1960 Summer\",\"1960 Summer\",\"1960 Summer\",\"1960 Summer\",null,null,null,null,null,null,null,null,\"1964 Summer\",\"1964 Summer\",\"1964 Summer\",\"1964 Summer\",\"1964 Summer\",\"1964 Summer\",\"1964 Summer\",\"1964 Summer\",\"1964 Summer\",\"1964 Summer\",\"1964 Summer\",\"1964 Summer\",\"1964 Summer\",\"1964 Summer\",\"1964 Summer\",\"1964 Summer\",\"1964 Summer\",\"1964 Summer\",\"1964 Summer\",\"1964 Summer\",\"1964 Summer\",null,null,null,null,null,null,null,null,null,null,\"1968 Summer\",\"1968 Summer\",\"1968 Summer\",\"1968 Summer\",\"1968 Summer\",\"1968 Summer\",\"1968 Summer\",\"1968 Summer\",\"1968 Summer\",\"1968 Summer\",\"1968 Summer\",\"1968 Summer\",\"1968 Summer\",\"1968 Summer\",\"1968 Summer\",\"1968 Summer\",\"1968 Summer\",\"1968 Summer\",\"1968 Summer\",\"1968 Summer\",null,null,null,null,null,null,null,null,null,null,\"1972 Summer\",\"1972 Summer\",\"1972 Summer\",\"1972 Summer\",\"1972 Summer\",\"1972 Summer\",\"1972 Summer\",\"1972 Summer\",\"1972 Summer\",\"1972 Summer\",\"1972 Summer\",\"1972 Summer\",\"1972 Summer\",\"1972 Summer\",\"1972 Summer\",\"1972 Summer\",\"1972 Summer\",\"1972 Summer\",\"1972 Summer\",\"1972 Summer\",\"1972 Summer\",\"1972 Summer\",\"1972 Summer\",null,null,null,null,null,null,null,null,null,null,\"1976 Summer\",\"1976 Summer\",\"1976 Summer\",\"1976 Summer\",\"1976 Summer\",\"1976 Summer\",\"1976 Summer\",\"1976 Summer\",\"1976 Summer\",\"1976 Summer\",\"1976 Summer\",\"1976 Summer\",\"1976 Summer\",\"1976 Summer\",\"1976 Summer\",\"1976 Summer\",\"1976 Summer\",\"1976 Summer\",\"1976 Summer\",\"1976 Summer\",\"1976 Summer\",\"1976 Summer\",\"1976 Summer\",null,null,null,null,null,null,null,null,null,null,\"1980 Summer\",\"1980 Summer\",\"1980 Summer\",\"1980 Summer\",\"1980 Summer\",\"1980 Summer\",\"1980 Summer\",\"1980 Summer\",\"1980 Summer\",\"1980 Summer\",\"1980 Summer\",\"1980 Summer\",\"1980 Summer\",\"1980 Summer\",\"1980 Summer\",\"1980 Summer\",\"1980 Summer\",\"1980 Summer\",\"1980 Summer\",\"1980 Summer\",\"1980 Summer\",\"1980 Summer\",\"1980 Summer\",null,null,null,null,null,null,null,null,null,null,\"1984 Summer\",\"1984 Summer\",\"1984 Summer\",\"1984 Summer\",\"1984 Summer\",\"1984 Summer\",\"1984 Summer\",\"1984 Summer\",\"1984 Summer\",\"1984 Summer\",\"1984 Summer\",\"1984 Summer\",\"1984 Summer\",\"1984 Summer\",\"1984 Summer\",\"1984 Summer\",\"1984 Summer\",\"1984 Summer\",\"1984 Summer\",\"1984 Summer\",\"1984 Summer\",\"1984 Summer\",\"1984 Summer\",\"1984 Summer\",\"1984 Summer\",null,null,null,null,null,null,null,null,null,null,\"1988 Summer\",\"1988 Summer\",\"1988 Summer\",\"1988 Summer\",\"1988 Summer\",\"1988 Summer\",\"1988 Summer\",\"1988 Summer\",\"1988 Summer\",\"1988 Summer\",\"1988 Summer\",\"1988 Summer\",\"1988 Summer\",\"1988 Summer\",\"1988 Summer\",\"1988 Summer\",\"1988 Summer\",\"1988 Summer\",\"1988 Summer\",\"1988 Summer\",\"1988 Summer\",\"1988 Summer\",\"1988 Summer\",\"1988 Summer\",\"1988 Summer\",\"1988 Summer\",\"1988 Summer\",null,null,null,null,null,null,null,null,null,null,\"1992 Summer\",\"1992 Summer\",\"1992 Summer\",\"1992 Summer\",\"1992 Summer\",\"1992 Summer\",\"1992 Summer\",\"1992 Summer\",\"1992 Summer\",\"1992 Summer\",\"1992 Summer\",\"1992 Summer\",\"1992 Summer\",\"1992 Summer\",\"1992 Summer\",\"1992 Summer\",\"1992 Summer\",\"1992 Summer\",\"1992 Summer\",\"1992 Summer\",\"1992 Summer\",\"1992 Summer\",\"1992 Summer\",\"1992 Summer\",\"1992 Summer\",\"1992 Summer\",\"1992 Summer\",\"1992 Summer\",\"1992 Summer\",null,null,null,null,null,null,null,null,null,null,null,null,null,null,null,null,null,null,null,null,null,null,null,null,\"1996 Summer\",\"1996 Summer\",\"1996 Summer\",\"1996 Summer\",\"1996 Summer\",\"1996 Summer\",\"1996 Summer\",\"1996 Summer\",\"1996 Summer\",\"1996 Summer\",\"1996 Summer\",\"1996 Summer\",\"1996 Summer\",\"1996 Summer\",\"1996 Summer\",\"1996 Summer\",\"1996 Summer\",\"1996 Summer\",\"1996 Summer\",\"1996 Summer\",\"1996 Summer\",\"1996 Summer\",\"1996 Summer\",\"1996 Summer\",\"1996 Summer\",\"1996 Summer\",\"1996 Summer\",\"1996 Summer\",\"1996 Summer\",\"1996 Summer\",\"1996 Summer\",null,null,null,null,null,null,null,null,null,null,null,null,null,null,\"2000 Summer\",\"2000 Summer\",\"2000 Summer\",\"2000 Summer\",\"2000 Summer\",\"2000 Summer\",\"2000 Summer\",\"2000 Summer\",\"2000 Summer\",\"2000 Summer\",\"2000 Summer\",\"2000 Summer\",\"2000 Summer\",\"2000 Summer\",\"2000 Summer\",\"2000 Summer\",\"2000 Summer\",\"2000 Summer\",\"2000 Summer\",\"2000 Summer\",\"2000 Summer\",\"2000 Summer\",\"2000 Summer\",\"2000 Summer\",\"2000 Summer\",\"2000 Summer\",\"2000 Summer\",\"2000 Summer\",\"2000 Summer\",\"2000 Summer\",\"2000 Summer\",\"2000 Summer\",\"2000 Summer\",\"2000 Summer\",null,null,null,null,null,null,null,null,null,null,null,null,null,null,null,\"2004 Summer\",\"2004 Summer\",\"2004 Summer\",\"2004 Summer\",\"2004 Summer\",\"2004 Summer\",\"2004 Summer\",\"2004 Summer\",\"2004 Summer\",\"2004 Summer\",\"2004 Summer\",\"2004 Summer\",\"2004 Summer\",\"2004 Summer\",\"2004 Summer\",\"2004 Summer\",\"2004 Summer\",\"2004 Summer\",\"2004 Summer\",\"2004 Summer\",\"2004 Summer\",\"2004 Summer\",\"2004 Summer\",\"2004 Summer\",\"2004 Summer\",\"2004 Summer\",\"2004 Summer\",\"2004 Summer\",\"2004 Summer\",\"2004 Summer\",\"2004 Summer\",\"2004 Summer\",\"2004 Summer\",\"2004 Summer\",null,null,null,null,null,null,null,null,null,null,null,null,null,null,null,\"2008 Summer\",\"2008 Summer\",\"2008 Summer\",\"2008 Summer\",\"2008 Summer\",\"2008 Summer\",\"2008 Summer\",\"2008 Summer\",\"2008 Summer\",\"2008 Summer\",\"2008 Summer\",\"2008 Summer\",\"2008 Summer\",\"2008 Summer\",\"2008 Summer\",\"2008 Summer\",\"2008 Summer\",\"2008 Summer\",\"2008 Summer\",\"2008 Summer\",\"2008 Summer\",\"2008 Summer\",\"2008 Summer\",\"2008 Summer\",\"2008 Summer\",\"2008 Summer\",\"2008 Summer\",\"2008 Summer\",\"2008 Summer\",\"2008 Summer\",\"2008 Summer\",\"2008 Summer\",\"2008 Summer\",\"2008 Summer\",null,null,null,null,null,null,null,null,null,null,null,null,null,null,null,\"2012 Summer\",\"2012 Summer\",\"2012 Summer\",\"2012 Summer\",\"2012 Summer\",\"2012 Summer\",\"2012 Summer\",\"2012 Summer\",\"2012 Summer\",\"2012 Summer\",\"2012 Summer\",\"2012 Summer\",\"2012 Summer\",\"2012 Summer\",\"2012 Summer\",\"2012 Summer\",\"2012 Summer\",\"2012 Summer\",\"2012 Summer\",\"2012 Summer\",\"2012 Summer\",\"2012 Summer\",\"2012 Summer\",\"2012 Summer\",\"2012 Summer\",\"2012 Summer\",\"2012 Summer\",\"2012 Summer\",\"2012 Summer\",\"2012 Summer\",\"2012 Summer\",\"2012 Summer\",null,null,null,null,null,null,null,null,null,null,null,null,null,null,null,\"2016 Summer\",\"2016 Summer\",\"2016 Summer\",\"2016 Summer\",\"2016 Summer\",\"2016 Summer\",\"2016 Summer\",\"2016 Summer\",\"2016 Summer\",\"2016 Summer\",\"2016 Summer\",\"2016 Summer\",\"2016 Summer\",\"2016 Summer\",\"2016 Summer\",\"2016 Summer\",\"2016 Summer\",\"2016 Summer\",\"2016 Summer\",\"2016 Summer\",\"2016 Summer\",\"2016 Summer\",\"2016 Summer\",\"2016 Summer\",\"2016 Summer\",\"2016 Summer\",\"2016 Summer\",\"2016 Summer\",\"2016 Summer\",\"2016 Summer\",\"2016 Summer\",\"2016 Summer\",\"2016 Summer\",\"2016 Summer\"],\"name\":\"Number Of Students Rates\",\"values\":[106,41,15,97,65,18,23,10,5,32,234,2,24,19,92,79,317,35,22,135,21,133,47,280,221,131,47,12,53,70,201,24,61,5,28,36,105,458,36,4,46,64,57,30,21,7,48,470,138,24,161,45,156,200,320,78,48,32,22,39,77,778,42,269,47,240,23,72,349,68,11,24,17,12,12,87,30,64,444,150,84,40,28,133,33,962,242,86,128,379,163,310,32,197,109,794,201,173,16,45,170,86,11,849,116,212,70,132,350,31,190,263,51,60,23,17,144,31,101,838,209,153,40,101,53,161,318,1003,181,249,90,194,424,279,638,38,24,196,54,69,508,263,253,101,107,244,21,39,74,16,37,82,24,30,27,110,808,992,144,227,74,232,430,219,664,137,37,247,128,278,112,94,169,116,90,63,124,35,10,38,106,2,1124,522,85,109,36,65,192,147,40,25,166,57,44,195,41,29,90,52,74,41,48,33,34,70,1,2,813,1007,199,179,143,301,88,256,556,201,947,105,167,42,21,348,172,162,364,142,80,210,103,118,175,87,173,51,48,140,471,1051,287,205,139,320,84,207,508,218,1060,187,45,318,186,216,398,156,120,229,360,92,156,71,139,39,15,49,154,1344,294,249,184,389,97,263,509,294,2391,157,99,406,227,289,483,191,142,262,378,96,188,65,147,25,44,145,1013,169,161,146,292,82,298,278,143,913,173,76,258,154,219,356,96,105,195,403,135,275,59,169,36,51,179,1312,192,281,211,423,96,276,601,235,1746,236,111,431,290,389,630,150,172,337,320,30,216,71,152,33,45,249,1335,189,269,167,451,102,224,481,214,1484,226,72,70,378,225,312,736,179,137,149,302,411,51,117,332,88,270,85,32,105,287,1345,191,307,203,483,109,233,490,273,1496,253,93,358,252,410,1231,206,162,160,333,422,116,120,344,96,250,106,41,116,280,95,1686,190,354,359,526,124,326,499,269,1584,243,263,166,116,442,323,472,1263,231,176,188,409,325,106,114,335,68,208,107,40,108,244,64,1297,213,266,340,392,105,246,485,202,1204,243,172,154,89,598,257,369,1076,216,131,173,349,390,112,133,395,105,217,119,34,109,247,67,1268,215,271,253,307,88,122,321,256,866,248,187,193,79,488,156,267,761,204,132,172,270,327,159,108,309,85,239,94,31,98,296,109,1674,213,354,299,475,101,281,424,246,930,259,286,212,103,33,465,300,539,1232,86,208,153,186,286,401,195,152,477,114,239,89,28,111,328,257,2062,236,432,388,518,108,324,506,270,1217,281,314,243,122,39,624,375,545,1614,76,206,202,239,156,226,457,668,207,186,528,129,265,98,75,157,326,247,2054,226,160,236,336,587,566,112,404,458,272,1255,292,314,433,117,42,661,441,564,1615,89,248,250,231,152,244,371,750,457,216,717,133,71,267,98,78,124,171,354,544,416,207,639,130,99,268,98,89,188,164,318,218,2386,263,160,284,84,355,575,584,139,343,388,388,1397,300,320,387,32,90,621,458,612,120,1635,72,251,246,275,153,243,401,477,413,204,733,80,145,110,426,97,92,190,176,127,335,206,2468,225,192,286,96,307,448,621,238,295,349,391,1144,323,350,398,48,84,561,402,599,120,1741,117,268,102,248,24,100,279,231,246,314,559,564,240,774,96,143,105,468,117,125,251,39,178,118,332,212,2175,200,191,287,96,280,434,623,196,371,323,425,1151,328,352,384,64,84,559,401,558,118,1618,117,260,124,252,32,99,283,255,249,342,619,658,191,812,91,147,116,442,108,138,239,42,202,198,379,194,2244,184,191,287,96,283,436,652,182,340,332,469,996,343,387,386,72,95,563,400,577,120,1749,117,250,126,254,32,110,283,256,253,343,685,683,199,725,93,146,172,420,107,131,273,47,170,185,366,200,2278,182,287,96,283,418,629,181,350,345,467,848,347,387,384,72,95,550,379,560,1538,117,236,128,286,32,110,287,257,252,339,687,726,223,765,87,221,264,443,156,128,269,46,200,308,368,200,2508,177,281,96,283,441,667,178,355,346,473,120,861,353,390,389,72,96,550,299,380,555,1568,118,236,126,286,32,110,283,258,255,346],\"type\":\"pie\"}],                        {\"annotations\":[{\"font\":{\"size\":20},\"showarrow\":false,\"text\":\"Number of Students\",\"x\":0.2,\"y\":1}],\"template\":{\"data\":{\"barpolar\":[{\"marker\":{\"line\":{\"color\":\"#E5ECF6\",\"width\":0.5},\"pattern\":{\"fillmode\":\"overlay\",\"size\":10,\"solidity\":0.2}},\"type\":\"barpolar\"}],\"bar\":[{\"error_x\":{\"color\":\"#2a3f5f\"},\"error_y\":{\"color\":\"#2a3f5f\"},\"marker\":{\"line\":{\"color\":\"#E5ECF6\",\"width\":0.5},\"pattern\":{\"fillmode\":\"overlay\",\"size\":10,\"solidity\":0.2}},\"type\":\"bar\"}],\"carpet\":[{\"aaxis\":{\"endlinecolor\":\"#2a3f5f\",\"gridcolor\":\"white\",\"linecolor\":\"white\",\"minorgridcolor\":\"white\",\"startlinecolor\":\"#2a3f5f\"},\"baxis\":{\"endlinecolor\":\"#2a3f5f\",\"gridcolor\":\"white\",\"linecolor\":\"white\",\"minorgridcolor\":\"white\",\"startlinecolor\":\"#2a3f5f\"},\"type\":\"carpet\"}],\"choropleth\":[{\"colorbar\":{\"outlinewidth\":0,\"ticks\":\"\"},\"type\":\"choropleth\"}],\"contourcarpet\":[{\"colorbar\":{\"outlinewidth\":0,\"ticks\":\"\"},\"type\":\"contourcarpet\"}],\"contour\":[{\"colorbar\":{\"outlinewidth\":0,\"ticks\":\"\"},\"colorscale\":[[0.0,\"#0d0887\"],[0.1111111111111111,\"#46039f\"],[0.2222222222222222,\"#7201a8\"],[0.3333333333333333,\"#9c179e\"],[0.4444444444444444,\"#bd3786\"],[0.5555555555555556,\"#d8576b\"],[0.6666666666666666,\"#ed7953\"],[0.7777777777777778,\"#fb9f3a\"],[0.8888888888888888,\"#fdca26\"],[1.0,\"#f0f921\"]],\"type\":\"contour\"}],\"heatmapgl\":[{\"colorbar\":{\"outlinewidth\":0,\"ticks\":\"\"},\"colorscale\":[[0.0,\"#0d0887\"],[0.1111111111111111,\"#46039f\"],[0.2222222222222222,\"#7201a8\"],[0.3333333333333333,\"#9c179e\"],[0.4444444444444444,\"#bd3786\"],[0.5555555555555556,\"#d8576b\"],[0.6666666666666666,\"#ed7953\"],[0.7777777777777778,\"#fb9f3a\"],[0.8888888888888888,\"#fdca26\"],[1.0,\"#f0f921\"]],\"type\":\"heatmapgl\"}],\"heatmap\":[{\"colorbar\":{\"outlinewidth\":0,\"ticks\":\"\"},\"colorscale\":[[0.0,\"#0d0887\"],[0.1111111111111111,\"#46039f\"],[0.2222222222222222,\"#7201a8\"],[0.3333333333333333,\"#9c179e\"],[0.4444444444444444,\"#bd3786\"],[0.5555555555555556,\"#d8576b\"],[0.6666666666666666,\"#ed7953\"],[0.7777777777777778,\"#fb9f3a\"],[0.8888888888888888,\"#fdca26\"],[1.0,\"#f0f921\"]],\"type\":\"heatmap\"}],\"histogram2dcontour\":[{\"colorbar\":{\"outlinewidth\":0,\"ticks\":\"\"},\"colorscale\":[[0.0,\"#0d0887\"],[0.1111111111111111,\"#46039f\"],[0.2222222222222222,\"#7201a8\"],[0.3333333333333333,\"#9c179e\"],[0.4444444444444444,\"#bd3786\"],[0.5555555555555556,\"#d8576b\"],[0.6666666666666666,\"#ed7953\"],[0.7777777777777778,\"#fb9f3a\"],[0.8888888888888888,\"#fdca26\"],[1.0,\"#f0f921\"]],\"type\":\"histogram2dcontour\"}],\"histogram2d\":[{\"colorbar\":{\"outlinewidth\":0,\"ticks\":\"\"},\"colorscale\":[[0.0,\"#0d0887\"],[0.1111111111111111,\"#46039f\"],[0.2222222222222222,\"#7201a8\"],[0.3333333333333333,\"#9c179e\"],[0.4444444444444444,\"#bd3786\"],[0.5555555555555556,\"#d8576b\"],[0.6666666666666666,\"#ed7953\"],[0.7777777777777778,\"#fb9f3a\"],[0.8888888888888888,\"#fdca26\"],[1.0,\"#f0f921\"]],\"type\":\"histogram2d\"}],\"histogram\":[{\"marker\":{\"pattern\":{\"fillmode\":\"overlay\",\"size\":10,\"solidity\":0.2}},\"type\":\"histogram\"}],\"mesh3d\":[{\"colorbar\":{\"outlinewidth\":0,\"ticks\":\"\"},\"type\":\"mesh3d\"}],\"parcoords\":[{\"line\":{\"colorbar\":{\"outlinewidth\":0,\"ticks\":\"\"}},\"type\":\"parcoords\"}],\"pie\":[{\"automargin\":true,\"type\":\"pie\"}],\"scatter3d\":[{\"line\":{\"colorbar\":{\"outlinewidth\":0,\"ticks\":\"\"}},\"marker\":{\"colorbar\":{\"outlinewidth\":0,\"ticks\":\"\"}},\"type\":\"scatter3d\"}],\"scattercarpet\":[{\"marker\":{\"colorbar\":{\"outlinewidth\":0,\"ticks\":\"\"}},\"type\":\"scattercarpet\"}],\"scattergeo\":[{\"marker\":{\"colorbar\":{\"outlinewidth\":0,\"ticks\":\"\"}},\"type\":\"scattergeo\"}],\"scattergl\":[{\"marker\":{\"colorbar\":{\"outlinewidth\":0,\"ticks\":\"\"}},\"type\":\"scattergl\"}],\"scattermapbox\":[{\"marker\":{\"colorbar\":{\"outlinewidth\":0,\"ticks\":\"\"}},\"type\":\"scattermapbox\"}],\"scatterpolargl\":[{\"marker\":{\"colorbar\":{\"outlinewidth\":0,\"ticks\":\"\"}},\"type\":\"scatterpolargl\"}],\"scatterpolar\":[{\"marker\":{\"colorbar\":{\"outlinewidth\":0,\"ticks\":\"\"}},\"type\":\"scatterpolar\"}],\"scatter\":[{\"fillpattern\":{\"fillmode\":\"overlay\",\"size\":10,\"solidity\":0.2},\"type\":\"scatter\"}],\"scatterternary\":[{\"marker\":{\"colorbar\":{\"outlinewidth\":0,\"ticks\":\"\"}},\"type\":\"scatterternary\"}],\"surface\":[{\"colorbar\":{\"outlinewidth\":0,\"ticks\":\"\"},\"colorscale\":[[0.0,\"#0d0887\"],[0.1111111111111111,\"#46039f\"],[0.2222222222222222,\"#7201a8\"],[0.3333333333333333,\"#9c179e\"],[0.4444444444444444,\"#bd3786\"],[0.5555555555555556,\"#d8576b\"],[0.6666666666666666,\"#ed7953\"],[0.7777777777777778,\"#fb9f3a\"],[0.8888888888888888,\"#fdca26\"],[1.0,\"#f0f921\"]],\"type\":\"surface\"}],\"table\":[{\"cells\":{\"fill\":{\"color\":\"#EBF0F8\"},\"line\":{\"color\":\"white\"}},\"header\":{\"fill\":{\"color\":\"#C8D4E3\"},\"line\":{\"color\":\"white\"}},\"type\":\"table\"}]},\"layout\":{\"annotationdefaults\":{\"arrowcolor\":\"#2a3f5f\",\"arrowhead\":0,\"arrowwidth\":1},\"autotypenumbers\":\"strict\",\"coloraxis\":{\"colorbar\":{\"outlinewidth\":0,\"ticks\":\"\"}},\"colorscale\":{\"diverging\":[[0,\"#8e0152\"],[0.1,\"#c51b7d\"],[0.2,\"#de77ae\"],[0.3,\"#f1b6da\"],[0.4,\"#fde0ef\"],[0.5,\"#f7f7f7\"],[0.6,\"#e6f5d0\"],[0.7,\"#b8e186\"],[0.8,\"#7fbc41\"],[0.9,\"#4d9221\"],[1,\"#276419\"]],\"sequential\":[[0.0,\"#0d0887\"],[0.1111111111111111,\"#46039f\"],[0.2222222222222222,\"#7201a8\"],[0.3333333333333333,\"#9c179e\"],[0.4444444444444444,\"#bd3786\"],[0.5555555555555556,\"#d8576b\"],[0.6666666666666666,\"#ed7953\"],[0.7777777777777778,\"#fb9f3a\"],[0.8888888888888888,\"#fdca26\"],[1.0,\"#f0f921\"]],\"sequentialminus\":[[0.0,\"#0d0887\"],[0.1111111111111111,\"#46039f\"],[0.2222222222222222,\"#7201a8\"],[0.3333333333333333,\"#9c179e\"],[0.4444444444444444,\"#bd3786\"],[0.5555555555555556,\"#d8576b\"],[0.6666666666666666,\"#ed7953\"],[0.7777777777777778,\"#fb9f3a\"],[0.8888888888888888,\"#fdca26\"],[1.0,\"#f0f921\"]]},\"colorway\":[\"#636efa\",\"#EF553B\",\"#00cc96\",\"#ab63fa\",\"#FFA15A\",\"#19d3f3\",\"#FF6692\",\"#B6E880\",\"#FF97FF\",\"#FECB52\"],\"font\":{\"color\":\"#2a3f5f\"},\"geo\":{\"bgcolor\":\"white\",\"lakecolor\":\"white\",\"landcolor\":\"#E5ECF6\",\"showlakes\":true,\"showland\":true,\"subunitcolor\":\"white\"},\"hoverlabel\":{\"align\":\"left\"},\"hovermode\":\"closest\",\"mapbox\":{\"style\":\"light\"},\"paper_bgcolor\":\"white\",\"plot_bgcolor\":\"#E5ECF6\",\"polar\":{\"angularaxis\":{\"gridcolor\":\"white\",\"linecolor\":\"white\",\"ticks\":\"\"},\"bgcolor\":\"#E5ECF6\",\"radialaxis\":{\"gridcolor\":\"white\",\"linecolor\":\"white\",\"ticks\":\"\"}},\"scene\":{\"xaxis\":{\"backgroundcolor\":\"#E5ECF6\",\"gridcolor\":\"white\",\"gridwidth\":2,\"linecolor\":\"white\",\"showbackground\":true,\"ticks\":\"\",\"zerolinecolor\":\"white\"},\"yaxis\":{\"backgroundcolor\":\"#E5ECF6\",\"gridcolor\":\"white\",\"gridwidth\":2,\"linecolor\":\"white\",\"showbackground\":true,\"ticks\":\"\",\"zerolinecolor\":\"white\"},\"zaxis\":{\"backgroundcolor\":\"#E5ECF6\",\"gridcolor\":\"white\",\"gridwidth\":2,\"linecolor\":\"white\",\"showbackground\":true,\"ticks\":\"\",\"zerolinecolor\":\"white\"}},\"shapedefaults\":{\"line\":{\"color\":\"#2a3f5f\"}},\"ternary\":{\"aaxis\":{\"gridcolor\":\"white\",\"linecolor\":\"white\",\"ticks\":\"\"},\"baxis\":{\"gridcolor\":\"white\",\"linecolor\":\"white\",\"ticks\":\"\"},\"bgcolor\":\"#E5ECF6\",\"caxis\":{\"gridcolor\":\"white\",\"linecolor\":\"white\",\"ticks\":\"\"}},\"title\":{\"x\":0.05},\"xaxis\":{\"automargin\":true,\"gridcolor\":\"white\",\"linecolor\":\"white\",\"ticks\":\"\",\"title\":{\"standoff\":15},\"zerolinecolor\":\"white\",\"zerolinewidth\":2},\"yaxis\":{\"automargin\":true,\"gridcolor\":\"white\",\"linecolor\":\"white\",\"ticks\":\"\",\"title\":{\"standoff\":15},\"zerolinecolor\":\"white\",\"zerolinewidth\":2}}},\"title\":{\"text\":\"Number of Athlets per Game\"}},                        {\"responsive\": true}                    ).then(function(){\n",
       "                            \n",
       "var gd = document.getElementById('3bc5e673-9d98-4ee5-9e3a-d694dc681de1');\n",
       "var x = new MutationObserver(function (mutations, observer) {{\n",
       "        var display = window.getComputedStyle(gd).display;\n",
       "        if (!display || display === 'none') {{\n",
       "            console.log([gd, 'removed!']);\n",
       "            Plotly.purge(gd);\n",
       "            observer.disconnect();\n",
       "        }}\n",
       "}});\n",
       "\n",
       "// Listen for the removal of the full notebook cells\n",
       "var notebookContainer = gd.closest('#notebook-container');\n",
       "if (notebookContainer) {{\n",
       "    x.observe(notebookContainer, {childList: true});\n",
       "}}\n",
       "\n",
       "// Listen for the clearing of the current output cell\n",
       "var outputEl = gd.closest('.output');\n",
       "if (outputEl) {{\n",
       "    x.observe(outputEl, {childList: true});\n",
       "}}\n",
       "\n",
       "                        })                };                });            </script>        </div>"
      ]
     },
     "metadata": {},
     "output_type": "display_data"
    }
   ],
   "source": [
    "fig = {\n",
    "  \"data\": [\n",
    "    {\n",
    "      \"values\": pie1_list,\n",
    "      \"labels\": labels,\n",
    "      \"domain\": {\"x\": [0, .5]},\n",
    "      \"name\": \"Number Of Students Rates\",\n",
    "      \"hoverinfo\":\"label+percent+name\",\n",
    "      \"hole\": .3,\n",
    "      \"type\": \"pie\"\n",
    "    },],\n",
    "  \"layout\": {\n",
    "        \"title\":\"Number of Athlets per Game\",\n",
    "        \"annotations\": [\n",
    "            { \"font\": { \"size\": 20},\n",
    "              \"showarrow\": False,\n",
    "              \"text\": \"Number of Students\",\n",
    "                \"x\": 0.20,\n",
    "                \"y\": 1\n",
    "            },\n",
    "        ]\n",
    "    }\n",
    "}\n",
    "iplot(fig)\n"
   ]
  }
 ],
 "metadata": {
  "kernelspec": {
   "display_name": "Python 3",
   "language": "python",
   "name": "python3"
  },
  "language_info": {
   "codemirror_mode": {
    "name": "ipython",
    "version": 3
   },
   "file_extension": ".py",
   "mimetype": "text/x-python",
   "name": "python",
   "nbconvert_exporter": "python",
   "pygments_lexer": "ipython3",
   "version": "3.7.12"
  },
  "papermill": {
   "default_parameters": {},
   "duration": 23.090523,
   "end_time": "2022-07-26T22:53:59.705047",
   "environment_variables": {},
   "exception": null,
   "input_path": "__notebook__.ipynb",
   "output_path": "__notebook__.ipynb",
   "parameters": {},
   "start_time": "2022-07-26T22:53:36.614524",
   "version": "2.3.4"
  }
 },
 "nbformat": 4,
 "nbformat_minor": 5
}
